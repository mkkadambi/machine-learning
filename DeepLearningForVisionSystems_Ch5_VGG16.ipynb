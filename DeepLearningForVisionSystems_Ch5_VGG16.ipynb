{
  "nbformat": 4,
  "nbformat_minor": 0,
  "metadata": {
    "colab": {
      "name": "DeepLearningForVisionSystems-Ch5-VGG16.ipynb",
      "provenance": [],
      "collapsed_sections": []
    },
    "kernelspec": {
      "name": "python3",
      "display_name": "Python 3"
    },
    "language_info": {
      "name": "python"
    },
    "accelerator": "GPU"
  },
  "cells": [
    {
      "cell_type": "code",
      "metadata": {
        "id": "wBVnjFxm14ew"
      },
      "source": [
        "# Importing required modules and packages\n",
        "import numpy as np\n",
        "import tensorflow as tf\n",
        "from tensorflow.keras import Model, Input\n",
        "from tensorflow.keras.layers import Conv2D, Dense, MaxPool2D, Flatten, Dropout\n",
        "from tensorflow.keras.callbacks import ModelCheckpoint, EarlyStopping, ReduceLROnPlateau\n",
        "\n",
        "# Import matplotlib to display graphs\n",
        "import matplotlib.pyplot as plt \n",
        "\n",
        "#Import pandas to display confusion matrix in a pretty way\n",
        "import pandas as pd\n",
        "\n",
        "# Import os to get modules for loading data\n",
        "import os\n",
        "\n",
        "# import random for sampling during data load and in the map function\n",
        "import random\n",
        "\n",
        "#initializing the random seed so that we get consistent results\n",
        "def set_seed(seed=31415):\n",
        "    np.random.seed(seed)\n",
        "    tf.random.set_seed(seed)\n",
        "    os.environ['PYTHONHASHSEED'] = str(seed)\n",
        "    os.environ['TF_DETERMINISTIC_OPS'] = '1'\n",
        "set_seed()"
      ],
      "execution_count": 1,
      "outputs": []
    },
    {
      "cell_type": "markdown",
      "metadata": {
        "id": "N8PBbY604Ac6"
      },
      "source": [
        "# Initializing Input and Batch sizes"
      ]
    },
    {
      "cell_type": "code",
      "metadata": {
        "id": "QhYSwnD_35L1"
      },
      "source": [
        "input_shape = (224, 224, 3)\n",
        "batch_size = 20\n",
        "num_classes = 5\n",
        "diagnostics=False"
      ],
      "execution_count": 2,
      "outputs": []
    },
    {
      "cell_type": "markdown",
      "metadata": {
        "id": "6HKzEiB36_gh"
      },
      "source": [
        "# Loading Data"
      ]
    },
    {
      "cell_type": "code",
      "metadata": {
        "id": "AT2tAbn3638b"
      },
      "source": [
        "!cp '/content/drive/MyDrive/MachineLearning/Linnaeus 5 256X256.rar' '/content/' \n",
        "get_ipython().system_raw(\"unrar x '/content/Linnaeus 5 256X256.rar'\")"
      ],
      "execution_count": 3,
      "outputs": []
    },
    {
      "cell_type": "code",
      "metadata": {
        "colab": {
          "base_uri": "https://localhost:8080/"
        },
        "id": "XRZ5VqRy7Nrw",
        "outputId": "fa7417f2-cc53-47fd-f757-f915e599bacc"
      },
      "source": [
        "\n",
        "path='/content/Linnaeus 5 256X256'\n",
        "categories = os.listdir(os.path.join(path, 'train'))\n",
        "if diagnostics: print(\"categories found =\", categories, len(categories))\n",
        "\n",
        "train_image_dataset = tf.keras.preprocessing.image_dataset_from_directory(\n",
        "        os.path.join(path, 'train')\n",
        "      , labels='inferred'\n",
        "      , label_mode='categorical'\n",
        "      , class_names=categories\n",
        "      , batch_size=batch_size\n",
        "      , image_size=(256, 256)\n",
        "      , shuffle=True\n",
        "      , seed=2\n",
        "      , validation_split=0.1\n",
        "      , subset= 'training'\n",
        "  )\n",
        "\n",
        "validation_image_dataset = tf.keras.preprocessing.image_dataset_from_directory(\n",
        "        os.path.join(path, 'train')\n",
        "      , labels='inferred'\n",
        "      , label_mode='categorical'\n",
        "      , class_names=categories\n",
        "      , batch_size=batch_size\n",
        "      , image_size=(256, 256)\n",
        "      , shuffle=True\n",
        "      , seed=2\n",
        "      , validation_split=0.1\n",
        "      , subset= 'validation'\n",
        "  )\n",
        "\n",
        "\n",
        "if diagnostics: print(\"class names found =\" , train_image_dataset.class_names)\n",
        "\n",
        "def crop_images(images, labels):\n",
        "  '''\n",
        "  Expecting categories to be names of subfolders and the images belonging to each \n",
        "  of the subfolders be stored inside them. While reading the images, they are resized to 256x256x3\n",
        "  and then cropped to 224x224x3 based on the way the paper describes (randomly between 4 corners and center)\n",
        "  diagnostics: bool (default False), If True it will print a lot of debug information\n",
        "\n",
        "  '''\n",
        "  # In order to clip the image in either from top-left, top-right, bottom-left, bottom-right or center, \n",
        "  # we create an array of possible start positions\n",
        "  corners_list = [0, (256-input_shape[0])//2, 256-input_shape[0]]\n",
        "  \n",
        "  # Sampling one number from the list of start positions\n",
        "  offset_height = offset_width = random.sample(corners_list, 1)[0]\n",
        "  \n",
        "  images = tf.image.per_image_standardization(images-127)\n",
        "  images = images/tf.math.reduce_max(tf.math.abs(images))\n",
        "  return  tf.image.crop_to_bounding_box(images, offset_height, offset_width, input_shape[0], input_shape[0]), labels\n",
        "\n",
        "\n",
        "validation_datasource = validation_image_dataset.map(crop_images)\n",
        "validation_datasource = validation_datasource.cache().prefetch(buffer_size=tf.data.AUTOTUNE).shuffle(batch_size)\n",
        "\n",
        "datasource = train_image_dataset.map(crop_images)\n",
        "datasource = datasource.cache().prefetch(buffer_size=tf.data.AUTOTUNE).shuffle(batch_size)\n",
        "\n"
      ],
      "execution_count": 4,
      "outputs": [
        {
          "output_type": "stream",
          "text": [
            "Found 6000 files belonging to 5 classes.\n",
            "Using 5400 files for training.\n",
            "Found 6000 files belonging to 5 classes.\n",
            "Using 600 files for validation.\n"
          ],
          "name": "stdout"
        }
      ]
    },
    {
      "cell_type": "code",
      "metadata": {
        "colab": {
          "base_uri": "https://localhost:8080/"
        },
        "id": "BBBAeq2FTRO3",
        "outputId": "d4c8fa89-64cb-41d2-ad12-0364daf4401a"
      },
      "source": [
        "for i, (images, label) in enumerate( datasource): \n",
        "\n",
        "  print(images[i].shape, np.max(np.abs(images[i])), \"min =\", np.min(images[i]))\n",
        "  print(images[i+1].shape,np.max(np.abs(images[i+1])), \"min =\", np.min(images[i+1]))\n",
        "  break"
      ],
      "execution_count": 5,
      "outputs": [
        {
          "output_type": "stream",
          "text": [
            "(224, 224, 3) 0.7182552 min = -0.7182552\n",
            "(224, 224, 3) 0.74124175 min = -0.74124175\n"
          ],
          "name": "stdout"
        }
      ]
    },
    {
      "cell_type": "code",
      "metadata": {
        "colab": {
          "base_uri": "https://localhost:8080/"
        },
        "id": "jAcom1lQFkyv",
        "outputId": "9f01089b-a246-45cf-ff2a-016c723b8776"
      },
      "source": [
        "test_image_dataset = tf.keras.preprocessing.image_dataset_from_directory(\n",
        "        os.path.join(path, 'test')\n",
        "      , labels='inferred'\n",
        "      , label_mode='categorical'\n",
        "      , class_names=categories\n",
        "      , batch_size=batch_size\n",
        "      , image_size=(256, 256)\n",
        "      , seed=2\n",
        "  )\n",
        "\n",
        "test_datasource = test_image_dataset.map(crop_images)\n",
        "test_datasource = test_datasource.cache().prefetch(buffer_size=tf.data.AUTOTUNE).shuffle(batch_size)"
      ],
      "execution_count": 6,
      "outputs": [
        {
          "output_type": "stream",
          "text": [
            "Found 2000 files belonging to 5 classes.\n"
          ],
          "name": "stdout"
        }
      ]
    },
    {
      "cell_type": "markdown",
      "metadata": {
        "id": "YuSIFwwI4Dwr"
      },
      "source": [
        "# Building the VGG model"
      ]
    },
    {
      "cell_type": "code",
      "metadata": {
        "id": "lIE8dR6V3r3e"
      },
      "source": [
        "def build_vgg(filter_size=64, fc_units = 4096, num_classes = 1000, conv_padding='same'):\n",
        "  '''\n",
        "  Calling this function without any changes in the parameter valuese will give \n",
        "  the D-variant (16 layer) model as per the paper with the only difference being \n",
        "  in the activation function of the layers. The paper says the activation should be relu,\n",
        "  but after a lot of trial and error, it was found that elu activation ensured that the \n",
        "  units wouldn't die in the process of training leading to fixed values in the outputs\n",
        "  https://arxiv.org/pdf/1409.1556v6.pdf\n",
        "\n",
        "  filter_size = int (default 64), The depth of convolution filters in the paper are multiples of 64\n",
        "      , the common factor is defined as a parameter here to give flexibility for smaller versions of VGG\n",
        "  fc_units = int (default= 4096), Size of the FC layers\n",
        "  num_classes = int(default 1000), Number of classes that the images have to be classified into (size of the last FC layer)\n",
        "  conv_padding: (default = 'same'), can either be 'valid' or 'same'. This is the padding of the Convolution layers.\n",
        "  \n",
        "  '''\n",
        "  input = Input (shape=input_shape, batch_size = batch_size)\n",
        "\n",
        "  # First Conv Block of filter size  64\n",
        "  x = Conv2D(filters = filter_size, kernel_size=(3,3), strides = (1,1)\n",
        "             , activation= 'elu', padding = conv_padding\n",
        "             , name='conv_1_1')(input)\n",
        "  x = Conv2D(filters = filter_size, kernel_size=(3,3), strides = (1,1)\n",
        "             , activation= 'elu', padding = conv_padding\n",
        "             , name='conv_1_2')(x)\n",
        "\n",
        "  x = MaxPool2D(pool_size=(2,2), strides = (2,2), name='maxpool_1')(x)\n",
        "\n",
        "  # Second Conv block of filter size 128\n",
        "  x = Conv2D(filters = filter_size*2, kernel_size=(3,3), strides = (1,1)\n",
        "             , activation= 'elu', padding = conv_padding\n",
        "             , name='conv_2_1')(x)\n",
        "  x = Conv2D(filters = filter_size*2, kernel_size=(3,3), strides = (1,1)\n",
        "             , activation= 'elu', padding = conv_padding\n",
        "             , name='conv_2_2')(x)\n",
        "\n",
        "  x = MaxPool2D(pool_size=(2,2), strides = (2,2), name='maxpool_2')(x)\n",
        "\n",
        "  # Third Conv block of filter size 256\n",
        "  x = Conv2D(filters = filter_size*4, kernel_size=(3,3), strides = (1,1)\n",
        "             , activation= 'elu', padding = conv_padding\n",
        "             , name='conv_3_1')(x)\n",
        "  x = Conv2D(filters = filter_size*4, kernel_size=(3,3), strides = (1,1)\n",
        "             , activation= 'elu', padding = conv_padding\n",
        "             , name='conv_3_2')(x)\n",
        "  x = Conv2D(filters = filter_size*4, kernel_size=(3,3), strides = (1,1)\n",
        "             , activation= 'elu', padding = conv_padding\n",
        "             , name='conv_3_3')(x)\n",
        "\n",
        "  x = MaxPool2D(pool_size=(2,2), strides = (2,2), name='maxpool_3')(x)\n",
        "\n",
        "  #Fourth Conv Block of filteer size 512\n",
        "  x = Conv2D(filters = filter_size*8, kernel_size=(3,3), strides = (1,1)\n",
        "             , activation= 'elu', padding = conv_padding\n",
        "             , name='conv_4_1')(x)\n",
        "  x = Conv2D(filters = filter_size*8, kernel_size=(3,3), strides = (1,1)\n",
        "             , activation= 'elu', padding = conv_padding\n",
        "             , name='conv_4_2')(x)\n",
        "  x = Conv2D(filters = filter_size*8, kernel_size=(3,3), strides = (1,1)\n",
        "             , activation= 'elu', padding = conv_padding\n",
        "             , name='conv_4_3')(x)\n",
        "\n",
        "  x = MaxPool2D(pool_size=(2,2), strides = (2,2), name='maxpool_4')(x)\n",
        "\n",
        "  # Fifth Conv Block of filter size 512\n",
        "  x = Conv2D(filters = filter_size*8, kernel_size=(3,3), strides = (1,1)\n",
        "             , activation= 'elu', padding = conv_padding\n",
        "             , name='conv_5_1')(x)\n",
        "  x = Conv2D(filters = filter_size*8, kernel_size=(3,3), strides = (1,1)\n",
        "             , activation= 'elu', padding = conv_padding\n",
        "             , name='conv_5_2')(x)\n",
        "  x = Conv2D(filters = filter_size*8, kernel_size=(3,3), strides = (1,1)\n",
        "             , activation= 'elu', padding = conv_padding\n",
        "             , name='conv_5_3')(x)\n",
        "\n",
        "  x = MaxPool2D(pool_size=(2,2), strides = (2,2), name='maxpool_5')(x)\n",
        "\n",
        "  x = Flatten(name='flatten')(x)\n",
        "  # Conv and MaxPool layers are done, declaring FC layers next\n",
        "\n",
        "  x = Dense(fc_units, activation='elu', name='fc_1')(x)\n",
        "  x = Dropout(0.5, name='dropout_1')(x)\n",
        "  x = Dense(fc_units, activation='elu', name='fc_2')(x)\n",
        "  x = Dropout(0.5, name='dropout_2')(x)\n",
        "\n",
        "  #Final Output layer\n",
        "  output = Dense(num_classes, activation='softmax', name='output')(x)\n",
        "\n",
        "  model = Model(inputs = input, outputs = output, name='vgg16')\n",
        "  model.summary()\n",
        "  return model\n",
        "\n"
      ],
      "execution_count": 7,
      "outputs": []
    },
    {
      "cell_type": "markdown",
      "metadata": {
        "id": "FYbdeRfu_k5K"
      },
      "source": [
        "# Half sized VGG16"
      ]
    },
    {
      "cell_type": "code",
      "metadata": {
        "colab": {
          "base_uri": "https://localhost:8080/"
        },
        "id": "5UZepTFRGBt0",
        "outputId": "e6e1fc98-d915-4e46-cfa6-e6e3d282cd6d"
      },
      "source": [
        "model_2 = build_vgg(filter_size=32, num_classes=num_classes, conv_padding='same')"
      ],
      "execution_count": 48,
      "outputs": [
        {
          "output_type": "stream",
          "text": [
            "Model: \"vgg16\"\n",
            "_________________________________________________________________\n",
            "Layer (type)                 Output Shape              Param #   \n",
            "=================================================================\n",
            "input_5 (InputLayer)         [(20, 224, 224, 3)]       0         \n",
            "_________________________________________________________________\n",
            "conv_1_1 (Conv2D)            (20, 224, 224, 32)        896       \n",
            "_________________________________________________________________\n",
            "conv_1_2 (Conv2D)            (20, 224, 224, 32)        9248      \n",
            "_________________________________________________________________\n",
            "maxpool_1 (MaxPooling2D)     (20, 112, 112, 32)        0         \n",
            "_________________________________________________________________\n",
            "conv_2_1 (Conv2D)            (20, 112, 112, 64)        18496     \n",
            "_________________________________________________________________\n",
            "conv_2_2 (Conv2D)            (20, 112, 112, 64)        36928     \n",
            "_________________________________________________________________\n",
            "maxpool_2 (MaxPooling2D)     (20, 56, 56, 64)          0         \n",
            "_________________________________________________________________\n",
            "conv_3_1 (Conv2D)            (20, 56, 56, 128)         73856     \n",
            "_________________________________________________________________\n",
            "conv_3_2 (Conv2D)            (20, 56, 56, 128)         147584    \n",
            "_________________________________________________________________\n",
            "conv_3_3 (Conv2D)            (20, 56, 56, 128)         147584    \n",
            "_________________________________________________________________\n",
            "maxpool_3 (MaxPooling2D)     (20, 28, 28, 128)         0         \n",
            "_________________________________________________________________\n",
            "conv_4_1 (Conv2D)            (20, 28, 28, 256)         295168    \n",
            "_________________________________________________________________\n",
            "conv_4_2 (Conv2D)            (20, 28, 28, 256)         590080    \n",
            "_________________________________________________________________\n",
            "conv_4_3 (Conv2D)            (20, 28, 28, 256)         590080    \n",
            "_________________________________________________________________\n",
            "maxpool_4 (MaxPooling2D)     (20, 14, 14, 256)         0         \n",
            "_________________________________________________________________\n",
            "conv_5_1 (Conv2D)            (20, 14, 14, 256)         590080    \n",
            "_________________________________________________________________\n",
            "conv_5_2 (Conv2D)            (20, 14, 14, 256)         590080    \n",
            "_________________________________________________________________\n",
            "conv_5_3 (Conv2D)            (20, 14, 14, 256)         590080    \n",
            "_________________________________________________________________\n",
            "maxpool_5 (MaxPooling2D)     (20, 7, 7, 256)           0         \n",
            "_________________________________________________________________\n",
            "flatten (Flatten)            (20, 12544)               0         \n",
            "_________________________________________________________________\n",
            "fc_1 (Dense)                 (20, 4096)                51384320  \n",
            "_________________________________________________________________\n",
            "dropout_1 (Dropout)          (20, 4096)                0         \n",
            "_________________________________________________________________\n",
            "fc_2 (Dense)                 (20, 4096)                16781312  \n",
            "_________________________________________________________________\n",
            "dropout_2 (Dropout)          (20, 4096)                0         \n",
            "_________________________________________________________________\n",
            "output (Dense)               (20, 5)                   20485     \n",
            "=================================================================\n",
            "Total params: 71,866,277\n",
            "Trainable params: 71,866,277\n",
            "Non-trainable params: 0\n",
            "_________________________________________________________________\n"
          ],
          "name": "stdout"
        }
      ]
    },
    {
      "cell_type": "markdown",
      "metadata": {
        "id": "yBhL-hmWlJYa"
      },
      "source": [
        "## Training the model"
      ]
    },
    {
      "cell_type": "code",
      "metadata": {
        "id": "8JDJlMp8GoKF"
      },
      "source": [
        "#adam = tf.keras.optimizers.Adam(learning_rate=0.05) # Trying a high learning rate\n",
        "sgd = tf.keras.optimizers.SGD(learning_rate=0.001, momentum=0.9)\n",
        "model_2.compile(optimizer=sgd,loss='categorical_crossentropy', metrics=['categorical_accuracy'])\n"
      ],
      "execution_count": 49,
      "outputs": []
    },
    {
      "cell_type": "code",
      "metadata": {
        "colab": {
          "base_uri": "https://localhost:8080/"
        },
        "id": "ILFRL9bQG2m5",
        "outputId": "ad3803a8-30db-4208-eba8-f206462d72bc"
      },
      "source": [
        "metrics = model_2.fit(datasource\n",
        "          , epochs= 50\n",
        "          \n",
        "          , validation_data = validation_datasource\n",
        "          , validation_steps = 5\n",
        "          , shuffle= True\n",
        "          , callbacks=callbacks\n",
        "          )\n"
      ],
      "execution_count": 50,
      "outputs": [
        {
          "output_type": "stream",
          "text": [
            "Epoch 1/50\n",
            "270/270 [==============================] - 67s 241ms/step - loss: 1.5603 - categorical_accuracy: 0.2728 - val_loss: 1.5071 - val_categorical_accuracy: 0.3400\n",
            "\n",
            "Epoch 00001: val_loss improved from inf to 1.50708, saving model to vgg16.h5\n",
            "Epoch 2/50\n",
            "270/270 [==============================] - 64s 238ms/step - loss: 1.4048 - categorical_accuracy: 0.3906 - val_loss: 1.3337 - val_categorical_accuracy: 0.4300\n",
            "\n",
            "Epoch 00002: val_loss improved from 1.50708 to 1.33367, saving model to vgg16.h5\n",
            "Epoch 3/50\n",
            "270/270 [==============================] - 64s 238ms/step - loss: 1.2898 - categorical_accuracy: 0.4476 - val_loss: 1.2502 - val_categorical_accuracy: 0.4200\n",
            "\n",
            "Epoch 00003: val_loss improved from 1.33367 to 1.25022, saving model to vgg16.h5\n",
            "Epoch 4/50\n",
            "270/270 [==============================] - 64s 237ms/step - loss: 1.2324 - categorical_accuracy: 0.4794 - val_loss: 1.2879 - val_categorical_accuracy: 0.3900\n",
            "\n",
            "Epoch 00004: val_loss did not improve from 1.25022\n",
            "Epoch 5/50\n",
            "270/270 [==============================] - 64s 237ms/step - loss: 1.1208 - categorical_accuracy: 0.5525 - val_loss: 1.0430 - val_categorical_accuracy: 0.5700\n",
            "\n",
            "Epoch 00005: val_loss improved from 1.25022 to 1.04300, saving model to vgg16.h5\n",
            "Epoch 6/50\n",
            "270/270 [==============================] - 64s 238ms/step - loss: 1.0659 - categorical_accuracy: 0.5704 - val_loss: 0.9315 - val_categorical_accuracy: 0.5700\n",
            "\n",
            "Epoch 00006: val_loss improved from 1.04300 to 0.93151, saving model to vgg16.h5\n",
            "Epoch 7/50\n",
            "270/270 [==============================] - 64s 237ms/step - loss: 0.9322 - categorical_accuracy: 0.6289 - val_loss: 1.0701 - val_categorical_accuracy: 0.6000\n",
            "\n",
            "Epoch 00007: val_loss did not improve from 0.93151\n",
            "Epoch 8/50\n",
            "270/270 [==============================] - 64s 237ms/step - loss: 0.8887 - categorical_accuracy: 0.6650 - val_loss: 1.0034 - val_categorical_accuracy: 0.6000\n",
            "\n",
            "Epoch 00008: val_loss did not improve from 0.93151\n",
            "Epoch 9/50\n",
            "270/270 [==============================] - 64s 237ms/step - loss: 0.7768 - categorical_accuracy: 0.7044 - val_loss: 1.1426 - val_categorical_accuracy: 0.5500\n",
            "\n",
            "Epoch 00009: val_loss did not improve from 0.93151\n",
            "Epoch 10/50\n",
            "270/270 [==============================] - 64s 237ms/step - loss: 0.6738 - categorical_accuracy: 0.7402 - val_loss: 1.2316 - val_categorical_accuracy: 0.5800\n",
            "\n",
            "Epoch 00010: val_loss did not improve from 0.93151\n",
            "Epoch 11/50\n",
            "270/270 [==============================] - 64s 237ms/step - loss: 0.5182 - categorical_accuracy: 0.8110 - val_loss: 1.3435 - val_categorical_accuracy: 0.5600\n",
            "\n",
            "Epoch 00011: val_loss did not improve from 0.93151\n",
            "Epoch 12/50\n",
            "270/270 [==============================] - 64s 237ms/step - loss: 0.3727 - categorical_accuracy: 0.8688 - val_loss: 1.5419 - val_categorical_accuracy: 0.5100\n",
            "\n",
            "Epoch 00012: val_loss did not improve from 0.93151\n",
            "Epoch 13/50\n",
            "270/270 [==============================] - 64s 237ms/step - loss: 0.2662 - categorical_accuracy: 0.9043 - val_loss: 2.1377 - val_categorical_accuracy: 0.4500\n",
            "\n",
            "Epoch 00013: val_loss did not improve from 0.93151\n",
            "Epoch 14/50\n",
            "270/270 [==============================] - 64s 237ms/step - loss: 0.2417 - categorical_accuracy: 0.9054 - val_loss: 1.8343 - val_categorical_accuracy: 0.5400\n",
            "\n",
            "Epoch 00014: val_loss did not improve from 0.93151\n",
            "Epoch 15/50\n",
            "270/270 [==============================] - 64s 237ms/step - loss: 0.1586 - categorical_accuracy: 0.9462 - val_loss: 2.2071 - val_categorical_accuracy: 0.5400\n",
            "\n",
            "Epoch 00015: val_loss did not improve from 0.93151\n",
            "Epoch 16/50\n",
            "270/270 [==============================] - 64s 237ms/step - loss: 0.1690 - categorical_accuracy: 0.9417 - val_loss: 2.6384 - val_categorical_accuracy: 0.4900\n",
            "\n",
            "Epoch 00016: val_loss did not improve from 0.93151\n",
            "Restoring model weights from the end of the best epoch.\n",
            "Epoch 00016: early stopping\n"
          ],
          "name": "stdout"
        }
      ]
    },
    {
      "cell_type": "code",
      "metadata": {
        "colab": {
          "base_uri": "https://localhost:8080/",
          "height": 498
        },
        "id": "5nwP2PG4PDTe",
        "outputId": "5f5f750f-9ef1-4be9-bef5-5b6b26405ab4"
      },
      "source": [
        "\n",
        "acc = metrics.history['categorical_accuracy']\n",
        "val_acc = metrics.history['val_categorical_accuracy']\n",
        "\n",
        "loss = metrics.history['loss']\n",
        "val_loss = metrics.history['val_loss']\n",
        "\n",
        "epochs_range = range(16)\n",
        "\n",
        "plt.figure(figsize=(8, 8))\n",
        "plt.subplot(1, 2, 1)\n",
        "plt.plot(epochs_range, acc, label='Training Accuracy')\n",
        "plt.plot(epochs_range, val_acc, label='Validation Accuracy')\n",
        "plt.legend(loc='lower right')\n",
        "plt.title('Training and Validation Accuracy')\n",
        "\n",
        "plt.subplot(1, 2, 2)\n",
        "plt.plot(epochs_range, loss, label='Training Loss')\n",
        "plt.plot(epochs_range, val_loss, label='Validation Loss')\n",
        "plt.legend(loc='upper right')\n",
        "plt.title('Training and Validation Loss')\n",
        "plt.show()"
      ],
      "execution_count": 59,
      "outputs": [
        {
          "output_type": "display_data",
          "data": {
            "image/png": "[encoded data removed]",
            "text/plain": [
              "<Figure size 576x576 with 2 Axes>"
            ]
          },
          "metadata": {
            "tags": [],
            "needs_background": "light"
          }
        }
      ]
    },
    {
      "cell_type": "markdown",
      "metadata": {
        "id": "XER-wz2slVkN"
      },
      "source": [
        "## Test Model with unseen data"
      ]
    },
    {
      "cell_type": "code",
      "metadata": {
        "id": "xPiWYOfGPEbL",
        "colab": {
          "base_uri": "https://localhost:8080/"
        },
        "outputId": "b1ca17f0-cd49-4e6e-9e98-71db0d08efb1"
      },
      "source": [
        "predictions = []\n",
        "actuals=[]\n",
        "\n",
        "for i, (images, labels) in enumerate( test_datasource):\n",
        "  if i > 40:\n",
        "    break\n",
        "  pred = model_2(images)\n",
        "  for j in range(len(labels)):\n",
        "    actuals.append( labels[j])\n",
        "    predictions.append(pred[j])\n",
        "\n",
        "# Printing a few labels and predictions to ensure that there are no dead-Relus\n",
        "for j in range(10):\n",
        "  print(labels[j].numpy(), \"\\t\", pred[j].numpy())"
      ],
      "execution_count": 61,
      "outputs": [
        {
          "output_type": "stream",
          "text": [
            "[0. 1. 0. 0. 0.] \t [0.026735   0.75479394 0.01279395 0.03252182 0.17315526]\n",
            "[0. 1. 0. 0. 0.] \t [0.03274518 0.38936576 0.04756283 0.09760881 0.43271747]\n",
            "[1. 0. 0. 0. 0.] \t [0.2676084  0.01923319 0.54541415 0.01446293 0.15328133]\n",
            "[0. 0. 0. 0. 1.] \t [0.435447   0.12984738 0.32875255 0.05612518 0.04982784]\n",
            "[0. 0. 0. 0. 1.] \t [0.16166173 0.4480878  0.04718498 0.19491842 0.14814705]\n",
            "[0. 0. 0. 1. 0.] \t [0.5608375  0.01816423 0.109129   0.00328241 0.30858687]\n",
            "[1. 0. 0. 0. 0.] \t [0.01179002 0.20600633 0.01103725 0.5932426  0.1779238 ]\n",
            "[1. 0. 0. 0. 0.] \t [0.1177501  0.45667613 0.01943839 0.2167525  0.18938287]\n",
            "[1. 0. 0. 0. 0.] \t [0.00353308 0.13969313 0.01598393 0.16393764 0.6768522 ]\n",
            "[0. 0. 0. 0. 1.] \t [0.38268444 0.3067909  0.22131167 0.02827153 0.06094147]\n"
          ],
          "name": "stdout"
        }
      ]
    },
    {
      "cell_type": "markdown",
      "metadata": {
        "id": "xdJFtVdglfu2"
      },
      "source": [
        "### Confusion Matrix"
      ]
    },
    {
      "cell_type": "code",
      "metadata": {
        "colab": {
          "base_uri": "https://localhost:8080/",
          "height": 197
        },
        "id": "fqNmZFWnhxo9",
        "outputId": "df1382f2-5eab-4291-8f22-b0cbc5e09ead"
      },
      "source": [
        "pd.DataFrame(tf.math.confusion_matrix(\n",
        "    np.argmax(actuals, axis=1), np.argmax(predictions, axis=1), num_classes=num_classes, dtype=tf.dtypes.int32).numpy()\n",
        "    , columns = test_image_dataset.class_names\n",
        "    , index =  test_image_dataset.class_names)"
      ],
      "execution_count": 73,
      "outputs": [
        {
          "output_type": "execute_result",
          "data": {
            "text/html": [
              "<div>\n",
              "<style scoped>\n",
              "    .dataframe tbody tr th:only-of-type {\n",
              "        vertical-align: middle;\n",
              "    }\n",
              "\n",
              "    .dataframe tbody tr th {\n",
              "        vertical-align: top;\n",
              "    }\n",
              "\n",
              "    .dataframe thead th {\n",
              "        text-align: right;\n",
              "    }\n",
              "</style>\n",
              "<table border=\"1\" class=\"dataframe\">\n",
              "  <thead>\n",
              "    <tr style=\"text-align: right;\">\n",
              "      <th></th>\n",
              "      <th>flower</th>\n",
              "      <th>bird</th>\n",
              "      <th>berry</th>\n",
              "      <th>dog</th>\n",
              "      <th>other</th>\n",
              "    </tr>\n",
              "  </thead>\n",
              "  <tbody>\n",
              "    <tr>\n",
              "      <th>flower</th>\n",
              "      <td>54</td>\n",
              "      <td>5</td>\n",
              "      <td>14</td>\n",
              "      <td>3</td>\n",
              "      <td>3</td>\n",
              "    </tr>\n",
              "    <tr>\n",
              "      <th>bird</th>\n",
              "      <td>9</td>\n",
              "      <td>39</td>\n",
              "      <td>8</td>\n",
              "      <td>15</td>\n",
              "      <td>16</td>\n",
              "    </tr>\n",
              "    <tr>\n",
              "      <th>berry</th>\n",
              "      <td>16</td>\n",
              "      <td>6</td>\n",
              "      <td>46</td>\n",
              "      <td>1</td>\n",
              "      <td>13</td>\n",
              "    </tr>\n",
              "    <tr>\n",
              "      <th>dog</th>\n",
              "      <td>1</td>\n",
              "      <td>18</td>\n",
              "      <td>1</td>\n",
              "      <td>48</td>\n",
              "      <td>6</td>\n",
              "    </tr>\n",
              "    <tr>\n",
              "      <th>other</th>\n",
              "      <td>7</td>\n",
              "      <td>20</td>\n",
              "      <td>3</td>\n",
              "      <td>7</td>\n",
              "      <td>61</td>\n",
              "    </tr>\n",
              "  </tbody>\n",
              "</table>\n",
              "</div>"
            ],
            "text/plain": [
              "        flower  bird  berry  dog  other\n",
              "flower      54     5     14    3      3\n",
              "bird         9    39      8   15     16\n",
              "berry       16     6     46    1     13\n",
              "dog          1    18      1   48      6\n",
              "other        7    20      3    7     61"
            ]
          },
          "metadata": {
            "tags": []
          },
          "execution_count": 73
        }
      ]
    },
    {
      "cell_type": "code",
      "metadata": {
        "id": "dByzjk31jPVe"
      },
      "source": [
        "#!cp /content/vgg16.h5 '/content/drive/MyDrive/MachineLearning/'"
      ],
      "execution_count": 74,
      "outputs": []
    },
    {
      "cell_type": "markdown",
      "metadata": {
        "id": "JjDFQFroLaYi"
      },
      "source": [
        "# Quarter sized VGG16"
      ]
    },
    {
      "cell_type": "code",
      "metadata": {
        "colab": {
          "base_uri": "https://localhost:8080/"
        },
        "id": "35FToPcz8qoa",
        "outputId": "51d778d2-2764-4180-c896-0fca317a3adc"
      },
      "source": [
        "model = build_vgg(filter_size=16, num_classes=num_classes, conv_padding='same')\n"
      ],
      "execution_count": 8,
      "outputs": [
        {
          "output_type": "stream",
          "text": [
            "Model: \"vgg16\"\n",
            "_________________________________________________________________\n",
            "Layer (type)                 Output Shape              Param #   \n",
            "=================================================================\n",
            "input_1 (InputLayer)         [(20, 224, 224, 3)]       0         \n",
            "_________________________________________________________________\n",
            "conv_1_1 (Conv2D)            (20, 224, 224, 16)        448       \n",
            "_________________________________________________________________\n",
            "conv_1_2 (Conv2D)            (20, 224, 224, 16)        2320      \n",
            "_________________________________________________________________\n",
            "maxpool_1 (MaxPooling2D)     (20, 112, 112, 16)        0         \n",
            "_________________________________________________________________\n",
            "conv_2_1 (Conv2D)            (20, 112, 112, 32)        4640      \n",
            "_________________________________________________________________\n",
            "conv_2_2 (Conv2D)            (20, 112, 112, 32)        9248      \n",
            "_________________________________________________________________\n",
            "maxpool_2 (MaxPooling2D)     (20, 56, 56, 32)          0         \n",
            "_________________________________________________________________\n",
            "conv_3_1 (Conv2D)            (20, 56, 56, 64)          18496     \n",
            "_________________________________________________________________\n",
            "conv_3_2 (Conv2D)            (20, 56, 56, 64)          36928     \n",
            "_________________________________________________________________\n",
            "conv_3_3 (Conv2D)            (20, 56, 56, 64)          36928     \n",
            "_________________________________________________________________\n",
            "maxpool_3 (MaxPooling2D)     (20, 28, 28, 64)          0         \n",
            "_________________________________________________________________\n",
            "conv_4_1 (Conv2D)            (20, 28, 28, 128)         73856     \n",
            "_________________________________________________________________\n",
            "conv_4_2 (Conv2D)            (20, 28, 28, 128)         147584    \n",
            "_________________________________________________________________\n",
            "conv_4_3 (Conv2D)            (20, 28, 28, 128)         147584    \n",
            "_________________________________________________________________\n",
            "maxpool_4 (MaxPooling2D)     (20, 14, 14, 128)         0         \n",
            "_________________________________________________________________\n",
            "conv_5_1 (Conv2D)            (20, 14, 14, 128)         147584    \n",
            "_________________________________________________________________\n",
            "conv_5_2 (Conv2D)            (20, 14, 14, 128)         147584    \n",
            "_________________________________________________________________\n",
            "conv_5_3 (Conv2D)            (20, 14, 14, 128)         147584    \n",
            "_________________________________________________________________\n",
            "maxpool_5 (MaxPooling2D)     (20, 7, 7, 128)           0         \n",
            "_________________________________________________________________\n",
            "flatten (Flatten)            (20, 6272)                0         \n",
            "_________________________________________________________________\n",
            "fc_1 (Dense)                 (20, 4096)                25694208  \n",
            "_________________________________________________________________\n",
            "dropout_1 (Dropout)          (20, 4096)                0         \n",
            "_________________________________________________________________\n",
            "fc_2 (Dense)                 (20, 4096)                16781312  \n",
            "_________________________________________________________________\n",
            "dropout_2 (Dropout)          (20, 4096)                0         \n",
            "_________________________________________________________________\n",
            "output (Dense)               (20, 5)                   20485     \n",
            "=================================================================\n",
            "Total params: 43,416,789\n",
            "Trainable params: 43,416,789\n",
            "Non-trainable params: 0\n",
            "_________________________________________________________________\n"
          ],
          "name": "stdout"
        }
      ]
    },
    {
      "cell_type": "markdown",
      "metadata": {
        "id": "Xh4wRFgolZeX"
      },
      "source": [
        "## Training the model\n"
      ]
    },
    {
      "cell_type": "code",
      "metadata": {
        "id": "T76vB_Ij9dnS"
      },
      "source": [
        "model.compile(optimizer='adam',loss='categorical_crossentropy', metrics=['categorical_accuracy'])\n"
      ],
      "execution_count": 9,
      "outputs": []
    },
    {
      "cell_type": "code",
      "metadata": {
        "id": "LgxSJ6hX-y7x"
      },
      "source": [
        "# Saving the model when we reach a good min loss valid\n",
        "model_checkpoint = ModelCheckpoint(filepath='vgg16_quarter.h5',\n",
        "                                   monitor='val_loss',\n",
        "                                   save_best_only=True,\n",
        "                                   save_weights_only=False,\n",
        "                                   mode='auto',\n",
        "                                   save_freq='epoch',\n",
        "                                   verbose = 1)\n",
        "\n",
        "early_stopping = EarlyStopping(monitor='val_loss',\n",
        "                               min_delta=0.00001,\n",
        "                               restore_best_weights = True,\n",
        "                               patience=10,\n",
        "                               verbose = 1\n",
        "                               )\n",
        "\n",
        "reduce_learning_rate = ReduceLROnPlateau(monitor='loss',\n",
        "                                         factor=0.1,\n",
        "                                         patience=3,\n",
        "                                         mode ='min',\n",
        "                                         min_delta=0.001,\n",
        "                                         min_lr=1e-10,\n",
        "                                         verbose = 1)\n",
        "\n",
        "\n",
        "callbacks = [model_checkpoint, early_stopping, reduce_learning_rate]"
      ],
      "execution_count": 10,
      "outputs": []
    },
    {
      "cell_type": "code",
      "metadata": {
        "colab": {
          "base_uri": "https://localhost:8080/"
        },
        "id": "l15ntw3r_ImM",
        "outputId": "a378db93-3e70-4f39-b0ed-74b02ca1e8b6"
      },
      "source": [
        "metrics = model.fit(datasource\n",
        "          , epochs= 50\n",
        "          , validation_data = validation_datasource\n",
        "          , validation_steps = 5\n",
        "          , shuffle= True\n",
        "          , callbacks=callbacks\n",
        "          )\n"
      ],
      "execution_count": 11,
      "outputs": [
        {
          "output_type": "stream",
          "text": [
            "Epoch 1/50\n",
            "270/270 [==============================] - 53s 75ms/step - loss: 2.6237 - categorical_accuracy: 0.3259 - val_loss: 1.5100 - val_categorical_accuracy: 0.3600\n",
            "\n",
            "Epoch 00001: val_loss improved from inf to 1.50999, saving model to vgg16_quarter.h5\n",
            "Epoch 2/50\n",
            "270/270 [==============================] - 19s 72ms/step - loss: 1.3475 - categorical_accuracy: 0.4143 - val_loss: 1.5367 - val_categorical_accuracy: 0.3100\n",
            "\n",
            "Epoch 00002: val_loss did not improve from 1.50999\n",
            "Epoch 3/50\n",
            "270/270 [==============================] - 19s 72ms/step - loss: 1.2605 - categorical_accuracy: 0.4674 - val_loss: 1.3085 - val_categorical_accuracy: 0.4200\n",
            "\n",
            "Epoch 00003: val_loss improved from 1.50999 to 1.30848, saving model to vgg16_quarter.h5\n",
            "Epoch 4/50\n",
            "270/270 [==============================] - 20s 74ms/step - loss: 1.2212 - categorical_accuracy: 0.5007 - val_loss: 1.4717 - val_categorical_accuracy: 0.3800\n",
            "\n",
            "Epoch 00004: val_loss did not improve from 1.30848\n",
            "Epoch 5/50\n",
            "270/270 [==============================] - 20s 73ms/step - loss: 1.2222 - categorical_accuracy: 0.5022 - val_loss: 1.6510 - val_categorical_accuracy: 0.3300\n",
            "\n",
            "Epoch 00005: val_loss did not improve from 1.30848\n",
            "Epoch 6/50\n",
            "270/270 [==============================] - 20s 74ms/step - loss: 1.3180 - categorical_accuracy: 0.4739 - val_loss: 1.5565 - val_categorical_accuracy: 0.4100\n",
            "\n",
            "Epoch 00006: val_loss did not improve from 1.30848\n",
            "Epoch 7/50\n",
            "270/270 [==============================] - 20s 74ms/step - loss: 1.3909 - categorical_accuracy: 0.4687 - val_loss: 1.7633 - val_categorical_accuracy: 0.3100\n",
            "\n",
            "Epoch 00007: val_loss did not improve from 1.30848\n",
            "\n",
            "Epoch 00007: ReduceLROnPlateau reducing learning rate to 0.00010000000474974513.\n",
            "Epoch 8/50\n",
            "270/270 [==============================] - 20s 74ms/step - loss: 0.9422 - categorical_accuracy: 0.6183 - val_loss: 1.3676 - val_categorical_accuracy: 0.5200\n",
            "\n",
            "Epoch 00008: val_loss did not improve from 1.30848\n",
            "Epoch 9/50\n",
            "270/270 [==============================] - 20s 74ms/step - loss: 0.6128 - categorical_accuracy: 0.7763 - val_loss: 1.8489 - val_categorical_accuracy: 0.5000\n",
            "\n",
            "Epoch 00009: val_loss did not improve from 1.30848\n",
            "Epoch 10/50\n",
            "270/270 [==============================] - 20s 74ms/step - loss: 0.3037 - categorical_accuracy: 0.9020 - val_loss: 1.8971 - val_categorical_accuracy: 0.4100\n",
            "\n",
            "Epoch 00010: val_loss did not improve from 1.30848\n",
            "Epoch 11/50\n",
            "270/270 [==============================] - 20s 76ms/step - loss: 0.0963 - categorical_accuracy: 0.9761 - val_loss: 2.1022 - val_categorical_accuracy: 0.5500\n",
            "\n",
            "Epoch 00011: val_loss did not improve from 1.30848\n",
            "Epoch 12/50\n",
            "270/270 [==============================] - 20s 76ms/step - loss: 0.0253 - categorical_accuracy: 0.9970 - val_loss: 2.6568 - val_categorical_accuracy: 0.5300\n",
            "\n",
            "Epoch 00012: val_loss did not improve from 1.30848\n",
            "Epoch 13/50\n",
            "270/270 [==============================] - 20s 75ms/step - loss: 0.0097 - categorical_accuracy: 0.9993 - val_loss: 3.3339 - val_categorical_accuracy: 0.4500\n",
            "\n",
            "Epoch 00013: val_loss did not improve from 1.30848\n",
            "Restoring model weights from the end of the best epoch.\n",
            "Epoch 00013: early stopping\n"
          ],
          "name": "stdout"
        }
      ]
    },
    {
      "cell_type": "code",
      "metadata": {
        "colab": {
          "base_uri": "https://localhost:8080/",
          "height": 733
        },
        "id": "06e68xUYM2mL",
        "outputId": "1ef1798d-2db2-49e7-dfbf-151937137e3f"
      },
      "source": [
        "plt.figure(figsize=(20,12))\n",
        "\n",
        "plt.subplot(1,2,1)\n",
        "plt.plot(metrics.history['loss'], label='Training')\n",
        "plt.plot(metrics.history['val_loss'], label='Validation')\n",
        "plt.legend(loc='upper right', prop={'size': 24});\n",
        "plt.title('Loss')\n",
        "\n",
        "plt.subplot(1,2,2)\n",
        "plt.plot(metrics.history['categorical_accuracy'], label='Training')\n",
        "plt.plot(metrics.history['val_categorical_accuracy'], label='Validation')\n",
        "plt.legend(loc='upper right', prop={'size': 24});\n",
        "plt.title('Accuracy')"
      ],
      "execution_count": 16,
      "outputs": [
        {
          "output_type": "execute_result",
          "data": {
            "text/plain": [
              "Text(0.5, 1.0, 'Accuracy')"
            ]
          },
          "metadata": {
            "tags": []
          },
          "execution_count": 16
        },
        {
          "output_type": "display_data",
          "data": {
            "image/png": "[encoded data removed]",
            "text/plain": [
              "<Figure size 1440x864 with 2 Axes>"
            ]
          },
          "metadata": {
            "tags": [],
            "needs_background": "light"
          }
        }
      ]
    },
    {
      "cell_type": "markdown",
      "metadata": {
        "id": "hxnqLQTcJ7WU"
      },
      "source": [
        "## Testing quarter size VGG16"
      ]
    },
    {
      "cell_type": "code",
      "metadata": {
        "colab": {
          "base_uri": "https://localhost:8080/"
        },
        "id": "ry7otSkiJ-gB",
        "outputId": "ec255fcc-659b-477c-e0f3-d83fbfc76b3a"
      },
      "source": [
        "predictions = []\n",
        "actuals=[]\n",
        "\n",
        "for i, (images, labels) in enumerate( test_datasource):\n",
        "  if i > 40:\n",
        "    break\n",
        "  pred = model(images)\n",
        "  for j in range(len(labels)):\n",
        "    actuals.append( labels[j])\n",
        "    predictions.append(pred[j])\n",
        "\n",
        "print(\"number of labels =\", len(labels), \" predictions =\", len(predictions))\n",
        "# Printing a few labels and predictions to ensure that there are no dead-Relus\n",
        "for j in range(10):\n",
        "  print(labels[j].numpy(), \"\\t\", pred[j].numpy())"
      ],
      "execution_count": 13,
      "outputs": [
        {
          "output_type": "stream",
          "text": [
            "number of labels = 20  predictions = 820\n",
            "[0. 0. 0. 0. 1.] \t [0.1049897  0.10255653 0.20486319 0.28284848 0.30474207]\n",
            "[0. 0. 0. 0. 1.] \t [0.19398993 0.25876555 0.14309242 0.11372118 0.29043093]\n",
            "[0. 0. 0. 0. 1.] \t [0.24913569 0.3314616  0.36503893 0.01642968 0.0379341 ]\n",
            "[1. 0. 0. 0. 0.] \t [0.062418   0.01655457 0.00067896 0.26349974 0.6568487 ]\n",
            "[0. 0. 0. 1. 0.] \t [0.6688895  0.16000511 0.06360839 0.05596662 0.05153032]\n",
            "[0. 1. 0. 0. 0.] \t [0.00737886 0.06916492 0.0242643  0.62088996 0.27830192]\n",
            "[0. 0. 0. 0. 1.] \t [0.10866045 0.0967219  0.09748133 0.37092972 0.32620665]\n",
            "[0. 0. 0. 1. 0.] \t [0.02046039 0.54587317 0.2388286  0.17613521 0.01870261]\n",
            "[0. 0. 1. 0. 0.] \t [0.05083339 0.13283207 0.01134666 0.32191342 0.4830745 ]\n",
            "[0. 1. 0. 0. 0.] \t [0.01836638 0.1508963  0.03595354 0.64360267 0.15118109]\n"
          ],
          "name": "stdout"
        }
      ]
    },
    {
      "cell_type": "markdown",
      "metadata": {
        "id": "ij-cVuyOKErt"
      },
      "source": [
        "### Confusion Matrix"
      ]
    },
    {
      "cell_type": "code",
      "metadata": {
        "colab": {
          "base_uri": "https://localhost:8080/",
          "height": 197
        },
        "id": "7RIVJdkwKDjx",
        "outputId": "70f837f7-f6e3-495c-f714-531f21174914"
      },
      "source": [
        "pd.DataFrame(tf.math.confusion_matrix(\n",
        "    np.argmax(actuals, axis=1), np.argmax(predictions, axis=1), num_classes=num_classes, dtype=tf.dtypes.int32).numpy()\n",
        "    , columns = test_image_dataset.class_names\n",
        "    , index =  test_image_dataset.class_names)"
      ],
      "execution_count": 14,
      "outputs": [
        {
          "output_type": "execute_result",
          "data": {
            "text/html": [
              "<div>\n",
              "<style scoped>\n",
              "    .dataframe tbody tr th:only-of-type {\n",
              "        vertical-align: middle;\n",
              "    }\n",
              "\n",
              "    .dataframe tbody tr th {\n",
              "        vertical-align: top;\n",
              "    }\n",
              "\n",
              "    .dataframe thead th {\n",
              "        text-align: right;\n",
              "    }\n",
              "</style>\n",
              "<table border=\"1\" class=\"dataframe\">\n",
              "  <thead>\n",
              "    <tr style=\"text-align: right;\">\n",
              "      <th></th>\n",
              "      <th>other</th>\n",
              "      <th>bird</th>\n",
              "      <th>dog</th>\n",
              "      <th>berry</th>\n",
              "      <th>flower</th>\n",
              "    </tr>\n",
              "  </thead>\n",
              "  <tbody>\n",
              "    <tr>\n",
              "      <th>other</th>\n",
              "      <td>77</td>\n",
              "      <td>68</td>\n",
              "      <td>20</td>\n",
              "      <td>12</td>\n",
              "      <td>3</td>\n",
              "    </tr>\n",
              "    <tr>\n",
              "      <th>bird</th>\n",
              "      <td>20</td>\n",
              "      <td>85</td>\n",
              "      <td>31</td>\n",
              "      <td>22</td>\n",
              "      <td>5</td>\n",
              "    </tr>\n",
              "    <tr>\n",
              "      <th>dog</th>\n",
              "      <td>13</td>\n",
              "      <td>67</td>\n",
              "      <td>64</td>\n",
              "      <td>12</td>\n",
              "      <td>4</td>\n",
              "    </tr>\n",
              "    <tr>\n",
              "      <th>berry</th>\n",
              "      <td>6</td>\n",
              "      <td>29</td>\n",
              "      <td>7</td>\n",
              "      <td>69</td>\n",
              "      <td>51</td>\n",
              "    </tr>\n",
              "    <tr>\n",
              "      <th>flower</th>\n",
              "      <td>8</td>\n",
              "      <td>23</td>\n",
              "      <td>8</td>\n",
              "      <td>42</td>\n",
              "      <td>74</td>\n",
              "    </tr>\n",
              "  </tbody>\n",
              "</table>\n",
              "</div>"
            ],
            "text/plain": [
              "        other  bird  dog  berry  flower\n",
              "other      77    68   20     12       3\n",
              "bird       20    85   31     22       5\n",
              "dog        13    67   64     12       4\n",
              "berry       6    29    7     69      51\n",
              "flower      8    23    8     42      74"
            ]
          },
          "metadata": {
            "tags": []
          },
          "execution_count": 14
        }
      ]
    },
    {
      "cell_type": "code",
      "metadata": {
        "id": "ZKnaV69ONJNX"
      },
      "source": [
        "#!cp /content/vgg16_quarter.h5 '/content/drive/MyDrive/MachineLearning/'"
      ],
      "execution_count": 15,
      "outputs": []
    },
    {
      "cell_type": "code",
      "metadata": {
        "id": "vf1hG-6cNLjV"
      },
      "source": [
        ""
      ],
      "execution_count": null,
      "outputs": []
    }
  ]
}