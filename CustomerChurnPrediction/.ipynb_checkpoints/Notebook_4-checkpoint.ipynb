{
 "cells": [
  {
   "cell_type": "code",
   "execution_count": 1,
   "metadata": {},
   "outputs": [],
   "source": [
    "# Setting the environment variables"
   ]
  },
  {
   "cell_type": "code",
   "execution_count": 2,
   "metadata": {},
   "outputs": [],
   "source": [
    "import os\n",
    "import sys\n",
    "os.environ[\"PYSPARK_PYTHON\"]=\"/usr/bin/python3\"\n",
    "os.environ[\"PYSPARK_DRIVER_PYTHON\"]=\"/usr/bin/python3\"\n",
    "os.environ[\"PYSPARK_DRIVER_PYTHON_OPTS\"]=\"notebook --no-browser\"\n",
    "os.environ[\"JAVA_HOME\"] = \"/usr/java/jdk1.8.0_161/jre\"\n",
    "os.environ[\"SPARK_HOME\"] = \"/home/ec2-user/spark-2.4.4-bin-hadoop2.7\"\n",
    "os.environ[\"PYLIB\"] = os.environ[\"SPARK_HOME\"] + \"/python/lib\"\n",
    "sys.path.insert(0, os.environ[\"PYLIB\"] + \"/py4j-0.10.7-src.zip\")\n",
    "sys.path.insert(0, os.environ[\"PYLIB\"] + \"/pyspark.zip\")"
   ]
  },
  {
   "cell_type": "markdown",
   "metadata": {},
   "source": [
    "# Ecommerce Churn Assignment"
   ]
  },
  {
   "cell_type": "markdown",
   "metadata": {},
   "source": [
    "The aim of the assignment is to build a model that predicts whether a person purchases an item after it has been added to the cart or not. Being a classification problem, you are expected to use your understanding of all the three models covered till now. You must select the most robust model and provide a solution that predicts the churn in the most suitable manner. \n",
    "\n",
    "For this assignment, you are provided the data associated with an e-commerce company for the month of October 2019. Your task is to first analyse the data, and then perform multiple steps towards the model building process.\n",
    "\n",
    "The broad tasks are:\n",
    "- Data Exploration\n",
    "- Feature Engineering\n",
    "- Model Selection\n",
    "- Model Inference"
   ]
  },
  {
   "cell_type": "markdown",
   "metadata": {},
   "source": [
    "### Data description"
   ]
  },
  {
   "cell_type": "markdown",
   "metadata": {},
   "source": [
    "The dataset stores the information of a customer session on the e-commerce platform. It records the activity and the associated parameters with it.\n",
    "\n",
    "- **event_time**: Date and time when user accesses the platform\n",
    "- **event_type**: Action performed by the customer\n",
    "            - View\n",
    "            - Cart\n",
    "            - Purchase\n",
    "            - Remove from cart\n",
    "- **product_id**: Unique number to identify the product in the event\n",
    "- **category_id**: Unique number to identify the category of the product\n",
    "- **category_code**: Stores primary and secondary categories of the product\n",
    "- **brand**: Brand associated with the product\n",
    "- **price**: Price of the product\n",
    "- **user_id**: Unique ID for a customer\n",
    "- **user_session**: Session ID for a user\n"
   ]
  },
  {
   "cell_type": "markdown",
   "metadata": {},
   "source": [
    "### Initialising the SparkSession"
   ]
  },
  {
   "cell_type": "markdown",
   "metadata": {},
   "source": [
    "The dataset provided is 5 GBs in size. Therefore, it is expected that you increase the driver memory to a greater number. You can refer to notebook 1 for the steps involved here."
   ]
  },
  {
   "cell_type": "code",
   "execution_count": 3,
   "metadata": {},
   "outputs": [
    {
     "data": {
      "text/html": [
       "\n",
       "            <div>\n",
       "                <p><b>SparkSession - in-memory</b></p>\n",
       "                \n",
       "        <div>\n",
       "            <p><b>SparkContext</b></p>\n",
       "\n",
       "            <p><a href=\"http://ip-172-31-93-40.ec2.internal:4041\">Spark UI</a></p>\n",
       "\n",
       "            <dl>\n",
       "              <dt>Version</dt>\n",
       "                <dd><code>v2.4.4</code></dd>\n",
       "              <dt>Master</dt>\n",
       "                <dd><code>local[*]</code></dd>\n",
       "              <dt>AppName</dt>\n",
       "                <dd><code>log_reg</code></dd>\n",
       "            </dl>\n",
       "        </div>\n",
       "        \n",
       "            </div>\n",
       "        "
      ],
      "text/plain": [
       "<pyspark.sql.session.SparkSession at 0x7f19c3d3ebd0>"
      ]
     },
     "execution_count": 3,
     "metadata": {},
     "output_type": "execute_result"
    }
   ],
   "source": [
    "from pyspark import SparkConf\n",
    "from pyspark.sql import SparkSession\n",
    "\n",
    "# initialising the session with 14 GB driver memory\n",
    "MAX_MEMORY = \"14G\"\n",
    "\n",
    "spark = SparkSession \\\n",
    "    .builder \\\n",
    "    .appName(\"log_reg\") \\\n",
    "    .config(\"spark.driver.memory\", MAX_MEMORY) \\\n",
    "    .getOrCreate()\n",
    "\n",
    "spark"
   ]
  },
  {
   "cell_type": "code",
   "execution_count": 4,
   "metadata": {},
   "outputs": [
    {
     "name": "stdout",
     "output_type": "stream",
     "text": [
      "spark.driver.memory = 14G\n"
     ]
    }
   ],
   "source": [
    "print('spark.driver.memory =', spark.sparkContext.getConf().get('spark.driver.memory'))\n"
   ]
  },
  {
   "cell_type": "code",
   "execution_count": 5,
   "metadata": {},
   "outputs": [],
   "source": [
    "\n",
    "from pyspark.sql.types import FloatType\n",
    "from pyspark.sql import functions as F\n",
    "from pyspark.ml.feature import OneHotEncoder, StringIndexer, VectorAssembler\n",
    "from pyspark.ml import Pipeline\n",
    "\n",
    "from pyspark.ml.classification import RandomForestClassifier\n",
    "from pyspark.ml.evaluation import MulticlassClassificationEvaluator, BinaryClassificationEvaluator\n",
    "from pyspark.mllib.evaluation import MulticlassMetrics, BinaryClassificationMetrics\n",
    "from pyspark.ml.tuning import ParamGridBuilder, CrossValidator\n"
   ]
  },
  {
   "cell_type": "code",
   "execution_count": 6,
   "metadata": {},
   "outputs": [],
   "source": [
    "# Flag to force only 10% data to be selected from the dataset\n",
    "# This was used only during the initial development of the code\n",
    "# DONOT set this to True and finalize any inference \n",
    "use_small_sample = False\n",
    "load_from_existing_features_dataset = True\n",
    "save_features_dataset=False"
   ]
  },
  {
   "cell_type": "code",
   "execution_count": 7,
   "metadata": {},
   "outputs": [],
   "source": [
    "# Loading the clean data\n",
    "\n",
    "# Loading the clean data\n",
    "if use_small_sample == True:\n",
    "    df= spark.read.parquet(\"cleaned_df.parquet\")\n",
    "    df = df.randomSplit([.05, .95], seed=12)[0]\n",
    "else:\n",
    "    df= spark.read.parquet(\"cleaned_df.parquet\")\n",
    "    \n"
   ]
  },
  {
   "cell_type": "code",
   "execution_count": 8,
   "metadata": {},
   "outputs": [
    {
     "data": {
      "text/plain": [
       "898441"
      ]
     },
     "execution_count": 8,
     "metadata": {},
     "output_type": "execute_result"
    }
   ],
   "source": [
    "df.count()"
   ]
  },
  {
   "cell_type": "code",
   "execution_count": 9,
   "metadata": {},
   "outputs": [
    {
     "name": "stdout",
     "output_type": "stream",
     "text": [
      "+-----------+----------+-------+---------+--------------+-----------+----------+---------+-------------+--------------+------------------+---------------------+-----------------+----+---------+------------+\n",
      "|  cat_0_cln|product_id|  price|  user_id|category_level|day_of_week| cat_1_cln|brand_cln|session_count|activity_count|product_view_count|second_cat_view_count|        avg_price|hour|hour_bins|is_purchased|\n",
      "+-----------+----------+-------+---------+--------------+-----------+----------+---------+-------------+--------------+------------------+---------------------+-----------------+----+---------+------------+\n",
      "|electronics|   1004873| 380.28|463643038|             2|          1|smartphone|  samsung|            2|             1|                 1|                    1|493.3872257223995|  16|      2.0|           0|\n",
      "|electronics|   1004767| 246.52|480835273|             2|          6|smartphone|  samsung|            5|             1|                 3|                    3|493.3872257223995|  12|      2.0|           1|\n",
      "|electronics|   1801623| 389.92|486159710|             3|          2|     video|       lg|           10|             1|                 4|                    7|493.3872257223995|  17|      2.0|           0|\n",
      "|electronics|   1005124|1671.34|491768506|             2|          1|smartphone|    apple|            9|             1|                 9|                   18|493.3872257223995|  14|      2.0|           0|\n",
      "|electronics|   1004856| 131.64|495683877|             2|          4|smartphone|  samsung|            3|             1|                 3|                    3|493.3872257223995|  11|      1.0|           0|\n",
      "+-----------+----------+-------+---------+--------------+-----------+----------+---------+-------------+--------------+------------------+---------------------+-----------------+----+---------+------------+\n",
      "only showing top 5 rows\n",
      "\n"
     ]
    }
   ],
   "source": [
    "df.show(5)"
   ]
  },
  {
   "cell_type": "markdown",
   "metadata": {},
   "source": [
    "## Task 3: Model Selection\n",
    "3 models for classification:\t\n",
    "- Logistic Regression\n",
    "- Decision Tree\n",
    "- Random Forest"
   ]
  },
  {
   "cell_type": "markdown",
   "metadata": {},
   "source": [
    "### Model 3: Random Forest"
   ]
  },
  {
   "cell_type": "code",
   "execution_count": 10,
   "metadata": {},
   "outputs": [],
   "source": [
    "# Additional steps for Decision Trees, if any\n"
   ]
  },
  {
   "cell_type": "code",
   "execution_count": null,
   "metadata": {},
   "outputs": [],
   "source": []
  },
  {
   "cell_type": "markdown",
   "metadata": {},
   "source": [
    "#### Feature Transformation (Code will be same; check for the columns)"
   ]
  },
  {
   "cell_type": "code",
   "execution_count": 11,
   "metadata": {},
   "outputs": [
    {
     "data": {
      "text/plain": [
       "['cat_0_cln',\n",
       " 'price',\n",
       " 'category_level',\n",
       " 'day_of_week',\n",
       " 'cat_1_cln',\n",
       " 'brand_cln',\n",
       " 'session_count',\n",
       " 'activity_count',\n",
       " 'product_view_count',\n",
       " 'second_cat_view_count',\n",
       " 'avg_price',\n",
       " 'hour_bins',\n",
       " 'is_purchased']"
      ]
     },
     "execution_count": 11,
     "metadata": {},
     "output_type": "execute_result"
    }
   ],
   "source": [
    "# Check if only the required columns are present to build the model\n",
    "# If not, drop the redundant columns\n",
    "df = df.drop('product_id', 'user_id', 'hour')\n",
    "df.columns"
   ]
  },
  {
   "cell_type": "code",
   "execution_count": 12,
   "metadata": {},
   "outputs": [],
   "source": [
    "# Categorising the attributes into its type - Continuous and Categorical\n",
    "# Categorising the attributes into its type - Continuous and Categorical\n",
    "numeric_cols = ['price', 'session_count', 'activity_count',\n",
    "                'product_view_count', 'second_cat_view_count',\n",
    "                'avg_price'\n",
    "               ]\n",
    "\n",
    "# List of categorical string columns\n",
    "categorical_str_cols = ['cat_0_cln', 'cat_1_cln', 'brand_cln']\n",
    "\n",
    "# list of categorical numeric columns\n",
    "categorical_num_cols = ['category_level', 'day_of_week', 'hour_bins']"
   ]
  },
  {
   "cell_type": "code",
   "execution_count": 13,
   "metadata": {},
   "outputs": [
    {
     "name": "stdout",
     "output_type": "stream",
     "text": [
      "number of features to be given to the moddel =  12\n"
     ]
    }
   ],
   "source": [
    "# Feature transformation for categorical features\n",
    "#\n",
    "stages = []\n",
    "# Creating a pipeline for Feature Transformations\n",
    "# Starting with the categorical string cols\n",
    "for col in categorical_str_cols:\n",
    "    # Encode the strings in the col with an index\n",
    "    indexer = StringIndexer(inputCol=col,\n",
    "                            outputCol = col + '_ix',\n",
    "                           )\n",
    "    # OHE the indices in the col\n",
    "    encoder = OneHotEncoder(inputCol=indexer.getOutputCol(),\n",
    "                            outputCol=col + '_enc'\n",
    "                           )\n",
    "    stages +=[indexer, encoder]\n",
    "    \n",
    "\n",
    "# Processing thhe Categorical numeric cols\n",
    "for col in categorical_num_cols:\n",
    "    encoder = OneHotEncoder(inputCol=col,\n",
    "                            outputCol=col + '_enc'\n",
    "                           )\n",
    "    stages += [encoder]\n",
    "    \n",
    "# Vector assembler to combine all the features\n",
    "# Add a Vector Assembler to the pipeline stages\n",
    "vector_input_cols = [c + '_enc' for c in categorical_str_cols] + \\\n",
    "                    [c + '_enc' for c in categorical_num_cols] + \\\n",
    "                    numeric_cols\n",
    "print('number of features to be given to the moddel = ', len(vector_input_cols))\n"
   ]
  },
  {
   "cell_type": "code",
   "execution_count": 14,
   "metadata": {},
   "outputs": [
    {
     "name": "stdout",
     "output_type": "stream",
     "text": [
      "stages = \n"
     ]
    },
    {
     "data": {
      "text/plain": [
       "[StringIndexer_a73b1b57538f,\n",
       " OneHotEncoder_c6985e83c7dc,\n",
       " StringIndexer_5bcae3732191,\n",
       " OneHotEncoder_2f0f2c677412,\n",
       " StringIndexer_45194167ef6e,\n",
       " OneHotEncoder_4f2a0b713bb2,\n",
       " OneHotEncoder_c98bd21ee468,\n",
       " OneHotEncoder_5e01142aa090,\n",
       " OneHotEncoder_ca2cc17dd112,\n",
       " VectorAssembler_fcd1b8633868]"
      ]
     },
     "execution_count": 14,
     "metadata": {},
     "output_type": "execute_result"
    }
   ],
   "source": [
    "# Vector assembler to combine all the features\n",
    "vector = VectorAssembler(inputCols = vector_input_cols,\n",
    "                         outputCol = 'features'\n",
    "                        )\n",
    "stages.append(vector)\n",
    "\n",
    "print('stages = ')\n",
    "stages"
   ]
  },
  {
   "cell_type": "code",
   "execution_count": 15,
   "metadata": {},
   "outputs": [],
   "source": [
    "# Pipeline for the tasks\n",
    "pipeline = Pipeline(stages=stages)"
   ]
  },
  {
   "cell_type": "code",
   "execution_count": 16,
   "metadata": {},
   "outputs": [],
   "source": [
    "# Transforming the dataframe df\n",
    "if load_from_existing_features_dataset == True:\n",
    "    transformed_df = spark.read.parquet('features_df.parquet')\n",
    "else:\n",
    "    pipeline_model = pipeline.fit(df)\n",
    "    transformed_df = pipeline_model.transform(df)"
   ]
  },
  {
   "cell_type": "code",
   "execution_count": 17,
   "metadata": {},
   "outputs": [
    {
     "name": "stdout",
     "output_type": "stream",
     "text": [
      "root\n",
      " |-- cat_0_cln: string (nullable = true)\n",
      " |-- price: float (nullable = true)\n",
      " |-- category_level: integer (nullable = true)\n",
      " |-- day_of_week: integer (nullable = true)\n",
      " |-- cat_1_cln: string (nullable = true)\n",
      " |-- brand_cln: string (nullable = true)\n",
      " |-- session_count: long (nullable = true)\n",
      " |-- activity_count: long (nullable = true)\n",
      " |-- product_view_count: long (nullable = true)\n",
      " |-- second_cat_view_count: long (nullable = true)\n",
      " |-- avg_price: double (nullable = true)\n",
      " |-- hour_bins: double (nullable = true)\n",
      " |-- is_purchased: integer (nullable = true)\n",
      " |-- cat_0_cln_ix: double (nullable = true)\n",
      " |-- cat_0_cln_enc: vector (nullable = true)\n",
      " |-- cat_1_cln_ix: double (nullable = true)\n",
      " |-- cat_1_cln_enc: vector (nullable = true)\n",
      " |-- brand_cln_ix: double (nullable = true)\n",
      " |-- brand_cln_enc: vector (nullable = true)\n",
      " |-- category_level_enc: vector (nullable = true)\n",
      " |-- day_of_week_enc: vector (nullable = true)\n",
      " |-- hour_bins_enc: vector (nullable = true)\n",
      " |-- features: vector (nullable = true)\n",
      "\n"
     ]
    }
   ],
   "source": [
    "# Schema of the transformed df\n",
    "transformed_df.printSchema()"
   ]
  },
  {
   "cell_type": "code",
   "execution_count": 18,
   "metadata": {},
   "outputs": [
    {
     "name": "stdout",
     "output_type": "stream",
     "text": [
      "+-----------+-------+--------------+-----------+----------+---------+-------------+--------------+------------------+---------------------+-----------------+---------+------------+------------+--------------+------------+--------------+------------+---------------+------------------+---------------+-------------+--------------------+\n",
      "|  cat_0_cln|  price|category_level|day_of_week| cat_1_cln|brand_cln|session_count|activity_count|product_view_count|second_cat_view_count|        avg_price|hour_bins|is_purchased|cat_0_cln_ix| cat_0_cln_enc|cat_1_cln_ix| cat_1_cln_enc|brand_cln_ix|  brand_cln_enc|category_level_enc|day_of_week_enc|hour_bins_enc|            features|\n",
      "+-----------+-------+--------------+-----------+----------+---------+-------------+--------------+------------------+---------------------+-----------------+---------+------------+------------+--------------+------------+--------------+------------+---------------+------------------+---------------+-------------+--------------------+\n",
      "|electronics| 380.28|             2|          1|smartphone|  samsung|            2|             1|                 1|                    1|493.3872257223995|      2.0|           0|         0.0|(13,[0],[1.0])|         0.0|(39,[0],[1.0])|         0.0| (19,[0],[1.0])|     (4,[2],[1.0])|  (7,[1],[1.0])|(3,[2],[1.0])|(91,[0,13,52,73,7...|\n",
      "|electronics| 246.52|             2|          6|smartphone|  samsung|            5|             1|                 3|                    3|493.3872257223995|      2.0|           1|         0.0|(13,[0],[1.0])|         0.0|(39,[0],[1.0])|         0.0| (19,[0],[1.0])|     (4,[2],[1.0])|  (7,[6],[1.0])|(3,[2],[1.0])|(91,[0,13,52,73,8...|\n",
      "|electronics| 389.92|             3|          2|     video|       lg|           10|             1|                 4|                    7|493.3872257223995|      2.0|           0|         0.0|(13,[0],[1.0])|         4.0|(39,[4],[1.0])|         6.0| (19,[6],[1.0])|     (4,[3],[1.0])|  (7,[2],[1.0])|(3,[2],[1.0])|(91,[0,17,58,74,7...|\n",
      "|electronics|1671.34|             2|          1|smartphone|    apple|            9|             1|                 9|                   18|493.3872257223995|      2.0|           0|         0.0|(13,[0],[1.0])|         0.0|(39,[0],[1.0])|         1.0| (19,[1],[1.0])|     (4,[2],[1.0])|  (7,[1],[1.0])|(3,[2],[1.0])|(91,[0,13,53,73,7...|\n",
      "|electronics| 131.64|             2|          4|smartphone|  samsung|            3|             1|                 3|                    3|493.3872257223995|      1.0|           0|         0.0|(13,[0],[1.0])|         0.0|(39,[0],[1.0])|         0.0| (19,[0],[1.0])|     (4,[2],[1.0])|  (7,[4],[1.0])|(3,[1],[1.0])|(91,[0,13,52,73,7...|\n",
      "|electronics| 230.79|             2|          1|smartphone|   xiaomi|           16|             3|                19|                   90|493.3872257223995|      2.0|           0|         0.0|(13,[0],[1.0])|         0.0|(39,[0],[1.0])|         3.0| (19,[3],[1.0])|     (4,[2],[1.0])|  (7,[1],[1.0])|(3,[2],[1.0])|(91,[0,13,55,73,7...|\n",
      "|electronics| 230.79|             2|          1|smartphone|   xiaomi|           16|             3|                19|                   90|493.3872257223995|      2.0|           0|         0.0|(13,[0],[1.0])|         0.0|(39,[0],[1.0])|         3.0| (19,[3],[1.0])|     (4,[2],[1.0])|  (7,[1],[1.0])|(3,[2],[1.0])|(91,[0,13,55,73,7...|\n",
      "|electronics| 230.79|             2|          1|smartphone|   xiaomi|           16|             3|                19|                   90|493.3872257223995|      2.0|           0|         0.0|(13,[0],[1.0])|         0.0|(39,[0],[1.0])|         3.0| (19,[3],[1.0])|     (4,[2],[1.0])|  (7,[1],[1.0])|(3,[2],[1.0])|(91,[0,13,55,73,7...|\n",
      "|electronics|  98.28|             2|          7|smartphone|   xiaomi|           11|             2|                 5|                   21|493.3872257223995|      1.0|           0|         0.0|(13,[0],[1.0])|         0.0|(39,[0],[1.0])|         3.0| (19,[3],[1.0])|     (4,[2],[1.0])|      (7,[],[])|(3,[1],[1.0])|(91,[0,13,55,73,8...|\n",
      "|electronics| 102.94|             3|          3|     audio|   huawei|            6|             2|                12|                   14|493.3872257223995|      0.0|           1|         0.0|(13,[0],[1.0])|         3.0|(39,[3],[1.0])|         4.0| (19,[4],[1.0])|     (4,[3],[1.0])|  (7,[3],[1.0])|(3,[0],[1.0])|(91,[0,16,56,74,7...|\n",
      "|electronics| 102.94|             3|          3|     audio|   huawei|            6|             2|                12|                   14|493.3872257223995|      0.0|           1|         0.0|(13,[0],[1.0])|         3.0|(39,[3],[1.0])|         4.0| (19,[4],[1.0])|     (4,[3],[1.0])|  (7,[3],[1.0])|(3,[0],[1.0])|(91,[0,16,56,74,7...|\n",
      "|electronics| 197.15|             2|          6|smartphone|   xiaomi|            7|             2|                 7|                   35|493.3872257223995|      0.0|           1|         0.0|(13,[0],[1.0])|         0.0|(39,[0],[1.0])|         3.0| (19,[3],[1.0])|     (4,[2],[1.0])|  (7,[6],[1.0])|(3,[0],[1.0])|(91,[0,13,55,73,8...|\n",
      "|electronics| 197.15|             2|          6|smartphone|   xiaomi|            7|             2|                 7|                   35|493.3872257223995|      0.0|           1|         0.0|(13,[0],[1.0])|         0.0|(39,[0],[1.0])|         3.0| (19,[3],[1.0])|     (4,[2],[1.0])|  (7,[6],[1.0])|(3,[0],[1.0])|(91,[0,13,55,73,8...|\n",
      "|electronics| 756.65|             2|          5|smartphone|    apple|           17|             3|                 2|                   32|493.3872257223995|      1.0|           1|         0.0|(13,[0],[1.0])|         0.0|(39,[0],[1.0])|         1.0| (19,[1],[1.0])|     (4,[2],[1.0])|  (7,[5],[1.0])|(3,[1],[1.0])|(91,[0,13,53,73,8...|\n",
      "|electronics| 756.65|             2|          5|smartphone|    apple|           17|             3|                 2|                   32|493.3872257223995|      1.0|           1|         0.0|(13,[0],[1.0])|         0.0|(39,[0],[1.0])|         1.0| (19,[1],[1.0])|     (4,[2],[1.0])|  (7,[5],[1.0])|(3,[1],[1.0])|(91,[0,13,53,73,8...|\n",
      "|      Blank|  30.35|             0|          7|     Blank|  samsung|            7|             2|                10|                   20|226.9555916574436|      2.0|           1|         1.0|(13,[1],[1.0])|         1.0|(39,[1],[1.0])|         0.0| (19,[0],[1.0])|     (4,[0],[1.0])|      (7,[],[])|(3,[2],[1.0])|(91,[1,14,52,71,8...|\n",
      "|      Blank|  30.35|             0|          7|     Blank|  samsung|            7|             2|                10|                   20|226.9555916574436|      2.0|           1|         1.0|(13,[1],[1.0])|         1.0|(39,[1],[1.0])|         0.0| (19,[0],[1.0])|     (4,[0],[1.0])|      (7,[],[])|(3,[2],[1.0])|(91,[1,14,52,71,8...|\n",
      "|      Blank|  78.15|             0|          3|     Blank|    bosch|           14|             2|                 5|                  180|226.9555916574436|      3.0|           1|         1.0|(13,[1],[1.0])|         1.0|(39,[1],[1.0])|        10.0|(19,[10],[1.0])|     (4,[0],[1.0])|  (7,[3],[1.0])|    (3,[],[])|(91,[1,14,62,71,7...|\n",
      "|electronics| 804.37|             2|          7|smartphone|    apple|            8|             2|                 3|                   33|493.3872257223995|      1.0|           0|         0.0|(13,[0],[1.0])|         0.0|(39,[0],[1.0])|         1.0| (19,[1],[1.0])|     (4,[2],[1.0])|      (7,[],[])|(3,[1],[1.0])|(91,[0,13,53,73,8...|\n",
      "|electronics|   77.2|             2|          3|smartphone|   others|           17|             3|                 4|                   55|493.3872257223995|      0.0|           0|         0.0|(13,[0],[1.0])|         0.0|(39,[0],[1.0])|         2.0| (19,[2],[1.0])|     (4,[2],[1.0])|  (7,[3],[1.0])|(3,[0],[1.0])|(91,[0,13,54,73,7...|\n",
      "+-----------+-------+--------------+-----------+----------+---------+-------------+--------------+------------------+---------------------+-----------------+---------+------------+------------+--------------+------------+--------------+------------+---------------+------------------+---------------+-------------+--------------------+\n",
      "only showing top 20 rows\n",
      "\n"
     ]
    }
   ],
   "source": [
    "# Checking the elements of the transformed df - Top 20 rows\n",
    "transformed_df.show(20)"
   ]
  },
  {
   "cell_type": "code",
   "execution_count": 19,
   "metadata": {},
   "outputs": [],
   "source": [
    "# Storing the transformed df in S3 bucket to prevent repetition of steps again\n"
   ]
  },
  {
   "cell_type": "markdown",
   "metadata": {},
   "source": [
    "#### Train-test split"
   ]
  },
  {
   "cell_type": "code",
   "execution_count": 20,
   "metadata": {},
   "outputs": [],
   "source": [
    "## Renaming the target column as label as a workaround for crossValidator to run without error\n",
    "transformed_df = transformed_df.withColumnRenamed('is_purchased', 'label')\n",
    "\n",
    "# Splitting the data into train and test (Remember you are expected to compare the model later)\n",
    "train, test = transformed_df.randomSplit([0.8, 0.2], seed=12)"
   ]
  },
  {
   "cell_type": "code",
   "execution_count": 21,
   "metadata": {},
   "outputs": [
    {
     "name": "stdout",
     "output_type": "stream",
     "text": [
      "Number of rows in train data = 718925\n",
      "Number of rows in test data = 179516\n"
     ]
    }
   ],
   "source": [
    "# Number of rows in train and test data\n",
    "\n",
    "print(f'Number of rows in train data = {train.count()}')\n",
    "print(f'Number of rows in test data = {test.count()}')"
   ]
  },
  {
   "cell_type": "markdown",
   "metadata": {},
   "source": [
    "#### Model Fitting"
   ]
  },
  {
   "cell_type": "code",
   "execution_count": 25,
   "metadata": {},
   "outputs": [],
   "source": [
    "# Building the model with hyperparameter tuning\n",
    "# Create ParamGrid for Cross Validation\n",
    "\n",
    "forest = RandomForestClassifier()\n",
    "    \n",
    "grid = ParamGridBuilder()\\\n",
    "        .baseOn({forest.featuresCol: 'features'})\\\n",
    "        .baseOn({forest.labelCol: 'label'})\\\n",
    "        .baseOn({forest.seed: 12})\\\n",
    "        .addGrid(forest.maxDepth, [3, 5, 6])\\\n",
    "        .addGrid(forest.minInstancesPerNode, [5, 20, 30])\\\n",
    "        .addGrid(forest.maxBins, [5, 20, 30])\\\n",
    "        .addGrid(forest.numTrees, [5, 20, 30])\\\n",
    "        .addGrid(forest.impurity, ['gini', 'entropy'])\\\n",
    "        .addGrid(forest.featureSubsetStrategy, ['sqrt', 'log2'])\\\n",
    "        .build()\n",
    "evaluator = BinaryClassificationEvaluator(labelCol='label',\n",
    "                                          metricName='areaUnderPR')\n"
   ]
  },
  {
   "cell_type": "code",
   "execution_count": 26,
   "metadata": {},
   "outputs": [],
   "source": [
    "# Run cross-validation steps\n",
    "\n",
    "cv = CrossValidator(estimator=forest, \n",
    "                    estimatorParamMaps=grid, \n",
    "                    evaluator=evaluator, \n",
    "                    parallelism=2,\n",
    "                    numFolds = 3,\n",
    "                    seed = 12\n",
    "                   )"
   ]
  },
  {
   "cell_type": "code",
   "execution_count": 27,
   "metadata": {},
   "outputs": [],
   "source": [
    "# Fitting the models on transformed df\n",
    "cvModel = cv.fit(train)"
   ]
  },
  {
   "cell_type": "code",
   "execution_count": 28,
   "metadata": {},
   "outputs": [
    {
     "data": {
      "text/plain": [
       "RandomForestClassificationModel (uid=RandomForestClassifier_1c65d13eaa9b) with 30 trees"
      ]
     },
     "execution_count": 28,
     "metadata": {},
     "output_type": "execute_result"
    }
   ],
   "source": [
    "# Best model from the results of cross-validation\n",
    "best_forest = cvModel.bestModel\n",
    "best_forest"
   ]
  },
  {
   "cell_type": "markdown",
   "metadata": {},
   "source": [
    "#### Model Analysis"
   ]
  },
  {
   "cell_type": "markdown",
   "metadata": {},
   "source": [
    "Required Steps:\n",
    "- Fit on test data\n",
    "- Performance analysis\n",
    "    - Appropriate Metric with reasoning"
   ]
  },
  {
   "cell_type": "code",
   "execution_count": 29,
   "metadata": {},
   "outputs": [],
   "source": [
    "# Generating predictions for the test data\n",
    "\n",
    "predictions = best_forest.transform(test)"
   ]
  },
  {
   "cell_type": "code",
   "execution_count": 30,
   "metadata": {},
   "outputs": [
    {
     "name": "stdout",
     "output_type": "stream",
     "text": [
      "+---------+-----+--------------+-----------+---------+---------+-------------+--------------+------------------+---------------------+-----------------+---------+-----+------------+--------------+------------+--------------+------------+--------------+------------------+---------------+-------------+--------------------+--------------------+--------------------+----------+\n",
      "|cat_0_cln|price|category_level|day_of_week|cat_1_cln|brand_cln|session_count|activity_count|product_view_count|second_cat_view_count|        avg_price|hour_bins|label|cat_0_cln_ix| cat_0_cln_enc|cat_1_cln_ix| cat_1_cln_enc|brand_cln_ix| brand_cln_enc|category_level_enc|day_of_week_enc|hour_bins_enc|            features|       rawPrediction|         probability|prediction|\n",
      "+---------+-----+--------------+-----------+---------+---------+-------------+--------------+------------------+---------------------+-----------------+---------+-----+------------+--------------+------------+--------------+------------+--------------+------------------+---------------+-------------+--------------------+--------------------+--------------------+----------+\n",
      "|    Blank|  0.0|             0|          2|    Blank|   others|            4|             1|                 7|                   58|226.9555916574436|      1.0|    1|         1.0|(13,[1],[1.0])|         1.0|(39,[1],[1.0])|         2.0|(19,[2],[1.0])|     (4,[0],[1.0])|  (7,[2],[1.0])|(3,[1],[1.0])|(91,[1,14,54,71,7...|[13.8665712098031...|[0.46221904032677...|       1.0|\n",
      "|    Blank|  0.0|             0|          2|    Blank|   others|           12|             3|                 2|                    3|226.9555916574436|      1.0|    0|         1.0|(13,[1],[1.0])|         1.0|(39,[1],[1.0])|         2.0|(19,[2],[1.0])|     (4,[0],[1.0])|  (7,[2],[1.0])|(3,[1],[1.0])|(91,[1,14,54,71,7...|[15.9726873480529...|[0.53242291160176...|       0.0|\n",
      "+---------+-----+--------------+-----------+---------+---------+-------------+--------------+------------------+---------------------+-----------------+---------+-----+------------+--------------+------------+--------------+------------+--------------+------------------+---------------+-------------+--------------------+--------------------+--------------------+----------+\n",
      "only showing top 2 rows\n",
      "\n"
     ]
    }
   ],
   "source": [
    "predictions.show(2)"
   ]
  },
  {
   "cell_type": "code",
   "execution_count": 31,
   "metadata": {},
   "outputs": [
    {
     "name": "stdout",
     "output_type": "stream",
     "text": [
      "+----------+-----+\n",
      "|prediction|label|\n",
      "+----------+-----+\n",
      "|       1.0|  1.0|\n",
      "|       0.0|  0.0|\n",
      "|       0.0|  1.0|\n",
      "+----------+-----+\n",
      "only showing top 3 rows\n",
      "\n"
     ]
    }
   ],
   "source": [
    "preds_and_labels=predictions.select(['prediction','label'])\n",
    "preds_and_labels = preds_and_labels.withColumn('label', preds_and_labels['label'].cast(FloatType()))\n",
    "preds_and_labels.show(3)"
   ]
  },
  {
   "cell_type": "code",
   "execution_count": 32,
   "metadata": {},
   "outputs": [
    {
     "name": "stdout",
     "output_type": "stream",
     "text": [
      "[[ 15569.  54947.]\n",
      " [  8739. 100261.]]\n"
     ]
    }
   ],
   "source": [
    "metrics = MulticlassMetrics(preds_and_labels.rdd.map(tuple))\n",
    "\n",
    "print(metrics.confusionMatrix().toArray())"
   ]
  },
  {
   "cell_type": "code",
   "execution_count": 33,
   "metadata": {},
   "outputs": [
    {
     "name": "stdout",
     "output_type": "stream",
     "text": [
      "Accuracy for label 1 =  0.6452349651284565\n",
      "Precision for label 1 = 0.6459783000876244\n",
      "Recall for label 1 = 0.9198256880733945\n",
      "F1 score =  0.7589550657058075\n"
     ]
    }
   ],
   "source": [
    "# accuracy for label 1\n",
    "print('Accuracy for label 1 = ', metrics.accuracy)\n",
    "#precision for label 1\n",
    "print('Precision for label 1 =', metrics.precision(1))\n",
    "\n",
    "#recall for label 1\n",
    "print('Recall for label 1 =', metrics.recall(1))\n",
    "\n",
    "#F1 score for label 1\n",
    "print('F1 score = ', metrics.fMeasure(1.0, beta = 1.0))\n"
   ]
  },
  {
   "cell_type": "code",
   "execution_count": 34,
   "metadata": {},
   "outputs": [
    {
     "name": "stdout",
     "output_type": "stream",
     "text": [
      "Area Under Curve =  0.5703062299349331\n"
     ]
    }
   ],
   "source": [
    "binary_metrics = BinaryClassificationMetrics(preds_and_labels.rdd.map(tuple))\n",
    "\n",
    "print('Area Under Curve = ', binary_metrics.areaUnderROC)\n"
   ]
  },
  {
   "cell_type": "markdown",
   "metadata": {},
   "source": [
    "#### Summary of the best Random Forest model"
   ]
  },
  {
   "cell_type": "code",
   "execution_count": 35,
   "metadata": {},
   "outputs": [
    {
     "data": {
      "text/plain": [
       "SparseVector(91, {0: 0.0482, 1: 0.0232, 2: 0.0016, 3: 0.0023, 5: 0.0001, 6: 0.0001, 7: 0.0001, 8: 0.0001, 9: 0.0, 10: 0.0001, 13: 0.048, 14: 0.0057, 15: 0.0029, 16: 0.0, 17: 0.001, 18: 0.0002, 19: 0.0006, 20: 0.0008, 21: 0.0007, 22: 0.0001, 23: 0.0001, 24: 0.0002, 25: 0.0006, 26: 0.0001, 27: 0.0001, 28: 0.0, 30: 0.0001, 33: 0.0002, 34: 0.0007, 35: 0.0001, 37: 0.0002, 41: 0.0001, 42: 0.0, 43: 0.0, 52: 0.0109, 53: 0.0074, 54: 0.0348, 55: 0.0136, 56: 0.0002, 57: 0.0002, 58: 0.0002, 59: 0.0001, 60: 0.0001, 61: 0.0, 62: 0.0, 64: 0.0002, 65: 0.0001, 66: 0.0001, 67: 0.0, 68: 0.0004, 69: 0.0001, 71: 0.0046, 73: 0.0202, 74: 0.0082, 76: 0.0002, 77: 0.0001, 78: 0.0003, 79: 0.0004, 80: 0.0001, 81: 0.0001, 82: 0.0002, 83: 0.0036, 84: 0.0076, 85: 0.0191, 86: 0.2137, 87: 0.0353, 88: 0.4172, 89: 0.02, 90: 0.0423})"
      ]
     },
     "execution_count": 35,
     "metadata": {},
     "output_type": "execute_result"
    }
   ],
   "source": [
    "best_forest.featureImportances"
   ]
  },
  {
   "cell_type": "code",
   "execution_count": 36,
   "metadata": {},
   "outputs": [
    {
     "data": {
      "text/plain": [
       "'RandomForestClassificationModel (uid=RandomForestClassifier_1c65d13eaa9b) with 30 trees\\n  Tree 0 (weight 1.0):\\n    If (feature 0 in {0.0})\\n     If (feature 87 <= 1.5)\\n      If (feature 88 <= 7.5)\\n       If (feature 88 <= 4.5)\\n        If (feature 86 <= 2.5)\\n         Predict: 0.0\\n        Else (feature 86 > 2.5)\\n         If (feature 88 <= 1.5)\\n          Predict: 1.0\\n         Else (feature 88 > 1.5)\\n          Predict: 0.0\\n       Else (feature 88 > 4.5)\\n        If (feature 14 in {1.0})\\n         Predict: 0.0\\n        Else (feature 14 not in {1.0})\\n         If (feature 52 in {1.0})\\n          Predict: 1.0\\n         Else (feature 52 not in {1.0})\\n          Predict: 0.0\\n      Else (feature 88 > 7.5)\\n       If (feature 84 in {1.0})\\n        Predict: 1.0\\n       Else (feature 84 not in {1.0})\\n        If (feature 86 <= 8.5)\\n         Predict: 1.0\\n        Else (feature 86 > 8.5)\\n         If (feature 56 in {1.0})\\n          Predict: 0.0\\n         Else (feature 56 not in {1.0})\\n          Predict: 1.0\\n     Else (feature 87 > 1.5)\\n      If (feature 88 <= 6.5)\\n       If (feature 71 in {1.0})\\n        If (feature 56 in {1.0})\\n         If (feature 89 <= 11.5)\\n          Predict: 1.0\\n         Else (feature 89 > 11.5)\\n          Predict: 0.0\\n        Else (feature 56 not in {1.0})\\n         Predict: 0.0\\n       Else (feature 71 not in {1.0})\\n        If (feature 89 <= 16.5)\\n         If (feature 55 in {1.0})\\n          Predict: 0.0\\n         Else (feature 55 not in {1.0})\\n          Predict: 1.0\\n        Else (feature 89 > 16.5)\\n         Predict: 0.0\\n      Else (feature 88 > 6.5)\\n       If (feature 81 in {1.0})\\n        Predict: 1.0\\n       Else (feature 81 not in {1.0})\\n        If (feature 87 <= 18.5)\\n         Predict: 1.0\\n        Else (feature 87 > 18.5)\\n         If (feature 15 in {1.0})\\n          Predict: 1.0\\n         Else (feature 15 not in {1.0})\\n          Predict: 0.0\\n    Else (feature 0 not in {0.0})\\n     If (feature 83 in {1.0})\\n      If (feature 73 in {0.0})\\n       Predict: 1.0\\n      Else (feature 73 not in {0.0})\\n       If (feature 86 <= 2.5)\\n        Predict: 0.0\\n       Else (feature 86 > 2.5)\\n        If (feature 88 <= 8.5)\\n         If (feature 60 in {1.0})\\n          Predict: 0.0\\n         Else (feature 60 not in {1.0})\\n          Predict: 1.0\\n        Else (feature 88 > 8.5)\\n         Predict: 1.0\\n     Else (feature 83 not in {1.0})\\n      If (feature 78 in {1.0})\\n       If (feature 55 in {1.0})\\n        Predict: 1.0\\n       Else (feature 55 not in {1.0})\\n        If (feature 88 <= 6.5)\\n         If (feature 73 in {0.0})\\n          Predict: 0.0\\n         Else (feature 73 not in {0.0})\\n          Predict: 1.0\\n        Else (feature 88 > 6.5)\\n         Predict: 1.0\\n      Else (feature 78 not in {1.0})\\n       If (feature 89 <= 9.5)\\n        If (feature 25 in {1.0})\\n         If (feature 89 <= 6.5)\\n          Predict: 0.0\\n         Else (feature 89 > 6.5)\\n          Predict: 1.0\\n        Else (feature 25 not in {1.0})\\n         Predict: 1.0\\n       Else (feature 89 > 9.5)\\n        If (feature 86 <= 10.5)\\n         Predict: 1.0\\n        Else (feature 86 > 10.5)\\n         If (feature 87 <= 1.5)\\n          Predict: 0.0\\n         Else (feature 87 > 1.5)\\n          Predict: 1.0\\n  Tree 1 (weight 1.0):\\n    If (feature 52 in {1.0})\\n     If (feature 73 in {0.0})\\n      If (feature 85 <= 27.575000762939453)\\n       If (feature 71 in {0.0})\\n        If (feature 89 <= 8.5)\\n         Predict: 0.0\\n        Else (feature 89 > 8.5)\\n         If (feature 87 <= 6.5)\\n          Predict: 1.0\\n         Else (feature 87 > 6.5)\\n          Predict: 0.0\\n       Else (feature 71 not in {0.0})\\n        Predict: 0.0\\n      Else (feature 85 > 27.575000762939453)\\n       If (feature 87 <= 1.5)\\n        If (feature 89 <= 6.5)\\n         If (feature 88 <= 3.5)\\n          Predict: 0.0\\n         Else (feature 88 > 3.5)\\n          Predict: 1.0\\n        Else (feature 89 > 6.5)\\n         Predict: 1.0\\n       Else (feature 87 > 1.5)\\n        If (feature 3 in {1.0})\\n         If (feature 86 <= 28.5)\\n          Predict: 1.0\\n         Else (feature 86 > 28.5)\\n          Predict: 0.0\\n        Else (feature 3 not in {1.0})\\n         Predict: 1.0\\n     Else (feature 73 not in {0.0})\\n      If (feature 85 <= 180.93500518798828)\\n       If (feature 86 <= 2.5)\\n        Predict: 0.0\\n       Else (feature 86 > 2.5)\\n        Predict: 1.0\\n      Else (feature 85 > 180.93500518798828)\\n       If (feature 86 <= 2.5)\\n        Predict: 0.0\\n       Else (feature 86 > 2.5)\\n        Predict: 1.0\\n    Else (feature 52 not in {1.0})\\n     If (feature 53 in {1.0})\\n      If (feature 86 <= 2.5)\\n       If (feature 80 in {1.0})\\n        If (feature 82 in {1.0})\\n         If (feature 16 in {1.0})\\n          Predict: 1.0\\n         Else (feature 16 not in {1.0})\\n          Predict: 0.0\\n        Else (feature 82 not in {1.0})\\n         Predict: 0.0\\n       Else (feature 80 not in {1.0})\\n        Predict: 0.0\\n      Else (feature 86 > 2.5)\\n       If (feature 1 in {1.0})\\n        Predict: 0.0\\n       Else (feature 1 not in {1.0})\\n        Predict: 1.0\\n     Else (feature 53 not in {1.0})\\n      If (feature 88 <= 6.5)\\n       If (feature 1 in {1.0})\\n        Predict: 0.0\\n       Else (feature 1 not in {1.0})\\n        If (feature 54 in {1.0})\\n         If (feature 43 in {1.0})\\n          Predict: 1.0\\n         Else (feature 43 not in {1.0})\\n          Predict: 0.0\\n        Else (feature 54 not in {1.0})\\n         If (feature 88 <= 3.5)\\n          Predict: 0.0\\n         Else (feature 88 > 3.5)\\n          Predict: 1.0\\n      Else (feature 88 > 6.5)\\n       If (feature 87 <= 1.5)\\n        If (feature 86 <= 8.5)\\n         Predict: 1.0\\n        Else (feature 86 > 8.5)\\n         If (feature 37 in {1.0})\\n          Predict: 1.0\\n         Else (feature 37 not in {1.0})\\n          Predict: 0.0\\n       Else (feature 87 > 1.5)\\n        Predict: 1.0\\n  Tree 2 (weight 1.0):\\n    If (feature 88 <= 6.5)\\n     If (feature 87 <= 1.5)\\n      If (feature 71 in {1.0})\\n       Predict: 0.0\\n      Else (feature 71 not in {1.0})\\n       If (feature 73 in {0.0})\\n        Predict: 0.0\\n       Else (feature 73 not in {0.0})\\n        If (feature 52 in {1.0})\\n         Predict: 1.0\\n        Else (feature 52 not in {1.0})\\n         If (feature 90 <= 438.8371815476205)\\n          Predict: 0.0\\n         Else (feature 90 > 438.8371815476205)\\n          Predict: 1.0\\n     Else (feature 87 > 1.5)\\n      If (feature 90 <= 438.8371815476205)\\n       If (feature 71 in {1.0})\\n        If (feature 84 in {1.0})\\n         If (feature 88 <= 3.5)\\n          Predict: 0.0\\n         Else (feature 88 > 3.5)\\n          Predict: 1.0\\n        Else (feature 84 not in {1.0})\\n         Predict: 0.0\\n       Else (feature 71 not in {1.0})\\n        If (feature 22 in {1.0})\\n         Predict: 0.0\\n        Else (feature 22 not in {1.0})\\n         If (feature 89 <= 13.5)\\n          Predict: 1.0\\n         Else (feature 89 > 13.5)\\n          Predict: 0.0\\n      Else (feature 90 > 438.8371815476205)\\n       If (feature 55 in {1.0})\\n        If (feature 73 in {0.0})\\n         Predict: 0.0\\n        Else (feature 73 not in {0.0})\\n         Predict: 1.0\\n       Else (feature 55 not in {1.0})\\n        If (feature 86 <= 4.5)\\n         Predict: 0.0\\n        Else (feature 86 > 4.5)\\n         Predict: 1.0\\n    Else (feature 88 > 6.5)\\n     If (feature 88 <= 17.5)\\n      If (feature 90 <= 438.8371815476205)\\n       If (feature 22 in {1.0})\\n        If (feature 83 in {1.0})\\n         Predict: 1.0\\n        Else (feature 83 not in {1.0})\\n         If (feature 88 <= 16.5)\\n          Predict: 1.0\\n         Else (feature 88 > 16.5)\\n          Predict: 0.0\\n       Else (feature 22 not in {1.0})\\n        Predict: 1.0\\n      Else (feature 90 > 438.8371815476205)\\n       Predict: 1.0\\n     Else (feature 88 > 17.5)\\n      Predict: 1.0\\n  Tree 3 (weight 1.0):\\n    If (feature 54 in {1.0})\\n     If (feature 22 in {1.0})\\n      If (feature 89 <= 6.5)\\n       Predict: 0.0\\n      Else (feature 89 > 6.5)\\n       If (feature 84 in {1.0})\\n        If (feature 88 <= 5.5)\\n         Predict: 0.0\\n        Else (feature 88 > 5.5)\\n         Predict: 1.0\\n       Else (feature 84 not in {1.0})\\n        If (feature 82 in {1.0})\\n         If (feature 86 <= 9.5)\\n          Predict: 1.0\\n         Else (feature 86 > 9.5)\\n          Predict: 0.0\\n        Else (feature 82 not in {1.0})\\n         Predict: 1.0\\n     Else (feature 22 not in {1.0})\\n      If (feature 90 <= 238.56166747805653)\\n       If (feature 89 <= 6.5)\\n        Predict: 0.0\\n       Else (feature 89 > 6.5)\\n        If (feature 84 in {1.0})\\n         Predict: 0.0\\n        Else (feature 84 not in {1.0})\\n         If (feature 33 in {1.0})\\n          Predict: 0.0\\n         Else (feature 33 not in {1.0})\\n          Predict: 1.0\\n      Else (feature 90 > 238.56166747805653)\\n       If (feature 88 <= 7.5)\\n        If (feature 86 <= 2.5)\\n         Predict: 0.0\\n        Else (feature 86 > 2.5)\\n         If (feature 86 <= 15.5)\\n          Predict: 1.0\\n         Else (feature 86 > 15.5)\\n          Predict: 0.0\\n       Else (feature 88 > 7.5)\\n        If (feature 82 in {1.0})\\n         If (feature 87 <= 17.5)\\n          Predict: 1.0\\n         Else (feature 87 > 17.5)\\n          Predict: 0.0\\n        Else (feature 82 not in {1.0})\\n         Predict: 1.0\\n    Else (feature 54 not in {1.0})\\n     If (feature 13 in {0.0})\\n      If (feature 15 in {1.0})\\n       If (feature 86 <= 2.5)\\n        Predict: 0.0\\n       Else (feature 86 > 2.5)\\n        If (feature 79 in {1.0})\\n         If (feature 86 <= 3.5)\\n          Predict: 0.0\\n         Else (feature 86 > 3.5)\\n          Predict: 1.0\\n        Else (feature 79 not in {1.0})\\n         If (feature 88 <= 7.5)\\n          Predict: 0.0\\n         Else (feature 88 > 7.5)\\n          Predict: 1.0\\n      Else (feature 15 not in {1.0})\\n       If (feature 0 in {0.0})\\n        If (feature 2 in {1.0})\\n         Predict: 1.0\\n        Else (feature 2 not in {1.0})\\n         If (feature 89 <= 9.5)\\n          Predict: 0.0\\n         Else (feature 89 > 9.5)\\n          Predict: 1.0\\n       Else (feature 0 not in {0.0})\\n        Predict: 1.0\\n     Else (feature 13 not in {0.0})\\n      If (feature 88 <= 5.5)\\n       If (feature 89 <= 31.5)\\n        If (feature 52 in {0.0})\\n         Predict: 1.0\\n        Else (feature 52 not in {0.0})\\n         If (feature 86 <= 2.5)\\n          Predict: 0.0\\n         Else (feature 86 > 2.5)\\n          Predict: 1.0\\n       Else (feature 89 > 31.5)\\n        If (feature 55 in {1.0})\\n         Predict: 0.0\\n        Else (feature 55 not in {1.0})\\n         Predict: 1.0\\n      Else (feature 88 > 5.5)\\n       Predict: 1.0\\n  Tree 4 (weight 1.0):\\n    If (feature 0 in {0.0})\\n     If (feature 86 <= 2.5)\\n      If (feature 55 in {1.0})\\n       If (feature 88 <= 5.5)\\n        Predict: 0.0\\n       Else (feature 88 > 5.5)\\n        If (feature 2 in {1.0})\\n         If (feature 28 in {1.0})\\n          Predict: 0.0\\n         Else (feature 28 not in {1.0})\\n          Predict: 1.0\\n        Else (feature 2 not in {1.0})\\n         Predict: 1.0\\n      Else (feature 55 not in {1.0})\\n       If (feature 88 <= 1.5)\\n        Predict: 0.0\\n       Else (feature 88 > 1.5)\\n        If (feature 85 <= 69.48500061035156)\\n         If (feature 88 <= 12.5)\\n          Predict: 0.0\\n         Else (feature 88 > 12.5)\\n          Predict: 1.0\\n        Else (feature 85 > 69.48500061035156)\\n         Predict: 0.0\\n     Else (feature 86 > 2.5)\\n      If (feature 78 in {1.0})\\n       If (feature 88 <= 7.5)\\n        If (feature 88 <= 4.5)\\n         If (feature 64 in {1.0})\\n          Predict: 1.0\\n         Else (feature 64 not in {1.0})\\n          Predict: 0.0\\n        Else (feature 88 > 4.5)\\n         If (feature 89 <= 26.5)\\n          Predict: 1.0\\n         Else (feature 89 > 26.5)\\n          Predict: 0.0\\n       Else (feature 88 > 7.5)\\n        Predict: 1.0\\n      Else (feature 78 not in {1.0})\\n       If (feature 84 in {1.0})\\n        If (feature 88 <= 8.5)\\n         If (feature 88 <= 4.5)\\n          Predict: 0.0\\n         Else (feature 88 > 4.5)\\n          Predict: 1.0\\n        Else (feature 88 > 8.5)\\n         Predict: 1.0\\n       Else (feature 84 not in {1.0})\\n        If (feature 83 in {0.0})\\n         If (feature 88 <= 6.5)\\n          Predict: 0.0\\n         Else (feature 88 > 6.5)\\n          Predict: 1.0\\n        Else (feature 83 not in {0.0})\\n         Predict: 1.0\\n    Else (feature 0 not in {0.0})\\n     If (feature 84 in {1.0})\\n      If (feature 17 in {1.0})\\n       If (feature 88 <= 8.5)\\n        Predict: 0.0\\n       Else (feature 88 > 8.5)\\n        Predict: 1.0\\n      Else (feature 17 not in {1.0})\\n       If (feature 25 in {1.0})\\n        Predict: 0.0\\n       Else (feature 25 not in {1.0})\\n        If (feature 88 <= 4.5)\\n         If (feature 86 <= 2.5)\\n          Predict: 0.0\\n         Else (feature 86 > 2.5)\\n          Predict: 1.0\\n        Else (feature 88 > 4.5)\\n         Predict: 1.0\\n     Else (feature 84 not in {1.0})\\n      If (feature 74 in {1.0})\\n       If (feature 54 in {1.0})\\n        If (feature 85 <= 130.4749984741211)\\n         If (feature 88 <= 7.5)\\n          Predict: 0.0\\n         Else (feature 88 > 7.5)\\n          Predict: 1.0\\n        Else (feature 85 > 130.4749984741211)\\n         Predict: 1.0\\n       Else (feature 54 not in {1.0})\\n        If (feature 17 in {1.0})\\n         If (feature 85 <= 782.239990234375)\\n          Predict: 1.0\\n         Else (feature 85 > 782.239990234375)\\n          Predict: 0.0\\n        Else (feature 17 not in {1.0})\\n         Predict: 1.0\\n      Else (feature 74 not in {1.0})\\n       If (feature 13 in {0.0})\\n        If (feature 87 <= 1.5)\\n         If (feature 64 in {1.0})\\n          Predict: 0.0\\n         Else (feature 64 not in {1.0})\\n          Predict: 1.0\\n        Else (feature 87 > 1.5)\\n         If (feature 73 in {0.0})\\n          Predict: 0.0\\n         Else (feature 73 not in {0.0})\\n          Predict: 1.0\\n       Else (feature 13 not in {0.0})\\n        Predict: 1.0\\n  Tree 5 (weight 1.0):\\n    If (feature 86 <= 2.5)\\n     If (feature 85 <= 27.575000762939453)\\n      Predict: 0.0\\n     Else (feature 85 > 27.575000762939453)\\n      If (feature 83 in {1.0})\\n       Predict: 0.0\\n      Else (feature 83 not in {1.0})\\n       If (feature 56 in {1.0})\\n        If (feature 16 in {1.0})\\n         Predict: 0.0\\n        Else (feature 16 not in {1.0})\\n         If (feature 88 <= 2.5)\\n          Predict: 0.0\\n         Else (feature 88 > 2.5)\\n          Predict: 1.0\\n       Else (feature 56 not in {1.0})\\n        Predict: 0.0\\n    Else (feature 86 > 2.5)\\n     If (feature 15 in {1.0})\\n      If (feature 79 in {1.0})\\n       If (feature 62 in {1.0})\\n        If (feature 89 <= 19.5)\\n         If (feature 86 <= 4.5)\\n          Predict: 1.0\\n         Else (feature 86 > 4.5)\\n          Predict: 0.0\\n        Else (feature 89 > 19.5)\\n         Predict: 1.0\\n       Else (feature 62 not in {1.0})\\n        Predict: 1.0\\n      Else (feature 79 not in {1.0})\\n       If (feature 87 <= 1.5)\\n        If (feature 55 in {1.0})\\n         Predict: 1.0\\n        Else (feature 55 not in {1.0})\\n         Predict: 0.0\\n       Else (feature 87 > 1.5)\\n        Predict: 1.0\\n     Else (feature 15 not in {1.0})\\n      If (feature 14 in {1.0})\\n       If (feature 77 in {1.0})\\n        If (feature 53 in {1.0})\\n         If (feature 84 in {0.0})\\n          Predict: 0.0\\n         Else (feature 84 not in {0.0})\\n          Predict: 1.0\\n        Else (feature 53 not in {1.0})\\n         If (feature 85 <= 27.575000762939453)\\n          Predict: 0.0\\n         Else (feature 85 > 27.575000762939453)\\n          Predict: 1.0\\n       Else (feature 77 not in {1.0})\\n        If (feature 55 in {1.0})\\n         If (feature 85 <= 27.575000762939453)\\n          Predict: 0.0\\n         Else (feature 85 > 27.575000762939453)\\n          Predict: 1.0\\n        Else (feature 55 not in {1.0})\\n         If (feature 89 <= 19.5)\\n          Predict: 0.0\\n         Else (feature 89 > 19.5)\\n          Predict: 1.0\\n      Else (feature 14 not in {1.0})\\n       If (feature 21 in {1.0})\\n        If (feature 86 <= 14.5)\\n         Predict: 1.0\\n        Else (feature 86 > 14.5)\\n         Predict: 0.0\\n       Else (feature 21 not in {1.0})\\n        If (feature 54 in {1.0})\\n         If (feature 85 <= 27.575000762939453)\\n          Predict: 0.0\\n         Else (feature 85 > 27.575000762939453)\\n          Predict: 1.0\\n        Else (feature 54 not in {1.0})\\n         Predict: 1.0\\n  Tree 6 (weight 1.0):\\n    If (feature 84 in {1.0})\\n     If (feature 79 in {1.0})\\n      If (feature 73 in {0.0})\\n       If (feature 53 in {1.0})\\n        If (feature 14 in {1.0})\\n         Predict: 0.0\\n        Else (feature 14 not in {1.0})\\n         If (feature 86 <= 28.5)\\n          Predict: 1.0\\n         Else (feature 86 > 28.5)\\n          Predict: 0.0\\n       Else (feature 53 not in {1.0})\\n        If (feature 87 <= 1.5)\\n         Predict: 0.0\\n        Else (feature 87 > 1.5)\\n         Predict: 1.0\\n      Else (feature 73 not in {0.0})\\n       If (feature 0 in {0.0})\\n        If (feature 90 <= 284.261404108569)\\n         Predict: 0.0\\n        Else (feature 90 > 284.261404108569)\\n         If (feature 87 <= 1.5)\\n          Predict: 0.0\\n         Else (feature 87 > 1.5)\\n          Predict: 1.0\\n       Else (feature 0 not in {0.0})\\n        Predict: 1.0\\n     Else (feature 79 not in {1.0})\\n      If (feature 54 in {1.0})\\n       If (feature 14 in {1.0})\\n        If (feature 86 <= 18.5)\\n         If (feature 87 <= 1.5)\\n          Predict: 0.0\\n         Else (feature 87 > 1.5)\\n          Predict: 1.0\\n        Else (feature 86 > 18.5)\\n         Predict: 0.0\\n       Else (feature 14 not in {1.0})\\n        If (feature 34 in {1.0})\\n         If (feature 87 <= 4.5)\\n          Predict: 0.0\\n         Else (feature 87 > 4.5)\\n          Predict: 1.0\\n        Else (feature 34 not in {1.0})\\n         If (feature 41 in {1.0})\\n          Predict: 0.0\\n         Else (feature 41 not in {1.0})\\n          Predict: 1.0\\n      Else (feature 54 not in {1.0})\\n       If (feature 86 <= 2.5)\\n        Predict: 0.0\\n       Else (feature 86 > 2.5)\\n        Predict: 1.0\\n    Else (feature 84 not in {1.0})\\n     If (feature 1 in {1.0})\\n      If (feature 58 in {1.0})\\n       If (feature 80 in {1.0})\\n        If (feature 83 in {0.0})\\n         If (feature 85 <= 251.1050033569336)\\n          Predict: 1.0\\n         Else (feature 85 > 251.1050033569336)\\n          Predict: 0.0\\n        Else (feature 83 not in {0.0})\\n         Predict: 1.0\\n       Else (feature 80 not in {1.0})\\n        Predict: 1.0\\n      Else (feature 58 not in {1.0})\\n       If (feature 87 <= 1.5)\\n        If (feature 67 in {1.0})\\n         Predict: 0.0\\n        Else (feature 67 not in {1.0})\\n         If (feature 89 <= 9.5)\\n          Predict: 0.0\\n         Else (feature 89 > 9.5)\\n          Predict: 1.0\\n       Else (feature 87 > 1.5)\\n        Predict: 1.0\\n     Else (feature 1 not in {1.0})\\n      If (feature 76 in {1.0})\\n       If (feature 52 in {1.0})\\n        If (feature 83 in {0.0})\\n         Predict: 1.0\\n        Else (feature 83 not in {0.0})\\n         If (feature 86 <= 2.5)\\n          Predict: 0.0\\n         Else (feature 86 > 2.5)\\n          Predict: 1.0\\n       Else (feature 52 not in {1.0})\\n        If (feature 54 in {1.0})\\n         If (feature 86 <= 18.5)\\n          Predict: 1.0\\n         Else (feature 86 > 18.5)\\n          Predict: 0.0\\n        Else (feature 54 not in {1.0})\\n         Predict: 1.0\\n      Else (feature 76 not in {1.0})\\n       If (feature 73 in {0.0})\\n        If (feature 15 in {1.0})\\n         If (feature 88 <= 7.5)\\n          Predict: 0.0\\n         Else (feature 88 > 7.5)\\n          Predict: 1.0\\n        Else (feature 15 not in {1.0})\\n         Predict: 1.0\\n       Else (feature 73 not in {0.0})\\n        If (feature 34 in {1.0})\\n         Predict: 0.0\\n        Else (feature 34 not in {1.0})\\n         Predict: 1.0\\n  Tree 7 (weight 1.0):\\n    If (feature 90 <= 438.8371815476205)\\n     If (feature 89 <= 9.5)\\n      If (feature 6 in {1.0})\\n       If (feature 37 in {1.0})\\n        If (feature 84 in {1.0})\\n         Predict: 0.0\\n        Else (feature 84 not in {1.0})\\n         If (feature 88 <= 5.5)\\n          Predict: 0.0\\n         Else (feature 88 > 5.5)\\n          Predict: 1.0\\n       Else (feature 37 not in {1.0})\\n        If (feature 87 <= 8.5)\\n         Predict: 0.0\\n        Else (feature 87 > 8.5)\\n         Predict: 1.0\\n      Else (feature 6 not in {1.0})\\n       If (feature 85 <= 27.575000762939453)\\n        Predict: 0.0\\n       Else (feature 85 > 27.575000762939453)\\n        If (feature 8 in {1.0})\\n         Predict: 0.0\\n        Else (feature 8 not in {1.0})\\n         If (feature 78 in {1.0})\\n          Predict: 0.0\\n         Else (feature 78 not in {1.0})\\n          Predict: 1.0\\n     Else (feature 89 > 9.5)\\n      If (feature 88 <= 6.5)\\n       If (feature 2 in {1.0})\\n        Predict: 0.0\\n       Else (feature 2 not in {1.0})\\n        If (feature 86 <= 9.5)\\n         If (feature 5 in {1.0})\\n          Predict: 1.0\\n         Else (feature 5 not in {1.0})\\n          Predict: 0.0\\n        Else (feature 86 > 9.5)\\n         Predict: 0.0\\n      Else (feature 88 > 6.5)\\n       If (feature 84 in {1.0})\\n        If (feature 68 in {1.0})\\n         If (feature 85 <= 169.3350067138672)\\n          Predict: 1.0\\n         Else (feature 85 > 169.3350067138672)\\n          Predict: 0.0\\n        Else (feature 68 not in {1.0})\\n         Predict: 1.0\\n       Else (feature 84 not in {1.0})\\n        Predict: 1.0\\n    Else (feature 90 > 438.8371815476205)\\n     If (feature 55 in {1.0})\\n      If (feature 89 <= 5.5)\\n       If (feature 13 in {0.0})\\n        Predict: 0.0\\n       Else (feature 13 not in {0.0})\\n        If (feature 86 <= 2.5)\\n         Predict: 0.0\\n        Else (feature 86 > 2.5)\\n         Predict: 1.0\\n      Else (feature 89 > 5.5)\\n       If (feature 88 <= 8.5)\\n        If (feature 19 in {1.0})\\n         If (feature 89 <= 6.5)\\n          Predict: 1.0\\n         Else (feature 89 > 6.5)\\n          Predict: 0.0\\n        Else (feature 19 not in {1.0})\\n         If (feature 87 <= 1.5)\\n          Predict: 0.0\\n         Else (feature 87 > 1.5)\\n          Predict: 1.0\\n       Else (feature 88 > 8.5)\\n        If (feature 13 in {0.0})\\n         If (feature 86 <= 28.5)\\n          Predict: 1.0\\n         Else (feature 86 > 28.5)\\n          Predict: 0.0\\n        Else (feature 13 not in {0.0})\\n         Predict: 1.0\\n     Else (feature 55 not in {1.0})\\n      If (feature 25 in {1.0})\\n       If (feature 89 <= 37.5)\\n        If (feature 87 <= 1.5)\\n         If (feature 80 in {1.0})\\n          Predict: 1.0\\n         Else (feature 80 not in {1.0})\\n          Predict: 0.0\\n        Else (feature 87 > 1.5)\\n         If (feature 87 <= 16.5)\\n          Predict: 1.0\\n         Else (feature 87 > 16.5)\\n          Predict: 0.0\\n       Else (feature 89 > 37.5)\\n        If (feature 87 <= 14.5)\\n         If (feature 87 <= 8.5)\\n          Predict: 0.0\\n         Else (feature 87 > 8.5)\\n          Predict: 1.0\\n        Else (feature 87 > 14.5)\\n         Predict: 0.0\\n      Else (feature 25 not in {1.0})\\n       Predict: 1.0\\n  Tree 8 (weight 1.0):\\n    If (feature 0 in {0.0})\\n     If (feature 34 in {1.0})\\n      Predict: 0.0\\n     Else (feature 34 not in {1.0})\\n      If (feature 90 <= 238.56166747805653)\\n       If (feature 89 <= 9.5)\\n        If (feature 21 in {1.0})\\n         If (feature 10 in {1.0})\\n          Predict: 0.0\\n         Else (feature 10 not in {1.0})\\n          Predict: 1.0\\n        Else (feature 21 not in {1.0})\\n         Predict: 0.0\\n       Else (feature 89 > 9.5)\\n        If (feature 87 <= 1.5)\\n         If (feature 84 in {1.0})\\n          Predict: 0.0\\n         Else (feature 84 not in {1.0})\\n          Predict: 1.0\\n        Else (feature 87 > 1.5)\\n         Predict: 1.0\\n      Else (feature 90 > 238.56166747805653)\\n       If (feature 88 <= 6.5)\\n        If (feature 69 in {1.0})\\n         Predict: 1.0\\n        Else (feature 69 not in {1.0})\\n         Predict: 0.0\\n       Else (feature 88 > 6.5)\\n        Predict: 1.0\\n    Else (feature 0 not in {0.0})\\n     If (feature 88 <= 6.5)\\n      If (feature 53 in {1.0})\\n       If (feature 77 in {1.0})\\n        If (feature 74 in {1.0})\\n         Predict: 1.0\\n        Else (feature 74 not in {1.0})\\n         If (feature 88 <= 1.5)\\n          Predict: 0.0\\n         Else (feature 88 > 1.5)\\n          Predict: 1.0\\n       Else (feature 77 not in {1.0})\\n        If (feature 84 in {1.0})\\n         If (feature 89 <= 1.5)\\n          Predict: 0.0\\n         Else (feature 89 > 1.5)\\n          Predict: 1.0\\n        Else (feature 84 not in {1.0})\\n         Predict: 1.0\\n      Else (feature 53 not in {1.0})\\n       If (feature 52 in {0.0})\\n        If (feature 13 in {0.0})\\n         Predict: 0.0\\n        Else (feature 13 not in {0.0})\\n         Predict: 1.0\\n       Else (feature 52 not in {0.0})\\n        If (feature 88 <= 2.5)\\n         If (feature 86 <= 2.5)\\n          Predict: 0.0\\n         Else (feature 86 > 2.5)\\n          Predict: 1.0\\n        Else (feature 88 > 2.5)\\n         Predict: 1.0\\n     Else (feature 88 > 6.5)\\n      Predict: 1.0\\n  Tree 9 (weight 1.0):\\n    If (feature 13 in {0.0})\\n     If (feature 19 in {1.0})\\n      If (feature 89 <= 5.5)\\n       If (feature 55 in {1.0})\\n        Predict: 0.0\\n       Else (feature 55 not in {1.0})\\n        If (feature 89 <= 1.5)\\n         If (feature 87 <= 5.5)\\n          Predict: 0.0\\n         Else (feature 87 > 5.5)\\n          Predict: 1.0\\n        Else (feature 89 > 1.5)\\n         If (feature 76 in {1.0})\\n          Predict: 0.0\\n         Else (feature 76 not in {1.0})\\n          Predict: 1.0\\n      Else (feature 89 > 5.5)\\n       If (feature 55 in {1.0})\\n        If (feature 87 <= 6.5)\\n         If (feature 86 <= 17.5)\\n          Predict: 1.0\\n         Else (feature 86 > 17.5)\\n          Predict: 0.0\\n        Else (feature 87 > 6.5)\\n         Predict: 1.0\\n       Else (feature 55 not in {1.0})\\n        If (feature 85 <= 43.31500053405762)\\n         If (feature 89 <= 114.5)\\n          Predict: 0.0\\n         Else (feature 89 > 114.5)\\n          Predict: 1.0\\n        Else (feature 85 > 43.31500053405762)\\n         If (feature 54 in {1.0})\\n          Predict: 0.0\\n         Else (feature 54 not in {1.0})\\n          Predict: 1.0\\n     Else (feature 19 not in {1.0})\\n      If (feature 87 <= 1.5)\\n       If (feature 0 in {1.0})\\n        If (feature 17 in {1.0})\\n         If (feature 88 <= 8.5)\\n          Predict: 0.0\\n         Else (feature 88 > 8.5)\\n          Predict: 1.0\\n        Else (feature 17 not in {1.0})\\n         Predict: 1.0\\n       Else (feature 0 not in {1.0})\\n        If (feature 88 <= 8.5)\\n         Predict: 0.0\\n        Else (feature 88 > 8.5)\\n         Predict: 1.0\\n      Else (feature 87 > 1.5)\\n       If (feature 86 <= 3.5)\\n        Predict: 0.0\\n       Else (feature 86 > 3.5)\\n        Predict: 1.0\\n    Else (feature 13 not in {0.0})\\n     If (feature 86 <= 2.5)\\n      Predict: 0.0\\n     Else (feature 86 > 2.5)\\n      If (feature 88 <= 6.5)\\n       If (feature 86 <= 15.5)\\n        If (feature 86 <= 3.5)\\n         If (feature 88 <= 1.5)\\n          Predict: 1.0\\n         Else (feature 88 > 1.5)\\n          Predict: 0.0\\n        Else (feature 86 > 3.5)\\n         Predict: 1.0\\n       Else (feature 86 > 15.5)\\n        If (feature 86 <= 20.5)\\n         Predict: 1.0\\n        Else (feature 86 > 20.5)\\n         If (feature 88 <= 2.5)\\n          Predict: 0.0\\n         Else (feature 88 > 2.5)\\n          Predict: 1.0\\n      Else (feature 88 > 6.5)\\n       Predict: 1.0\\n  Tree 10 (weight 1.0):\\n    If (feature 71 in {1.0})\\n     If (feature 88 <= 8.5)\\n      If (feature 88 <= 4.5)\\n       If (feature 87 <= 1.5)\\n        Predict: 0.0\\n       Else (feature 87 > 1.5)\\n        If (feature 68 in {1.0})\\n         Predict: 0.0\\n        Else (feature 68 not in {1.0})\\n         If (feature 64 in {1.0})\\n          Predict: 1.0\\n         Else (feature 64 not in {1.0})\\n          Predict: 0.0\\n      Else (feature 88 > 4.5)\\n       If (feature 80 in {1.0})\\n        If (feature 61 in {1.0})\\n         Predict: 0.0\\n        Else (feature 61 not in {1.0})\\n         If (feature 82 in {1.0})\\n          Predict: 0.0\\n         Else (feature 82 not in {1.0})\\n          Predict: 1.0\\n       Else (feature 80 not in {1.0})\\n        If (feature 82 in {1.0})\\n         If (feature 88 <= 5.5)\\n          Predict: 0.0\\n         Else (feature 88 > 5.5)\\n          Predict: 1.0\\n        Else (feature 82 not in {1.0})\\n         If (feature 89 <= 44.5)\\n          Predict: 1.0\\n         Else (feature 89 > 44.5)\\n          Predict: 0.0\\n     Else (feature 88 > 8.5)\\n      Predict: 1.0\\n    Else (feature 71 not in {1.0})\\n     If (feature 74 in {1.0})\\n      If (feature 54 in {1.0})\\n       If (feature 18 in {1.0})\\n        If (feature 88 <= 6.5)\\n         Predict: 0.0\\n        Else (feature 88 > 6.5)\\n         Predict: 1.0\\n       Else (feature 18 not in {1.0})\\n        If (feature 83 in {1.0})\\n         If (feature 10 in {1.0})\\n          Predict: 0.0\\n         Else (feature 10 not in {1.0})\\n          Predict: 1.0\\n        Else (feature 83 not in {1.0})\\n         If (feature 87 <= 1.5)\\n          Predict: 0.0\\n         Else (feature 87 > 1.5)\\n          Predict: 1.0\\n      Else (feature 54 not in {1.0})\\n       If (feature 78 in {1.0})\\n        If (feature 88 <= 6.5)\\n         Predict: 0.0\\n        Else (feature 88 > 6.5)\\n         Predict: 1.0\\n       Else (feature 78 not in {1.0})\\n        Predict: 1.0\\n     Else (feature 74 not in {1.0})\\n      If (feature 88 <= 6.5)\\n       If (feature 20 in {1.0})\\n        Predict: 0.0\\n       Else (feature 20 not in {1.0})\\n        If (feature 84 in {1.0})\\n         If (feature 37 in {1.0})\\n          Predict: 0.0\\n         Else (feature 37 not in {1.0})\\n          Predict: 1.0\\n        Else (feature 84 not in {1.0})\\n         If (feature 19 in {1.0})\\n          Predict: 0.0\\n         Else (feature 19 not in {1.0})\\n          Predict: 1.0\\n      Else (feature 88 > 6.5)\\n       Predict: 1.0\\n  Tree 11 (weight 1.0):\\n    If (feature 88 <= 7.5)\\n     If (feature 0 in {0.0})\\n      If (feature 85 <= 27.575000762939453)\\n       Predict: 0.0\\n      Else (feature 85 > 27.575000762939453)\\n       If (feature 30 in {1.0})\\n        Predict: 0.0\\n       Else (feature 30 not in {1.0})\\n        If (feature 88 <= 4.5)\\n         Predict: 0.0\\n        Else (feature 88 > 4.5)\\n         If (feature 86 <= 16.5)\\n          Predict: 1.0\\n         Else (feature 86 > 16.5)\\n          Predict: 0.0\\n     Else (feature 0 not in {0.0})\\n      If (feature 86 <= 2.5)\\n       Predict: 0.0\\n      Else (feature 86 > 2.5)\\n       If (feature 87 <= 1.5)\\n        If (feature 54 in {1.0})\\n         Predict: 0.0\\n        Else (feature 54 not in {1.0})\\n         Predict: 1.0\\n       Else (feature 87 > 1.5)\\n        If (feature 84 in {1.0})\\n         If (feature 54 in {1.0})\\n          Predict: 0.0\\n         Else (feature 54 not in {1.0})\\n          Predict: 1.0\\n        Else (feature 84 not in {1.0})\\n         Predict: 1.0\\n    Else (feature 88 > 7.5)\\n     If (feature 85 <= 102.19500350952148)\\n      If (feature 88 <= 13.5)\\n       Predict: 1.0\\n      Else (feature 88 > 13.5)\\n       If (feature 90 <= 238.56166747805653)\\n        If (feature 87 <= 11.5)\\n         If (feature 56 in {1.0})\\n          Predict: 0.0\\n         Else (feature 56 not in {1.0})\\n          Predict: 1.0\\n        Else (feature 87 > 11.5)\\n         Predict: 1.0\\n       Else (feature 90 > 238.56166747805653)\\n        Predict: 1.0\\n     Else (feature 85 > 102.19500350952148)\\n      If (feature 0 in {0.0})\\n       If (feature 27 in {1.0})\\n        If (feature 85 <= 198.31499481201172)\\n         Predict: 0.0\\n        Else (feature 85 > 198.31499481201172)\\n         Predict: 1.0\\n       Else (feature 27 not in {1.0})\\n        Predict: 1.0\\n      Else (feature 0 not in {0.0})\\n       Predict: 1.0\\n  Tree 12 (weight 1.0):\\n    If (feature 86 <= 2.5)\\n     If (feature 3 in {1.0})\\n      Predict: 0.0\\n     Else (feature 3 not in {1.0})\\n      If (feature 33 in {1.0})\\n       Predict: 0.0\\n      Else (feature 33 not in {1.0})\\n       If (feature 88 <= 1.5)\\n        Predict: 0.0\\n       Else (feature 88 > 1.5)\\n        If (feature 83 in {1.0})\\n         If (feature 56 in {1.0})\\n          Predict: 1.0\\n         Else (feature 56 not in {1.0})\\n          Predict: 0.0\\n        Else (feature 83 not in {1.0})\\n         Predict: 0.0\\n    Else (feature 86 > 2.5)\\n     If (feature 2 in {1.0})\\n      If (feature 85 <= 27.575000762939453)\\n       If (feature 88 <= 6.5)\\n        If (feature 86 <= 13.5)\\n         If (feature 87 <= 1.5)\\n          Predict: 0.0\\n         Else (feature 87 > 1.5)\\n          Predict: 1.0\\n        Else (feature 86 > 13.5)\\n         Predict: 0.0\\n       Else (feature 88 > 6.5)\\n        If (feature 89 <= 19.5)\\n         Predict: 1.0\\n        Else (feature 89 > 19.5)\\n         If (feature 86 <= 7.5)\\n          Predict: 1.0\\n         Else (feature 86 > 7.5)\\n          Predict: 0.0\\n      Else (feature 85 > 27.575000762939453)\\n       If (feature 88 <= 7.5)\\n        If (feature 84 in {1.0})\\n         If (feature 85 <= 151.28500366210938)\\n          Predict: 1.0\\n         Else (feature 85 > 151.28500366210938)\\n          Predict: 0.0\\n        Else (feature 84 not in {1.0})\\n         If (feature 58 in {1.0})\\n          Predict: 0.0\\n         Else (feature 58 not in {1.0})\\n          Predict: 1.0\\n       Else (feature 88 > 7.5)\\n        Predict: 1.0\\n     Else (feature 2 not in {1.0})\\n      If (feature 1 in {1.0})\\n       If (feature 84 in {1.0})\\n        If (feature 65 in {1.0})\\n         Predict: 1.0\\n        Else (feature 65 not in {1.0})\\n         If (feature 89 <= 9.5)\\n          Predict: 0.0\\n         Else (feature 89 > 9.5)\\n          Predict: 1.0\\n       Else (feature 84 not in {1.0})\\n        If (feature 85 <= 27.575000762939453)\\n         Predict: 0.0\\n        Else (feature 85 > 27.575000762939453)\\n         If (feature 88 <= 8.5)\\n          Predict: 0.0\\n         Else (feature 88 > 8.5)\\n          Predict: 1.0\\n      Else (feature 1 not in {1.0})\\n       If (feature 87 <= 1.5)\\n        If (feature 90 <= 438.8371815476205)\\n         If (feature 60 in {1.0})\\n          Predict: 1.0\\n         Else (feature 60 not in {1.0})\\n          Predict: 0.0\\n        Else (feature 90 > 438.8371815476205)\\n         Predict: 1.0\\n       Else (feature 87 > 1.5)\\n        Predict: 1.0\\n  Tree 13 (weight 1.0):\\n    If (feature 54 in {1.0})\\n     If (feature 85 <= 27.575000762939453)\\n      If (feature 89 <= 22.5)\\n       If (feature 84 in {1.0})\\n        Predict: 0.0\\n       Else (feature 84 not in {1.0})\\n        If (feature 24 in {1.0})\\n         If (feature 80 in {1.0})\\n          Predict: 1.0\\n         Else (feature 80 not in {1.0})\\n          Predict: 0.0\\n        Else (feature 24 not in {1.0})\\n         Predict: 0.0\\n      Else (feature 89 > 22.5)\\n       If (feature 41 in {1.0})\\n        Predict: 1.0\\n       Else (feature 41 not in {1.0})\\n        If (feature 6 in {1.0})\\n         If (feature 87 <= 8.5)\\n          Predict: 0.0\\n         Else (feature 87 > 8.5)\\n          Predict: 1.0\\n        Else (feature 6 not in {1.0})\\n         Predict: 0.0\\n     Else (feature 85 > 27.575000762939453)\\n      If (feature 88 <= 6.5)\\n       If (feature 87 <= 1.5)\\n        Predict: 0.0\\n       Else (feature 87 > 1.5)\\n        If (feature 18 in {1.0})\\n         If (feature 89 <= 13.5)\\n          Predict: 1.0\\n         Else (feature 89 > 13.5)\\n          Predict: 0.0\\n        Else (feature 18 not in {1.0})\\n         If (feature 24 in {1.0})\\n          Predict: 1.0\\n         Else (feature 24 not in {1.0})\\n          Predict: 0.0\\n      Else (feature 88 > 6.5)\\n       If (feature 43 in {1.0})\\n        If (feature 89 <= 44.5)\\n         If (feature 77 in {1.0})\\n          Predict: 0.0\\n         Else (feature 77 not in {1.0})\\n          Predict: 1.0\\n        Else (feature 89 > 44.5)\\n         Predict: 1.0\\n       Else (feature 43 not in {1.0})\\n        Predict: 1.0\\n    Else (feature 54 not in {1.0})\\n     If (feature 0 in {0.0})\\n      If (feature 89 <= 11.5)\\n       If (feature 2 in {1.0})\\n        If (feature 88 <= 3.5)\\n         If (feature 77 in {1.0})\\n          Predict: 1.0\\n         Else (feature 77 not in {1.0})\\n          Predict: 0.0\\n        Else (feature 88 > 3.5)\\n         Predict: 1.0\\n       Else (feature 2 not in {1.0})\\n        If (feature 52 in {1.0})\\n         Predict: 0.0\\n        Else (feature 52 not in {1.0})\\n         If (feature 64 in {1.0})\\n          Predict: 1.0\\n         Else (feature 64 not in {1.0})\\n          Predict: 0.0\\n      Else (feature 89 > 11.5)\\n       If (feature 60 in {1.0})\\n        If (feature 87 <= 1.5)\\n         If (feature 79 in {1.0})\\n          Predict: 1.0\\n         Else (feature 79 not in {1.0})\\n          Predict: 0.0\\n        Else (feature 87 > 1.5)\\n         Predict: 1.0\\n       Else (feature 60 not in {1.0})\\n        If (feature 5 in {1.0})\\n         If (feature 89 <= 16.5)\\n          Predict: 0.0\\n         Else (feature 89 > 16.5)\\n          Predict: 1.0\\n        Else (feature 5 not in {1.0})\\n         If (feature 56 in {1.0})\\n          Predict: 0.0\\n         Else (feature 56 not in {1.0})\\n          Predict: 1.0\\n     Else (feature 0 not in {0.0})\\n      If (feature 85 <= 69.48500061035156)\\n       If (feature 77 in {1.0})\\n        If (feature 56 in {1.0})\\n         If (feature 88 <= 5.5)\\n          Predict: 0.0\\n         Else (feature 88 > 5.5)\\n          Predict: 1.0\\n        Else (feature 56 not in {1.0})\\n         If (feature 25 in {1.0})\\n          Predict: 0.0\\n         Else (feature 25 not in {1.0})\\n          Predict: 1.0\\n       Else (feature 77 not in {1.0})\\n        If (feature 89 <= 9.5)\\n         If (feature 55 in {0.0})\\n          Predict: 1.0\\n         Else (feature 55 not in {0.0})\\n          Predict: 0.0\\n        Else (feature 89 > 9.5)\\n         Predict: 1.0\\n      Else (feature 85 > 69.48500061035156)\\n       If (feature 73 in {0.0})\\n        Predict: 1.0\\n       Else (feature 73 not in {0.0})\\n        If (feature 55 in {1.0})\\n         If (feature 19 in {1.0})\\n          Predict: 0.0\\n         Else (feature 19 not in {1.0})\\n          Predict: 1.0\\n        Else (feature 55 not in {1.0})\\n         Predict: 1.0\\n  Tree 14 (weight 1.0):\\n    If (feature 13 in {0.0})\\n     If (feature 88 <= 6.5)\\n      If (feature 89 <= 16.5)\\n       If (feature 86 <= 2.5)\\n        Predict: 0.0\\n       Else (feature 86 > 2.5)\\n        If (feature 89 <= 1.5)\\n         Predict: 1.0\\n        Else (feature 89 > 1.5)\\n         If (feature 86 <= 3.5)\\n          Predict: 0.0\\n         Else (feature 86 > 3.5)\\n          Predict: 1.0\\n      Else (feature 89 > 16.5)\\n       If (feature 88 <= 3.5)\\n        Predict: 0.0\\n       Else (feature 88 > 3.5)\\n        If (feature 83 in {1.0})\\n         If (feature 89 <= 26.5)\\n          Predict: 1.0\\n         Else (feature 89 > 26.5)\\n          Predict: 0.0\\n        Else (feature 83 not in {1.0})\\n         Predict: 0.0\\n     Else (feature 88 > 6.5)\\n      If (feature 54 in {1.0})\\n       If (feature 82 in {1.0})\\n        If (feature 26 in {1.0})\\n         If (feature 78 in {1.0})\\n          Predict: 0.0\\n         Else (feature 78 not in {1.0})\\n          Predict: 1.0\\n        Else (feature 26 not in {1.0})\\n         Predict: 1.0\\n       Else (feature 82 not in {1.0})\\n        Predict: 1.0\\n      Else (feature 54 not in {1.0})\\n       If (feature 1 in {1.0})\\n        If (feature 88 <= 8.5)\\n         If (feature 86 <= 16.5)\\n          Predict: 1.0\\n         Else (feature 86 > 16.5)\\n          Predict: 0.0\\n        Else (feature 88 > 8.5)\\n         Predict: 1.0\\n       Else (feature 1 not in {1.0})\\n        Predict: 1.0\\n    Else (feature 13 not in {0.0})\\n     If (feature 58 in {1.0})\\n      Predict: 1.0\\n     Else (feature 58 not in {1.0})\\n      If (feature 83 in {1.0})\\n       If (feature 89 <= 11.5)\\n        If (feature 86 <= 2.5)\\n         Predict: 0.0\\n        Else (feature 86 > 2.5)\\n         Predict: 1.0\\n       Else (feature 89 > 11.5)\\n        Predict: 1.0\\n      Else (feature 83 not in {1.0})\\n       If (feature 84 in {0.0})\\n        If (feature 86 <= 2.5)\\n         Predict: 0.0\\n        Else (feature 86 > 2.5)\\n         Predict: 1.0\\n       Else (feature 84 not in {0.0})\\n        Predict: 1.0\\n  Tree 15 (weight 1.0):\\n    If (feature 13 in {0.0})\\n     If (feature 54 in {1.0})\\n      If (feature 85 <= 27.575000762939453)\\n       If (feature 23 in {1.0})\\n        Predict: 1.0\\n       Else (feature 23 not in {1.0})\\n        If (feature 41 in {1.0})\\n         Predict: 1.0\\n        Else (feature 41 not in {1.0})\\n         Predict: 0.0\\n      Else (feature 85 > 27.575000762939453)\\n       If (feature 24 in {1.0})\\n        If (feature 86 <= 2.5)\\n         Predict: 0.0\\n        Else (feature 86 > 2.5)\\n         Predict: 1.0\\n       Else (feature 24 not in {1.0})\\n        If (feature 87 <= 1.5)\\n         If (feature 21 in {1.0})\\n          Predict: 1.0\\n         Else (feature 21 not in {1.0})\\n          Predict: 0.0\\n        Else (feature 87 > 1.5)\\n         If (feature 88 <= 6.5)\\n          Predict: 0.0\\n         Else (feature 88 > 6.5)\\n          Predict: 1.0\\n     Else (feature 54 not in {1.0})\\n      If (feature 88 <= 7.5)\\n       If (feature 90 <= 438.8371815476205)\\n        If (feature 86 <= 2.5)\\n         Predict: 0.0\\n        Else (feature 86 > 2.5)\\n         If (feature 89 <= 26.5)\\n          Predict: 1.0\\n         Else (feature 89 > 26.5)\\n          Predict: 0.0\\n       Else (feature 90 > 438.8371815476205)\\n        If (feature 85 <= 27.575000762939453)\\n         Predict: 0.0\\n        Else (feature 85 > 27.575000762939453)\\n         Predict: 1.0\\n      Else (feature 88 > 7.5)\\n       If (feature 90 <= 438.8371815476205)\\n        If (feature 85 <= 27.575000762939453)\\n         Predict: 1.0\\n        Else (feature 85 > 27.575000762939453)\\n         If (feature 56 in {1.0})\\n          Predict: 0.0\\n         Else (feature 56 not in {1.0})\\n          Predict: 1.0\\n       Else (feature 90 > 438.8371815476205)\\n        Predict: 1.0\\n    Else (feature 13 not in {0.0})\\n     If (feature 84 in {1.0})\\n      If (feature 57 in {1.0})\\n       Predict: 1.0\\n      Else (feature 57 not in {1.0})\\n       If (feature 53 in {1.0})\\n        Predict: 1.0\\n       Else (feature 53 not in {1.0})\\n        If (feature 81 in {1.0})\\n         Predict: 1.0\\n        Else (feature 81 not in {1.0})\\n         If (feature 86 <= 2.5)\\n          Predict: 0.0\\n         Else (feature 86 > 2.5)\\n          Predict: 1.0\\n     Else (feature 84 not in {1.0})\\n      If (feature 57 in {1.0})\\n       Predict: 1.0\\n      Else (feature 57 not in {1.0})\\n       If (feature 86 <= 2.5)\\n        Predict: 0.0\\n       Else (feature 86 > 2.5)\\n        Predict: 1.0\\n  Tree 16 (weight 1.0):\\n    If (feature 54 in {1.0})\\n     If (feature 18 in {1.0})\\n      If (feature 88 <= 6.5)\\n       If (feature 83 in {1.0})\\n        If (feature 76 in {1.0})\\n         If (feature 89 <= 6.5)\\n          Predict: 1.0\\n         Else (feature 89 > 6.5)\\n          Predict: 0.0\\n        Else (feature 76 not in {1.0})\\n         If (feature 86 <= 2.5)\\n          Predict: 0.0\\n         Else (feature 86 > 2.5)\\n          Predict: 1.0\\n       Else (feature 83 not in {1.0})\\n        If (feature 88 <= 5.5)\\n         Predict: 0.0\\n        Else (feature 88 > 5.5)\\n         Predict: 1.0\\n      Else (feature 88 > 6.5)\\n       If (feature 84 in {1.0})\\n        If (feature 87 <= 12.5)\\n         If (feature 87 <= 9.5)\\n          Predict: 1.0\\n         Else (feature 87 > 9.5)\\n          Predict: 0.0\\n        Else (feature 87 > 12.5)\\n         Predict: 1.0\\n       Else (feature 84 not in {1.0})\\n        Predict: 1.0\\n     Else (feature 18 not in {1.0})\\n      If (feature 33 in {1.0})\\n       Predict: 0.0\\n      Else (feature 33 not in {1.0})\\n       If (feature 85 <= 27.575000762939453)\\n        If (feature 79 in {1.0})\\n         If (feature 30 in {1.0})\\n          Predict: 1.0\\n         Else (feature 30 not in {1.0})\\n          Predict: 0.0\\n        Else (feature 79 not in {1.0})\\n         Predict: 0.0\\n       Else (feature 85 > 27.575000762939453)\\n        If (feature 89 <= 6.5)\\n         If (feature 24 in {1.0})\\n          Predict: 1.0\\n         Else (feature 24 not in {1.0})\\n          Predict: 0.0\\n        Else (feature 89 > 6.5)\\n         If (feature 88 <= 6.5)\\n          Predict: 0.0\\n         Else (feature 88 > 6.5)\\n          Predict: 1.0\\n    Else (feature 54 not in {1.0})\\n     If (feature 13 in {0.0})\\n      If (feature 0 in {1.0})\\n       If (feature 53 in {1.0})\\n        Predict: 1.0\\n       Else (feature 53 not in {1.0})\\n        If (feature 52 in {0.0})\\n         If (feature 87 <= 1.5)\\n          Predict: 0.0\\n         Else (feature 87 > 1.5)\\n          Predict: 1.0\\n        Else (feature 52 not in {0.0})\\n         Predict: 1.0\\n      Else (feature 0 not in {1.0})\\n       If (feature 84 in {1.0})\\n        If (feature 81 in {1.0})\\n         If (feature 62 in {1.0})\\n          Predict: 0.0\\n         Else (feature 62 not in {1.0})\\n          Predict: 1.0\\n        Else (feature 81 not in {1.0})\\n         If (feature 88 <= 7.5)\\n          Predict: 0.0\\n         Else (feature 88 > 7.5)\\n          Predict: 1.0\\n       Else (feature 84 not in {1.0})\\n        If (feature 88 <= 8.5)\\n         If (feature 88 <= 3.5)\\n          Predict: 0.0\\n         Else (feature 88 > 3.5)\\n          Predict: 1.0\\n        Else (feature 88 > 8.5)\\n         Predict: 1.0\\n     Else (feature 13 not in {0.0})\\n      Predict: 1.0\\n  Tree 17 (weight 1.0):\\n    If (feature 53 in {1.0})\\n     If (feature 87 <= 1.5)\\n      Predict: 1.0\\n     Else (feature 87 > 1.5)\\n      If (feature 85 <= 593.4250183105469)\\n       If (feature 1 in {1.0})\\n        Predict: 0.0\\n       Else (feature 1 not in {1.0})\\n        Predict: 1.0\\n      Else (feature 85 > 593.4250183105469)\\n       If (feature 86 <= 4.5)\\n        Predict: 0.0\\n       Else (feature 86 > 4.5)\\n        Predict: 1.0\\n    Else (feature 53 not in {1.0})\\n     If (feature 88 <= 6.5)\\n      If (feature 90 <= 438.8371815476205)\\n       If (feature 87 <= 1.5)\\n        Predict: 0.0\\n       Else (feature 87 > 1.5)\\n        If (feature 86 <= 17.5)\\n         Predict: 1.0\\n        Else (feature 86 > 17.5)\\n         Predict: 0.0\\n      Else (feature 90 > 438.8371815476205)\\n       If (feature 19 in {1.0})\\n        Predict: 0.0\\n       Else (feature 19 not in {1.0})\\n        If (feature 74 in {1.0})\\n         Predict: 0.0\\n        Else (feature 74 not in {1.0})\\n         Predict: 1.0\\n     Else (feature 88 > 6.5)\\n      If (feature 52 in {1.0})\\n       If (feature 88 <= 25.5)\\n        Predict: 1.0\\n       Else (feature 88 > 25.5)\\n        If (feature 90 <= 238.56166747805653)\\n         Predict: 0.0\\n        Else (feature 90 > 238.56166747805653)\\n         Predict: 1.0\\n      Else (feature 52 not in {1.0})\\n       Predict: 1.0\\n  Tree 18 (weight 1.0):\\n    If (feature 0 in {0.0})\\n     If (feature 87 <= 1.5)\\n      If (feature 86 <= 8.5)\\n       If (feature 34 in {1.0})\\n        If (feature 88 <= 11.5)\\n         Predict: 0.0\\n        Else (feature 88 > 11.5)\\n         Predict: 1.0\\n       Else (feature 34 not in {1.0})\\n        If (feature 86 <= 2.5)\\n         Predict: 0.0\\n        Else (feature 86 > 2.5)\\n         Predict: 1.0\\n      Else (feature 86 > 8.5)\\n       If (feature 84 in {1.0})\\n        If (feature 86 <= 20.5)\\n         If (feature 26 in {1.0})\\n          Predict: 1.0\\n         Else (feature 26 not in {1.0})\\n          Predict: 0.0\\n        Else (feature 86 > 20.5)\\n         Predict: 0.0\\n       Else (feature 84 not in {1.0})\\n        Predict: 0.0\\n     Else (feature 87 > 1.5)\\n      If (feature 85 <= 27.575000762939453)\\n       If (feature 2 in {1.0})\\n        If (feature 88 <= 8.5)\\n         Predict: 0.0\\n        Else (feature 88 > 8.5)\\n         Predict: 1.0\\n       Else (feature 2 not in {1.0})\\n        If (feature 37 in {1.0})\\n         Predict: 0.0\\n        Else (feature 37 not in {1.0})\\n         If (feature 64 in {1.0})\\n          Predict: 1.0\\n         Else (feature 64 not in {1.0})\\n          Predict: 0.0\\n      Else (feature 85 > 27.575000762939453)\\n       If (feature 20 in {1.0})\\n        Predict: 1.0\\n       Else (feature 20 not in {1.0})\\n        If (feature 67 in {1.0})\\n         If (feature 88 <= 9.5)\\n          Predict: 0.0\\n         Else (feature 88 > 9.5)\\n          Predict: 1.0\\n        Else (feature 67 not in {1.0})\\n         If (feature 89 <= 1.5)\\n          Predict: 0.0\\n         Else (feature 89 > 1.5)\\n          Predict: 1.0\\n    Else (feature 0 not in {0.0})\\n     If (feature 55 in {1.0})\\n      If (feature 86 <= 2.5)\\n       Predict: 0.0\\n      Else (feature 86 > 2.5)\\n       If (feature 13 in {0.0})\\n        If (feature 85 <= 102.19500350952148)\\n         If (feature 88 <= 17.5)\\n          Predict: 0.0\\n         Else (feature 88 > 17.5)\\n          Predict: 1.0\\n        Else (feature 85 > 102.19500350952148)\\n         If (feature 88 <= 2.5)\\n          Predict: 0.0\\n         Else (feature 88 > 2.5)\\n          Predict: 1.0\\n       Else (feature 13 not in {0.0})\\n        If (feature 88 <= 10.5)\\n         If (feature 86 <= 17.5)\\n          Predict: 1.0\\n         Else (feature 86 > 17.5)\\n          Predict: 0.0\\n        Else (feature 88 > 10.5)\\n         Predict: 1.0\\n     Else (feature 55 not in {1.0})\\n      If (feature 13 in {0.0})\\n       If (feature 88 <= 7.5)\\n        If (feature 87 <= 1.5)\\n         Predict: 0.0\\n        Else (feature 87 > 1.5)\\n         If (feature 54 in {1.0})\\n          Predict: 0.0\\n         Else (feature 54 not in {1.0})\\n          Predict: 1.0\\n       Else (feature 88 > 7.5)\\n        Predict: 1.0\\n      Else (feature 13 not in {0.0})\\n       If (feature 86 <= 2.5)\\n        Predict: 0.0\\n       Else (feature 86 > 2.5)\\n        Predict: 1.0\\n  Tree 19 (weight 1.0):\\n    If (feature 3 in {1.0})\\n     If (feature 84 in {1.0})\\n      If (feature 88 <= 9.5)\\n       If (feature 54 in {1.0})\\n        Predict: 0.0\\n       Else (feature 54 not in {1.0})\\n        If (feature 86 <= 3.5)\\n         Predict: 0.0\\n        Else (feature 86 > 3.5)\\n         If (feature 86 <= 13.5)\\n          Predict: 1.0\\n         Else (feature 86 > 13.5)\\n          Predict: 0.0\\n      Else (feature 88 > 9.5)\\n       If (feature 85 <= 27.575000762939453)\\n        If (feature 88 <= 14.5)\\n         If (feature 89 <= 22.5)\\n          Predict: 0.0\\n         Else (feature 89 > 22.5)\\n          Predict: 1.0\\n        Else (feature 88 > 14.5)\\n         Predict: 0.0\\n       Else (feature 85 > 27.575000762939453)\\n        Predict: 1.0\\n     Else (feature 84 not in {1.0})\\n      If (feature 27 in {1.0})\\n       If (feature 87 <= 1.5)\\n        If (feature 89 <= 22.5)\\n         Predict: 0.0\\n        Else (feature 89 > 22.5)\\n         Predict: 1.0\\n       Else (feature 87 > 1.5)\\n        If (feature 80 in {1.0})\\n         If (feature 85 <= 251.1050033569336)\\n          Predict: 1.0\\n         Else (feature 85 > 251.1050033569336)\\n          Predict: 0.0\\n        Else (feature 80 not in {1.0})\\n         Predict: 1.0\\n      Else (feature 27 not in {1.0})\\n       If (feature 73 in {0.0})\\n        If (feature 79 in {1.0})\\n         If (feature 88 <= 3.5)\\n          Predict: 0.0\\n         Else (feature 88 > 3.5)\\n          Predict: 1.0\\n        Else (feature 79 not in {1.0})\\n         If (feature 55 in {1.0})\\n          Predict: 0.0\\n         Else (feature 55 not in {1.0})\\n          Predict: 1.0\\n       Else (feature 73 not in {0.0})\\n        If (feature 89 <= 16.5)\\n         If (feature 20 in {0.0})\\n          Predict: 0.0\\n         Else (feature 20 not in {0.0})\\n          Predict: 1.0\\n        Else (feature 89 > 16.5)\\n         Predict: 1.0\\n    Else (feature 3 not in {1.0})\\n     If (feature 74 in {1.0})\\n      If (feature 88 <= 6.5)\\n       If (feature 87 <= 1.5)\\n        If (feature 86 <= 2.5)\\n         Predict: 0.0\\n        Else (feature 86 > 2.5)\\n         If (feature 86 <= 7.5)\\n          Predict: 1.0\\n         Else (feature 86 > 7.5)\\n          Predict: 0.0\\n       Else (feature 87 > 1.5)\\n        If (feature 88 <= 3.5)\\n         If (feature 54 in {1.0})\\n          Predict: 0.0\\n         Else (feature 54 not in {1.0})\\n          Predict: 1.0\\n        Else (feature 88 > 3.5)\\n         If (feature 90 <= 217.90143832555933)\\n          Predict: 0.0\\n         Else (feature 90 > 217.90143832555933)\\n          Predict: 1.0\\n      Else (feature 88 > 6.5)\\n       Predict: 1.0\\n     Else (feature 74 not in {1.0})\\n      If (feature 88 <= 6.5)\\n       If (feature 13 in {0.0})\\n        If (feature 42 in {1.0})\\n         Predict: 0.0\\n        Else (feature 42 not in {1.0})\\n         If (feature 23 in {1.0})\\n          Predict: 1.0\\n         Else (feature 23 not in {1.0})\\n          Predict: 0.0\\n       Else (feature 13 not in {0.0})\\n        If (feature 59 in {1.0})\\n         If (feature 85 <= 463.18499755859375)\\n          Predict: 0.0\\n         Else (feature 85 > 463.18499755859375)\\n          Predict: 1.0\\n        Else (feature 59 not in {1.0})\\n         Predict: 1.0\\n      Else (feature 88 > 6.5)\\n       Predict: 1.0\\n  Tree 20 (weight 1.0):\\n    If (feature 90 <= 438.8371815476205)\\n     If (feature 54 in {1.0})\\n      If (feature 86 <= 2.5)\\n       If (feature 21 in {1.0})\\n        If (feature 76 in {1.0})\\n         If (feature 84 in {0.0})\\n          Predict: 0.0\\n         Else (feature 84 not in {0.0})\\n          Predict: 1.0\\n        Else (feature 76 not in {1.0})\\n         Predict: 0.0\\n       Else (feature 21 not in {1.0})\\n        Predict: 0.0\\n      Else (feature 86 > 2.5)\\n       If (feature 86 <= 14.5)\\n        If (feature 88 <= 6.5)\\n         If (feature 88 <= 3.5)\\n          Predict: 0.0\\n         Else (feature 88 > 3.5)\\n          Predict: 1.0\\n        Else (feature 88 > 6.5)\\n         Predict: 1.0\\n       Else (feature 86 > 14.5)\\n        If (feature 1 in {1.0})\\n         If (feature 87 <= 1.5)\\n          Predict: 0.0\\n         Else (feature 87 > 1.5)\\n          Predict: 1.0\\n        Else (feature 1 not in {1.0})\\n         Predict: 0.0\\n     Else (feature 54 not in {1.0})\\n      If (feature 84 in {1.0})\\n       If (feature 68 in {1.0})\\n        Predict: 0.0\\n       Else (feature 68 not in {1.0})\\n        If (feature 34 in {1.0})\\n         Predict: 0.0\\n        Else (feature 34 not in {1.0})\\n         If (feature 33 in {1.0})\\n          Predict: 0.0\\n         Else (feature 33 not in {1.0})\\n          Predict: 1.0\\n      Else (feature 84 not in {1.0})\\n       If (feature 88 <= 5.5)\\n        Predict: 0.0\\n       Else (feature 88 > 5.5)\\n        If (feature 82 in {1.0})\\n         Predict: 1.0\\n        Else (feature 82 not in {1.0})\\n         If (feature 90 <= 97.31501200860617)\\n          Predict: 0.0\\n         Else (feature 90 > 97.31501200860617)\\n          Predict: 1.0\\n    Else (feature 90 > 438.8371815476205)\\n     If (feature 87 <= 1.5)\\n      If (feature 81 in {1.0})\\n       If (feature 86 <= 2.5)\\n        If (feature 88 <= 2.5)\\n         Predict: 0.0\\n        Else (feature 88 > 2.5)\\n         If (feature 55 in {1.0})\\n          Predict: 0.0\\n         Else (feature 55 not in {1.0})\\n          Predict: 1.0\\n       Else (feature 86 > 2.5)\\n        Predict: 1.0\\n      Else (feature 81 not in {1.0})\\n       If (feature 86 <= 2.5)\\n        Predict: 0.0\\n       Else (feature 86 > 2.5)\\n        If (feature 83 in {1.0})\\n         Predict: 1.0\\n        Else (feature 83 not in {1.0})\\n         If (feature 64 in {1.0})\\n          Predict: 0.0\\n         Else (feature 64 not in {1.0})\\n          Predict: 1.0\\n     Else (feature 87 > 1.5)\\n      If (feature 89 <= 1.5)\\n       If (feature 59 in {1.0})\\n        If (feature 78 in {1.0})\\n         Predict: 1.0\\n        Else (feature 78 not in {1.0})\\n         If (feature 87 <= 7.5)\\n          Predict: 0.0\\n         Else (feature 87 > 7.5)\\n          Predict: 1.0\\n       Else (feature 59 not in {1.0})\\n        If (feature 53 in {1.0})\\n         Predict: 0.0\\n        Else (feature 53 not in {1.0})\\n         Predict: 1.0\\n      Else (feature 89 > 1.5)\\n       If (feature 85 <= 102.19500350952148)\\n        If (feature 84 in {1.0})\\n         If (feature 88 <= 6.5)\\n          Predict: 0.0\\n         Else (feature 88 > 6.5)\\n          Predict: 1.0\\n        Else (feature 84 not in {1.0})\\n         Predict: 1.0\\n       Else (feature 85 > 102.19500350952148)\\n        Predict: 1.0\\n  Tree 21 (weight 1.0):\\n    If (feature 1 in {1.0})\\n     If (feature 65 in {1.0})\\n      If (feature 89 <= 22.5)\\n       If (feature 87 <= 2.5)\\n        If (feature 82 in {1.0})\\n         Predict: 0.0\\n        Else (feature 82 not in {1.0})\\n         Predict: 1.0\\n       Else (feature 87 > 2.5)\\n        If (feature 86 <= 17.5)\\n         Predict: 1.0\\n        Else (feature 86 > 17.5)\\n         Predict: 0.0\\n      Else (feature 89 > 22.5)\\n       If (feature 87 <= 2.5)\\n        If (feature 82 in {1.0})\\n         Predict: 1.0\\n        Else (feature 82 not in {1.0})\\n         If (feature 85 <= 180.93500518798828)\\n          Predict: 1.0\\n         Else (feature 85 > 180.93500518798828)\\n          Predict: 0.0\\n       Else (feature 87 > 2.5)\\n        If (feature 88 <= 8.5)\\n         If (feature 87 <= 3.5)\\n          Predict: 0.0\\n         Else (feature 87 > 3.5)\\n          Predict: 1.0\\n        Else (feature 88 > 8.5)\\n         Predict: 1.0\\n     Else (feature 65 not in {1.0})\\n      If (feature 61 in {1.0})\\n       If (feature 86 <= 8.5)\\n        If (feature 84 in {1.0})\\n         If (feature 79 in {1.0})\\n          Predict: 1.0\\n         Else (feature 79 not in {1.0})\\n          Predict: 0.0\\n        Else (feature 84 not in {1.0})\\n         Predict: 1.0\\n       Else (feature 86 > 8.5)\\n        Predict: 0.0\\n      Else (feature 61 not in {1.0})\\n       If (feature 88 <= 8.5)\\n        Predict: 0.0\\n       Else (feature 88 > 8.5)\\n        Predict: 1.0\\n    Else (feature 1 not in {1.0})\\n     If (feature 90 <= 438.8371815476205)\\n      If (feature 85 <= 27.575000762939453)\\n       Predict: 0.0\\n      Else (feature 85 > 27.575000762939453)\\n       If (feature 88 <= 6.5)\\n        If (feature 2 in {0.0})\\n         Predict: 0.0\\n        Else (feature 2 not in {0.0})\\n         If (feature 85 <= 151.28500366210938)\\n          Predict: 1.0\\n         Else (feature 85 > 151.28500366210938)\\n          Predict: 0.0\\n       Else (feature 88 > 6.5)\\n        Predict: 1.0\\n     Else (feature 90 > 438.8371815476205)\\n      If (feature 88 <= 6.5)\\n       If (feature 73 in {0.0})\\n        If (feature 77 in {1.0})\\n         If (feature 87 <= 2.5)\\n          Predict: 0.0\\n         Else (feature 87 > 2.5)\\n          Predict: 1.0\\n        Else (feature 77 not in {1.0})\\n         If (feature 86 <= 2.5)\\n          Predict: 0.0\\n         Else (feature 86 > 2.5)\\n          Predict: 1.0\\n       Else (feature 73 not in {0.0})\\n        If (feature 86 <= 2.5)\\n         Predict: 0.0\\n        Else (feature 86 > 2.5)\\n         Predict: 1.0\\n      Else (feature 88 > 6.5)\\n       Predict: 1.0\\n  Tree 22 (weight 1.0):\\n    If (feature 68 in {1.0})\\n     If (feature 77 in {1.0})\\n      If (feature 84 in {1.0})\\n       Predict: 0.0\\n      Else (feature 84 not in {1.0})\\n       Predict: 1.0\\n     Else (feature 77 not in {1.0})\\n      Predict: 0.0\\n    Else (feature 68 not in {1.0})\\n     If (feature 1 in {1.0})\\n      If (feature 85 <= 27.575000762939453)\\n       If (feature 69 in {1.0})\\n        Predict: 1.0\\n       Else (feature 69 not in {1.0})\\n        If (feature 66 in {1.0})\\n         If (feature 82 in {1.0})\\n          Predict: 0.0\\n         Else (feature 82 not in {1.0})\\n          Predict: 1.0\\n        Else (feature 66 not in {1.0})\\n         Predict: 0.0\\n      Else (feature 85 > 27.575000762939453)\\n       If (feature 61 in {1.0})\\n        If (feature 78 in {1.0})\\n         Predict: 1.0\\n        Else (feature 78 not in {1.0})\\n         Predict: 0.0\\n       Else (feature 61 not in {1.0})\\n        If (feature 56 in {1.0})\\n         If (feature 89 <= 5.5)\\n          Predict: 1.0\\n         Else (feature 89 > 5.5)\\n          Predict: 0.0\\n        Else (feature 56 not in {1.0})\\n         If (feature 88 <= 8.5)\\n          Predict: 0.0\\n         Else (feature 88 > 8.5)\\n          Predict: 1.0\\n     Else (feature 1 not in {1.0})\\n      If (feature 84 in {1.0})\\n       If (feature 15 in {1.0})\\n        If (feature 69 in {1.0})\\n         Predict: 1.0\\n        Else (feature 69 not in {1.0})\\n         If (feature 88 <= 7.5)\\n          Predict: 0.0\\n         Else (feature 88 > 7.5)\\n          Predict: 1.0\\n       Else (feature 15 not in {1.0})\\n        If (feature 86 <= 2.5)\\n         Predict: 0.0\\n        Else (feature 86 > 2.5)\\n         Predict: 1.0\\n      Else (feature 84 not in {1.0})\\n       If (feature 88 <= 7.5)\\n        If (feature 90 <= 438.8371815476205)\\n         If (feature 54 in {1.0})\\n          Predict: 0.0\\n         Else (feature 54 not in {1.0})\\n          Predict: 1.0\\n        Else (feature 90 > 438.8371815476205)\\n         Predict: 1.0\\n       Else (feature 88 > 7.5)\\n        Predict: 1.0\\n  Tree 23 (weight 1.0):\\n    If (feature 89 <= 9.5)\\n     If (feature 73 in {0.0})\\n      If (feature 54 in {1.0})\\n       If (feature 74 in {0.0})\\n        Predict: 0.0\\n       Else (feature 74 not in {0.0})\\n        If (feature 87 <= 1.5)\\n         Predict: 0.0\\n        Else (feature 87 > 1.5)\\n         Predict: 1.0\\n      Else (feature 54 not in {1.0})\\n       If (feature 85 <= 43.31500053405762)\\n        If (feature 87 <= 1.5)\\n         If (feature 66 in {1.0})\\n          Predict: 1.0\\n         Else (feature 66 not in {1.0})\\n          Predict: 0.0\\n        Else (feature 87 > 1.5)\\n         If (feature 88 <= 5.5)\\n          Predict: 0.0\\n         Else (feature 88 > 5.5)\\n          Predict: 1.0\\n       Else (feature 85 > 43.31500053405762)\\n        If (feature 89 <= 1.5)\\n         If (feature 58 in {1.0})\\n          Predict: 1.0\\n         Else (feature 58 not in {1.0})\\n          Predict: 0.0\\n        Else (feature 89 > 1.5)\\n         Predict: 1.0\\n     Else (feature 73 not in {0.0})\\n      If (feature 54 in {1.0})\\n       If (feature 6 in {1.0})\\n        Predict: 0.0\\n       Else (feature 6 not in {1.0})\\n        If (feature 86 <= 2.5)\\n         Predict: 0.0\\n        Else (feature 86 > 2.5)\\n         If (feature 34 in {1.0})\\n          Predict: 0.0\\n         Else (feature 34 not in {1.0})\\n          Predict: 1.0\\n      Else (feature 54 not in {1.0})\\n       If (feature 86 <= 2.5)\\n        Predict: 0.0\\n       Else (feature 86 > 2.5)\\n        Predict: 1.0\\n    Else (feature 89 > 9.5)\\n     If (feature 53 in {1.0})\\n      If (feature 86 <= 2.5)\\n       If (feature 88 <= 5.5)\\n        Predict: 0.0\\n       Else (feature 88 > 5.5)\\n        Predict: 1.0\\n      Else (feature 86 > 2.5)\\n       Predict: 1.0\\n     Else (feature 53 not in {1.0})\\n      If (feature 73 in {0.0})\\n       If (feature 84 in {1.0})\\n        If (feature 85 <= 27.575000762939453)\\n         Predict: 0.0\\n        Else (feature 85 > 27.575000762939453)\\n         Predict: 1.0\\n       Else (feature 84 not in {1.0})\\n        If (feature 88 <= 6.5)\\n         Predict: 0.0\\n        Else (feature 88 > 6.5)\\n         Predict: 1.0\\n      Else (feature 73 not in {0.0})\\n       If (feature 26 in {1.0})\\n        If (feature 88 <= 5.5)\\n         Predict: 0.0\\n        Else (feature 88 > 5.5)\\n         Predict: 1.0\\n       Else (feature 26 not in {1.0})\\n        If (feature 88 <= 6.5)\\n         If (feature 20 in {1.0})\\n          Predict: 0.0\\n         Else (feature 20 not in {1.0})\\n          Predict: 1.0\\n        Else (feature 88 > 6.5)\\n         Predict: 1.0\\n  Tree 24 (weight 1.0):\\n    If (feature 1 in {1.0})\\n     If (feature 80 in {1.0})\\n      If (feature 87 <= 1.5)\\n       If (feature 52 in {1.0})\\n        Predict: 0.0\\n       Else (feature 52 not in {1.0})\\n        If (feature 56 in {1.0})\\n         Predict: 0.0\\n        Else (feature 56 not in {1.0})\\n         If (feature 59 in {1.0})\\n          Predict: 1.0\\n         Else (feature 59 not in {1.0})\\n          Predict: 0.0\\n      Else (feature 87 > 1.5)\\n       If (feature 82 in {1.0})\\n        If (feature 89 <= 3.5)\\n         Predict: 0.0\\n        Else (feature 89 > 3.5)\\n         Predict: 1.0\\n       Else (feature 82 not in {1.0})\\n        If (feature 89 <= 6.5)\\n         If (feature 88 <= 5.5)\\n          Predict: 0.0\\n         Else (feature 88 > 5.5)\\n          Predict: 1.0\\n        Else (feature 89 > 6.5)\\n         Predict: 1.0\\n     Else (feature 80 not in {1.0})\\n      If (feature 55 in {1.0})\\n       If (feature 78 in {1.0})\\n        If (feature 84 in {1.0})\\n         If (feature 89 <= 11.5)\\n          Predict: 0.0\\n         Else (feature 89 > 11.5)\\n          Predict: 1.0\\n        Else (feature 84 not in {1.0})\\n         Predict: 1.0\\n       Else (feature 78 not in {1.0})\\n        If (feature 88 <= 8.5)\\n         If (feature 86 <= 2.5)\\n          Predict: 0.0\\n         Else (feature 86 > 2.5)\\n          Predict: 1.0\\n        Else (feature 88 > 8.5)\\n         Predict: 1.0\\n      Else (feature 55 not in {1.0})\\n       If (feature 88 <= 6.5)\\n        If (feature 58 in {1.0})\\n         If (feature 86 <= 2.5)\\n          Predict: 0.0\\n         Else (feature 86 > 2.5)\\n          Predict: 1.0\\n        Else (feature 58 not in {1.0})\\n         Predict: 0.0\\n       Else (feature 88 > 6.5)\\n        Predict: 1.0\\n    Else (feature 1 not in {1.0})\\n     If (feature 3 in {1.0})\\n      If (feature 88 <= 6.5)\\n       If (feature 89 <= 19.5)\\n        If (feature 54 in {1.0})\\n         Predict: 0.0\\n        Else (feature 54 not in {1.0})\\n         If (feature 87 <= 1.5)\\n          Predict: 0.0\\n         Else (feature 87 > 1.5)\\n          Predict: 1.0\\n       Else (feature 89 > 19.5)\\n        Predict: 0.0\\n      Else (feature 88 > 6.5)\\n       If (feature 30 in {1.0})\\n        If (feature 88 <= 12.5)\\n         If (feature 88 <= 10.5)\\n          Predict: 1.0\\n         Else (feature 88 > 10.5)\\n          Predict: 0.0\\n        Else (feature 88 > 12.5)\\n         Predict: 1.0\\n       Else (feature 30 not in {1.0})\\n        If (feature 86 <= 15.5)\\n         Predict: 1.0\\n        Else (feature 86 > 15.5)\\n         If (feature 85 <= 43.31500053405762)\\n          Predict: 0.0\\n         Else (feature 85 > 43.31500053405762)\\n          Predict: 1.0\\n     Else (feature 3 not in {1.0})\\n      If (feature 85 <= 69.48500061035156)\\n       If (feature 7 in {1.0})\\n        Predict: 0.0\\n       Else (feature 7 not in {1.0})\\n        If (feature 86 <= 2.5)\\n         Predict: 0.0\\n        Else (feature 86 > 2.5)\\n         If (feature 54 in {1.0})\\n          Predict: 0.0\\n         Else (feature 54 not in {1.0})\\n          Predict: 1.0\\n      Else (feature 85 > 69.48500061035156)\\n       Predict: 1.0\\n  Tree 25 (weight 1.0):\\n    If (feature 73 in {0.0})\\n     If (feature 87 <= 1.5)\\n      If (feature 89 <= 9.5)\\n       If (feature 14 in {1.0})\\n        Predict: 0.0\\n       Else (feature 14 not in {1.0})\\n        If (feature 54 in {1.0})\\n         If (feature 88 <= 5.5)\\n          Predict: 0.0\\n         Else (feature 88 > 5.5)\\n          Predict: 1.0\\n        Else (feature 54 not in {1.0})\\n         If (feature 88 <= 4.5)\\n          Predict: 0.0\\n         Else (feature 88 > 4.5)\\n          Predict: 1.0\\n      Else (feature 89 > 9.5)\\n       If (feature 88 <= 8.5)\\n        If (feature 83 in {1.0})\\n         If (feature 88 <= 4.5)\\n          Predict: 0.0\\n         Else (feature 88 > 4.5)\\n          Predict: 1.0\\n        Else (feature 83 not in {1.0})\\n         Predict: 0.0\\n       Else (feature 88 > 8.5)\\n        Predict: 1.0\\n     Else (feature 87 > 1.5)\\n      If (feature 89 <= 5.5)\\n       If (feature 87 <= 18.5)\\n        If (feature 74 in {0.0})\\n         Predict: 0.0\\n        Else (feature 74 not in {0.0})\\n         If (feature 90 <= 217.90143832555933)\\n          Predict: 0.0\\n         Else (feature 90 > 217.90143832555933)\\n          Predict: 1.0\\n       Else (feature 87 > 18.5)\\n        If (feature 21 in {1.0})\\n         Predict: 1.0\\n        Else (feature 21 not in {1.0})\\n         Predict: 0.0\\n      Else (feature 89 > 5.5)\\n       If (feature 53 in {1.0})\\n        Predict: 1.0\\n       Else (feature 53 not in {1.0})\\n        If (feature 88 <= 5.5)\\n         Predict: 0.0\\n        Else (feature 88 > 5.5)\\n         Predict: 1.0\\n    Else (feature 73 not in {0.0})\\n     If (feature 88 <= 6.5)\\n      If (feature 55 in {1.0})\\n       If (feature 86 <= 2.5)\\n        Predict: 0.0\\n       Else (feature 86 > 2.5)\\n        If (feature 34 in {1.0})\\n         Predict: 0.0\\n        Else (feature 34 not in {1.0})\\n         If (feature 85 <= 283.5699920654297)\\n          Predict: 1.0\\n         Else (feature 85 > 283.5699920654297)\\n          Predict: 0.0\\n      Else (feature 55 not in {1.0})\\n       If (feature 90 <= 438.8371815476205)\\n        If (feature 88 <= 3.5)\\n         Predict: 0.0\\n        Else (feature 88 > 3.5)\\n         If (feature 88 <= 5.5)\\n          Predict: 0.0\\n         Else (feature 88 > 5.5)\\n          Predict: 1.0\\n       Else (feature 90 > 438.8371815476205)\\n        If (feature 87 <= 1.5)\\n         If (feature 86 <= 2.5)\\n          Predict: 0.0\\n         Else (feature 86 > 2.5)\\n          Predict: 1.0\\n        Else (feature 87 > 1.5)\\n         Predict: 1.0\\n     Else (feature 88 > 6.5)\\n      Predict: 1.0\\n  Tree 26 (weight 1.0):\\n    If (feature 88 <= 6.5)\\n     If (feature 0 in {0.0})\\n      If (feature 86 <= 2.5)\\n       Predict: 0.0\\n      Else (feature 86 > 2.5)\\n       If (feature 83 in {1.0})\\n        If (feature 18 in {1.0})\\n         If (feature 89 <= 9.5)\\n          Predict: 1.0\\n         Else (feature 89 > 9.5)\\n          Predict: 0.0\\n        Else (feature 18 not in {1.0})\\n         If (feature 64 in {1.0})\\n          Predict: 1.0\\n         Else (feature 64 not in {1.0})\\n          Predict: 0.0\\n       Else (feature 83 not in {1.0})\\n        If (feature 26 in {1.0})\\n         Predict: 1.0\\n        Else (feature 26 not in {1.0})\\n         Predict: 0.0\\n     Else (feature 0 not in {0.0})\\n      If (feature 73 in {0.0})\\n       If (feature 89 <= 16.5)\\n        If (feature 74 in {0.0})\\n         Predict: 0.0\\n        Else (feature 74 not in {0.0})\\n         If (feature 54 in {1.0})\\n          Predict: 0.0\\n         Else (feature 54 not in {1.0})\\n          Predict: 1.0\\n       Else (feature 89 > 16.5)\\n        Predict: 0.0\\n      Else (feature 73 not in {0.0})\\n       If (feature 85 <= 593.4250183105469)\\n        If (feature 83 in {1.0})\\n         Predict: 1.0\\n        Else (feature 83 not in {1.0})\\n         If (feature 59 in {1.0})\\n          Predict: 0.0\\n         Else (feature 59 not in {1.0})\\n          Predict: 1.0\\n       Else (feature 85 > 593.4250183105469)\\n        If (feature 88 <= 1.5)\\n         Predict: 0.0\\n        Else (feature 88 > 1.5)\\n         If (feature 86 <= 3.5)\\n          Predict: 0.0\\n         Else (feature 86 > 3.5)\\n          Predict: 1.0\\n    Else (feature 88 > 6.5)\\n     If (feature 3 in {1.0})\\n      If (feature 60 in {1.0})\\n       Predict: 1.0\\n      Else (feature 60 not in {1.0})\\n       If (feature 88 <= 18.5)\\n        If (feature 83 in {1.0})\\n         Predict: 1.0\\n        Else (feature 83 not in {1.0})\\n         If (feature 85 <= 27.575000762939453)\\n          Predict: 0.0\\n         Else (feature 85 > 27.575000762939453)\\n          Predict: 1.0\\n       Else (feature 88 > 18.5)\\n        Predict: 1.0\\n     Else (feature 3 not in {1.0})\\n      If (feature 55 in {1.0})\\n       If (feature 9 in {1.0})\\n        If (feature 87 <= 2.5)\\n         Predict: 0.0\\n        Else (feature 87 > 2.5)\\n         Predict: 1.0\\n       Else (feature 9 not in {1.0})\\n        Predict: 1.0\\n      Else (feature 55 not in {1.0})\\n       Predict: 1.0\\n  Tree 27 (weight 1.0):\\n    If (feature 0 in {0.0})\\n     If (feature 1 in {1.0})\\n      If (feature 86 <= 2.5)\\n       Predict: 0.0\\n      Else (feature 86 > 2.5)\\n       If (feature 82 in {1.0})\\n        If (feature 89 <= 8.5)\\n         If (feature 85 <= 27.575000762939453)\\n          Predict: 0.0\\n         Else (feature 85 > 27.575000762939453)\\n          Predict: 1.0\\n        Else (feature 89 > 8.5)\\n         Predict: 1.0\\n       Else (feature 82 not in {1.0})\\n        If (feature 87 <= 1.5)\\n         Predict: 0.0\\n        Else (feature 87 > 1.5)\\n         Predict: 1.0\\n     Else (feature 1 not in {1.0})\\n      If (feature 87 <= 1.5)\\n       If (feature 84 in {1.0})\\n        If (feature 86 <= 7.5)\\n         If (feature 86 <= 2.5)\\n          Predict: 0.0\\n         Else (feature 86 > 2.5)\\n          Predict: 1.0\\n        Else (feature 86 > 7.5)\\n         If (feature 88 <= 14.5)\\n          Predict: 0.0\\n         Else (feature 88 > 14.5)\\n          Predict: 1.0\\n       Else (feature 84 not in {1.0})\\n        If (feature 5 in {1.0})\\n         If (feature 86 <= 2.5)\\n          Predict: 0.0\\n         Else (feature 86 > 2.5)\\n          Predict: 1.0\\n        Else (feature 5 not in {1.0})\\n         Predict: 0.0\\n      Else (feature 87 > 1.5)\\n       If (feature 37 in {1.0})\\n        If (feature 84 in {1.0})\\n         Predict: 0.0\\n        Else (feature 84 not in {1.0})\\n         If (feature 88 <= 7.5)\\n          Predict: 0.0\\n         Else (feature 88 > 7.5)\\n          Predict: 1.0\\n       Else (feature 37 not in {1.0})\\n        If (feature 82 in {1.0})\\n         If (feature 88 <= 5.5)\\n          Predict: 0.0\\n         Else (feature 88 > 5.5)\\n          Predict: 1.0\\n        Else (feature 82 not in {1.0})\\n         If (feature 10 in {1.0})\\n          Predict: 0.0\\n         Else (feature 10 not in {1.0})\\n          Predict: 1.0\\n    Else (feature 0 not in {0.0})\\n     If (feature 57 in {1.0})\\n      If (feature 89 <= 13.5)\\n       If (feature 89 <= 3.5)\\n        Predict: 1.0\\n       Else (feature 89 > 3.5)\\n        If (feature 83 in {1.0})\\n         Predict: 1.0\\n        Else (feature 83 not in {1.0})\\n         If (feature 85 <= 334.510009765625)\\n          Predict: 1.0\\n         Else (feature 85 > 334.510009765625)\\n          Predict: 0.0\\n      Else (feature 89 > 13.5)\\n       If (feature 77 in {1.0})\\n        If (feature 85 <= 463.18499755859375)\\n         Predict: 1.0\\n        Else (feature 85 > 463.18499755859375)\\n         Predict: 0.0\\n       Else (feature 77 not in {1.0})\\n        Predict: 1.0\\n     Else (feature 57 not in {1.0})\\n      If (feature 88 <= 6.5)\\n       If (feature 88 <= 2.5)\\n        If (feature 74 in {1.0})\\n         Predict: 0.0\\n        Else (feature 74 not in {1.0})\\n         If (feature 88 <= 1.5)\\n          Predict: 0.0\\n         Else (feature 88 > 1.5)\\n          Predict: 1.0\\n       Else (feature 88 > 2.5)\\n        If (feature 17 in {1.0})\\n         If (feature 87 <= 1.5)\\n          Predict: 0.0\\n         Else (feature 87 > 1.5)\\n          Predict: 1.0\\n        Else (feature 17 not in {1.0})\\n         If (feature 59 in {1.0})\\n          Predict: 0.0\\n         Else (feature 59 not in {1.0})\\n          Predict: 1.0\\n      Else (feature 88 > 6.5)\\n       Predict: 1.0\\n  Tree 28 (weight 1.0):\\n    If (feature 13 in {0.0})\\n     If (feature 14 in {1.0})\\n      If (feature 84 in {1.0})\\n       If (feature 78 in {1.0})\\n        If (feature 85 <= 251.1050033569336)\\n         Predict: 0.0\\n        Else (feature 85 > 251.1050033569336)\\n         If (feature 86 <= 28.5)\\n          Predict: 0.0\\n         Else (feature 86 > 28.5)\\n          Predict: 1.0\\n       Else (feature 78 not in {1.0})\\n        If (feature 66 in {1.0})\\n         Predict: 1.0\\n        Else (feature 66 not in {1.0})\\n         If (feature 54 in {1.0})\\n          Predict: 0.0\\n         Else (feature 54 not in {1.0})\\n          Predict: 1.0\\n      Else (feature 84 not in {1.0})\\n       If (feature 89 <= 6.5)\\n        If (feature 65 in {1.0})\\n         If (feature 82 in {1.0})\\n          Predict: 1.0\\n         Else (feature 82 not in {1.0})\\n          Predict: 0.0\\n        Else (feature 65 not in {1.0})\\n         If (feature 88 <= 2.5)\\n          Predict: 0.0\\n         Else (feature 88 > 2.5)\\n          Predict: 1.0\\n       Else (feature 89 > 6.5)\\n        If (feature 85 <= 27.575000762939453)\\n         Predict: 0.0\\n        Else (feature 85 > 27.575000762939453)\\n         If (feature 56 in {1.0})\\n          Predict: 0.0\\n         Else (feature 56 not in {1.0})\\n          Predict: 1.0\\n     Else (feature 14 not in {1.0})\\n      If (feature 88 <= 7.5)\\n       If (feature 87 <= 1.5)\\n        Predict: 0.0\\n       Else (feature 87 > 1.5)\\n        If (feature 34 in {1.0})\\n         If (feature 86 <= 16.5)\\n          Predict: 0.0\\n         Else (feature 86 > 16.5)\\n          Predict: 1.0\\n        Else (feature 34 not in {1.0})\\n         If (feature 85 <= 102.19500350952148)\\n          Predict: 0.0\\n         Else (feature 85 > 102.19500350952148)\\n          Predict: 1.0\\n      Else (feature 88 > 7.5)\\n       Predict: 1.0\\n    Else (feature 13 not in {0.0})\\n     If (feature 55 in {1.0})\\n      Predict: 1.0\\n     Else (feature 55 not in {1.0})\\n      If (feature 52 in {0.0})\\n       If (feature 59 in {1.0})\\n        If (feature 83 in {1.0})\\n         If (feature 86 <= 8.5)\\n          Predict: 1.0\\n         Else (feature 86 > 8.5)\\n          Predict: 0.0\\n        Else (feature 83 not in {1.0})\\n         If (feature 77 in {1.0})\\n          Predict: 1.0\\n         Else (feature 77 not in {1.0})\\n          Predict: 0.0\\n       Else (feature 59 not in {1.0})\\n        If (feature 80 in {1.0})\\n         Predict: 1.0\\n        Else (feature 80 not in {1.0})\\n         If (feature 86 <= 2.5)\\n          Predict: 0.0\\n         Else (feature 86 > 2.5)\\n          Predict: 1.0\\n      Else (feature 52 not in {0.0})\\n       Predict: 1.0\\n  Tree 29 (weight 1.0):\\n    If (feature 90 <= 438.8371815476205)\\n     If (feature 86 <= 2.5)\\n      Predict: 0.0\\n     Else (feature 86 > 2.5)\\n      If (feature 54 in {1.0})\\n       If (feature 14 in {1.0})\\n        If (feature 83 in {1.0})\\n         Predict: 1.0\\n        Else (feature 83 not in {1.0})\\n         If (feature 87 <= 1.5)\\n          Predict: 0.0\\n         Else (feature 87 > 1.5)\\n          Predict: 1.0\\n       Else (feature 14 not in {1.0})\\n        If (feature 34 in {1.0})\\n         Predict: 0.0\\n        Else (feature 34 not in {1.0})\\n         If (feature 85 <= 27.575000762939453)\\n          Predict: 0.0\\n         Else (feature 85 > 27.575000762939453)\\n          Predict: 1.0\\n      Else (feature 54 not in {1.0})\\n       If (feature 86 <= 20.5)\\n        If (feature 33 in {1.0})\\n         Predict: 0.0\\n        Else (feature 33 not in {1.0})\\n         Predict: 1.0\\n       Else (feature 86 > 20.5)\\n        If (feature 27 in {1.0})\\n         If (feature 76 in {1.0})\\n          Predict: 1.0\\n         Else (feature 76 not in {1.0})\\n          Predict: 0.0\\n        Else (feature 27 not in {1.0})\\n         Predict: 0.0\\n    Else (feature 90 > 438.8371815476205)\\n     If (feature 89 <= 13.5)\\n      If (feature 86 <= 2.5)\\n       Predict: 0.0\\n      Else (feature 86 > 2.5)\\n       If (feature 35 in {1.0})\\n        If (feature 85 <= 283.5699920654297)\\n         If (feature 87 <= 3.5)\\n          Predict: 0.0\\n         Else (feature 87 > 3.5)\\n          Predict: 1.0\\n        Else (feature 85 > 283.5699920654297)\\n         If (feature 87 <= 3.5)\\n          Predict: 0.0\\n         Else (feature 87 > 3.5)\\n          Predict: 1.0\\n       Else (feature 35 not in {1.0})\\n        If (feature 13 in {0.0})\\n         If (feature 86 <= 3.5)\\n          Predict: 0.0\\n         Else (feature 86 > 3.5)\\n          Predict: 1.0\\n        Else (feature 13 not in {0.0})\\n         Predict: 1.0\\n     Else (feature 89 > 13.5)\\n      Predict: 1.0\\n'"
      ]
     },
     "execution_count": 36,
     "metadata": {},
     "output_type": "execute_result"
    }
   ],
   "source": [
    "best_forest.toDebugString"
   ]
  },
  {
   "cell_type": "code",
   "execution_count": 37,
   "metadata": {},
   "outputs": [],
   "source": [
    "best_forest.save('random_forest_model')"
   ]
  },
  {
   "cell_type": "code",
   "execution_count": 38,
   "metadata": {
    "scrolled": false
   },
   "outputs": [
    {
     "data": {
      "text/plain": [
       "RandomForestClassificationModel (uid=RandomForestClassifier_1c65d13eaa9b) with 30 trees"
      ]
     },
     "execution_count": 38,
     "metadata": {},
     "output_type": "execute_result"
    }
   ],
   "source": [
    "best_forest"
   ]
  },
  {
   "cell_type": "code",
   "execution_count": null,
   "metadata": {},
   "outputs": [],
   "source": []
  }
 ],
 "metadata": {
  "kernelspec": {
   "display_name": "Python 3",
   "language": "python",
   "name": "python3"
  },
  "language_info": {
   "codemirror_mode": {
    "name": "ipython",
    "version": 3
   },
   "file_extension": ".py",
   "mimetype": "text/x-python",
   "name": "python",
   "nbconvert_exporter": "python",
   "pygments_lexer": "ipython3",
   "version": "3.8.5"
  }
 },
 "nbformat": 4,
 "nbformat_minor": 4
}
