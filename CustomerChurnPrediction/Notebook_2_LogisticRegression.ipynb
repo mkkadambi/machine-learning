{
 "cells": [
  {
   "cell_type": "code",
   "execution_count": 1,
   "metadata": {},
   "outputs": [],
   "source": [
    "# Setting the environment variables"
   ]
  },
  {
   "cell_type": "code",
   "execution_count": 1,
   "metadata": {},
   "outputs": [],
   "source": [
    "import os\n",
    "import sys\n",
    "os.environ[\"PYSPARK_PYTHON\"]=\"/usr/bin/python3\"\n",
    "os.environ[\"PYSPARK_DRIVER_PYTHON\"]=\"/usr/bin/python3\"\n",
    "os.environ[\"PYSPARK_DRIVER_PYTHON_OPTS\"]=\"notebook --no-browser\"\n",
    "os.environ[\"JAVA_HOME\"] = \"/usr/java/jdk1.8.0_161/jre\"\n",
    "os.environ[\"SPARK_HOME\"] = \"/home/ec2-user/spark-2.4.4-bin-hadoop2.7\"\n",
    "os.environ[\"PYLIB\"] = os.environ[\"SPARK_HOME\"] + \"/python/lib\"\n",
    "sys.path.insert(0, os.environ[\"PYLIB\"] + \"/py4j-0.10.7-src.zip\")\n",
    "sys.path.insert(0, os.environ[\"PYLIB\"] + \"/pyspark.zip\")"
   ]
  },
  {
   "cell_type": "code",
   "execution_count": 2,
   "metadata": {},
   "outputs": [],
   "source": [
    "# Flag to force only 10% data to be selected from the dataset\n",
    "# This was used only during the initial development of the code\n",
    "# DONOT set this to True and finalize any inference \n",
    "use_small_sample = False\n",
    "load_from_existing_features_dataset = True\n",
    "save_features_dataset=False"
   ]
  },
  {
   "cell_type": "markdown",
   "metadata": {},
   "source": [
    "# Ecommerce Churn Assignment"
   ]
  },
  {
   "cell_type": "markdown",
   "metadata": {},
   "source": [
    "The aim of the assignment is to build a model that predicts whether a person purchases an item after it has been added to the cart or not. Being a classification problem, you are expected to use your understanding of all the three models covered till now. You must select the most robust model and provide a solution that predicts the churn in the most suitable manner. \n",
    "\n",
    "For this assignment, you are provided the data associated with an e-commerce company for the month of October 2019. Your task is to first analyse the data, and then perform multiple steps towards the model building process.\n",
    "\n",
    "The broad tasks are:\n",
    "- Data Exploration\n",
    "- Feature Engineering\n",
    "- Model Selection\n",
    "- Model Inference"
   ]
  },
  {
   "cell_type": "markdown",
   "metadata": {},
   "source": [
    "### Data description"
   ]
  },
  {
   "cell_type": "markdown",
   "metadata": {},
   "source": [
    "The dataset stores the information of a customer session on the e-commerce platform. It records the activity and the associated parameters with it.\n",
    "\n",
    "- **event_time**: Date and time when user accesses the platform\n",
    "- **event_type**: Action performed by the customer\n",
    "            - View\n",
    "            - Cart\n",
    "            - Purchase\n",
    "            - Remove from cart\n",
    "- **product_id**: Unique number to identify the product in the event\n",
    "- **category_id**: Unique number to identify the category of the product\n",
    "- **category_code**: Stores primary and secondary categories of the product\n",
    "- **brand**: Brand associated with the product\n",
    "- **price**: Price of the product\n",
    "- **user_id**: Unique ID for a customer\n",
    "- **user_session**: Session ID for a user\n"
   ]
  },
  {
   "cell_type": "markdown",
   "metadata": {},
   "source": [
    "### Initialising the SparkSession"
   ]
  },
  {
   "cell_type": "markdown",
   "metadata": {},
   "source": [
    "The dataset provided is 5 GBs in size. Therefore, it is expected that you increase the driver memory to a greater number. You can refer to notebook 1 for the steps involved here."
   ]
  },
  {
   "cell_type": "code",
   "execution_count": 3,
   "metadata": {},
   "outputs": [
    {
     "data": {
      "text/html": [
       "\n",
       "            <div>\n",
       "                <p><b>SparkSession - in-memory</b></p>\n",
       "                \n",
       "        <div>\n",
       "            <p><b>SparkContext</b></p>\n",
       "\n",
       "            <p><a href=\"http://ip-172-31-93-40.ec2.internal:4040\">Spark UI</a></p>\n",
       "\n",
       "            <dl>\n",
       "              <dt>Version</dt>\n",
       "                <dd><code>v2.4.4</code></dd>\n",
       "              <dt>Master</dt>\n",
       "                <dd><code>local[*]</code></dd>\n",
       "              <dt>AppName</dt>\n",
       "                <dd><code>log_reg</code></dd>\n",
       "            </dl>\n",
       "        </div>\n",
       "        \n",
       "            </div>\n",
       "        "
      ],
      "text/plain": [
       "<pyspark.sql.session.SparkSession at 0x7f3df4111450>"
      ]
     },
     "execution_count": 3,
     "metadata": {},
     "output_type": "execute_result"
    }
   ],
   "source": [
    "from pyspark import SparkConf\n",
    "from pyspark.sql import SparkSession\n",
    "\n",
    "# initialising the session with 14 GB driver memory\n",
    "MAX_MEMORY = \"14G\"\n",
    "\n",
    "spark = SparkSession \\\n",
    "    .builder \\\n",
    "    .appName(\"log_reg\") \\\n",
    "    .config(\"spark.driver.memory\", MAX_MEMORY) \\\n",
    "    .getOrCreate()\n",
    "\n",
    "spark"
   ]
  },
  {
   "cell_type": "code",
   "execution_count": 4,
   "metadata": {},
   "outputs": [
    {
     "name": "stdout",
     "output_type": "stream",
     "text": [
      "spark.driver.memory = 14G\n"
     ]
    }
   ],
   "source": [
    "\n",
    "print('spark.driver.memory =', spark.sparkContext.getConf().get('spark.driver.memory'))\n"
   ]
  },
  {
   "cell_type": "code",
   "execution_count": 5,
   "metadata": {},
   "outputs": [],
   "source": [
    "# Loading the clean data\n",
    "\n",
    "if use_small_sample == True:\n",
    "    df= spark.read.parquet(\"cleaned_df.parquet\")\n",
    "    df = df.randomSplit([.05, .95], seed=12)[0]\n",
    "else:\n",
    "    df= spark.read.parquet(\"cleaned_df.parquet\")"
   ]
  },
  {
   "cell_type": "code",
   "execution_count": 6,
   "metadata": {},
   "outputs": [
    {
     "data": {
      "text/plain": [
       "898441"
      ]
     },
     "execution_count": 6,
     "metadata": {},
     "output_type": "execute_result"
    }
   ],
   "source": [
    "df.count()"
   ]
  },
  {
   "cell_type": "code",
   "execution_count": 8,
   "metadata": {},
   "outputs": [
    {
     "name": "stdout",
     "output_type": "stream",
     "text": [
      "+-----------+----------+-------+---------+--------------+-----------+----------+---------+-------------+--------------+------------------+---------------------+-----------------+----+---------+------------+\n",
      "|  cat_0_cln|product_id|  price|  user_id|category_level|day_of_week| cat_1_cln|brand_cln|session_count|activity_count|product_view_count|second_cat_view_count|        avg_price|hour|hour_bins|is_purchased|\n",
      "+-----------+----------+-------+---------+--------------+-----------+----------+---------+-------------+--------------+------------------+---------------------+-----------------+----+---------+------------+\n",
      "|electronics|   1004873| 380.28|463643038|             2|          1|smartphone|  samsung|            2|             1|                 1|                    1|493.3872257223995|  16|      2.0|           0|\n",
      "|electronics|   1004767| 246.52|480835273|             2|          6|smartphone|  samsung|            5|             1|                 3|                    3|493.3872257223995|  12|      2.0|           1|\n",
      "|electronics|   1801623| 389.92|486159710|             3|          2|     video|       lg|           10|             1|                 4|                    7|493.3872257223995|  17|      2.0|           0|\n",
      "|electronics|   1005124|1671.34|491768506|             2|          1|smartphone|    apple|            9|             1|                 9|                   18|493.3872257223995|  14|      2.0|           0|\n",
      "|electronics|   1004856| 131.64|495683877|             2|          4|smartphone|  samsung|            3|             1|                 3|                    3|493.3872257223995|  11|      1.0|           0|\n",
      "+-----------+----------+-------+---------+--------------+-----------+----------+---------+-------------+--------------+------------------+---------------------+-----------------+----+---------+------------+\n",
      "only showing top 5 rows\n",
      "\n"
     ]
    }
   ],
   "source": [
    "df.show(5)"
   ]
  },
  {
   "cell_type": "code",
   "execution_count": 9,
   "metadata": {},
   "outputs": [
    {
     "name": "stdout",
     "output_type": "stream",
     "text": [
      "+------------+------+\n",
      "|is_purchased| count|\n",
      "+------------+------+\n",
      "|           1|545347|\n",
      "|           0|353094|\n",
      "+------------+------+\n",
      "\n"
     ]
    }
   ],
   "source": [
    "df.groupBy('is_purchased').count().show()"
   ]
  },
  {
   "cell_type": "code",
   "execution_count": 7,
   "metadata": {},
   "outputs": [],
   "source": [
    "from pyspark.sql import functions as F\n",
    "from pyspark.ml.feature import OneHotEncoder, StringIndexer, VectorAssembler\n",
    "from pyspark.ml.feature import ChiSqSelector\n",
    "from pyspark.ml import Pipeline\n",
    "\n",
    "from pyspark.ml.classification import LogisticRegression\n",
    "from pyspark.ml.evaluation import MulticlassClassificationEvaluator\n"
   ]
  },
  {
   "cell_type": "code",
   "execution_count": 8,
   "metadata": {},
   "outputs": [],
   "source": [
    "import numpy as np\n",
    "import pandas as pd\n",
    "import matplotlib.pyplot as plt\n",
    "import seaborn as sns"
   ]
  },
  {
   "cell_type": "markdown",
   "metadata": {},
   "source": [
    "<hr>"
   ]
  },
  {
   "cell_type": "markdown",
   "metadata": {},
   "source": [
    "## Task 3: Model Selection\n",
    "3 models for classification:\t\n",
    "- Logistic Regression\n",
    "- Decision Tree\n",
    "- Random Forest"
   ]
  },
  {
   "cell_type": "markdown",
   "metadata": {},
   "source": [
    "### Model 1: Logistic Regression"
   ]
  },
  {
   "cell_type": "code",
   "execution_count": 12,
   "metadata": {},
   "outputs": [
    {
     "data": {
      "text/plain": [
       "[('cat_0_cln', 'string'),\n",
       " ('product_id', 'string'),\n",
       " ('price', 'float'),\n",
       " ('user_id', 'string'),\n",
       " ('category_level', 'int'),\n",
       " ('day_of_week', 'int'),\n",
       " ('cat_1_cln', 'string'),\n",
       " ('brand_cln', 'string'),\n",
       " ('session_count', 'bigint'),\n",
       " ('activity_count', 'bigint'),\n",
       " ('product_view_count', 'bigint'),\n",
       " ('second_cat_view_count', 'bigint'),\n",
       " ('avg_price', 'double'),\n",
       " ('hour', 'int'),\n",
       " ('hour_bins', 'double'),\n",
       " ('is_purchased', 'int')]"
      ]
     },
     "execution_count": 12,
     "metadata": {},
     "output_type": "execute_result"
    }
   ],
   "source": [
    "df.dtypes"
   ]
  },
  {
   "cell_type": "code",
   "execution_count": 9,
   "metadata": {},
   "outputs": [],
   "source": [
    "numeric_cols = ['price', 'session_count', 'activity_count',\n",
    "                'product_view_count', 'second_cat_view_count',\n",
    "                'avg_price'\n",
    "               ]\n",
    "\n",
    "# List of categorical string columns\n",
    "categorical_str_cols = ['cat_0_cln', 'cat_1_cln', 'brand_cln']\n",
    "\n",
    "# list of categorical numeric columns\n",
    "categorical_num_cols = ['category_level', 'day_of_week', 'hour', 'hour_bins']"
   ]
  },
  {
   "cell_type": "code",
   "execution_count": 14,
   "metadata": {},
   "outputs": [
    {
     "data": {
      "text/html": [
       "<div>\n",
       "<style scoped>\n",
       "    .dataframe tbody tr th:only-of-type {\n",
       "        vertical-align: middle;\n",
       "    }\n",
       "\n",
       "    .dataframe tbody tr th {\n",
       "        vertical-align: top;\n",
       "    }\n",
       "\n",
       "    .dataframe thead th {\n",
       "        text-align: right;\n",
       "    }\n",
       "</style>\n",
       "<table border=\"1\" class=\"dataframe\">\n",
       "  <thead>\n",
       "    <tr style=\"text-align: right;\">\n",
       "      <th></th>\n",
       "      <th>price</th>\n",
       "      <th>session_count</th>\n",
       "      <th>activity_count</th>\n",
       "      <th>product_view_count</th>\n",
       "      <th>second_cat_view_count</th>\n",
       "      <th>avg_price</th>\n",
       "      <th>category_level</th>\n",
       "      <th>day_of_week</th>\n",
       "      <th>hour</th>\n",
       "      <th>hour_bins</th>\n",
       "    </tr>\n",
       "  </thead>\n",
       "  <tbody>\n",
       "    <tr>\n",
       "      <th>price</th>\n",
       "      <td>1.000000</td>\n",
       "      <td>-0.057051</td>\n",
       "      <td>-0.021417</td>\n",
       "      <td>0.047003</td>\n",
       "      <td>0.033736</td>\n",
       "      <td>0.300513</td>\n",
       "      <td>0.081688</td>\n",
       "      <td>0.002161</td>\n",
       "      <td>0.033512</td>\n",
       "      <td>0.033664</td>\n",
       "    </tr>\n",
       "    <tr>\n",
       "      <th>session_count</th>\n",
       "      <td>-0.057051</td>\n",
       "      <td>1.000000</td>\n",
       "      <td>0.487767</td>\n",
       "      <td>0.127373</td>\n",
       "      <td>0.266267</td>\n",
       "      <td>-0.084637</td>\n",
       "      <td>0.010645</td>\n",
       "      <td>0.001337</td>\n",
       "      <td>0.061439</td>\n",
       "      <td>0.057155</td>\n",
       "    </tr>\n",
       "    <tr>\n",
       "      <th>activity_count</th>\n",
       "      <td>-0.021417</td>\n",
       "      <td>0.487767</td>\n",
       "      <td>1.000000</td>\n",
       "      <td>0.097497</td>\n",
       "      <td>0.068533</td>\n",
       "      <td>0.033637</td>\n",
       "      <td>0.008600</td>\n",
       "      <td>0.004751</td>\n",
       "      <td>-0.004884</td>\n",
       "      <td>-0.003371</td>\n",
       "    </tr>\n",
       "    <tr>\n",
       "      <th>product_view_count</th>\n",
       "      <td>0.047003</td>\n",
       "      <td>0.127373</td>\n",
       "      <td>0.097497</td>\n",
       "      <td>1.000000</td>\n",
       "      <td>0.520714</td>\n",
       "      <td>0.020543</td>\n",
       "      <td>0.008004</td>\n",
       "      <td>0.000256</td>\n",
       "      <td>-0.012385</td>\n",
       "      <td>-0.010035</td>\n",
       "    </tr>\n",
       "    <tr>\n",
       "      <th>second_cat_view_count</th>\n",
       "      <td>0.033736</td>\n",
       "      <td>0.266267</td>\n",
       "      <td>0.068533</td>\n",
       "      <td>0.520714</td>\n",
       "      <td>1.000000</td>\n",
       "      <td>-0.017975</td>\n",
       "      <td>-0.048058</td>\n",
       "      <td>0.000051</td>\n",
       "      <td>0.006949</td>\n",
       "      <td>0.007295</td>\n",
       "    </tr>\n",
       "    <tr>\n",
       "      <th>avg_price</th>\n",
       "      <td>0.300513</td>\n",
       "      <td>-0.084637</td>\n",
       "      <td>0.033637</td>\n",
       "      <td>0.020543</td>\n",
       "      <td>-0.017975</td>\n",
       "      <td>1.000000</td>\n",
       "      <td>0.309274</td>\n",
       "      <td>0.004509</td>\n",
       "      <td>0.009728</td>\n",
       "      <td>0.011438</td>\n",
       "    </tr>\n",
       "    <tr>\n",
       "      <th>category_level</th>\n",
       "      <td>0.081688</td>\n",
       "      <td>0.010645</td>\n",
       "      <td>0.008600</td>\n",
       "      <td>0.008004</td>\n",
       "      <td>-0.048058</td>\n",
       "      <td>0.309274</td>\n",
       "      <td>1.000000</td>\n",
       "      <td>0.000327</td>\n",
       "      <td>0.000236</td>\n",
       "      <td>0.001581</td>\n",
       "    </tr>\n",
       "    <tr>\n",
       "      <th>day_of_week</th>\n",
       "      <td>0.002161</td>\n",
       "      <td>0.001337</td>\n",
       "      <td>0.004751</td>\n",
       "      <td>0.000256</td>\n",
       "      <td>0.000051</td>\n",
       "      <td>0.004509</td>\n",
       "      <td>0.000327</td>\n",
       "      <td>1.000000</td>\n",
       "      <td>0.000543</td>\n",
       "      <td>0.001284</td>\n",
       "    </tr>\n",
       "    <tr>\n",
       "      <th>hour</th>\n",
       "      <td>0.033512</td>\n",
       "      <td>0.061439</td>\n",
       "      <td>-0.004884</td>\n",
       "      <td>-0.012385</td>\n",
       "      <td>0.006949</td>\n",
       "      <td>0.009728</td>\n",
       "      <td>0.000236</td>\n",
       "      <td>0.000543</td>\n",
       "      <td>1.000000</td>\n",
       "      <td>0.943733</td>\n",
       "    </tr>\n",
       "    <tr>\n",
       "      <th>hour_bins</th>\n",
       "      <td>0.033664</td>\n",
       "      <td>0.057155</td>\n",
       "      <td>-0.003371</td>\n",
       "      <td>-0.010035</td>\n",
       "      <td>0.007295</td>\n",
       "      <td>0.011438</td>\n",
       "      <td>0.001581</td>\n",
       "      <td>0.001284</td>\n",
       "      <td>0.943733</td>\n",
       "      <td>1.000000</td>\n",
       "    </tr>\n",
       "  </tbody>\n",
       "</table>\n",
       "</div>"
      ],
      "text/plain": [
       "                          price  session_count  activity_count  \\\n",
       "price                  1.000000      -0.057051       -0.021417   \n",
       "session_count         -0.057051       1.000000        0.487767   \n",
       "activity_count        -0.021417       0.487767        1.000000   \n",
       "product_view_count     0.047003       0.127373        0.097497   \n",
       "second_cat_view_count  0.033736       0.266267        0.068533   \n",
       "avg_price              0.300513      -0.084637        0.033637   \n",
       "category_level         0.081688       0.010645        0.008600   \n",
       "day_of_week            0.002161       0.001337        0.004751   \n",
       "hour                   0.033512       0.061439       -0.004884   \n",
       "hour_bins              0.033664       0.057155       -0.003371   \n",
       "\n",
       "                       product_view_count  second_cat_view_count  avg_price  \\\n",
       "price                            0.047003               0.033736   0.300513   \n",
       "session_count                    0.127373               0.266267  -0.084637   \n",
       "activity_count                   0.097497               0.068533   0.033637   \n",
       "product_view_count               1.000000               0.520714   0.020543   \n",
       "second_cat_view_count            0.520714               1.000000  -0.017975   \n",
       "avg_price                        0.020543              -0.017975   1.000000   \n",
       "category_level                   0.008004              -0.048058   0.309274   \n",
       "day_of_week                      0.000256               0.000051   0.004509   \n",
       "hour                            -0.012385               0.006949   0.009728   \n",
       "hour_bins                       -0.010035               0.007295   0.011438   \n",
       "\n",
       "                       category_level  day_of_week      hour  hour_bins  \n",
       "price                        0.081688     0.002161  0.033512   0.033664  \n",
       "session_count                0.010645     0.001337  0.061439   0.057155  \n",
       "activity_count               0.008600     0.004751 -0.004884  -0.003371  \n",
       "product_view_count           0.008004     0.000256 -0.012385  -0.010035  \n",
       "second_cat_view_count       -0.048058     0.000051  0.006949   0.007295  \n",
       "avg_price                    0.309274     0.004509  0.009728   0.011438  \n",
       "category_level               1.000000     0.000327  0.000236   0.001581  \n",
       "day_of_week                  0.000327     1.000000  0.000543   0.001284  \n",
       "hour                         0.000236     0.000543  1.000000   0.943733  \n",
       "hour_bins                    0.001581     0.001284  0.943733   1.000000  "
      ]
     },
     "execution_count": 14,
     "metadata": {},
     "output_type": "execute_result"
    }
   ],
   "source": [
    "cols = numeric_cols + categorical_num_cols\n",
    "# Additional steps for Logistic regression - Feature selection, Correlation, etc.\n",
    "heatmap = np.zeros((len(cols), len(cols)), dtype=float)\n",
    "for i, col_i in enumerate(cols):\n",
    "    for j, col_j in enumerate(cols):\n",
    "        heatmap[i, j] = df.corr(col_i, col_j)\n",
    "\n",
    "heatmap_df = pd.DataFrame(data=heatmap, index=cols, columns=cols)\n",
    "heatmap_df"
   ]
  },
  {
   "cell_type": "code",
   "execution_count": 15,
   "metadata": {},
   "outputs": [
    {
     "data": {
      "text/plain": [
       "<AxesSubplot:>"
      ]
     },
     "execution_count": 15,
     "metadata": {},
     "output_type": "execute_result"
    },
    {
     "data": {
      "image/png": "[encoded data removed]",
      "text/plain": [
       "<Figure size 864x864 with 2 Axes>"
      ]
     },
     "metadata": {
      "needs_background": "light"
     },
     "output_type": "display_data"
    }
   ],
   "source": [
    "plt.figure(figsize=(12,12))\n",
    "sns.heatmap(heatmap_df, annot=True, cmap='Greens')"
   ]
  },
  {
   "cell_type": "code",
   "execution_count": null,
   "metadata": {},
   "outputs": [],
   "source": []
  },
  {
   "cell_type": "code",
   "execution_count": 10,
   "metadata": {},
   "outputs": [
    {
     "name": "stdout",
     "output_type": "stream",
     "text": [
      "Number of different values in cat_0_cln = Row(count(DISTINCT cat_0_cln)=14)\n",
      "Number of different values in cat_1_cln = Row(count(DISTINCT cat_1_cln)=40)\n",
      "Number of different values in brand_cln = Row(count(DISTINCT brand_cln)=20)\n",
      "Number of different values in category_level = Row(count(DISTINCT category_level)=4)\n",
      "Number of different values in day_of_week = Row(count(DISTINCT day_of_week)=7)\n",
      "Number of different values in hour = Row(count(DISTINCT hour)=24)\n",
      "Number of different values in hour_bins = Row(count(DISTINCT hour_bins)=4)\n"
     ]
    }
   ],
   "source": [
    "\n",
    "# Listing number of distinct values in categorical columns\n",
    "\n",
    "for col in categorical_str_cols + categorical_num_cols:\n",
    "    print(f'Number of different values in {col} = {df.agg(F.countDistinct(col)).collect()[0]}')\n"
   ]
  },
  {
   "cell_type": "code",
   "execution_count": 17,
   "metadata": {},
   "outputs": [],
   "source": [
    "#\n",
    "stages = []\n",
    "# Creating a pipeline for Feature Transformations\n",
    "# Starting with the categorical string cols\n",
    "for col in categorical_str_cols:\n",
    "    # Encode the strings in the col with an index\n",
    "    indexer = StringIndexer(inputCol=col,\n",
    "                            outputCol = col + '_ix',\n",
    "                           )\n",
    "    # OHE the indices in the col\n",
    "    stages +=[indexer]\n",
    "    \n"
   ]
  },
  {
   "cell_type": "code",
   "execution_count": 18,
   "metadata": {},
   "outputs": [
    {
     "name": "stdout",
     "output_type": "stream",
     "text": [
      "stages = \n"
     ]
    },
    {
     "data": {
      "text/plain": [
       "[StringIndexer_e949fc70849b,\n",
       " StringIndexer_0c53753f0741,\n",
       " StringIndexer_1386e45a1f61,\n",
       " VectorAssembler_5fc26c30b71b]"
      ]
     },
     "execution_count": 18,
     "metadata": {},
     "output_type": "execute_result"
    }
   ],
   "source": [
    "# Vector assembler to combine all the features\n",
    "# Add a Vector Assembler to the pipeline stages\n",
    "vector_input_cols = [c + '_ix' for c in categorical_str_cols] + \\\n",
    "                    categorical_num_cols\n",
    "\n",
    "vector = VectorAssembler(inputCols = vector_input_cols,\n",
    "                         outputCol = 'cat_features'\n",
    "                        )\n",
    "stages.append(vector)\n",
    "\n",
    "print('stages = ')\n",
    "stages"
   ]
  },
  {
   "cell_type": "code",
   "execution_count": 19,
   "metadata": {},
   "outputs": [
    {
     "name": "stdout",
     "output_type": "stream",
     "text": [
      "total number of categorical columns in the dataset =  7\n"
     ]
    }
   ],
   "source": [
    "print('total number of categorical columns in the dataset = ', len(vector_input_cols))"
   ]
  },
  {
   "cell_type": "code",
   "execution_count": 20,
   "metadata": {},
   "outputs": [],
   "source": [
    "# Creating a temporary df with categorical feature vector \n",
    "temp_pipeline = Pipeline(stages=stages)\n",
    "cat_transformed_df = temp_pipeline.fit(df).transform(df)\n",
    "\n"
   ]
  },
  {
   "cell_type": "code",
   "execution_count": 21,
   "metadata": {},
   "outputs": [],
   "source": [
    "# Selecting the top \n",
    "# selector = ChiSqSelector(numTopFeatures=1, featuresCol=\"features\",\n",
    "#                          outputCol=\"selectedFeatures\", labelCol=\"is_purchased\")\n",
    "\n",
    "selector = ChiSqSelector(numTopFeatures=7,\n",
    "                         featuresCol='cat_features', \n",
    "                         fpr=0.05,\n",
    "                         outputCol=\"selectedFeatures\",\n",
    "                         labelCol= \"is_purchased\"\n",
    "                        )\n",
    "\n",
    "chi_sq_model = selector.fit(cat_transformed_df)\n",
    "\n",
    "\n",
    "\n"
   ]
  },
  {
   "cell_type": "code",
   "execution_count": 22,
   "metadata": {},
   "outputs": [
    {
     "name": "stdout",
     "output_type": "stream",
     "text": [
      "order of importance of features = \n"
     ]
    },
    {
     "data": {
      "text/plain": [
       "array(['cat_0_cln_ix', 'cat_1_cln_ix', 'brand_cln_ix', 'category_level',\n",
       "       'day_of_week', 'hour', 'hour_bins'], dtype='<U14')"
      ]
     },
     "execution_count": 22,
     "metadata": {},
     "output_type": "execute_result"
    }
   ],
   "source": [
    "print('order of importance of features = ')\n",
    "np.array(vector_input_cols)[chi_sq_model.selectedFeatures]\n"
   ]
  },
  {
   "cell_type": "code",
   "execution_count": 11,
   "metadata": {},
   "outputs": [
    {
     "data": {
      "text/plain": [
       "['category_level', 'day_of_week', 'hour_bins']"
      ]
     },
     "execution_count": 11,
     "metadata": {},
     "output_type": "execute_result"
    }
   ],
   "source": [
    "# Since hour and hour_bins are highly correlated, \n",
    "# Also since hour_bins and hour was the least important feature, we can drop that as well\n",
    "\n",
    "categorical_num_cols.remove('hour')\n",
    "categorical_num_cols"
   ]
  },
  {
   "cell_type": "markdown",
   "metadata": {},
   "source": [
    "#### Feature Transformation"
   ]
  },
  {
   "cell_type": "code",
   "execution_count": 12,
   "metadata": {},
   "outputs": [
    {
     "name": "stdout",
     "output_type": "stream",
     "text": [
      "number of features to be given to the moddel =  12\n",
      "stages = \n"
     ]
    },
    {
     "data": {
      "text/plain": [
       "[StringIndexer_39d3d8138bed,\n",
       " OneHotEncoder_28ce3beb1af7,\n",
       " StringIndexer_a61edbfba1ce,\n",
       " OneHotEncoder_30fcbbfd1358,\n",
       " StringIndexer_782af24a7fc3,\n",
       " OneHotEncoder_6104bade4eba,\n",
       " OneHotEncoder_f529db65a95c,\n",
       " OneHotEncoder_23e2558e1614,\n",
       " OneHotEncoder_8f91ecdb56a2,\n",
       " VectorAssembler_79e76ebf349d]"
      ]
     },
     "execution_count": 12,
     "metadata": {},
     "output_type": "execute_result"
    }
   ],
   "source": [
    "# Feature transformation for categorical features\n",
    "#\n",
    "stages = []\n",
    "# Creating a pipeline for Feature Transformations\n",
    "# Starting with the categorical string cols\n",
    "for col in categorical_str_cols:\n",
    "    # Encode the strings in the col with an index\n",
    "    indexer = StringIndexer(inputCol=col,\n",
    "                            outputCol = col + '_ix',\n",
    "                           )\n",
    "    # OHE the indices in the col\n",
    "    encoder = OneHotEncoder(inputCol=indexer.getOutputCol(),\n",
    "                            outputCol=col + '_enc'\n",
    "                           )\n",
    "    stages +=[indexer, encoder]\n",
    "    \n",
    "\n",
    "# Processing thhe Categorical numeric cols\n",
    "for col in categorical_num_cols:\n",
    "    encoder = OneHotEncoder(inputCol=col,\n",
    "                            outputCol=col + '_enc'\n",
    "                           )\n",
    "    stages += [encoder]\n",
    "    \n",
    "# Vector assembler to combine all the features\n",
    "# Add a Vector Assembler to the pipeline stages\n",
    "vector_input_cols = [c + '_enc' for c in categorical_str_cols] + \\\n",
    "                    [c + '_enc' for c in categorical_num_cols] + \\\n",
    "                    numeric_cols\n",
    "print('number of features to be given to the moddel = ', len(vector_input_cols))\n",
    "\n",
    "vector = VectorAssembler(inputCols = vector_input_cols,\n",
    "                         outputCol = 'features'\n",
    "                        )\n",
    "stages.append(vector)\n",
    "\n",
    "print('stages = ')\n",
    "stages"
   ]
  },
  {
   "cell_type": "code",
   "execution_count": 16,
   "metadata": {},
   "outputs": [
    {
     "data": {
      "text/plain": [
       "['cat_0_cln_enc',\n",
       " 'cat_1_cln_enc',\n",
       " 'brand_cln_enc',\n",
       " 'category_level_enc',\n",
       " 'day_of_week_enc',\n",
       " 'hour_bins_enc',\n",
       " 'price',\n",
       " 'session_count',\n",
       " 'activity_count',\n",
       " 'product_view_count',\n",
       " 'second_cat_view_count',\n",
       " 'avg_price']"
      ]
     },
     "execution_count": 16,
     "metadata": {},
     "output_type": "execute_result"
    }
   ],
   "source": [
    "vector_input_cols"
   ]
  },
  {
   "cell_type": "code",
   "execution_count": 17,
   "metadata": {},
   "outputs": [],
   "source": [
    "# Pipeline for the tasks\n",
    "pipeline = Pipeline(stages=stages)"
   ]
  },
  {
   "cell_type": "code",
   "execution_count": 18,
   "metadata": {},
   "outputs": [],
   "source": [
    "# Transforming the dataframe df\n",
    "if load_from_existing_features_dataset == True:\n",
    "    transformed_df = spark.read.parquet('features_df.parquet')\n",
    "else:\n",
    "    pipeline_model = pipeline.fit(df)\n",
    "    transformed_df = pipeline_model.transform(df)"
   ]
  },
  {
   "cell_type": "code",
   "execution_count": 19,
   "metadata": {
    "scrolled": true
   },
   "outputs": [
    {
     "data": {
      "text/plain": [
       "DataFrame[cat_0_cln: string, product_id: string, price: float, user_id: string, category_level: int, day_of_week: int, cat_1_cln: string, brand_cln: string, session_count: bigint, activity_count: bigint, product_view_count: bigint, second_cat_view_count: bigint, avg_price: double, hour: int, hour_bins: double, is_purchased: int]"
      ]
     },
     "execution_count": 19,
     "metadata": {},
     "output_type": "execute_result"
    }
   ],
   "source": [
    "df.unpersist()"
   ]
  },
  {
   "cell_type": "code",
   "execution_count": 24,
   "metadata": {},
   "outputs": [],
   "source": [
    "if load_from_existing_features_dataset == False:\n",
    "    pipeline_model.save('pipeline_model')"
   ]
  },
  {
   "cell_type": "code",
   "execution_count": 26,
   "metadata": {},
   "outputs": [
    {
     "name": "stdout",
     "output_type": "stream",
     "text": [
      "root\n",
      " |-- cat_0_cln: string (nullable = true)\n",
      " |-- product_id: string (nullable = true)\n",
      " |-- price: float (nullable = true)\n",
      " |-- user_id: string (nullable = true)\n",
      " |-- category_level: integer (nullable = true)\n",
      " |-- day_of_week: integer (nullable = true)\n",
      " |-- cat_1_cln: string (nullable = true)\n",
      " |-- brand_cln: string (nullable = true)\n",
      " |-- session_count: long (nullable = true)\n",
      " |-- activity_count: long (nullable = true)\n",
      " |-- product_view_count: long (nullable = true)\n",
      " |-- second_cat_view_count: long (nullable = true)\n",
      " |-- avg_price: double (nullable = true)\n",
      " |-- hour: integer (nullable = true)\n",
      " |-- hour_bins: double (nullable = true)\n",
      " |-- is_purchased: integer (nullable = true)\n",
      " |-- cat_0_cln_ix: double (nullable = false)\n",
      " |-- cat_0_cln_enc: vector (nullable = true)\n",
      " |-- cat_1_cln_ix: double (nullable = false)\n",
      " |-- cat_1_cln_enc: vector (nullable = true)\n",
      " |-- brand_cln_ix: double (nullable = false)\n",
      " |-- brand_cln_enc: vector (nullable = true)\n",
      " |-- category_level_enc: vector (nullable = true)\n",
      " |-- day_of_week_enc: vector (nullable = true)\n",
      " |-- hour_bins_enc: vector (nullable = true)\n",
      " |-- features: vector (nullable = true)\n",
      "\n"
     ]
    }
   ],
   "source": [
    "# Schema of the transformed df\n",
    "transformed_df.printSchema()"
   ]
  },
  {
   "cell_type": "code",
   "execution_count": 27,
   "metadata": {},
   "outputs": [
    {
     "data": {
      "text/plain": [
       "{'brand_cln_ix',\n",
       " 'cat_0_cln_ix',\n",
       " 'cat_1_cln_ix',\n",
       " 'features',\n",
       " 'hour',\n",
       " 'is_purchased',\n",
       " 'product_id',\n",
       " 'user_id'}"
      ]
     },
     "execution_count": 27,
     "metadata": {},
     "output_type": "execute_result"
    }
   ],
   "source": [
    "# Printing the columns list that are apart from the features\n",
    "\n",
    "set(transformed_df.columns) - set(vector_input_cols) - set(categorical_num_cols)\\\n",
    "        -set(categorical_str_cols) - set(numeric_cols)"
   ]
  },
  {
   "cell_type": "code",
   "execution_count": 28,
   "metadata": {},
   "outputs": [],
   "source": [
    "# Check if only the required columns are present to build the model\n",
    "# If not, drop the redundant columns\n",
    "transformed_df = transformed_df.drop('user_id', 'product_id', 'hour')"
   ]
  },
  {
   "cell_type": "code",
   "execution_count": 29,
   "metadata": {},
   "outputs": [],
   "source": [
    "# Categorising the attributes into its type - Continuous and Categorical\n"
   ]
  },
  {
   "cell_type": "code",
   "execution_count": 30,
   "metadata": {},
   "outputs": [
    {
     "name": "stdout",
     "output_type": "stream",
     "text": [
      "+-----------+-------+--------------+-----------+----------+---------+-------------+--------------+------------------+---------------------+-----------------+---------+------------+------------+--------------+------------+--------------+------------+---------------+------------------+---------------+-------------+--------------------+\n",
      "|  cat_0_cln|  price|category_level|day_of_week| cat_1_cln|brand_cln|session_count|activity_count|product_view_count|second_cat_view_count|        avg_price|hour_bins|is_purchased|cat_0_cln_ix| cat_0_cln_enc|cat_1_cln_ix| cat_1_cln_enc|brand_cln_ix|  brand_cln_enc|category_level_enc|day_of_week_enc|hour_bins_enc|            features|\n",
      "+-----------+-------+--------------+-----------+----------+---------+-------------+--------------+------------------+---------------------+-----------------+---------+------------+------------+--------------+------------+--------------+------------+---------------+------------------+---------------+-------------+--------------------+\n",
      "|electronics| 380.28|             2|          1|smartphone|  samsung|            2|             1|                 1|                    1|493.3872257223995|      2.0|           0|         0.0|(13,[0],[1.0])|         0.0|(39,[0],[1.0])|         0.0| (19,[0],[1.0])|     (4,[2],[1.0])|  (7,[1],[1.0])|(3,[2],[1.0])|(91,[0,13,52,73,7...|\n",
      "|electronics| 246.52|             2|          6|smartphone|  samsung|            5|             1|                 3|                    3|493.3872257223995|      2.0|           1|         0.0|(13,[0],[1.0])|         0.0|(39,[0],[1.0])|         0.0| (19,[0],[1.0])|     (4,[2],[1.0])|  (7,[6],[1.0])|(3,[2],[1.0])|(91,[0,13,52,73,8...|\n",
      "|electronics| 389.92|             3|          2|     video|       lg|           10|             1|                 4|                    7|493.3872257223995|      2.0|           0|         0.0|(13,[0],[1.0])|         4.0|(39,[4],[1.0])|         6.0| (19,[6],[1.0])|     (4,[3],[1.0])|  (7,[2],[1.0])|(3,[2],[1.0])|(91,[0,17,58,74,7...|\n",
      "|electronics|1671.34|             2|          1|smartphone|    apple|            9|             1|                 9|                   18|493.3872257223995|      2.0|           0|         0.0|(13,[0],[1.0])|         0.0|(39,[0],[1.0])|         1.0| (19,[1],[1.0])|     (4,[2],[1.0])|  (7,[1],[1.0])|(3,[2],[1.0])|(91,[0,13,53,73,7...|\n",
      "|electronics| 131.64|             2|          4|smartphone|  samsung|            3|             1|                 3|                    3|493.3872257223995|      1.0|           0|         0.0|(13,[0],[1.0])|         0.0|(39,[0],[1.0])|         0.0| (19,[0],[1.0])|     (4,[2],[1.0])|  (7,[4],[1.0])|(3,[1],[1.0])|(91,[0,13,52,73,7...|\n",
      "|electronics| 230.79|             2|          1|smartphone|   xiaomi|           16|             3|                19|                   90|493.3872257223995|      2.0|           0|         0.0|(13,[0],[1.0])|         0.0|(39,[0],[1.0])|         3.0| (19,[3],[1.0])|     (4,[2],[1.0])|  (7,[1],[1.0])|(3,[2],[1.0])|(91,[0,13,55,73,7...|\n",
      "|electronics| 230.79|             2|          1|smartphone|   xiaomi|           16|             3|                19|                   90|493.3872257223995|      2.0|           0|         0.0|(13,[0],[1.0])|         0.0|(39,[0],[1.0])|         3.0| (19,[3],[1.0])|     (4,[2],[1.0])|  (7,[1],[1.0])|(3,[2],[1.0])|(91,[0,13,55,73,7...|\n",
      "|electronics| 230.79|             2|          1|smartphone|   xiaomi|           16|             3|                19|                   90|493.3872257223995|      2.0|           0|         0.0|(13,[0],[1.0])|         0.0|(39,[0],[1.0])|         3.0| (19,[3],[1.0])|     (4,[2],[1.0])|  (7,[1],[1.0])|(3,[2],[1.0])|(91,[0,13,55,73,7...|\n",
      "|electronics|  98.28|             2|          7|smartphone|   xiaomi|           11|             2|                 5|                   21|493.3872257223995|      1.0|           0|         0.0|(13,[0],[1.0])|         0.0|(39,[0],[1.0])|         3.0| (19,[3],[1.0])|     (4,[2],[1.0])|      (7,[],[])|(3,[1],[1.0])|(91,[0,13,55,73,8...|\n",
      "|electronics| 102.94|             3|          3|     audio|   huawei|            6|             2|                12|                   14|493.3872257223995|      0.0|           1|         0.0|(13,[0],[1.0])|         3.0|(39,[3],[1.0])|         4.0| (19,[4],[1.0])|     (4,[3],[1.0])|  (7,[3],[1.0])|(3,[0],[1.0])|(91,[0,16,56,74,7...|\n",
      "|electronics| 102.94|             3|          3|     audio|   huawei|            6|             2|                12|                   14|493.3872257223995|      0.0|           1|         0.0|(13,[0],[1.0])|         3.0|(39,[3],[1.0])|         4.0| (19,[4],[1.0])|     (4,[3],[1.0])|  (7,[3],[1.0])|(3,[0],[1.0])|(91,[0,16,56,74,7...|\n",
      "|electronics| 197.15|             2|          6|smartphone|   xiaomi|            7|             2|                 7|                   35|493.3872257223995|      0.0|           1|         0.0|(13,[0],[1.0])|         0.0|(39,[0],[1.0])|         3.0| (19,[3],[1.0])|     (4,[2],[1.0])|  (7,[6],[1.0])|(3,[0],[1.0])|(91,[0,13,55,73,8...|\n",
      "|electronics| 197.15|             2|          6|smartphone|   xiaomi|            7|             2|                 7|                   35|493.3872257223995|      0.0|           1|         0.0|(13,[0],[1.0])|         0.0|(39,[0],[1.0])|         3.0| (19,[3],[1.0])|     (4,[2],[1.0])|  (7,[6],[1.0])|(3,[0],[1.0])|(91,[0,13,55,73,8...|\n",
      "|electronics| 756.65|             2|          5|smartphone|    apple|           17|             3|                 2|                   32|493.3872257223995|      1.0|           1|         0.0|(13,[0],[1.0])|         0.0|(39,[0],[1.0])|         1.0| (19,[1],[1.0])|     (4,[2],[1.0])|  (7,[5],[1.0])|(3,[1],[1.0])|(91,[0,13,53,73,8...|\n",
      "|electronics| 756.65|             2|          5|smartphone|    apple|           17|             3|                 2|                   32|493.3872257223995|      1.0|           1|         0.0|(13,[0],[1.0])|         0.0|(39,[0],[1.0])|         1.0| (19,[1],[1.0])|     (4,[2],[1.0])|  (7,[5],[1.0])|(3,[1],[1.0])|(91,[0,13,53,73,8...|\n",
      "|      Blank|  30.35|             0|          7|     Blank|  samsung|            7|             2|                10|                   20|226.9555916574436|      2.0|           1|         1.0|(13,[1],[1.0])|         1.0|(39,[1],[1.0])|         0.0| (19,[0],[1.0])|     (4,[0],[1.0])|      (7,[],[])|(3,[2],[1.0])|(91,[1,14,52,71,8...|\n",
      "|      Blank|  30.35|             0|          7|     Blank|  samsung|            7|             2|                10|                   20|226.9555916574436|      2.0|           1|         1.0|(13,[1],[1.0])|         1.0|(39,[1],[1.0])|         0.0| (19,[0],[1.0])|     (4,[0],[1.0])|      (7,[],[])|(3,[2],[1.0])|(91,[1,14,52,71,8...|\n",
      "|      Blank|  78.15|             0|          3|     Blank|    bosch|           14|             2|                 5|                  180|226.9555916574436|      3.0|           1|         1.0|(13,[1],[1.0])|         1.0|(39,[1],[1.0])|        10.0|(19,[10],[1.0])|     (4,[0],[1.0])|  (7,[3],[1.0])|    (3,[],[])|(91,[1,14,62,71,7...|\n",
      "|electronics| 804.37|             2|          7|smartphone|    apple|            8|             2|                 3|                   33|493.3872257223995|      1.0|           0|         0.0|(13,[0],[1.0])|         0.0|(39,[0],[1.0])|         1.0| (19,[1],[1.0])|     (4,[2],[1.0])|      (7,[],[])|(3,[1],[1.0])|(91,[0,13,53,73,8...|\n",
      "|electronics|   77.2|             2|          3|smartphone|   others|           17|             3|                 4|                   55|493.3872257223995|      0.0|           0|         0.0|(13,[0],[1.0])|         0.0|(39,[0],[1.0])|         2.0| (19,[2],[1.0])|     (4,[2],[1.0])|  (7,[3],[1.0])|(3,[0],[1.0])|(91,[0,13,54,73,7...|\n",
      "+-----------+-------+--------------+-----------+----------+---------+-------------+--------------+------------------+---------------------+-----------------+---------+------------+------------+--------------+------------+--------------+------------+---------------+------------------+---------------+-------------+--------------------+\n",
      "only showing top 20 rows\n",
      "\n"
     ]
    }
   ],
   "source": [
    "# Checking the elements of the transformed df - Top 20 rows\n",
    "transformed_df.show(20)"
   ]
  },
  {
   "cell_type": "code",
   "execution_count": 31,
   "metadata": {},
   "outputs": [],
   "source": [
    "if save_features_dataset == True:\n",
    "    transformed_df.coalesce(1).write.option(\"header\", \"true\").parquet(\"features_df.parquet\")"
   ]
  },
  {
   "cell_type": "markdown",
   "metadata": {},
   "source": [
    "#### Train-test split"
   ]
  },
  {
   "cell_type": "code",
   "execution_count": 32,
   "metadata": {},
   "outputs": [
    {
     "data": {
      "text/plain": [
       "898441"
      ]
     },
     "execution_count": 32,
     "metadata": {},
     "output_type": "execute_result"
    }
   ],
   "source": [
    "transformed_df.count()"
   ]
  },
  {
   "cell_type": "code",
   "execution_count": 33,
   "metadata": {},
   "outputs": [],
   "source": [
    "# Since there are close to 900k rows, we can do a 80-20 split of data\n",
    "# Splitting the data into train and test (Remember you are expected to compare the model later)\n",
    "train, test = transformed_df.randomSplit([0.8, 0.2], seed=12)"
   ]
  },
  {
   "cell_type": "code",
   "execution_count": 34,
   "metadata": {},
   "outputs": [
    {
     "data": {
      "text/plain": [
       "DataFrame[cat_0_cln: string, price: float, category_level: int, day_of_week: int, cat_1_cln: string, brand_cln: string, session_count: bigint, activity_count: bigint, product_view_count: bigint, second_cat_view_count: bigint, avg_price: double, hour_bins: double, is_purchased: int, cat_0_cln_ix: double, cat_0_cln_enc: vector, cat_1_cln_ix: double, cat_1_cln_enc: vector, brand_cln_ix: double, brand_cln_enc: vector, category_level_enc: vector, day_of_week_enc: vector, hour_bins_enc: vector, features: vector]"
      ]
     },
     "execution_count": 34,
     "metadata": {},
     "output_type": "execute_result"
    }
   ],
   "source": [
    "train"
   ]
  },
  {
   "cell_type": "code",
   "execution_count": 35,
   "metadata": {
    "scrolled": true
   },
   "outputs": [
    {
     "name": "stdout",
     "output_type": "stream",
     "text": [
      "train data length = 718925\n",
      "test data length = 179516\n"
     ]
    }
   ],
   "source": [
    "# Number of rows in train and test data\n",
    "print('train data length =', train.count())\n",
    "print('test data length =', test.count())"
   ]
  },
  {
   "cell_type": "markdown",
   "metadata": {},
   "source": [
    "#### Model Fitting"
   ]
  },
  {
   "cell_type": "code",
   "execution_count": 36,
   "metadata": {},
   "outputs": [],
   "source": [
    "# Building the model\n",
    "lr = LogisticRegression(featuresCol = 'features', labelCol='is_purchased', threshold=0.5)"
   ]
  },
  {
   "cell_type": "code",
   "execution_count": 37,
   "metadata": {},
   "outputs": [],
   "source": [
    "# Fitting the model on transformed df\n",
    "model= lr.fit(train)"
   ]
  },
  {
   "cell_type": "markdown",
   "metadata": {},
   "source": [
    "#### Model Analysis"
   ]
  },
  {
   "cell_type": "markdown",
   "metadata": {},
   "source": [
    "Required Steps:\n",
    "- Fit on test data\n",
    "- Performance analysis\n",
    "    - Appropriate Metric with reasoning\n",
    "    - Threshold selection"
   ]
  },
  {
   "cell_type": "code",
   "execution_count": 38,
   "metadata": {},
   "outputs": [
    {
     "name": "stdout",
     "output_type": "stream",
     "text": [
      "Train Data Recall = 0.8735364285763395\n",
      "Training Precision = 0.6489339786948964\n",
      "Train Data AUC =  0.6551039986882875\n",
      "Testing Data Recall = 0.873045871559633\n",
      "Testing Precision = 0.6485782830348137\n",
      "Testing Data AUC =  0.6522225289751405\n"
     ]
    }
   ],
   "source": [
    "train_eval = model.evaluate(train)\n",
    "test_eval = model.evaluate(test)\n",
    "\n",
    "print('Train Data Recall =', train_eval.recallByLabel[1])\n",
    "print('Training Precision =', train_eval.precisionByLabel[1])\n",
    "print('Train Data AUC = ', train_eval.areaUnderROC)\n",
    "\n",
    "\n",
    "\n",
    "print('Testing Data Recall =', test_eval.recallByLabel[1])\n",
    "print('Testing Precision =', test_eval.precisionByLabel[1])\n",
    "print('Testing Data AUC = ', test_eval.areaUnderROC)\n",
    "\n"
   ]
  },
  {
   "cell_type": "code",
   "execution_count": 39,
   "metadata": {},
   "outputs": [
    {
     "name": "stdout",
     "output_type": "stream",
     "text": [
      "F1 Score = 0.7446679652013544\n",
      "F1 Score = 0.7442555254884171\n"
     ]
    }
   ],
   "source": [
    "train_recall = train_eval.recallByLabel[1]\n",
    "train_precision= train_eval.precisionByLabel[1]\n",
    "\n",
    "train_f1 = 2 * (train_recall * train_precision)/(train_recall + train_precision)\n",
    "\n",
    "test_recall = test_eval.recallByLabel[1]\n",
    "test_precision= test_eval.precisionByLabel[1]\n",
    "test_f1 = 2 * (test_recall * test_precision)/(test_recall + test_precision)\n",
    "\n",
    "\n",
    "print('F1 Score =', train_f1)\n",
    "print('F1 Score =', test_f1)"
   ]
  },
  {
   "cell_type": "code",
   "execution_count": 40,
   "metadata": {},
   "outputs": [],
   "source": [
    "def get_confusion_matrix(model_result, target='is_purchased'):\n",
    "\n",
    "    preds = model_result.predictions.select(target, 'prediction')\n",
    "    TP = preds.filter(target + '==1 and prediction==1').count()\n",
    "    TN = preds.filter(target +'==0 and prediction==0').count()\n",
    "    FP = preds.filter(target + '==0 and prediction==1').count()\n",
    "    FN = preds.filter(target + '==1 and prediction==0').count()\n",
    "    \n",
    "    data = np.array([[TP, FN],\n",
    "                    [FP, TN]])\n",
    "    conf_matrix = pd.DataFrame(data=data,\n",
    "                 index = ['True', 'False'],\n",
    "                 columns = ['True', 'False']\n",
    "                )\n",
    "    return conf_matrix"
   ]
  },
  {
   "cell_type": "code",
   "execution_count": 41,
   "metadata": {},
   "outputs": [
    {
     "name": "stdout",
     "output_type": "stream",
     "text": [
      "Confusion Matrix on Training Data:\n"
     ]
    },
    {
     "data": {
      "text/html": [
       "<div>\n",
       "<style scoped>\n",
       "    .dataframe tbody tr th:only-of-type {\n",
       "        vertical-align: middle;\n",
       "    }\n",
       "\n",
       "    .dataframe tbody tr th {\n",
       "        vertical-align: top;\n",
       "    }\n",
       "\n",
       "    .dataframe thead th {\n",
       "        text-align: right;\n",
       "    }\n",
       "</style>\n",
       "<table border=\"1\" class=\"dataframe\">\n",
       "  <thead>\n",
       "    <tr style=\"text-align: right;\">\n",
       "      <th></th>\n",
       "      <th>True</th>\n",
       "      <th>False</th>\n",
       "    </tr>\n",
       "  </thead>\n",
       "  <tbody>\n",
       "    <tr>\n",
       "      <th>True</th>\n",
       "      <td>381165</td>\n",
       "      <td>55182</td>\n",
       "    </tr>\n",
       "    <tr>\n",
       "      <th>False</th>\n",
       "      <td>206206</td>\n",
       "      <td>76372</td>\n",
       "    </tr>\n",
       "  </tbody>\n",
       "</table>\n",
       "</div>"
      ],
      "text/plain": [
       "         True  False\n",
       "True   381165  55182\n",
       "False  206206  76372"
      ]
     },
     "execution_count": 41,
     "metadata": {},
     "output_type": "execute_result"
    }
   ],
   "source": [
    "print('Confusion Matrix on Training Data:')\n",
    "get_confusion_matrix(train_eval)\n",
    "\n"
   ]
  },
  {
   "cell_type": "code",
   "execution_count": 42,
   "metadata": {},
   "outputs": [
    {
     "name": "stdout",
     "output_type": "stream",
     "text": [
      "Confusion Matrix on Testing Data:\n"
     ]
    },
    {
     "data": {
      "text/html": [
       "<div>\n",
       "<style scoped>\n",
       "    .dataframe tbody tr th:only-of-type {\n",
       "        vertical-align: middle;\n",
       "    }\n",
       "\n",
       "    .dataframe tbody tr th {\n",
       "        vertical-align: top;\n",
       "    }\n",
       "\n",
       "    .dataframe thead th {\n",
       "        text-align: right;\n",
       "    }\n",
       "</style>\n",
       "<table border=\"1\" class=\"dataframe\">\n",
       "  <thead>\n",
       "    <tr style=\"text-align: right;\">\n",
       "      <th></th>\n",
       "      <th>True</th>\n",
       "      <th>False</th>\n",
       "    </tr>\n",
       "  </thead>\n",
       "  <tbody>\n",
       "    <tr>\n",
       "      <th>True</th>\n",
       "      <td>95162</td>\n",
       "      <td>13838</td>\n",
       "    </tr>\n",
       "    <tr>\n",
       "      <th>False</th>\n",
       "      <td>51562</td>\n",
       "      <td>18954</td>\n",
       "    </tr>\n",
       "  </tbody>\n",
       "</table>\n",
       "</div>"
      ],
      "text/plain": [
       "        True  False\n",
       "True   95162  13838\n",
       "False  51562  18954"
      ]
     },
     "execution_count": 42,
     "metadata": {},
     "output_type": "execute_result"
    }
   ],
   "source": [
    "print('Confusion Matrix on Testing Data:')\n",
    "get_confusion_matrix(test_eval)\n",
    "\n"
   ]
  },
  {
   "cell_type": "code",
   "execution_count": 43,
   "metadata": {},
   "outputs": [
    {
     "data": {
      "image/png": "[encoded data removed]",
      "text/plain": [
       "<Figure size 576x576 with 1 Axes>"
      ]
     },
     "metadata": {
      "needs_background": "light"
     },
     "output_type": "display_data"
    }
   ],
   "source": [
    "threshold = 0.5\n",
    "test_roc = test_eval.roc.toPandas()\n",
    "train_roc = train_eval.roc.toPandas()\n",
    "\n",
    "fig, ax = plt.subplots(1,1, figsize=(8,8))\n",
    "test_roc.plot( x='FPR', y='TPR', kind='scatter', label='Test data', ax=ax, c= 'r')\n",
    "train_roc.plot( x='FPR', y='TPR', kind='scatter', label='Train data', ax=ax, c= 'g')\n",
    "plt.legend()\n",
    "plt.title('ROC Curve for threshold of {:.2f}'.format(threshold))\n",
    "plt.show()\n"
   ]
  },
  {
   "cell_type": "code",
   "execution_count": 44,
   "metadata": {},
   "outputs": [
    {
     "name": "stdout",
     "output_type": "stream",
     "text": [
      "+------------+----------------------------------------+\n",
      "|is_purchased|probability                             |\n",
      "+------------+----------------------------------------+\n",
      "|1           |[0.45617081577204044,0.5438291842279596]|\n",
      "|0           |[0.5138630052562019,0.486136994743798]  |\n",
      "|1           |[0.45730215990225326,0.5426978400977467]|\n",
      "|0           |[0.7684189312948596,0.23158106870514036]|\n",
      "|0           |[0.2337277003452132,0.7662722996547868] |\n",
      "|0           |[0.5257561812730257,0.47424381872697424]|\n",
      "|1           |[0.5143387579698131,0.48566124203018685]|\n",
      "|0           |[0.5817537447844457,0.41824625521555425]|\n",
      "|0           |[0.4419973857787794,0.5580026142212205] |\n",
      "|1           |[0.38011751927160703,0.6198824807283929]|\n",
      "|0           |[0.5656581337654201,0.43434186623458]   |\n",
      "|1           |[0.4817968562883076,0.5182031437116924] |\n",
      "|1           |[0.43866939125380916,0.5613306087461909]|\n",
      "|0           |[0.40332300100867136,0.5966769989913285]|\n",
      "|0           |[0.402694787863249,0.597305212136751]   |\n",
      "|0           |[0.29652225540578975,0.7034777445942103]|\n",
      "|0           |[0.3414389524758118,0.6585610475241881] |\n",
      "|0           |[0.47362411944254196,0.526375880557458] |\n",
      "|0           |[0.5672076372752456,0.4327923627247544] |\n",
      "|1           |[0.544860816329333,0.4551391836706669]  |\n",
      "+------------+----------------------------------------+\n",
      "only showing top 20 rows\n",
      "\n"
     ]
    }
   ],
   "source": [
    "# Extracting only the actual target and the predicted probabilities\n",
    "preds_df = test_eval.predictions.select('is_purchased', 'probability')\n",
    "preds_df.show(truncate=False)"
   ]
  },
  {
   "cell_type": "code",
   "execution_count": 45,
   "metadata": {},
   "outputs": [],
   "source": [
    "from pyspark.sql.functions import udf, when\n",
    "from pyspark.sql.types import FloatType"
   ]
  },
  {
   "cell_type": "markdown",
   "metadata": {},
   "source": [
    "### Precision-Recall Curve"
   ]
  },
  {
   "cell_type": "code",
   "execution_count": 46,
   "metadata": {},
   "outputs": [],
   "source": [
    "# Define a udf to extract the probability of getting target=1 from the model predicted probabilities\n",
    "probability_extraction=udf(lambda x:float(x[1]),FloatType())\n",
    "\n",
    "\n",
    "threshold_list = [0.1, 0.2, 0.3, 0.4, 0.5, 0.6, 0.7, 0.8, 0.9]\n",
    "result=[]\n",
    "\n",
    "for threshold in threshold_list:\n",
    "    new_pred = preds_df.withColumn('new_prediction', \n",
    "                              when(probability_extraction(\n",
    "                                  preds_df['probability']) > threshold, 1).otherwise(0))\n",
    "    TP = new_pred.filter('is_purchased ==1 and new_prediction==1').count()\n",
    "    TN = new_pred.filter('is_purchased ==0 and new_prediction==0').count()\n",
    "    FP = new_pred.filter('is_purchased ==0 and new_prediction==1').count()\n",
    "    FN = new_pred.filter('is_purchased ==1 and new_prediction==0').count()\n",
    "    if (TP + FP == 0):\n",
    "        precision = float(\"nan\")\n",
    "    else:\n",
    "        precision = TP/float(TP + FP)\n",
    "    if TP + FN == 0:\n",
    "        recall = float('nan')\n",
    "    else:\n",
    "        recall = TP/float(TP + FN)\n",
    "        \n",
    "    result.append([threshold, precision, recall, TP, TN, FP, FN])"
   ]
  },
  {
   "cell_type": "code",
   "execution_count": 47,
   "metadata": {},
   "outputs": [
    {
     "data": {
      "text/html": [
       "<div>\n",
       "<style scoped>\n",
       "    .dataframe tbody tr th:only-of-type {\n",
       "        vertical-align: middle;\n",
       "    }\n",
       "\n",
       "    .dataframe tbody tr th {\n",
       "        vertical-align: top;\n",
       "    }\n",
       "\n",
       "    .dataframe thead th {\n",
       "        text-align: right;\n",
       "    }\n",
       "</style>\n",
       "<table border=\"1\" class=\"dataframe\">\n",
       "  <thead>\n",
       "    <tr style=\"text-align: right;\">\n",
       "      <th></th>\n",
       "      <th>threshold</th>\n",
       "      <th>precision</th>\n",
       "      <th>recall</th>\n",
       "      <th>TP</th>\n",
       "      <th>TN</th>\n",
       "      <th>FP</th>\n",
       "      <th>FN</th>\n",
       "    </tr>\n",
       "  </thead>\n",
       "  <tbody>\n",
       "    <tr>\n",
       "      <th>0</th>\n",
       "      <td>0.1</td>\n",
       "      <td>0.607288</td>\n",
       "      <td>0.999881</td>\n",
       "      <td>108987</td>\n",
       "      <td>38</td>\n",
       "      <td>70478</td>\n",
       "      <td>13</td>\n",
       "    </tr>\n",
       "    <tr>\n",
       "      <th>1</th>\n",
       "      <td>0.2</td>\n",
       "      <td>0.607530</td>\n",
       "      <td>0.999275</td>\n",
       "      <td>108921</td>\n",
       "      <td>152</td>\n",
       "      <td>70364</td>\n",
       "      <td>79</td>\n",
       "    </tr>\n",
       "    <tr>\n",
       "      <th>2</th>\n",
       "      <td>0.3</td>\n",
       "      <td>0.608904</td>\n",
       "      <td>0.997413</td>\n",
       "      <td>108718</td>\n",
       "      <td>687</td>\n",
       "      <td>69829</td>\n",
       "      <td>282</td>\n",
       "    </tr>\n",
       "    <tr>\n",
       "      <th>3</th>\n",
       "      <td>0.4</td>\n",
       "      <td>0.615405</td>\n",
       "      <td>0.984789</td>\n",
       "      <td>107342</td>\n",
       "      <td>3433</td>\n",
       "      <td>67083</td>\n",
       "      <td>1658</td>\n",
       "    </tr>\n",
       "    <tr>\n",
       "      <th>4</th>\n",
       "      <td>0.5</td>\n",
       "      <td>0.648578</td>\n",
       "      <td>0.873046</td>\n",
       "      <td>95162</td>\n",
       "      <td>18954</td>\n",
       "      <td>51562</td>\n",
       "      <td>13838</td>\n",
       "    </tr>\n",
       "    <tr>\n",
       "      <th>5</th>\n",
       "      <td>0.6</td>\n",
       "      <td>0.707358</td>\n",
       "      <td>0.592688</td>\n",
       "      <td>64603</td>\n",
       "      <td>43789</td>\n",
       "      <td>26727</td>\n",
       "      <td>44397</td>\n",
       "    </tr>\n",
       "    <tr>\n",
       "      <th>6</th>\n",
       "      <td>0.7</td>\n",
       "      <td>0.797492</td>\n",
       "      <td>0.239789</td>\n",
       "      <td>26137</td>\n",
       "      <td>63879</td>\n",
       "      <td>6637</td>\n",
       "      <td>82863</td>\n",
       "    </tr>\n",
       "    <tr>\n",
       "      <th>7</th>\n",
       "      <td>0.8</td>\n",
       "      <td>0.854011</td>\n",
       "      <td>0.098642</td>\n",
       "      <td>10752</td>\n",
       "      <td>68678</td>\n",
       "      <td>1838</td>\n",
       "      <td>98248</td>\n",
       "    </tr>\n",
       "    <tr>\n",
       "      <th>8</th>\n",
       "      <td>0.9</td>\n",
       "      <td>0.897404</td>\n",
       "      <td>0.039321</td>\n",
       "      <td>4286</td>\n",
       "      <td>70026</td>\n",
       "      <td>490</td>\n",
       "      <td>104714</td>\n",
       "    </tr>\n",
       "  </tbody>\n",
       "</table>\n",
       "</div>"
      ],
      "text/plain": [
       "   threshold  precision    recall      TP     TN     FP      FN\n",
       "0        0.1   0.607288  0.999881  108987     38  70478      13\n",
       "1        0.2   0.607530  0.999275  108921    152  70364      79\n",
       "2        0.3   0.608904  0.997413  108718    687  69829     282\n",
       "3        0.4   0.615405  0.984789  107342   3433  67083    1658\n",
       "4        0.5   0.648578  0.873046   95162  18954  51562   13838\n",
       "5        0.6   0.707358  0.592688   64603  43789  26727   44397\n",
       "6        0.7   0.797492  0.239789   26137  63879   6637   82863\n",
       "7        0.8   0.854011  0.098642   10752  68678   1838   98248\n",
       "8        0.9   0.897404  0.039321    4286  70026    490  104714"
      ]
     },
     "execution_count": 47,
     "metadata": {},
     "output_type": "execute_result"
    }
   ],
   "source": [
    "result_df = pd.DataFrame(data=result,\n",
    "                         columns=['threshold', 'precision', \n",
    "                                  'recall', 'TP', 'TN',\n",
    "                                  'FP', 'FN'\n",
    "                                 ]\n",
    "                        )\n",
    "result_df"
   ]
  },
  {
   "cell_type": "code",
   "execution_count": 48,
   "metadata": {},
   "outputs": [
    {
     "data": {
      "text/plain": [
       "<Figure size 576x576 with 0 Axes>"
      ]
     },
     "metadata": {},
     "output_type": "display_data"
    },
    {
     "data": {
      "image/png": "[encoded data removed]",
      "text/plain": [
       "<Figure size 432x288 with 1 Axes>"
      ]
     },
     "metadata": {
      "needs_background": "light"
     },
     "output_type": "display_data"
    }
   ],
   "source": [
    "# Plotting the Precision-Recall curve to find the optimum threshold\n",
    "plt.figure(figsize=(8,8))\n",
    "result_df.plot(x='threshold', y=['precision', 'recall'])\n",
    "plt.grid()\n",
    "plt.show()"
   ]
  },
  {
   "cell_type": "markdown",
   "metadata": {},
   "source": [
    "#### Updated model, if any\n",
    "Repeat the steps "
   ]
  },
  {
   "cell_type": "code",
   "execution_count": null,
   "metadata": {},
   "outputs": [],
   "source": []
  },
  {
   "cell_type": "code",
   "execution_count": 49,
   "metadata": {},
   "outputs": [],
   "source": [
    "# Building the model\n",
    "lr = LogisticRegression(featuresCol = 'features', labelCol='is_purchased', threshold=0.55)"
   ]
  },
  {
   "cell_type": "code",
   "execution_count": 50,
   "metadata": {},
   "outputs": [],
   "source": [
    "# Fitting the model on transformed df\n",
    "model= lr.fit(train)"
   ]
  },
  {
   "cell_type": "code",
   "execution_count": null,
   "metadata": {},
   "outputs": [],
   "source": []
  },
  {
   "cell_type": "code",
   "execution_count": 51,
   "metadata": {},
   "outputs": [
    {
     "name": "stdout",
     "output_type": "stream",
     "text": [
      "Train Data Recall = 0.7557608967175207\n",
      "Training Precision = 0.6760074288783295\n",
      "Train Data AUC =  0.6550931869632257\n",
      "Testing Data Recall = 0.754834862385321\n",
      "Testing Precision = 0.6749770295990024\n",
      "Testing Data AUC =  0.652213107468355\n"
     ]
    }
   ],
   "source": [
    "train_eval = model.evaluate(train)\n",
    "\n",
    "test_eval = model.evaluate(test)\n",
    "\n",
    "print('Train Data Recall =', train_eval.recallByLabel[1])\n",
    "print('Training Precision =', train_eval.precisionByLabel[1])\n",
    "print('Train Data AUC = ', train_eval.areaUnderROC)\n",
    "\n",
    "\n",
    "\n",
    "print('Testing Data Recall =', test_eval.recallByLabel[1])\n",
    "print('Testing Precision =', test_eval.precisionByLabel[1])\n",
    "print('Testing Data AUC = ', test_eval.areaUnderROC)\n"
   ]
  },
  {
   "cell_type": "code",
   "execution_count": 52,
   "metadata": {},
   "outputs": [
    {
     "name": "stdout",
     "output_type": "stream",
     "text": [
      "F1 Score = 0.7136629180900113\n",
      "F1 Score = 0.7126758367403506\n"
     ]
    }
   ],
   "source": [
    "train_recall = train_eval.recallByLabel[1]\n",
    "train_precision= train_eval.precisionByLabel[1]\n",
    "train_f1 = 2 * (train_recall * train_precision)/(train_recall + train_precision)\n",
    "\n",
    "\n",
    "test_recall = test_eval.recallByLabel[1]\n",
    "test_precision= test_eval.precisionByLabel[1]\n",
    "test_f1 = 2 * (test_recall * test_precision)/(test_recall + test_precision)\n",
    "\n",
    "print('F1 Score =', train_f1)\n",
    "print('F1 Score =', test_f1)"
   ]
  },
  {
   "cell_type": "code",
   "execution_count": 53,
   "metadata": {},
   "outputs": [
    {
     "name": "stdout",
     "output_type": "stream",
     "text": [
      "Confusion Matrix on Training Data:\n"
     ]
    },
    {
     "data": {
      "text/html": [
       "<div>\n",
       "<style scoped>\n",
       "    .dataframe tbody tr th:only-of-type {\n",
       "        vertical-align: middle;\n",
       "    }\n",
       "\n",
       "    .dataframe tbody tr th {\n",
       "        vertical-align: top;\n",
       "    }\n",
       "\n",
       "    .dataframe thead th {\n",
       "        text-align: right;\n",
       "    }\n",
       "</style>\n",
       "<table border=\"1\" class=\"dataframe\">\n",
       "  <thead>\n",
       "    <tr style=\"text-align: right;\">\n",
       "      <th></th>\n",
       "      <th>True</th>\n",
       "      <th>False</th>\n",
       "    </tr>\n",
       "  </thead>\n",
       "  <tbody>\n",
       "    <tr>\n",
       "      <th>True</th>\n",
       "      <td>329774</td>\n",
       "      <td>106573</td>\n",
       "    </tr>\n",
       "    <tr>\n",
       "      <th>False</th>\n",
       "      <td>158052</td>\n",
       "      <td>124526</td>\n",
       "    </tr>\n",
       "  </tbody>\n",
       "</table>\n",
       "</div>"
      ],
      "text/plain": [
       "         True   False\n",
       "True   329774  106573\n",
       "False  158052  124526"
      ]
     },
     "execution_count": 53,
     "metadata": {},
     "output_type": "execute_result"
    }
   ],
   "source": [
    "print('Confusion Matrix on Training Data:')\n",
    "get_confusion_matrix(train_eval)"
   ]
  },
  {
   "cell_type": "code",
   "execution_count": 54,
   "metadata": {},
   "outputs": [
    {
     "name": "stdout",
     "output_type": "stream",
     "text": [
      "Confusion Matrix on Testing Data:\n"
     ]
    },
    {
     "data": {
      "text/html": [
       "<div>\n",
       "<style scoped>\n",
       "    .dataframe tbody tr th:only-of-type {\n",
       "        vertical-align: middle;\n",
       "    }\n",
       "\n",
       "    .dataframe tbody tr th {\n",
       "        vertical-align: top;\n",
       "    }\n",
       "\n",
       "    .dataframe thead th {\n",
       "        text-align: right;\n",
       "    }\n",
       "</style>\n",
       "<table border=\"1\" class=\"dataframe\">\n",
       "  <thead>\n",
       "    <tr style=\"text-align: right;\">\n",
       "      <th></th>\n",
       "      <th>True</th>\n",
       "      <th>False</th>\n",
       "    </tr>\n",
       "  </thead>\n",
       "  <tbody>\n",
       "    <tr>\n",
       "      <th>True</th>\n",
       "      <td>82277</td>\n",
       "      <td>26723</td>\n",
       "    </tr>\n",
       "    <tr>\n",
       "      <th>False</th>\n",
       "      <td>39619</td>\n",
       "      <td>30897</td>\n",
       "    </tr>\n",
       "  </tbody>\n",
       "</table>\n",
       "</div>"
      ],
      "text/plain": [
       "        True  False\n",
       "True   82277  26723\n",
       "False  39619  30897"
      ]
     },
     "execution_count": 54,
     "metadata": {},
     "output_type": "execute_result"
    }
   ],
   "source": [
    "print('Confusion Matrix on Testing Data:')\n",
    "get_confusion_matrix(test_eval)"
   ]
  },
  {
   "cell_type": "code",
   "execution_count": 55,
   "metadata": {},
   "outputs": [
    {
     "data": {
      "image/png": "[encoded data removed]",
      "text/plain": [
       "<Figure size 576x576 with 1 Axes>"
      ]
     },
     "metadata": {
      "needs_background": "light"
     },
     "output_type": "display_data"
    }
   ],
   "source": [
    "threshold = 0.56\n",
    "test_roc = test_eval.roc.toPandas()\n",
    "train_roc = train_eval.roc.toPandas()\n",
    "\n",
    "fig, ax = plt.subplots(1,1, figsize=(8,8))\n",
    "test_roc.plot( x='FPR', y='TPR', kind='scatter', label='Test data', ax=ax, c= 'r')\n",
    "train_roc.plot( x='FPR', y='TPR', kind='scatter', label='Train data', ax=ax, c= 'g')\n",
    "plt.legend()\n",
    "plt.title('ROC Curve for threshold of {:.2f}'.format(threshold))\n",
    "plt.show()\n"
   ]
  },
  {
   "cell_type": "code",
   "execution_count": 56,
   "metadata": {},
   "outputs": [
    {
     "data": {
      "text/plain": [
       "DenseVector([-0.0392, -0.1863, -0.3867, -0.1155, -0.7266, -0.4055, -0.4873, -0.6487, -0.4192, -9.8617, -1.3471, -0.5227, -0.0244, 0.1591, -0.1863, -0.4109, -0.4452, -0.3658, -0.3715, -0.2306, -0.1988, -0.2317, -0.4055, -0.1977, -0.4361, -0.1977, -0.0684, -0.4406, -0.4598, -0.0156, -0.6789, -0.4054, -0.2523, -0.5524, -0.6424, -0.5103, 8.7133, -0.8682, -0.341, -0.3576, -0.0186, 0.214, -1.016, 0.5097, -0.5227, -0.9213, 0.1249, -0.9512, 0.7044, -0.5171, -0.214, 0.51, 0.5316, 0.6043, 0.1863, 0.0805, 0.4096, 0.5865, 0.385, 0.2899, 0.4394, 0.2756, 0.2895, 0.298, 0.3559, 0.3964, 0.2998, 0.1137, 0.0795, 0.4168, 0.3445, -0.1863, 0.0, 0.0775, 0.2972, 0.0, 0.028, 0.0649, 0.0376, 0.1296, 0.1052, -0.0037, 0.163, 0.2143, 0.0195, -0.0003, -0.0123, 0.0243, 0.0709, -0.0031, -0.0016])"
      ]
     },
     "execution_count": 56,
     "metadata": {},
     "output_type": "execute_result"
    }
   ],
   "source": [
    "model.coefficients"
   ]
  },
  {
   "cell_type": "code",
   "execution_count": 57,
   "metadata": {},
   "outputs": [],
   "source": [
    "model.save('log_reg_model')"
   ]
  },
  {
   "cell_type": "code",
   "execution_count": 58,
   "metadata": {},
   "outputs": [],
   "source": [
    "#pipeline_model.save('pipeline_model')"
   ]
  },
  {
   "cell_type": "code",
   "execution_count": null,
   "metadata": {},
   "outputs": [],
   "source": []
  }
 ],
 "metadata": {
  "kernelspec": {
   "display_name": "Python 3",
   "language": "python",
   "name": "python3"
  },
  "language_info": {
   "codemirror_mode": {
    "name": "ipython",
    "version": 3
   },
   "file_extension": ".py",
   "mimetype": "text/x-python",
   "name": "python",
   "nbconvert_exporter": "python",
   "pygments_lexer": "ipython3",
   "version": "3.8.5"
  }
 },
 "nbformat": 4,
 "nbformat_minor": 4
}
