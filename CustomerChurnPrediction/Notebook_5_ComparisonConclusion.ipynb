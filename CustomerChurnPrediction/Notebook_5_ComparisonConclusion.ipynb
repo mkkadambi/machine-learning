{
 "cells": [
  {
   "cell_type": "code",
   "execution_count": 1,
   "metadata": {},
   "outputs": [],
   "source": [
    "# Setting the environment variables"
   ]
  },
  {
   "cell_type": "code",
   "execution_count": 2,
   "metadata": {},
   "outputs": [],
   "source": [
    "import os\n",
    "import sys\n",
    "os.environ[\"PYSPARK_PYTHON\"]=\"/usr/bin/python3\"\n",
    "os.environ[\"PYSPARK_DRIVER_PYTHON\"]=\"/usr/bin/python3\"\n",
    "os.environ[\"PYSPARK_DRIVER_PYTHON_OPTS\"]=\"notebook --no-browser\"\n",
    "os.environ[\"JAVA_HOME\"] = \"/usr/java/jdk1.8.0_161/jre\"\n",
    "os.environ[\"SPARK_HOME\"] = \"/home/ec2-user/spark-2.4.4-bin-hadoop2.7\"\n",
    "os.environ[\"PYLIB\"] = os.environ[\"SPARK_HOME\"] + \"/python/lib\"\n",
    "sys.path.insert(0, os.environ[\"PYLIB\"] + \"/py4j-0.10.7-src.zip\")\n",
    "sys.path.insert(0, os.environ[\"PYLIB\"] + \"/pyspark.zip\")"
   ]
  },
  {
   "cell_type": "code",
   "execution_count": 3,
   "metadata": {},
   "outputs": [
    {
     "data": {
      "text/html": [
       "\n",
       "            <div>\n",
       "                <p><b>SparkSession - in-memory</b></p>\n",
       "                \n",
       "        <div>\n",
       "            <p><b>SparkContext</b></p>\n",
       "\n",
       "            <p><a href=\"http://ip-172-31-93-40.ec2.internal:4040\">Spark UI</a></p>\n",
       "\n",
       "            <dl>\n",
       "              <dt>Version</dt>\n",
       "                <dd><code>v2.4.4</code></dd>\n",
       "              <dt>Master</dt>\n",
       "                <dd><code>local[*]</code></dd>\n",
       "              <dt>AppName</dt>\n",
       "                <dd><code>log_reg</code></dd>\n",
       "            </dl>\n",
       "        </div>\n",
       "        \n",
       "            </div>\n",
       "        "
      ],
      "text/plain": [
       "<pyspark.sql.session.SparkSession at 0x7efe9dd3ac90>"
      ]
     },
     "execution_count": 3,
     "metadata": {},
     "output_type": "execute_result"
    }
   ],
   "source": [
    "from pyspark import SparkConf\n",
    "from pyspark.sql import SparkSession\n",
    "\n",
    "# initialising the session with 14 GB driver memory\n",
    "MAX_MEMORY = \"14G\"\n",
    "\n",
    "spark = SparkSession \\\n",
    "    .builder \\\n",
    "    .appName(\"log_reg\") \\\n",
    "    .config(\"spark.driver.memory\", MAX_MEMORY) \\\n",
    "    .getOrCreate()\n",
    "\n",
    "spark"
   ]
  },
  {
   "cell_type": "code",
   "execution_count": 4,
   "metadata": {},
   "outputs": [
    {
     "name": "stdout",
     "output_type": "stream",
     "text": [
      "spark.driver.memory = 14G\n"
     ]
    }
   ],
   "source": [
    "print('spark.driver.memory =', spark.sparkContext.getConf().get('spark.driver.memory'))\n"
   ]
  },
  {
   "cell_type": "code",
   "execution_count": 5,
   "metadata": {},
   "outputs": [],
   "source": [
    "from pyspark.ml import PipelineModel\n",
    "\n",
    "from pyspark.ml.classification import LogisticRegressionModel\n",
    "from pyspark.ml.classification import DecisionTreeClassificationModel\n",
    "from pyspark.ml.classification import RandomForestClassificationModel\n",
    "from pyspark.ml.feature import OneHotEncoder, StringIndexer, VectorAssembler\n",
    "from pyspark.ml.feature import StringIndexerModel\n",
    "\n",
    "from pyspark.ml.evaluation import MulticlassClassificationEvaluator\n"
   ]
  },
  {
   "cell_type": "code",
   "execution_count": 6,
   "metadata": {},
   "outputs": [],
   "source": [
    "import numpy as np\n",
    "import pandas as pd\n",
    "import matplotlib.pyplot as plt\n",
    "import seaborn as sns"
   ]
  },
  {
   "cell_type": "code",
   "execution_count": 7,
   "metadata": {},
   "outputs": [],
   "source": [
    "from itertools import chain\n"
   ]
  },
  {
   "cell_type": "code",
   "execution_count": 8,
   "metadata": {},
   "outputs": [],
   "source": [
    "transformed_df= spark.read.parquet(\"features_df.parquet\")\n"
   ]
  },
  {
   "cell_type": "code",
   "execution_count": 9,
   "metadata": {},
   "outputs": [
    {
     "name": "stdout",
     "output_type": "stream",
     "text": [
      "+-----------+------+--------------+-----------+----------+---------+-------------+--------------+------------------+---------------------+-----------------+---------+------------+------------+--------------+------------+--------------+------------+--------------+------------------+---------------+-------------+--------------------+\n",
      "|  cat_0_cln| price|category_level|day_of_week| cat_1_cln|brand_cln|session_count|activity_count|product_view_count|second_cat_view_count|        avg_price|hour_bins|is_purchased|cat_0_cln_ix| cat_0_cln_enc|cat_1_cln_ix| cat_1_cln_enc|brand_cln_ix| brand_cln_enc|category_level_enc|day_of_week_enc|hour_bins_enc|            features|\n",
      "+-----------+------+--------------+-----------+----------+---------+-------------+--------------+------------------+---------------------+-----------------+---------+------------+------------+--------------+------------+--------------+------------+--------------+------------------+---------------+-------------+--------------------+\n",
      "|electronics|380.28|             2|          1|smartphone|  samsung|            2|             1|                 1|                    1|493.3872257223995|      2.0|           0|         0.0|(13,[0],[1.0])|         0.0|(39,[0],[1.0])|         0.0|(19,[0],[1.0])|     (4,[2],[1.0])|  (7,[1],[1.0])|(3,[2],[1.0])|(91,[0,13,52,73,7...|\n",
      "|electronics|246.52|             2|          6|smartphone|  samsung|            5|             1|                 3|                    3|493.3872257223995|      2.0|           1|         0.0|(13,[0],[1.0])|         0.0|(39,[0],[1.0])|         0.0|(19,[0],[1.0])|     (4,[2],[1.0])|  (7,[6],[1.0])|(3,[2],[1.0])|(91,[0,13,52,73,8...|\n",
      "+-----------+------+--------------+-----------+----------+---------+-------------+--------------+------------------+---------------------+-----------------+---------+------------+------------+--------------+------------+--------------+------------+--------------+------------------+---------------+-------------+--------------------+\n",
      "only showing top 2 rows\n",
      "\n"
     ]
    }
   ],
   "source": [
    "transformed_df.show(2)"
   ]
  },
  {
   "cell_type": "code",
   "execution_count": 10,
   "metadata": {},
   "outputs": [
    {
     "name": "stdout",
     "output_type": "stream",
     "text": [
      "+-------------------------------------------------------------------------------------------------------------------------+\n",
      "|features                                                                                                                 |\n",
      "+-------------------------------------------------------------------------------------------------------------------------+\n",
      "|(91,[0,13,52,73,76,84,85,86,87,88,89,90],[1.0,1.0,1.0,1.0,1.0,1.0,380.2799987792969,2.0,1.0,1.0,1.0,493.3872257223995])  |\n",
      "|(91,[0,13,52,73,81,84,85,86,87,88,89,90],[1.0,1.0,1.0,1.0,1.0,1.0,246.52000427246094,5.0,1.0,3.0,3.0,493.3872257223995]) |\n",
      "|(91,[0,17,58,74,77,84,85,86,87,88,89,90],[1.0,1.0,1.0,1.0,1.0,1.0,389.9200134277344,10.0,1.0,4.0,7.0,493.3872257223995]) |\n",
      "|(91,[0,13,53,73,76,84,85,86,87,88,89,90],[1.0,1.0,1.0,1.0,1.0,1.0,1671.3399658203125,9.0,1.0,9.0,18.0,493.3872257223995])|\n",
      "|(91,[0,13,52,73,79,83,85,86,87,88,89,90],[1.0,1.0,1.0,1.0,1.0,1.0,131.63999938964844,3.0,1.0,3.0,3.0,493.3872257223995]) |\n",
      "+-------------------------------------------------------------------------------------------------------------------------+\n",
      "\n"
     ]
    }
   ],
   "source": [
    "transformed_df.select('features').limit(5).show(truncate=False)"
   ]
  },
  {
   "cell_type": "markdown",
   "metadata": {},
   "source": [
    "# Ecommerce Churn Assignment"
   ]
  },
  {
   "cell_type": "markdown",
   "metadata": {},
   "source": [
    "The aim of the assignment is to build a model that predicts whether a person purchases an item after it has been added to the cart or not. Being a classification problem, you are expected to use your understanding of all the three models covered till now. You must select the most robust model and provide a solution that predicts the churn in the most suitable manner. \n",
    "\n",
    "For this assignment, you are provided the data associated with an e-commerce company for the month of October 2019. Your task is to first analyse the data, and then perform multiple steps towards the model building process.\n",
    "\n",
    "The broad tasks are:\n",
    "- Data Exploration\n",
    "- Feature Engineering\n",
    "- Model Selection\n",
    "- Model Inference"
   ]
  },
  {
   "cell_type": "markdown",
   "metadata": {},
   "source": [
    "### Data description"
   ]
  },
  {
   "cell_type": "markdown",
   "metadata": {},
   "source": [
    "The dataset stores the information of a customer session on the e-commerce platform. It records the activity and the associated parameters with it.\n",
    "\n",
    "- **event_time**: Date and time when user accesses the platform\n",
    "- **event_type**: Action performed by the customer\n",
    "            - View\n",
    "            - Cart\n",
    "            - Purchase\n",
    "            - Remove from cart\n",
    "- **product_id**: Unique number to identify the product in the event\n",
    "- **category_id**: Unique number to identify the category of the product\n",
    "- **category_code**: Stores primary and secondary categories of the product\n",
    "- **brand**: Brand associated with the product\n",
    "- **price**: Price of the product\n",
    "- **user_id**: Unique ID for a customer\n",
    "- **user_session**: Session ID for a user\n"
   ]
  },
  {
   "cell_type": "code",
   "execution_count": 11,
   "metadata": {},
   "outputs": [
    {
     "data": {
      "text/plain": [
       "[StringIndexer_39d3d8138bed,\n",
       " OneHotEncoder_28ce3beb1af7,\n",
       " StringIndexer_a61edbfba1ce,\n",
       " OneHotEncoder_30fcbbfd1358,\n",
       " StringIndexer_782af24a7fc3,\n",
       " OneHotEncoder_6104bade4eba,\n",
       " OneHotEncoder_f529db65a95c,\n",
       " OneHotEncoder_23e2558e1614,\n",
       " OneHotEncoder_8f91ecdb56a2,\n",
       " VectorAssembler_79e76ebf349d]"
      ]
     },
     "execution_count": 11,
     "metadata": {},
     "output_type": "execute_result"
    }
   ],
   "source": [
    "pipeline_model = PipelineModel.load('pipeline_model')\n",
    "pipeline_model.stages"
   ]
  },
  {
   "cell_type": "markdown",
   "metadata": {},
   "source": [
    "### Initialising the SparkSession"
   ]
  },
  {
   "cell_type": "markdown",
   "metadata": {},
   "source": [
    "The dataset provided is 5 GBs in size. Therefore, it is expected that you increase the driver memory to a greater number. You can refer to notebook 1 for the steps involved here."
   ]
  },
  {
   "cell_type": "code",
   "execution_count": 12,
   "metadata": {},
   "outputs": [
    {
     "data": {
      "text/plain": [
       "True"
      ]
     },
     "execution_count": 12,
     "metadata": {},
     "output_type": "execute_result"
    }
   ],
   "source": [
    "\"StringIndexerModel\" in str(type(pipeline_model.stages[0]))"
   ]
  },
  {
   "cell_type": "code",
   "execution_count": 13,
   "metadata": {},
   "outputs": [
    {
     "data": {
      "text/html": [
       "<div>\n",
       "<style scoped>\n",
       "    .dataframe tbody tr th:only-of-type {\n",
       "        vertical-align: middle;\n",
       "    }\n",
       "\n",
       "    .dataframe tbody tr th {\n",
       "        vertical-align: top;\n",
       "    }\n",
       "\n",
       "    .dataframe thead th {\n",
       "        text-align: right;\n",
       "    }\n",
       "</style>\n",
       "<table border=\"1\" class=\"dataframe\">\n",
       "  <thead>\n",
       "    <tr style=\"text-align: right;\">\n",
       "      <th></th>\n",
       "      <th>idx</th>\n",
       "      <th>name</th>\n",
       "    </tr>\n",
       "  </thead>\n",
       "  <tbody>\n",
       "    <tr>\n",
       "      <th>0</th>\n",
       "      <td>0</td>\n",
       "      <td>cat_0_cln_enc_electronics</td>\n",
       "    </tr>\n",
       "    <tr>\n",
       "      <th>1</th>\n",
       "      <td>1</td>\n",
       "      <td>cat_0_cln_enc_Blank</td>\n",
       "    </tr>\n",
       "    <tr>\n",
       "      <th>2</th>\n",
       "      <td>2</td>\n",
       "      <td>cat_0_cln_enc_appliances</td>\n",
       "    </tr>\n",
       "    <tr>\n",
       "      <th>3</th>\n",
       "      <td>3</td>\n",
       "      <td>cat_0_cln_enc_computers</td>\n",
       "    </tr>\n",
       "    <tr>\n",
       "      <th>4</th>\n",
       "      <td>4</td>\n",
       "      <td>cat_0_cln_enc_construction</td>\n",
       "    </tr>\n",
       "    <tr>\n",
       "      <th>...</th>\n",
       "      <td>...</td>\n",
       "      <td>...</td>\n",
       "    </tr>\n",
       "    <tr>\n",
       "      <th>86</th>\n",
       "      <td>86</td>\n",
       "      <td>session_count</td>\n",
       "    </tr>\n",
       "    <tr>\n",
       "      <th>87</th>\n",
       "      <td>87</td>\n",
       "      <td>activity_count</td>\n",
       "    </tr>\n",
       "    <tr>\n",
       "      <th>88</th>\n",
       "      <td>88</td>\n",
       "      <td>product_view_count</td>\n",
       "    </tr>\n",
       "    <tr>\n",
       "      <th>89</th>\n",
       "      <td>89</td>\n",
       "      <td>second_cat_view_count</td>\n",
       "    </tr>\n",
       "    <tr>\n",
       "      <th>90</th>\n",
       "      <td>90</td>\n",
       "      <td>avg_price</td>\n",
       "    </tr>\n",
       "  </tbody>\n",
       "</table>\n",
       "<p>91 rows × 2 columns</p>\n",
       "</div>"
      ],
      "text/plain": [
       "    idx                        name\n",
       "0     0   cat_0_cln_enc_electronics\n",
       "1     1         cat_0_cln_enc_Blank\n",
       "2     2    cat_0_cln_enc_appliances\n",
       "3     3     cat_0_cln_enc_computers\n",
       "4     4  cat_0_cln_enc_construction\n",
       "..  ...                         ...\n",
       "86   86               session_count\n",
       "87   87              activity_count\n",
       "88   88          product_view_count\n",
       "89   89       second_cat_view_count\n",
       "90   90                   avg_price\n",
       "\n",
       "[91 rows x 2 columns]"
      ]
     },
     "execution_count": 13,
     "metadata": {},
     "output_type": "execute_result"
    }
   ],
   "source": [
    "#Extracting the feature mapping of the feature column\n",
    "# This is to show the feature importances in a meaningful way\n",
    "\n",
    "mapping_list= list(transformed_df.schema['features'].metadata[\"ml_attr\"][\"attrs\"].values())\n",
    "# Mapping list will have numeric mappings in index 0 and binary mappings in index 1\n",
    "#Putting it in a DataFrame\n",
    "mapping_df = pd.DataFrame(mapping_list[0] + mapping_list[1])\n",
    "mapping_df.sort_values('idx', inplace=True)\n",
    "mapping_df.reset_index(drop=True, inplace=True)\n",
    "mapping_df"
   ]
  },
  {
   "cell_type": "code",
   "execution_count": 14,
   "metadata": {},
   "outputs": [],
   "source": [
    "#_, test = transformed_df.randomSplit([0.8, 0.2], seed=12)"
   ]
  },
  {
   "cell_type": "markdown",
   "metadata": {},
   "source": [
    "<hr>"
   ]
  },
  {
   "cell_type": "markdown",
   "metadata": {},
   "source": [
    "## Task 4: Model Inference\n",
    "\n",
    "- Feature Importance\n",
    "- Model Inference\n",
    "- Feature exploration"
   ]
  },
  {
   "cell_type": "code",
   "execution_count": 15,
   "metadata": {},
   "outputs": [
    {
     "name": "stdout",
     "output_type": "stream",
     "text": [
      "LR description:  LogisticRegressionModel: uid = LogisticRegression_aa790391f4b9, numClasses = 2, numFeatures = 91\n",
      "LR coefficients: \n"
     ]
    },
    {
     "data": {
      "text/html": [
       "<div>\n",
       "<style scoped>\n",
       "    .dataframe tbody tr th:only-of-type {\n",
       "        vertical-align: middle;\n",
       "    }\n",
       "\n",
       "    .dataframe tbody tr th {\n",
       "        vertical-align: top;\n",
       "    }\n",
       "\n",
       "    .dataframe thead th {\n",
       "        text-align: right;\n",
       "    }\n",
       "</style>\n",
       "<table border=\"1\" class=\"dataframe\">\n",
       "  <thead>\n",
       "    <tr style=\"text-align: right;\">\n",
       "      <th></th>\n",
       "      <th>LR_coeff</th>\n",
       "    </tr>\n",
       "  </thead>\n",
       "  <tbody>\n",
       "    <tr>\n",
       "      <th>0</th>\n",
       "      <td>-0.039179</td>\n",
       "    </tr>\n",
       "    <tr>\n",
       "      <th>1</th>\n",
       "      <td>-0.186300</td>\n",
       "    </tr>\n",
       "    <tr>\n",
       "      <th>2</th>\n",
       "      <td>-0.386700</td>\n",
       "    </tr>\n",
       "    <tr>\n",
       "      <th>3</th>\n",
       "      <td>-0.115507</td>\n",
       "    </tr>\n",
       "    <tr>\n",
       "      <th>4</th>\n",
       "      <td>-0.726590</td>\n",
       "    </tr>\n",
       "    <tr>\n",
       "      <th>...</th>\n",
       "      <td>...</td>\n",
       "    </tr>\n",
       "    <tr>\n",
       "      <th>86</th>\n",
       "      <td>-0.012276</td>\n",
       "    </tr>\n",
       "    <tr>\n",
       "      <th>87</th>\n",
       "      <td>0.024254</td>\n",
       "    </tr>\n",
       "    <tr>\n",
       "      <th>88</th>\n",
       "      <td>0.070850</td>\n",
       "    </tr>\n",
       "    <tr>\n",
       "      <th>89</th>\n",
       "      <td>-0.003140</td>\n",
       "    </tr>\n",
       "    <tr>\n",
       "      <th>90</th>\n",
       "      <td>-0.001618</td>\n",
       "    </tr>\n",
       "  </tbody>\n",
       "</table>\n",
       "<p>91 rows × 1 columns</p>\n",
       "</div>"
      ],
      "text/plain": [
       "    LR_coeff\n",
       "0  -0.039179\n",
       "1  -0.186300\n",
       "2  -0.386700\n",
       "3  -0.115507\n",
       "4  -0.726590\n",
       "..       ...\n",
       "86 -0.012276\n",
       "87  0.024254\n",
       "88  0.070850\n",
       "89 -0.003140\n",
       "90 -0.001618\n",
       "\n",
       "[91 rows x 1 columns]"
      ]
     },
     "execution_count": 15,
     "metadata": {},
     "output_type": "execute_result"
    }
   ],
   "source": [
    "lr_model = LogisticRegressionModel.load('log_reg_model')\n",
    "print('LR description: ',lr_model)\n",
    "lr_coeff = lr_model.coefficientMatrix\n",
    "# lr_coeff will be a Dense Matrix. Since it is one dimensional we can convert it into an array\n",
    "lr_coeff = lr_coeff.toArray().squeeze()\n",
    "lr_coeff_df = pd.DataFrame(data=lr_coeff, columns=['LR_coeff'])\n",
    "print('LR coefficients: ')\n",
    "lr_coeff_df\n"
   ]
  },
  {
   "cell_type": "code",
   "execution_count": 16,
   "metadata": {
    "scrolled": true
   },
   "outputs": [
    {
     "data": {
      "text/html": [
       "<div>\n",
       "<style scoped>\n",
       "    .dataframe tbody tr th:only-of-type {\n",
       "        vertical-align: middle;\n",
       "    }\n",
       "\n",
       "    .dataframe tbody tr th {\n",
       "        vertical-align: top;\n",
       "    }\n",
       "\n",
       "    .dataframe thead th {\n",
       "        text-align: right;\n",
       "    }\n",
       "</style>\n",
       "<table border=\"1\" class=\"dataframe\">\n",
       "  <thead>\n",
       "    <tr style=\"text-align: right;\">\n",
       "      <th></th>\n",
       "      <th>idx</th>\n",
       "      <th>name</th>\n",
       "      <th>LR_coeff</th>\n",
       "    </tr>\n",
       "  </thead>\n",
       "  <tbody>\n",
       "    <tr>\n",
       "      <th>36</th>\n",
       "      <td>36</td>\n",
       "      <td>cat_1_cln_enc_bag</td>\n",
       "      <td>8.713278</td>\n",
       "    </tr>\n",
       "    <tr>\n",
       "      <th>48</th>\n",
       "      <td>48</td>\n",
       "      <td>cat_1_cln_enc_bathroom</td>\n",
       "      <td>0.704353</td>\n",
       "    </tr>\n",
       "    <tr>\n",
       "      <th>53</th>\n",
       "      <td>53</td>\n",
       "      <td>brand_cln_enc_apple</td>\n",
       "      <td>0.604313</td>\n",
       "    </tr>\n",
       "    <tr>\n",
       "      <th>57</th>\n",
       "      <td>57</td>\n",
       "      <td>brand_cln_enc_oppo</td>\n",
       "      <td>0.586493</td>\n",
       "    </tr>\n",
       "    <tr>\n",
       "      <th>52</th>\n",
       "      <td>52</td>\n",
       "      <td>brand_cln_enc_samsung</td>\n",
       "      <td>0.531580</td>\n",
       "    </tr>\n",
       "    <tr>\n",
       "      <th>...</th>\n",
       "      <td>...</td>\n",
       "      <td>...</td>\n",
       "      <td>...</td>\n",
       "    </tr>\n",
       "    <tr>\n",
       "      <th>45</th>\n",
       "      <td>45</td>\n",
       "      <td>cat_1_cln_enc_fmcg</td>\n",
       "      <td>-0.921268</td>\n",
       "    </tr>\n",
       "    <tr>\n",
       "      <th>47</th>\n",
       "      <td>47</td>\n",
       "      <td>cat_1_cln_enc_tshirt</td>\n",
       "      <td>-0.951248</td>\n",
       "    </tr>\n",
       "    <tr>\n",
       "      <th>42</th>\n",
       "      <td>42</td>\n",
       "      <td>cat_1_cln_enc_dolls</td>\n",
       "      <td>-1.016013</td>\n",
       "    </tr>\n",
       "    <tr>\n",
       "      <th>10</th>\n",
       "      <td>10</td>\n",
       "      <td>cat_0_cln_enc_medicine</td>\n",
       "      <td>-1.347057</td>\n",
       "    </tr>\n",
       "    <tr>\n",
       "      <th>9</th>\n",
       "      <td>9</td>\n",
       "      <td>cat_0_cln_enc_accessories</td>\n",
       "      <td>-9.861725</td>\n",
       "    </tr>\n",
       "  </tbody>\n",
       "</table>\n",
       "<p>91 rows × 3 columns</p>\n",
       "</div>"
      ],
      "text/plain": [
       "    idx                       name  LR_coeff\n",
       "36   36          cat_1_cln_enc_bag  8.713278\n",
       "48   48     cat_1_cln_enc_bathroom  0.704353\n",
       "53   53        brand_cln_enc_apple  0.604313\n",
       "57   57         brand_cln_enc_oppo  0.586493\n",
       "52   52      brand_cln_enc_samsung  0.531580\n",
       "..  ...                        ...       ...\n",
       "45   45         cat_1_cln_enc_fmcg -0.921268\n",
       "47   47       cat_1_cln_enc_tshirt -0.951248\n",
       "42   42        cat_1_cln_enc_dolls -1.016013\n",
       "10   10     cat_0_cln_enc_medicine -1.347057\n",
       "9     9  cat_0_cln_enc_accessories -9.861725\n",
       "\n",
       "[91 rows x 3 columns]"
      ]
     },
     "execution_count": 16,
     "metadata": {},
     "output_type": "execute_result"
    }
   ],
   "source": [
    "\n",
    "#lr_feat_mapping = pd.concat([mapping_df, lr_coeff_df], axis=1)\n",
    "lr_feat_mapping = mapping_df.join(lr_coeff_df, on='idx', how='left')\n",
    "\n",
    "lr_feat_mapping.sort_values('LR_coeff', ascending=False)"
   ]
  },
  {
   "cell_type": "markdown",
   "metadata": {},
   "source": [
    "## Decision Tree"
   ]
  },
  {
   "cell_type": "code",
   "execution_count": 17,
   "metadata": {},
   "outputs": [
    {
     "data": {
      "text/plain": [
       "DecisionTreeClassificationModel (uid=DecisionTreeClassifier_b84abb6e14f1) of depth 7 with 113 nodes"
      ]
     },
     "execution_count": 17,
     "metadata": {},
     "output_type": "execute_result"
    }
   ],
   "source": [
    "tree = DecisionTreeClassificationModel.load('decision_tree_model')\n",
    "tree"
   ]
  },
  {
   "cell_type": "code",
   "execution_count": 18,
   "metadata": {},
   "outputs": [
    {
     "name": "stdout",
     "output_type": "stream",
     "text": [
      "Decision Tree Feature Importances: \n"
     ]
    },
    {
     "data": {
      "text/html": [
       "<div>\n",
       "<style scoped>\n",
       "    .dataframe tbody tr th:only-of-type {\n",
       "        vertical-align: middle;\n",
       "    }\n",
       "\n",
       "    .dataframe tbody tr th {\n",
       "        vertical-align: top;\n",
       "    }\n",
       "\n",
       "    .dataframe thead th {\n",
       "        text-align: right;\n",
       "    }\n",
       "</style>\n",
       "<table border=\"1\" class=\"dataframe\">\n",
       "  <thead>\n",
       "    <tr style=\"text-align: right;\">\n",
       "      <th></th>\n",
       "      <th>Tree Feat Imp</th>\n",
       "    </tr>\n",
       "  </thead>\n",
       "  <tbody>\n",
       "    <tr>\n",
       "      <th>88</th>\n",
       "      <td>0.482040</td>\n",
       "    </tr>\n",
       "    <tr>\n",
       "      <th>86</th>\n",
       "      <td>0.208187</td>\n",
       "    </tr>\n",
       "    <tr>\n",
       "      <th>13</th>\n",
       "      <td>0.130264</td>\n",
       "    </tr>\n",
       "    <tr>\n",
       "      <th>87</th>\n",
       "      <td>0.083009</td>\n",
       "    </tr>\n",
       "    <tr>\n",
       "      <th>89</th>\n",
       "      <td>0.069410</td>\n",
       "    </tr>\n",
       "    <tr>\n",
       "      <th>...</th>\n",
       "      <td>...</td>\n",
       "    </tr>\n",
       "    <tr>\n",
       "      <th>30</th>\n",
       "      <td>0.000000</td>\n",
       "    </tr>\n",
       "    <tr>\n",
       "      <th>29</th>\n",
       "      <td>0.000000</td>\n",
       "    </tr>\n",
       "    <tr>\n",
       "      <th>28</th>\n",
       "      <td>0.000000</td>\n",
       "    </tr>\n",
       "    <tr>\n",
       "      <th>27</th>\n",
       "      <td>0.000000</td>\n",
       "    </tr>\n",
       "    <tr>\n",
       "      <th>90</th>\n",
       "      <td>0.000000</td>\n",
       "    </tr>\n",
       "  </tbody>\n",
       "</table>\n",
       "<p>91 rows × 1 columns</p>\n",
       "</div>"
      ],
      "text/plain": [
       "    Tree Feat Imp\n",
       "88       0.482040\n",
       "86       0.208187\n",
       "13       0.130264\n",
       "87       0.083009\n",
       "89       0.069410\n",
       "..            ...\n",
       "30       0.000000\n",
       "29       0.000000\n",
       "28       0.000000\n",
       "27       0.000000\n",
       "90       0.000000\n",
       "\n",
       "[91 rows x 1 columns]"
      ]
     },
     "execution_count": 18,
     "metadata": {},
     "output_type": "execute_result"
    }
   ],
   "source": [
    "tree.featureImportances\n",
    "tree_feat_imp = tree.featureImportances.toArray().squeeze()\n",
    "tree_feat_imp_df = pd.DataFrame(data=tree_feat_imp, columns=['Tree Feat Imp'])\n",
    "print('Decision Tree Feature Importances: ')\n",
    "tree_feat_imp_df.sort_values('Tree Feat Imp', ascending=False)\n"
   ]
  },
  {
   "cell_type": "code",
   "execution_count": 19,
   "metadata": {},
   "outputs": [
    {
     "data": {
      "text/html": [
       "<div>\n",
       "<style scoped>\n",
       "    .dataframe tbody tr th:only-of-type {\n",
       "        vertical-align: middle;\n",
       "    }\n",
       "\n",
       "    .dataframe tbody tr th {\n",
       "        vertical-align: top;\n",
       "    }\n",
       "\n",
       "    .dataframe thead th {\n",
       "        text-align: right;\n",
       "    }\n",
       "</style>\n",
       "<table border=\"1\" class=\"dataframe\">\n",
       "  <thead>\n",
       "    <tr style=\"text-align: right;\">\n",
       "      <th></th>\n",
       "      <th>idx</th>\n",
       "      <th>name</th>\n",
       "      <th>Tree Feat Imp</th>\n",
       "    </tr>\n",
       "  </thead>\n",
       "  <tbody>\n",
       "    <tr>\n",
       "      <th>88</th>\n",
       "      <td>88</td>\n",
       "      <td>product_view_count</td>\n",
       "      <td>0.482040</td>\n",
       "    </tr>\n",
       "    <tr>\n",
       "      <th>86</th>\n",
       "      <td>86</td>\n",
       "      <td>session_count</td>\n",
       "      <td>0.208187</td>\n",
       "    </tr>\n",
       "    <tr>\n",
       "      <th>13</th>\n",
       "      <td>13</td>\n",
       "      <td>cat_1_cln_enc_smartphone</td>\n",
       "      <td>0.130264</td>\n",
       "    </tr>\n",
       "    <tr>\n",
       "      <th>87</th>\n",
       "      <td>87</td>\n",
       "      <td>activity_count</td>\n",
       "      <td>0.083009</td>\n",
       "    </tr>\n",
       "    <tr>\n",
       "      <th>89</th>\n",
       "      <td>89</td>\n",
       "      <td>second_cat_view_count</td>\n",
       "      <td>0.069410</td>\n",
       "    </tr>\n",
       "    <tr>\n",
       "      <th>...</th>\n",
       "      <td>...</td>\n",
       "      <td>...</td>\n",
       "      <td>...</td>\n",
       "    </tr>\n",
       "    <tr>\n",
       "      <th>30</th>\n",
       "      <td>30</td>\n",
       "      <td>cat_1_cln_enc_components</td>\n",
       "      <td>0.000000</td>\n",
       "    </tr>\n",
       "    <tr>\n",
       "      <th>29</th>\n",
       "      <td>29</td>\n",
       "      <td>cat_1_cln_enc_sewing_machine</td>\n",
       "      <td>0.000000</td>\n",
       "    </tr>\n",
       "    <tr>\n",
       "      <th>28</th>\n",
       "      <td>28</td>\n",
       "      <td>cat_1_cln_enc_personal</td>\n",
       "      <td>0.000000</td>\n",
       "    </tr>\n",
       "    <tr>\n",
       "      <th>27</th>\n",
       "      <td>27</td>\n",
       "      <td>cat_1_cln_enc_desktop</td>\n",
       "      <td>0.000000</td>\n",
       "    </tr>\n",
       "    <tr>\n",
       "      <th>90</th>\n",
       "      <td>90</td>\n",
       "      <td>avg_price</td>\n",
       "      <td>0.000000</td>\n",
       "    </tr>\n",
       "  </tbody>\n",
       "</table>\n",
       "<p>91 rows × 3 columns</p>\n",
       "</div>"
      ],
      "text/plain": [
       "    idx                          name  Tree Feat Imp\n",
       "88   88            product_view_count       0.482040\n",
       "86   86                 session_count       0.208187\n",
       "13   13      cat_1_cln_enc_smartphone       0.130264\n",
       "87   87                activity_count       0.083009\n",
       "89   89         second_cat_view_count       0.069410\n",
       "..  ...                           ...            ...\n",
       "30   30      cat_1_cln_enc_components       0.000000\n",
       "29   29  cat_1_cln_enc_sewing_machine       0.000000\n",
       "28   28        cat_1_cln_enc_personal       0.000000\n",
       "27   27         cat_1_cln_enc_desktop       0.000000\n",
       "90   90                     avg_price       0.000000\n",
       "\n",
       "[91 rows x 3 columns]"
      ]
     },
     "execution_count": 19,
     "metadata": {},
     "output_type": "execute_result"
    }
   ],
   "source": [
    "#tree_feat_mapping = pd.concat([mapping_df, tree_feat_imp_df], axis=1)\n",
    "\n",
    "tree_feat_mapping = mapping_df.join(tree_feat_imp_df, on='idx', how='left')\n",
    "\n",
    "tree_feat_mapping.sort_values('Tree Feat Imp', ascending=False)"
   ]
  },
  {
   "cell_type": "code",
   "execution_count": 26,
   "metadata": {},
   "outputs": [
    {
     "data": {
      "text/plain": [
       "{Param(parent='DecisionTreeClassifier_b84abb6e14f1', name='cacheNodeIds', doc='If false, the algorithm will pass trees to executors to match instances with nodes. If true, the algorithm will cache node IDs for each instance. Caching can speed up training of deeper trees.'): False,\n",
       " Param(parent='DecisionTreeClassifier_b84abb6e14f1', name='checkpointInterval', doc='set checkpoint interval (>= 1) or disable checkpoint (-1). E.g. 10 means that the cache will get checkpointed every 10 iterations. Note: this setting will be ignored if the checkpoint directory is not set in the SparkContext'): 10,\n",
       " Param(parent='DecisionTreeClassifier_b84abb6e14f1', name='maxMemoryInMB', doc='Maximum memory in MB allocated to histogram aggregation.'): 256,\n",
       " Param(parent='DecisionTreeClassifier_b84abb6e14f1', name='minInfoGain', doc='Minimum information gain for a split to be considered at a tree node.'): 0.0,\n",
       " Param(parent='DecisionTreeClassifier_b84abb6e14f1', name='predictionCol', doc='prediction column name'): 'prediction',\n",
       " Param(parent='DecisionTreeClassifier_b84abb6e14f1', name='probabilityCol', doc='Column name for predicted class conditional probabilities. Note: Not all models output well-calibrated probability estimates! These probabilities should be treated as confidences, not precise probabilities'): 'probability',\n",
       " Param(parent='DecisionTreeClassifier_b84abb6e14f1', name='rawPredictionCol', doc='raw prediction (a.k.a. confidence) column name'): 'rawPrediction',\n",
       " Param(parent='DecisionTreeClassifier_b84abb6e14f1', name='featuresCol', doc='features column name'): 'features',\n",
       " Param(parent='DecisionTreeClassifier_b84abb6e14f1', name='impurity', doc='Criterion used for information gain calculation (case-insensitive). Supported options: entropy, gini'): 'gini',\n",
       " Param(parent='DecisionTreeClassifier_b84abb6e14f1', name='labelCol', doc='label column name'): 'label',\n",
       " Param(parent='DecisionTreeClassifier_b84abb6e14f1', name='maxBins', doc='Max number of bins for discretizing continuous features.  Must be >=2 and >= number of categories for any categorical feature.'): 5,\n",
       " Param(parent='DecisionTreeClassifier_b84abb6e14f1', name='maxDepth', doc='Maximum depth of the tree. (>= 0) E.g., depth 0 means 1 leaf node; depth 1 means 1 internal node + 2 leaf nodes.'): 7,\n",
       " Param(parent='DecisionTreeClassifier_b84abb6e14f1', name='minInstancesPerNode', doc='Minimum number of instances each child must have after split.  If a split causes the left or right child to have fewer than minInstancesPerNode, the split will be discarded as invalid. Should be >= 1.'): 100,\n",
       " Param(parent='DecisionTreeClassifier_b84abb6e14f1', name='seed', doc='random seed'): 12}"
      ]
     },
     "execution_count": 26,
     "metadata": {},
     "output_type": "execute_result"
    }
   ],
   "source": [
    "tree.extractParamMap()"
   ]
  },
  {
   "cell_type": "markdown",
   "metadata": {},
   "source": [
    "## Random Forest"
   ]
  },
  {
   "cell_type": "code",
   "execution_count": 20,
   "metadata": {},
   "outputs": [
    {
     "data": {
      "text/plain": [
       "{Param(parent='RandomForestClassifier_1c65d13eaa9b', name='cacheNodeIds', doc='If false, the algorithm will pass trees to executors to match instances with nodes. If true, the algorithm will cache node IDs for each instance. Caching can speed up training of deeper trees.'): False,\n",
       " Param(parent='RandomForestClassifier_1c65d13eaa9b', name='checkpointInterval', doc='set checkpoint interval (>= 1) or disable checkpoint (-1). E.g. 10 means that the cache will get checkpointed every 10 iterations. Note: this setting will be ignored if the checkpoint directory is not set in the SparkContext'): 10,\n",
       " Param(parent='RandomForestClassifier_1c65d13eaa9b', name='maxMemoryInMB', doc='Maximum memory in MB allocated to histogram aggregation.'): 256,\n",
       " Param(parent='RandomForestClassifier_1c65d13eaa9b', name='minInfoGain', doc='Minimum information gain for a split to be considered at a tree node.'): 0.0,\n",
       " Param(parent='RandomForestClassifier_1c65d13eaa9b', name='predictionCol', doc='prediction column name'): 'prediction',\n",
       " Param(parent='RandomForestClassifier_1c65d13eaa9b', name='probabilityCol', doc='Column name for predicted class conditional probabilities. Note: Not all models output well-calibrated probability estimates! These probabilities should be treated as confidences, not precise probabilities'): 'probability',\n",
       " Param(parent='RandomForestClassifier_1c65d13eaa9b', name='rawPredictionCol', doc='raw prediction (a.k.a. confidence) column name'): 'rawPrediction',\n",
       " Param(parent='RandomForestClassifier_1c65d13eaa9b', name='subsamplingRate', doc='Fraction of the training data used for learning each decision tree, in range (0, 1].'): 1.0,\n",
       " Param(parent='RandomForestClassifier_1c65d13eaa9b', name='featureSubsetStrategy', doc='The number of features to consider for splits at each tree node. Supported options: auto, all, onethird, sqrt, log2, (0.0-1.0], [1-n].'): 'sqrt',\n",
       " Param(parent='RandomForestClassifier_1c65d13eaa9b', name='featuresCol', doc='features column name'): 'features',\n",
       " Param(parent='RandomForestClassifier_1c65d13eaa9b', name='impurity', doc='Criterion used for information gain calculation (case-insensitive). Supported options: entropy, gini'): 'entropy',\n",
       " Param(parent='RandomForestClassifier_1c65d13eaa9b', name='labelCol', doc='label column name'): 'label',\n",
       " Param(parent='RandomForestClassifier_1c65d13eaa9b', name='maxBins', doc='Max number of bins for discretizing continuous features.  Must be >=2 and >= number of categories for any categorical feature.'): 20,\n",
       " Param(parent='RandomForestClassifier_1c65d13eaa9b', name='maxDepth', doc='Maximum depth of the tree. (>= 0) E.g., depth 0 means 1 leaf node; depth 1 means 1 internal node + 2 leaf nodes.'): 6,\n",
       " Param(parent='RandomForestClassifier_1c65d13eaa9b', name='minInstancesPerNode', doc='Minimum number of instances each child must have after split.  If a split causes the left or right child to have fewer than minInstancesPerNode, the split will be discarded as invalid. Should be >= 1.'): 5,\n",
       " Param(parent='RandomForestClassifier_1c65d13eaa9b', name='numTrees', doc='Number of trees to train (>= 1)'): 30,\n",
       " Param(parent='RandomForestClassifier_1c65d13eaa9b', name='seed', doc='random seed'): 12}"
      ]
     },
     "execution_count": 20,
     "metadata": {},
     "output_type": "execute_result"
    }
   ],
   "source": [
    "rf_model = RandomForestClassificationModel.load('random_forest_model')\n",
    "rf_model.extractParamMap()"
   ]
  },
  {
   "cell_type": "code",
   "execution_count": 21,
   "metadata": {},
   "outputs": [
    {
     "name": "stdout",
     "output_type": "stream",
     "text": [
      "Random Forest Feature Importances: \n"
     ]
    },
    {
     "data": {
      "text/html": [
       "<div>\n",
       "<style scoped>\n",
       "    .dataframe tbody tr th:only-of-type {\n",
       "        vertical-align: middle;\n",
       "    }\n",
       "\n",
       "    .dataframe tbody tr th {\n",
       "        vertical-align: top;\n",
       "    }\n",
       "\n",
       "    .dataframe thead th {\n",
       "        text-align: right;\n",
       "    }\n",
       "</style>\n",
       "<table border=\"1\" class=\"dataframe\">\n",
       "  <thead>\n",
       "    <tr style=\"text-align: right;\">\n",
       "      <th></th>\n",
       "      <th>RF Feat Imp</th>\n",
       "    </tr>\n",
       "  </thead>\n",
       "  <tbody>\n",
       "    <tr>\n",
       "      <th>88</th>\n",
       "      <td>0.417191</td>\n",
       "    </tr>\n",
       "    <tr>\n",
       "      <th>86</th>\n",
       "      <td>0.213658</td>\n",
       "    </tr>\n",
       "    <tr>\n",
       "      <th>0</th>\n",
       "      <td>0.048166</td>\n",
       "    </tr>\n",
       "    <tr>\n",
       "      <th>13</th>\n",
       "      <td>0.048022</td>\n",
       "    </tr>\n",
       "    <tr>\n",
       "      <th>90</th>\n",
       "      <td>0.042323</td>\n",
       "    </tr>\n",
       "    <tr>\n",
       "      <th>...</th>\n",
       "      <td>...</td>\n",
       "    </tr>\n",
       "    <tr>\n",
       "      <th>47</th>\n",
       "      <td>0.000000</td>\n",
       "    </tr>\n",
       "    <tr>\n",
       "      <th>49</th>\n",
       "      <td>0.000000</td>\n",
       "    </tr>\n",
       "    <tr>\n",
       "      <th>50</th>\n",
       "      <td>0.000000</td>\n",
       "    </tr>\n",
       "    <tr>\n",
       "      <th>51</th>\n",
       "      <td>0.000000</td>\n",
       "    </tr>\n",
       "    <tr>\n",
       "      <th>45</th>\n",
       "      <td>0.000000</td>\n",
       "    </tr>\n",
       "  </tbody>\n",
       "</table>\n",
       "<p>91 rows × 1 columns</p>\n",
       "</div>"
      ],
      "text/plain": [
       "    RF Feat Imp\n",
       "88     0.417191\n",
       "86     0.213658\n",
       "0      0.048166\n",
       "13     0.048022\n",
       "90     0.042323\n",
       "..          ...\n",
       "47     0.000000\n",
       "49     0.000000\n",
       "50     0.000000\n",
       "51     0.000000\n",
       "45     0.000000\n",
       "\n",
       "[91 rows x 1 columns]"
      ]
     },
     "execution_count": 21,
     "metadata": {},
     "output_type": "execute_result"
    }
   ],
   "source": [
    "rf_feat_imp = rf_model.featureImportances.toArray().squeeze()\n",
    "rf_feat_imp_df = pd.DataFrame(data=rf_feat_imp, columns=['RF Feat Imp'])\n",
    "print('Random Forest Feature Importances: ')\n",
    "rf_feat_imp_df.sort_values('RF Feat Imp', ascending=False)\n"
   ]
  },
  {
   "cell_type": "code",
   "execution_count": 22,
   "metadata": {},
   "outputs": [
    {
     "data": {
      "text/html": [
       "<div>\n",
       "<style scoped>\n",
       "    .dataframe tbody tr th:only-of-type {\n",
       "        vertical-align: middle;\n",
       "    }\n",
       "\n",
       "    .dataframe tbody tr th {\n",
       "        vertical-align: top;\n",
       "    }\n",
       "\n",
       "    .dataframe thead th {\n",
       "        text-align: right;\n",
       "    }\n",
       "</style>\n",
       "<table border=\"1\" class=\"dataframe\">\n",
       "  <thead>\n",
       "    <tr style=\"text-align: right;\">\n",
       "      <th></th>\n",
       "      <th>idx</th>\n",
       "      <th>name</th>\n",
       "      <th>RF Feat Imp</th>\n",
       "    </tr>\n",
       "  </thead>\n",
       "  <tbody>\n",
       "    <tr>\n",
       "      <th>88</th>\n",
       "      <td>88</td>\n",
       "      <td>product_view_count</td>\n",
       "      <td>0.417191</td>\n",
       "    </tr>\n",
       "    <tr>\n",
       "      <th>86</th>\n",
       "      <td>86</td>\n",
       "      <td>session_count</td>\n",
       "      <td>0.213658</td>\n",
       "    </tr>\n",
       "    <tr>\n",
       "      <th>0</th>\n",
       "      <td>0</td>\n",
       "      <td>cat_0_cln_enc_electronics</td>\n",
       "      <td>0.048166</td>\n",
       "    </tr>\n",
       "    <tr>\n",
       "      <th>13</th>\n",
       "      <td>13</td>\n",
       "      <td>cat_1_cln_enc_smartphone</td>\n",
       "      <td>0.048022</td>\n",
       "    </tr>\n",
       "    <tr>\n",
       "      <th>90</th>\n",
       "      <td>90</td>\n",
       "      <td>avg_price</td>\n",
       "      <td>0.042323</td>\n",
       "    </tr>\n",
       "    <tr>\n",
       "      <th>...</th>\n",
       "      <td>...</td>\n",
       "      <td>...</td>\n",
       "      <td>...</td>\n",
       "    </tr>\n",
       "    <tr>\n",
       "      <th>47</th>\n",
       "      <td>47</td>\n",
       "      <td>cat_1_cln_enc_tshirt</td>\n",
       "      <td>0.000000</td>\n",
       "    </tr>\n",
       "    <tr>\n",
       "      <th>49</th>\n",
       "      <td>49</td>\n",
       "      <td>cat_1_cln_enc_cultivator</td>\n",
       "      <td>0.000000</td>\n",
       "    </tr>\n",
       "    <tr>\n",
       "      <th>50</th>\n",
       "      <td>50</td>\n",
       "      <td>cat_1_cln_enc_tennis</td>\n",
       "      <td>0.000000</td>\n",
       "    </tr>\n",
       "    <tr>\n",
       "      <th>51</th>\n",
       "      <td>51</td>\n",
       "      <td>cat_1_cln_enc_sock</td>\n",
       "      <td>0.000000</td>\n",
       "    </tr>\n",
       "    <tr>\n",
       "      <th>45</th>\n",
       "      <td>45</td>\n",
       "      <td>cat_1_cln_enc_fmcg</td>\n",
       "      <td>0.000000</td>\n",
       "    </tr>\n",
       "  </tbody>\n",
       "</table>\n",
       "<p>91 rows × 3 columns</p>\n",
       "</div>"
      ],
      "text/plain": [
       "    idx                       name  RF Feat Imp\n",
       "88   88         product_view_count     0.417191\n",
       "86   86              session_count     0.213658\n",
       "0     0  cat_0_cln_enc_electronics     0.048166\n",
       "13   13   cat_1_cln_enc_smartphone     0.048022\n",
       "90   90                  avg_price     0.042323\n",
       "..  ...                        ...          ...\n",
       "47   47       cat_1_cln_enc_tshirt     0.000000\n",
       "49   49   cat_1_cln_enc_cultivator     0.000000\n",
       "50   50       cat_1_cln_enc_tennis     0.000000\n",
       "51   51         cat_1_cln_enc_sock     0.000000\n",
       "45   45         cat_1_cln_enc_fmcg     0.000000\n",
       "\n",
       "[91 rows x 3 columns]"
      ]
     },
     "execution_count": 22,
     "metadata": {},
     "output_type": "execute_result"
    }
   ],
   "source": [
    "#rf_feat_mapping = pd.concat([mapping_df, rf_feat_imp_df], axis=1)\n",
    "rf_feat_mapping = mapping_df.join(rf_feat_imp_df, on='idx', how='left')\n",
    "rf_feat_mapping.sort_values('RF Feat Imp', ascending=False)"
   ]
  },
  {
   "cell_type": "code",
   "execution_count": null,
   "metadata": {},
   "outputs": [],
   "source": []
  },
  {
   "cell_type": "markdown",
   "metadata": {},
   "source": [
    "## Collating all the feature weights"
   ]
  },
  {
   "cell_type": "code",
   "execution_count": 23,
   "metadata": {},
   "outputs": [
    {
     "data": {
      "text/html": [
       "<div>\n",
       "<style scoped>\n",
       "    .dataframe tbody tr th:only-of-type {\n",
       "        vertical-align: middle;\n",
       "    }\n",
       "\n",
       "    .dataframe tbody tr th {\n",
       "        vertical-align: top;\n",
       "    }\n",
       "\n",
       "    .dataframe thead th {\n",
       "        text-align: right;\n",
       "    }\n",
       "</style>\n",
       "<table border=\"1\" class=\"dataframe\">\n",
       "  <thead>\n",
       "    <tr style=\"text-align: right;\">\n",
       "      <th></th>\n",
       "      <th>idx</th>\n",
       "      <th>name</th>\n",
       "      <th>LR_coeff</th>\n",
       "      <th>Tree Feat Imp</th>\n",
       "      <th>RF Feat Imp</th>\n",
       "    </tr>\n",
       "  </thead>\n",
       "  <tbody>\n",
       "    <tr>\n",
       "      <th>0</th>\n",
       "      <td>0</td>\n",
       "      <td>cat_0_cln_enc_electronics</td>\n",
       "      <td>-0.039179</td>\n",
       "      <td>0.000000</td>\n",
       "      <td>0.048166</td>\n",
       "    </tr>\n",
       "    <tr>\n",
       "      <th>1</th>\n",
       "      <td>1</td>\n",
       "      <td>cat_0_cln_enc_Blank</td>\n",
       "      <td>-0.186300</td>\n",
       "      <td>0.000000</td>\n",
       "      <td>0.023231</td>\n",
       "    </tr>\n",
       "    <tr>\n",
       "      <th>2</th>\n",
       "      <td>2</td>\n",
       "      <td>cat_0_cln_enc_appliances</td>\n",
       "      <td>-0.386700</td>\n",
       "      <td>0.000000</td>\n",
       "      <td>0.001648</td>\n",
       "    </tr>\n",
       "    <tr>\n",
       "      <th>3</th>\n",
       "      <td>3</td>\n",
       "      <td>cat_0_cln_enc_computers</td>\n",
       "      <td>-0.115507</td>\n",
       "      <td>0.000000</td>\n",
       "      <td>0.002306</td>\n",
       "    </tr>\n",
       "    <tr>\n",
       "      <th>4</th>\n",
       "      <td>4</td>\n",
       "      <td>cat_0_cln_enc_construction</td>\n",
       "      <td>-0.726590</td>\n",
       "      <td>0.000000</td>\n",
       "      <td>0.000000</td>\n",
       "    </tr>\n",
       "    <tr>\n",
       "      <th>...</th>\n",
       "      <td>...</td>\n",
       "      <td>...</td>\n",
       "      <td>...</td>\n",
       "      <td>...</td>\n",
       "      <td>...</td>\n",
       "    </tr>\n",
       "    <tr>\n",
       "      <th>86</th>\n",
       "      <td>86</td>\n",
       "      <td>session_count</td>\n",
       "      <td>-0.012276</td>\n",
       "      <td>0.208187</td>\n",
       "      <td>0.213658</td>\n",
       "    </tr>\n",
       "    <tr>\n",
       "      <th>87</th>\n",
       "      <td>87</td>\n",
       "      <td>activity_count</td>\n",
       "      <td>0.024254</td>\n",
       "      <td>0.083009</td>\n",
       "      <td>0.035325</td>\n",
       "    </tr>\n",
       "    <tr>\n",
       "      <th>88</th>\n",
       "      <td>88</td>\n",
       "      <td>product_view_count</td>\n",
       "      <td>0.070850</td>\n",
       "      <td>0.482040</td>\n",
       "      <td>0.417191</td>\n",
       "    </tr>\n",
       "    <tr>\n",
       "      <th>89</th>\n",
       "      <td>89</td>\n",
       "      <td>second_cat_view_count</td>\n",
       "      <td>-0.003140</td>\n",
       "      <td>0.069410</td>\n",
       "      <td>0.020001</td>\n",
       "    </tr>\n",
       "    <tr>\n",
       "      <th>90</th>\n",
       "      <td>90</td>\n",
       "      <td>avg_price</td>\n",
       "      <td>-0.001618</td>\n",
       "      <td>0.000000</td>\n",
       "      <td>0.042323</td>\n",
       "    </tr>\n",
       "  </tbody>\n",
       "</table>\n",
       "<p>91 rows × 5 columns</p>\n",
       "</div>"
      ],
      "text/plain": [
       "    idx                        name  LR_coeff  Tree Feat Imp  RF Feat Imp\n",
       "0     0   cat_0_cln_enc_electronics -0.039179       0.000000     0.048166\n",
       "1     1         cat_0_cln_enc_Blank -0.186300       0.000000     0.023231\n",
       "2     2    cat_0_cln_enc_appliances -0.386700       0.000000     0.001648\n",
       "3     3     cat_0_cln_enc_computers -0.115507       0.000000     0.002306\n",
       "4     4  cat_0_cln_enc_construction -0.726590       0.000000     0.000000\n",
       "..  ...                         ...       ...            ...          ...\n",
       "86   86               session_count -0.012276       0.208187     0.213658\n",
       "87   87              activity_count  0.024254       0.083009     0.035325\n",
       "88   88          product_view_count  0.070850       0.482040     0.417191\n",
       "89   89       second_cat_view_count -0.003140       0.069410     0.020001\n",
       "90   90                   avg_price -0.001618       0.000000     0.042323\n",
       "\n",
       "[91 rows x 5 columns]"
      ]
     },
     "execution_count": 23,
     "metadata": {},
     "output_type": "execute_result"
    }
   ],
   "source": [
    "overall_mapping_df = lr_feat_mapping.join(tree_feat_imp_df, on='idx', how='left')\n",
    "overall_mapping_df = overall_mapping_df.join(rf_feat_imp_df, on='idx', how='left')\n",
    "overall_mapping_df"
   ]
  },
  {
   "cell_type": "code",
   "execution_count": 24,
   "metadata": {},
   "outputs": [
    {
     "data": {
      "text/html": [
       "<div>\n",
       "<style scoped>\n",
       "    .dataframe tbody tr th:only-of-type {\n",
       "        vertical-align: middle;\n",
       "    }\n",
       "\n",
       "    .dataframe tbody tr th {\n",
       "        vertical-align: top;\n",
       "    }\n",
       "\n",
       "    .dataframe thead th {\n",
       "        text-align: right;\n",
       "    }\n",
       "</style>\n",
       "<table border=\"1\" class=\"dataframe\">\n",
       "  <thead>\n",
       "    <tr style=\"text-align: right;\">\n",
       "      <th></th>\n",
       "      <th>idx</th>\n",
       "      <th>Tree Feat Imp</th>\n",
       "      <th>RF Feat Imp</th>\n",
       "      <th>LR_coeff</th>\n",
       "      <th>name</th>\n",
       "    </tr>\n",
       "  </thead>\n",
       "  <tbody>\n",
       "    <tr>\n",
       "      <th>88.0</th>\n",
       "      <td>88</td>\n",
       "      <td>0.482040</td>\n",
       "      <td>0.417191</td>\n",
       "      <td>NaN</td>\n",
       "      <td>product_view_count</td>\n",
       "    </tr>\n",
       "    <tr>\n",
       "      <th>86.0</th>\n",
       "      <td>86</td>\n",
       "      <td>0.208187</td>\n",
       "      <td>0.213658</td>\n",
       "      <td>NaN</td>\n",
       "      <td>session_count</td>\n",
       "    </tr>\n",
       "    <tr>\n",
       "      <th>13.0</th>\n",
       "      <td>13</td>\n",
       "      <td>0.130264</td>\n",
       "      <td>0.048022</td>\n",
       "      <td>NaN</td>\n",
       "      <td>cat_1_cln_enc_smartphone</td>\n",
       "    </tr>\n",
       "    <tr>\n",
       "      <th>87.0</th>\n",
       "      <td>87</td>\n",
       "      <td>0.083009</td>\n",
       "      <td>NaN</td>\n",
       "      <td>NaN</td>\n",
       "      <td>activity_count</td>\n",
       "    </tr>\n",
       "    <tr>\n",
       "      <th>89.0</th>\n",
       "      <td>89</td>\n",
       "      <td>0.069410</td>\n",
       "      <td>NaN</td>\n",
       "      <td>NaN</td>\n",
       "      <td>second_cat_view_count</td>\n",
       "    </tr>\n",
       "    <tr>\n",
       "      <th>NaN</th>\n",
       "      <td>0</td>\n",
       "      <td>NaN</td>\n",
       "      <td>0.048166</td>\n",
       "      <td>NaN</td>\n",
       "      <td>cat_0_cln_enc_electronics</td>\n",
       "    </tr>\n",
       "    <tr>\n",
       "      <th>NaN</th>\n",
       "      <td>90</td>\n",
       "      <td>NaN</td>\n",
       "      <td>0.042323</td>\n",
       "      <td>NaN</td>\n",
       "      <td>avg_price</td>\n",
       "    </tr>\n",
       "    <tr>\n",
       "      <th>NaN</th>\n",
       "      <td>36</td>\n",
       "      <td>NaN</td>\n",
       "      <td>NaN</td>\n",
       "      <td>8.713278</td>\n",
       "      <td>cat_1_cln_enc_bag</td>\n",
       "    </tr>\n",
       "    <tr>\n",
       "      <th>NaN</th>\n",
       "      <td>48</td>\n",
       "      <td>NaN</td>\n",
       "      <td>NaN</td>\n",
       "      <td>0.704353</td>\n",
       "      <td>cat_1_cln_enc_bathroom</td>\n",
       "    </tr>\n",
       "    <tr>\n",
       "      <th>NaN</th>\n",
       "      <td>53</td>\n",
       "      <td>NaN</td>\n",
       "      <td>NaN</td>\n",
       "      <td>0.604313</td>\n",
       "      <td>brand_cln_enc_apple</td>\n",
       "    </tr>\n",
       "    <tr>\n",
       "      <th>NaN</th>\n",
       "      <td>57</td>\n",
       "      <td>NaN</td>\n",
       "      <td>NaN</td>\n",
       "      <td>0.586493</td>\n",
       "      <td>brand_cln_enc_oppo</td>\n",
       "    </tr>\n",
       "    <tr>\n",
       "      <th>NaN</th>\n",
       "      <td>52</td>\n",
       "      <td>NaN</td>\n",
       "      <td>NaN</td>\n",
       "      <td>0.531580</td>\n",
       "      <td>brand_cln_enc_samsung</td>\n",
       "    </tr>\n",
       "  </tbody>\n",
       "</table>\n",
       "</div>"
      ],
      "text/plain": [
       "      idx  Tree Feat Imp  RF Feat Imp  LR_coeff                       name\n",
       "88.0   88       0.482040     0.417191       NaN         product_view_count\n",
       "86.0   86       0.208187     0.213658       NaN              session_count\n",
       "13.0   13       0.130264     0.048022       NaN   cat_1_cln_enc_smartphone\n",
       "87.0   87       0.083009          NaN       NaN             activity_count\n",
       "89.0   89       0.069410          NaN       NaN      second_cat_view_count\n",
       "NaN     0            NaN     0.048166       NaN  cat_0_cln_enc_electronics\n",
       "NaN    90            NaN     0.042323       NaN                  avg_price\n",
       "NaN    36            NaN          NaN  8.713278          cat_1_cln_enc_bag\n",
       "NaN    48            NaN          NaN  0.704353     cat_1_cln_enc_bathroom\n",
       "NaN    53            NaN          NaN  0.604313        brand_cln_enc_apple\n",
       "NaN    57            NaN          NaN  0.586493         brand_cln_enc_oppo\n",
       "NaN    52            NaN          NaN  0.531580      brand_cln_enc_samsung"
      ]
     },
     "execution_count": 24,
     "metadata": {},
     "output_type": "execute_result"
    }
   ],
   "source": [
    "# Creating a dataframe to contain the top 5 features of each of the model\n",
    "\n",
    "top_feat_df = overall_mapping_df.sort_values('Tree Feat Imp', ascending=False)[:5][['idx', 'Tree Feat Imp']]\n",
    "top_feat_df = top_feat_df.join(overall_mapping_df.sort_values('RF Feat Imp', ascending=False)[:5][['idx', 'RF Feat Imp']],\n",
    "                          on = 'idx',\n",
    "                          how = 'outer',\n",
    "                        rsuffix='_RF_join'\n",
    "                               \n",
    "                         )\n",
    "top_feat_df = top_feat_df.join(overall_mapping_df.sort_values('LR_coeff', ascending=False)[:5][['idx', 'LR_coeff']],\n",
    "                          on = 'idx',\n",
    "                          how = 'outer',\n",
    "                        rsuffix='_LR_join'\n",
    "                               \n",
    "                         )\n",
    "top_feat_df = top_feat_df.join(overall_mapping_df[['idx', 'name']],\n",
    "                               on = 'idx',\n",
    "                               how='left',\n",
    "                               rsuffix = '_mapping'\n",
    "                              )\n",
    "top_feat_df.drop(['idx_LR_join', 'idx_RF_join', 'idx_mapping'],axis=1, inplace=True)\n",
    "top_feat_df"
   ]
  },
  {
   "cell_type": "code",
   "execution_count": 25,
   "metadata": {},
   "outputs": [
    {
     "data": {
      "text/plain": [
       "Text(0.5, 1.0, 'Top 5 influential Features')"
      ]
     },
     "execution_count": 25,
     "metadata": {},
     "output_type": "execute_result"
    },
    {
     "data": {
      "image/png": "[encoded data removed]",
      "text/plain": [
       "<Figure size 1008x432 with 1 Axes>"
      ]
     },
     "metadata": {
      "needs_background": "light"
     },
     "output_type": "display_data"
    }
   ],
   "source": [
    "fig, ax = plt.subplots(1,1,figsize=(14,6))\n",
    "top_feat_df.plot(kind='barh', \n",
    "                 y ='Tree Feat Imp',\n",
    "                 x = 'name',\n",
    "                 color='g',\n",
    "                 ax=ax,\n",
    "                 position=0,\n",
    "                 label='DT Feat Imp'\n",
    "                )\n",
    "top_feat_df.plot(kind='barh', \n",
    "                 y ='RF Feat Imp',\n",
    "                 x = 'name',\n",
    "                 color='b',\n",
    "                 ax=ax,\n",
    "                 position=0.33,\n",
    "                 label = 'RF Feat Imp'\n",
    "                )\n",
    "top_feat_df.plot(kind='barh', \n",
    "                 y ='LR_coeff',\n",
    "                 x = 'name',\n",
    "                 color='r',\n",
    "                 position=0.66,\n",
    "                 ax=ax\n",
    "                )\n",
    "plt.title('Top 5 influential Features')"
   ]
  },
  {
   "cell_type": "code",
   "execution_count": null,
   "metadata": {},
   "outputs": [],
   "source": []
  }
 ],
 "metadata": {
  "kernelspec": {
   "display_name": "Python 3",
   "language": "python",
   "name": "python3"
  },
  "language_info": {
   "codemirror_mode": {
    "name": "ipython",
    "version": 3
   },
   "file_extension": ".py",
   "mimetype": "text/x-python",
   "name": "python",
   "nbconvert_exporter": "python",
   "pygments_lexer": "ipython3",
   "version": "3.7.9"
  }
 },
 "nbformat": 4,
 "nbformat_minor": 4
}
