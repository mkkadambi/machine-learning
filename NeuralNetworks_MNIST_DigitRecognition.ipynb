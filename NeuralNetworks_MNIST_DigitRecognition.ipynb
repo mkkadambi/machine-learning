{
  "nbformat": 4,
  "nbformat_minor": 0,
  "metadata": {
    "colab": {
      "name": "NeuralNetworks-MNIST-DigitRecognition.ipynb",
      "provenance": [],
      "authorship_tag": "ABX9TyNRLkosOWhlpJd3L190nzxR",
      "include_colab_link": true
    },
    "kernelspec": {
      "name": "python3",
      "display_name": "Python 3"
    },
    "language_info": {
      "name": "python"
    }
  },
  "cells": [
    {
      "cell_type": "markdown",
      "metadata": {
        "id": "view-in-github",
        "colab_type": "text"
      },
      "source": [
        "<a href=\"https://colab.research.google.com/github/mkkadambi/machine-learning/blob/main/NeuralNetworks_MNIST_DigitRecognition.ipynb\" target=\"_parent\"><img src=\"https://colab.research.google.com/assets/colab-badge.svg\" alt=\"Open In Colab\"/></a>"
      ]
    },
    {
      "cell_type": "markdown",
      "source": [
        "Implementing Neural Networks from scratch without using Tensorflow\n",
        "<br><br>\n",
        "The MNIST data set consists of 70,000 images of handwritten digits. It consists of digits from 0 to 9, the requirement is to classify the class to which the image belongs. The images in the MNIST data set are 28X28 pixels, and the input layer shall have 784 neurons (each neuron takes 1 pixel as the input). The output layer shall have 10 neurons, with each giving the probability of the input image belonging to any of the 10 classes. The image is classified into the class that is represented by the neuron with the highest probability. In the diagram below, you can see a few sample images that are available in the dataset.\n",
        "<br><br>\n",
        "\n",
        "\n",
        "<img src=\"https://images.upgrad.com/80bd8b72-de1d-4ea6-9923-6b9fc3d03ed9-8.png\">\n"
      ],
      "metadata": {
        "id": "ZH2paHvqDgbl"
      }
    },
    {
      "cell_type": "code",
      "execution_count": 1,
      "metadata": {
        "id": "Fe7q5rQxCS8-"
      },
      "outputs": [],
      "source": [
        "# Import required libraries:\n",
        "# For model file handling\n",
        "import pickle\n",
        "import gzip\n",
        "\n",
        "import numpy as np\n",
        "import pandas as pd\n",
        "import h5py\n",
        "\n",
        "import sklearn\n",
        "import sklearn.datasets\n",
        "import scipy\n",
        "\n",
        "# For plotting and image displays\n",
        "import matplotlib.pyplot as plt\n",
        "from PIL import Image\n",
        "from scipy import ndimage\n",
        "%matplotlib inline"
      ]
    },
    {
      "cell_type": "markdown",
      "source": [
        "# Download Dataset"
      ],
      "metadata": {
        "id": "KER0N9dVHLPP"
      }
    },
    {
      "cell_type": "code",
      "source": [
        "data_url = \"https://cdn.upgrad.com/uploads/production/2f798b87-a95d-4d53-b34b-166f291c022b/mnist.pkl.gz\"\n",
        "# Download the dataset to the local path\n",
        "!wget $data_url\n",
        "!ls"
      ],
      "metadata": {
        "colab": {
          "base_uri": "https://localhost:8080/"
        },
        "id": "NBSm1AkxGrxL",
        "outputId": "933814db-4c09-4672-88f3-a8af00667680"
      },
      "execution_count": 7,
      "outputs": [
        {
          "output_type": "stream",
          "name": "stdout",
          "text": [
            "--2022-06-16 01:23:51--  https://cdn.upgrad.com/uploads/production/2f798b87-a95d-4d53-b34b-166f291c022b/mnist.pkl.gz\n",
            "Resolving cdn.upgrad.com (cdn.upgrad.com)... 108.138.94.76, 108.138.94.107, 108.138.94.27, ...\n",
            "Connecting to cdn.upgrad.com (cdn.upgrad.com)|108.138.94.76|:443... connected.\n",
            "HTTP request sent, awaiting response... 200 OK\n",
            "Length: 17051982 (16M) [application/x-gzip]\n",
            "Saving to: ‘mnist.pkl.gz’\n",
            "\n",
            "mnist.pkl.gz        100%[===================>]  16.26M  8.23MB/s    in 2.0s    \n",
            "\n",
            "2022-06-16 01:23:54 (8.23 MB/s) - ‘mnist.pkl.gz’ saved [17051982/17051982]\n",
            "\n",
            "mnist.pkl.gz  sample_data\n"
          ]
        }
      ]
    },
    {
      "cell_type": "markdown",
      "source": [
        "# Load Dataset\n",
        "* uncompress the dataset file\n",
        "* read the file into python variables"
      ],
      "metadata": {
        "id": "cfcPnCwdHI4V"
      }
    },
    {
      "cell_type": "code",
      "source": [
        "def load_data(file='mnist.pkl.gz'):\n",
        "  '''\n",
        "  Function to uncompress .gz file into a .pkl file. Load the .pkl file as \n",
        "  train_data, validation_data and test_data in that order\n",
        "  file: string, .gz filename containing .pkl dataset file\n",
        "  '''\n",
        "  # Open the file in read-only binary mode using gzip library\n",
        "  file_pointer = gzip.open(file, mode='rb')\n",
        "  # point the file_pointer to the start of the file\n",
        "  file_pointer.seek(0)\n",
        "  # load the three dataset objects\n",
        "  # The data was created using latin1 encoding\n",
        "  train_data, validation_data, test_data = pickle.load(file_pointer,\n",
        "                                                       encoding='latin1')\n",
        "  return train_data, validation_data, test_data"
      ],
      "metadata": {
        "id": "t2j3m2xrGuWg"
      },
      "execution_count": 10,
      "outputs": []
    },
    {
      "cell_type": "code",
      "source": [
        "train, val, test = load_data()\n",
        "print(f'train data type = {type(train)}, len = {len(train)}')\n",
        "print(f'val data type = {type(val)}, len = {len(val)}')\n",
        "print(f'test data type = {type(test)}, len = {len(test)}')"
      ],
      "metadata": {
        "colab": {
          "base_uri": "https://localhost:8080/"
        },
        "id": "jJkiTlOxJFSR",
        "outputId": "c984f2c0-3dcc-4cfd-e691-13384019e5a4"
      },
      "execution_count": 14,
      "outputs": [
        {
          "output_type": "stream",
          "name": "stdout",
          "text": [
            "train data type = <class 'tuple'>, len = 2\n",
            "val data type = <class 'tuple'>, len = 2\n",
            "test data type = <class 'tuple'>, len = 2\n"
          ]
        }
      ]
    },
    {
      "cell_type": "code",
      "source": [
        ""
      ],
      "metadata": {
        "id": "l9LW9yOXJK-D"
      },
      "execution_count": null,
      "outputs": []
    }
  ]
}