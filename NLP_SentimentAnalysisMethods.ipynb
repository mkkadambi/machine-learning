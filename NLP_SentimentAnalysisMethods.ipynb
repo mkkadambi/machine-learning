{
  "nbformat": 4,
  "nbformat_minor": 0,
  "metadata": {
    "colab": {
      "name": "NLP-SentimentAnalysisMethods.ipynb",
      "provenance": [],
      "collapsed_sections": [],
      "toc_visible": true
    },
    "kernelspec": {
      "name": "python3",
      "display_name": "Python 3"
    },
    "language_info": {
      "name": "python"
    }
  },
  "cells": [
    {
      "cell_type": "markdown",
      "metadata": {
        "id": "H9OdFxb11UqR"
      },
      "source": [
        "# Introduction"
      ]
    },
    {
      "cell_type": "markdown",
      "metadata": {
        "id": "LtEdhTi90z65"
      },
      "source": [
        "This notebook is an attempt to implement sentiment analysis using different methods\n",
        "\n",
        "Starting with methods like Logistic Regression, Latent Dirilecht Analysis, Naive Baiyes etc\n",
        "\n",
        "We will be using twitter datasets from NLTK"
      ]
    },
    {
      "cell_type": "markdown",
      "metadata": {
        "id": "UXVGEcYn1eKu"
      },
      "source": [
        "# Imports"
      ]
    },
    {
      "cell_type": "code",
      "metadata": {
        "id": "VBXjY69b0uv2"
      },
      "source": [
        "import nltk\n",
        "from nltk.stem import PorterStemmer\n",
        "from nltk.tokenize import TweetTokenizer\n",
        "from nltk.corpus import twitter_samples, stopwords\n",
        "\n",
        "from collections import defaultdict\n",
        "\n",
        "import re\n",
        "import os  \n",
        "import string\n",
        "import numpy as np\n",
        "import pandas as pd"
      ],
      "execution_count": 1,
      "outputs": []
    },
    {
      "cell_type": "markdown",
      "metadata": {
        "id": "KHnejmmi1tJk"
      },
      "source": [
        "# Datasets and Few more Initializations"
      ]
    },
    {
      "cell_type": "code",
      "metadata": {
        "colab": {
          "base_uri": "https://localhost:8080/"
        },
        "id": "XXCY3jDr1sBk",
        "outputId": "c7f6dcf2-ce76-41eb-9112-c45620cfe4e2"
      },
      "source": [
        "# Download the twitter dataset. This will be the dataset that will be used\n",
        "nltk.download('twitter_samples')\n",
        "\n",
        "# Download the english stopwords that will be removed from the tweets during preprocessing\n",
        "nltk.download('stopwords')\n"
      ],
      "execution_count": 2,
      "outputs": [
        {
          "output_type": "stream",
          "text": [
            "[nltk_data] Downloading package twitter_samples to /root/nltk_data...\n",
            "[nltk_data]   Unzipping corpora/twitter_samples.zip.\n",
            "[nltk_data] Downloading package stopwords to /root/nltk_data...\n",
            "[nltk_data]   Unzipping corpora/stopwords.zip.\n"
          ],
          "name": "stdout"
        },
        {
          "output_type": "execute_result",
          "data": {
            "text/plain": [
              "True"
            ]
          },
          "metadata": {
            "tags": []
          },
          "execution_count": 2
        }
      ]
    },
    {
      "cell_type": "markdown",
      "metadata": {
        "id": "z_VwOOmHCnfk"
      },
      "source": [
        ""
      ]
    },
    {
      "cell_type": "code",
      "metadata": {
        "id": "6eeXANCnCoLQ"
      },
      "source": [
        "# Get the positive and negative tweets from twitter_samples. These are of type list\n",
        "all_positive_tweets = twitter_samples.strings('positive_tweets.json')\n",
        "all_negative_tweets = twitter_samples.strings('negative_tweets.json')\n"
      ],
      "execution_count": 3,
      "outputs": []
    },
    {
      "cell_type": "code",
      "metadata": {
        "colab": {
          "base_uri": "https://localhost:8080/"
        },
        "id": "7QQ-ChsIC0OG",
        "outputId": "dcf26b17-92e2-40f2-e83f-43802c979b14"
      },
      "source": [
        "# logging the type and lengths\n",
        "type(all_positive_tweets), len(all_positive_tweets), len(all_negative_tweets)"
      ],
      "execution_count": 4,
      "outputs": [
        {
          "output_type": "execute_result",
          "data": {
            "text/plain": [
              "(list, 5000, 5000)"
            ]
          },
          "metadata": {
            "tags": []
          },
          "execution_count": 4
        }
      ]
    },
    {
      "cell_type": "markdown",
      "metadata": {
        "id": "RC0yd4KYDgWn"
      },
      "source": [
        " Let's take the last 1000 tweets as the test values for both positive and negative tweets.  \n",
        " That will leave the first 4000 tweets as the training data\n"
      ]
    },
    {
      "cell_type": "code",
      "metadata": {
        "id": "FTH_9rRaDDD2"
      },
      "source": [
        "# Separating positive tweets\n",
        "test_pos = all_positive_tweets[4000:]\n",
        "train_pos = all_positive_tweets[:4000]\n",
        "\n",
        "# separating negative tweets\n",
        "test_neg = all_negative_tweets[4000:]\n",
        "train_neg = all_negative_tweets[:4000]\n",
        "\n",
        "# Concatenating the positive and negative tweets to form the final test and train datasets\n",
        "train_x = train_pos + train_neg\n",
        "test_x = test_pos + test_neg\n",
        "\n",
        "# Assigning labels \n",
        "# 1 = positive tweet and \n",
        "# 0 = negative tweet\n",
        "train_y = [1]*len(train_pos) + [0]*len(train_neg)\n",
        "test_y = [1]*len(test_pos) + [0]*len(test_neg)\n",
        "\n"
      ],
      "execution_count": 5,
      "outputs": []
    },
    {
      "cell_type": "code",
      "metadata": {
        "colab": {
          "base_uri": "https://localhost:8080/"
        },
        "id": "J6RRbuOoD09S",
        "outputId": "80eaaf2a-2614-4353-bfe2-aa7d5b26faf6"
      },
      "source": [
        "# Showing the final lengths of train and test datasets\n",
        "len(train_x), len(test_x)"
      ],
      "execution_count": 6,
      "outputs": [
        {
          "output_type": "execute_result",
          "data": {
            "text/plain": [
              "(8000, 2000)"
            ]
          },
          "metadata": {
            "tags": []
          },
          "execution_count": 6
        }
      ]
    },
    {
      "cell_type": "code",
      "metadata": {
        "colab": {
          "base_uri": "https://localhost:8080/"
        },
        "id": "5R6AYThhEQNb",
        "outputId": "36f674d2-7801-4cf4-d4f3-a905cc7ecf46"
      },
      "source": [
        "# Showing few positive and negative tweets\n",
        "print(train_x[:5])\n",
        "print(train_x[-5:])"
      ],
      "execution_count": 7,
      "outputs": [
        {
          "output_type": "stream",
          "text": [
            "['#FollowFriday @France_Inte @PKuchly57 @Milipol_Paris for being top engaged members in my community this week :)', '@Lamb2ja Hey James! How odd :/ Please call our Contact Centre on 02392441234 and we will be able to assist you :) Many thanks!', '@DespiteOfficial we had a listen last night :) As You Bleed is an amazing track. When are you in Scotland?!', '@97sides CONGRATS :)', 'yeaaaah yippppy!!!  my accnt verified rqst has succeed got a blue tick mark on my fb profile :) in 15 days']\n",
            "['Amelia didnt stalk my twitter :(', 'oh, i missed the broadcast. : (', \"i really can't stream on melon i feel useless :-(\", 'I need to stop looking at old soccer pictures :(', 'Got an interview for the job that I want but they rang me Tuesday for the interview on Thursday but in on holiday :(']\n"
          ],
          "name": "stdout"
        }
      ]
    },
    {
      "cell_type": "markdown",
      "metadata": {
        "id": "Mjeezq2mMJID"
      },
      "source": [
        "# Text Preparing"
      ]
    },
    {
      "cell_type": "markdown",
      "metadata": {
        "id": "ZtoNCB7jMbem"
      },
      "source": [
        "All tweets should be removed of stopwords, urls, hashtags, tweet_ats, stock market tickers converted into tokens\n",
        "\n",
        "Sequence of steps for preparation:\n",
        "\n",
        "1.   remove urls in tweets\n",
        "2.   Remove # and @ symbols\n",
        "3.   Remove stopwords\n",
        "4.   Tokenize the tweet\n",
        "5.   Stem the words in the tweet\n",
        "\n",
        "**Note**: Stemming gets the words to the root form of the word (need not end up as a proper word in the language like lemmatization would result in)\n",
        "\n"
      ]
    },
    {
      "cell_type": "code",
      "metadata": {
        "id": "4vozKZvWMLxF"
      },
      "source": [
        "def process_tweet(tweet):\n",
        "  # Getting rid of urls in the tweet\n",
        "  # Below regular expression removes http https links including any with port numbers\n",
        "  tweet = re.sub(r'http[s][:\\/\\w]*', '', tweet)\n",
        "\n",
        "  # Getting rid of @, we will still retain who the tweet is being addressed to by just removing the symbol\n",
        "  tweet = re.sub(r'@', '', tweet)\n",
        "\n",
        "  # Getting rid of # symbol, retaining the hashtag name\n",
        "  tweet = re.sub(r'#', '', tweet)\n",
        "\n",
        "  # Get the list of stopwords from nltk \n",
        "  stopwords_list = set(stopwords.words('english'))\n",
        "  #Let's print the stopwords as FYI\n",
        "  #print(\"stopwords =\", stopwords_list)\n",
        "\n",
        "  # Get a Tokenizer instance\n",
        "  tokenizer = TweetTokenizer(preserve_case=False, strip_handles=False, reduce_len=False)\n",
        "  tokens = tokenizer.tokenize(tweet)\n",
        "\n",
        "  # The tokens generated will have stopwords and words that need to be stemmed\n",
        "  # Doing both in the next step\n",
        "\n",
        "  # Initialize a stemmer\n",
        "  stemmer = PorterStemmer() \n",
        "  \n",
        "  # stem the token if it is not a stopword and it is not a punctuation\n",
        "  clean_tweet=[stemmer.stem(token) for token in tokens if token not in stopwords_list and token not in string.punctuation ]\n",
        "  \n",
        "  return clean_tweet\n"
      ],
      "execution_count": 8,
      "outputs": []
    },
    {
      "cell_type": "markdown",
      "metadata": {
        "id": "9Fyp8rnwMD1P"
      },
      "source": [
        "# Method 1: Logistic Regression"
      ]
    },
    {
      "cell_type": "markdown",
      "metadata": {
        "id": "lLtLxdFoU8Ms"
      },
      "source": [
        "## Preparation for Feature Extraction:\n",
        "For every word, find the number of times it has been used in a positive tweet and number of times it has been used in a negative tweet\n"
      ]
    },
    {
      "cell_type": "code",
      "metadata": {
        "id": "r0j-1AE4L-21"
      },
      "source": [
        "def build_frequencies(tweets, labels):\n",
        "  '''\n",
        "  Function to create a list of tuples, each tuple of the form (token, sentiment)\n",
        "\n",
        "  tweets: list of tweets\n",
        "  labels: list of labels if it is positive of negative\n",
        "  '''\n",
        "  # Using a defaultdict so that in case a key is unavailable, it will return 0 \n",
        "  # and it will also help in incrementing the frequencies\n",
        "  freq_list = defaultdict()\n",
        "  \n",
        "  # Go through each tweet and label\n",
        "  for tweet, label in zip(tweets, labels):\n",
        "    # get tokens from the tweet\n",
        "    tokens = process_tweet(tweet)\n",
        "    \n",
        "    # go through each token and increment the freq_list\n",
        "    for token in tokens:\n",
        "      freq_list[(token, label)] = freq_list.get((token, label),0) + 1\n",
        "\n",
        "  return freq_list"
      ],
      "execution_count": 9,
      "outputs": []
    },
    {
      "cell_type": "markdown",
      "metadata": {
        "id": "nL-9oP4_bO-s"
      },
      "source": [
        "## Extracting Features for LR\n",
        "We will have two features for LR, for a given tweet, we will get the frequencies for each token used in a positive context and negative context\n",
        "\n",
        "```\n",
        "tweet1 Features = sum of positive_freq of words in tweet1, sum of negative_freq of words in tweet1\n",
        "```"
      ]
    },
    {
      "cell_type": "code",
      "metadata": {
        "id": "Ynl1v92xbPba"
      },
      "source": [
        "def extract_features(tweets, frequencies):\n",
        "  '''\n",
        "  \n",
        "  tweets = list of tweets\n",
        "  frequencies = resulting dictionary from the function build_frequencies\n",
        "  '''\n",
        "  feature_list = []\n",
        "  for tweet in tweets:\n",
        "    # Get the tokens from the tweet\n",
        "    tokens = process_tweet(tweet)\n",
        "\n",
        "    # define the features array. \n",
        "    # index 0 = positive sentiment\n",
        "    # index 1 = negative sentiment\n",
        "    features = np.zeros((2,))\n",
        "\n",
        "    #go through the tokens and get the sum of positive and negative freqs\n",
        "    for token in tokens:\n",
        "      # add the token as a positive sentiment to the positive sentiment feature\n",
        "      features[0] += frequencies.get((token, 1),0)\n",
        "\n",
        "      # add the token as a negative sentiment to the negative sentiment feature\n",
        "      features[1] += frequencies.get((token, 0),0)\n",
        "    feature_list.append(features)\n",
        "\n",
        "  return feature_list\n"
      ],
      "execution_count": 10,
      "outputs": []
    },
    {
      "cell_type": "code",
      "metadata": {
        "colab": {
          "base_uri": "https://localhost:8080/"
        },
        "id": "jBcL_nm4syla",
        "outputId": "e575bb07-7a22-4561-fc68-4457dd3689a7"
      },
      "source": [
        "print(\"stopwords =\", set(stopwords.words('english')))\n",
        "# get the frequencies from the training dataset\n",
        "frequencies = build_frequencies(tweets = train_x, labels = train_y)\n",
        "\n",
        "# get the features for training\n",
        "training_features = extract_features(tweets = train_x, frequencies = frequencies)\n",
        "\n",
        "# get the features for testing\n",
        "testing_features = extract_features(tweets = test_x, frequencies = frequencies)\n"
      ],
      "execution_count": 11,
      "outputs": [
        {
          "output_type": "stream",
          "text": [
            "stopwords = {'your', 'doesn', 'a', 'more', 'now', 'mustn', 'yourself', 'they', 'their', 'there', 'once', 'being', 'all', 'those', 'into', 'no', 'wasn', 'to', 'out', 'be', 'any', 'too', 'ain', 'again', 'having', 'weren', 'which', 'been', 'such', 'same', 'theirs', 'by', \"wouldn't\", 't', 'below', 'myself', \"shan't\", 'am', 'mightn', \"mightn't\", 'each', 'with', 'and', 'on', \"you've\", 'about', 'should', 'for', 'here', 'then', 'most', 'has', 'itself', 'through', 'd', \"mustn't\", 'm', 'shouldn', 'during', \"you'll\", 'do', 'just', 'didn', 'my', 'yourselves', 'what', 'were', 'couldn', \"should've\", 'against', 'y', 'ours', 'very', \"hasn't\", 'that', 'i', 'its', 'them', 'aren', 'we', \"isn't\", \"wasn't\", 'she', 'themselves', \"you're\", \"weren't\", \"don't\", 'don', 'hasn', 'these', 'had', 'hers', 'under', \"aren't\", 'o', 'are', \"shouldn't\", 'or', 'an', 'did', 'shan', 'needn', 'yours', \"won't\", 'the', 'ourselves', 'before', 'further', 'but', 'up', 'when', 'from', 'how', 'he', 'why', \"didn't\", 'haven', 'while', 'both', 'if', 'hadn', \"it's\", 'over', 'who', \"couldn't\", 'can', 'have', \"she's\", 'will', \"that'll\", 'was', 'her', 'because', 'some', 'me', 've', 'so', 'where', 'than', 'above', 'won', 'ma', \"hadn't\", 'himself', 'until', 'it', 'at', \"doesn't\", 'not', \"needn't\", 'between', 'after', 'll', 'own', 'nor', \"haven't\", 'does', 'whom', 'is', 'down', 'few', 'only', 's', 'isn', 'in', 'off', 'other', 'wouldn', 'him', \"you'd\", 'doing', 'as', 'of', 'herself', 'his', 'our', 'this', 'you', 're'}\n"
          ],
          "name": "stdout"
        }
      ]
    },
    {
      "cell_type": "code",
      "metadata": {
        "colab": {
          "base_uri": "https://localhost:8080/"
        },
        "id": "qVy5ONRewciP",
        "outputId": "deeb73d0-ec26-4883-8b08-3dc7f47ae459"
      },
      "source": [
        "print(\"train data =\", train_x[0])\n",
        "\n",
        "print(\"processed tweet =\", process_tweet(train_x[0]))\n",
        "\n",
        "print(\"training_features:\", training_features[0])"
      ],
      "execution_count": 12,
      "outputs": [
        {
          "output_type": "stream",
          "text": [
            "train data = #FollowFriday @France_Inte @PKuchly57 @Milipol_Paris for being top engaged members in my community this week :)\n",
            "processed tweet = ['followfriday', 'france_int', 'pkuchli', '57', 'milipol_pari', 'top', 'engag', 'member', 'commun', 'week', ':)']\n",
            "training_features: [3138.   61.]\n"
          ],
          "name": "stdout"
        }
      ]
    },
    {
      "cell_type": "code",
      "metadata": {
        "id": "3ljV8aBFzeaR"
      },
      "source": [
        ""
      ],
      "execution_count": 12,
      "outputs": []
    },
    {
      "cell_type": "markdown",
      "metadata": {
        "id": "knuDbgT6swtr"
      },
      "source": [
        "## Building LR Model\n",
        "\n",
        "We will implement LR model using Tensorflow as a single unit Dense layer with sigmoid activation function"
      ]
    },
    {
      "cell_type": "code",
      "metadata": {
        "id": "MBjsdQrP0TFa"
      },
      "source": [
        "import tensorflow as tf\n",
        "from tensorflow.keras import Model, Input\n",
        "from tensorflow.keras.layers import Dense"
      ],
      "execution_count": 13,
      "outputs": []
    },
    {
      "cell_type": "code",
      "metadata": {
        "id": "5KJYBF2wt3RT"
      },
      "source": [
        "def lr_model(batch_size=10):\n",
        "  '''\n",
        "  function to build logistic regression model using Tensorflow\n",
        "  '''\n",
        "  input = Input(shape = (2,), batch_size = batch_size, name='input')\n",
        "  x = Dense(1, activation='sigmoid', name='dense')(input)\n",
        "\n",
        "  model = Model(inputs = input, outputs = x, name='lr_model')\n",
        "  model.summary()\n",
        "  return model"
      ],
      "execution_count": 14,
      "outputs": []
    },
    {
      "cell_type": "code",
      "metadata": {
        "colab": {
          "base_uri": "https://localhost:8080/"
        },
        "id": "p47oa7DqvpjG",
        "outputId": "549c5c17-aaa1-462f-8e13-ddcd0581932b"
      },
      "source": [
        "lr_model = lr_model()\n",
        "lr_model.compile(optimizer='adam'\n",
        "                  , loss='binary_crossentropy'\n",
        "                  , metrics = ['accuracy']\n",
        "                 )\n",
        "\n"
      ],
      "execution_count": 15,
      "outputs": [
        {
          "output_type": "stream",
          "text": [
            "Model: \"lr_model\"\n",
            "_________________________________________________________________\n",
            "Layer (type)                 Output Shape              Param #   \n",
            "=================================================================\n",
            "input (InputLayer)           [(10, 2)]                 0         \n",
            "_________________________________________________________________\n",
            "dense (Dense)                (10, 1)                   3         \n",
            "=================================================================\n",
            "Total params: 3\n",
            "Trainable params: 3\n",
            "Non-trainable params: 0\n",
            "_________________________________________________________________\n"
          ],
          "name": "stdout"
        }
      ]
    },
    {
      "cell_type": "code",
      "metadata": {
        "colab": {
          "base_uri": "https://localhost:8080/"
        },
        "id": "gMuszh3DAMmS",
        "outputId": "934e9df9-6b47-4d5b-fe9b-be8aaa86a4be"
      },
      "source": [
        "len(training_features)"
      ],
      "execution_count": 16,
      "outputs": [
        {
          "output_type": "execute_result",
          "data": {
            "text/plain": [
              "8000"
            ]
          },
          "metadata": {
            "tags": []
          },
          "execution_count": 16
        }
      ]
    },
    {
      "cell_type": "markdown",
      "metadata": {
        "id": "bxT9-suQAPTx"
      },
      "source": [
        "### Training"
      ]
    },
    {
      "cell_type": "code",
      "metadata": {
        "colab": {
          "base_uri": "https://localhost:8080/"
        },
        "id": "lKYoiOWQwKtp",
        "outputId": "81d9c015-cad5-489d-dc4d-4eed5d531936"
      },
      "source": [
        "metrics = lr_model.fit(x=np.array(training_features)\n",
        "             , y = np.array(train_y)\n",
        "             , epochs = 30\n",
        "             , shuffle=True\n",
        "             , validation_split=0.1\n",
        "\n",
        "             )\n"
      ],
      "execution_count": 17,
      "outputs": [
        {
          "output_type": "stream",
          "text": [
            "Epoch 1/30\n",
            "WARNING:tensorflow:Model was constructed with shape (10, 2) for input KerasTensor(type_spec=TensorSpec(shape=(10, 2), dtype=tf.float32, name='input'), name='input', description=\"created by layer 'input'\"), but it was called on an input with incompatible shape (32, 2).\n",
            "WARNING:tensorflow:Model was constructed with shape (10, 2) for input KerasTensor(type_spec=TensorSpec(shape=(10, 2), dtype=tf.float32, name='input'), name='input', description=\"created by layer 'input'\"), but it was called on an input with incompatible shape (32, 2).\n",
            "208/225 [==========================>...] - ETA: 0s - loss: 52.5081 - accuracy: 0.7462WARNING:tensorflow:Model was constructed with shape (10, 2) for input KerasTensor(type_spec=TensorSpec(shape=(10, 2), dtype=tf.float32, name='input'), name='input', description=\"created by layer 'input'\"), but it was called on an input with incompatible shape (32, 2).\n",
            "225/225 [==============================] - 1s 2ms/step - loss: 48.6758 - accuracy: 0.7618 - val_loss: 3.0758 - val_accuracy: 0.9137\n",
            "Epoch 2/30\n",
            "225/225 [==============================] - 0s 1ms/step - loss: 1.0620 - accuracy: 0.9674 - val_loss: 1.0216 - val_accuracy: 0.9488\n",
            "Epoch 3/30\n",
            "225/225 [==============================] - 0s 1ms/step - loss: 0.4104 - accuracy: 0.9824 - val_loss: 0.4620 - val_accuracy: 0.9688\n",
            "Epoch 4/30\n",
            "225/225 [==============================] - 0s 1ms/step - loss: 0.2049 - accuracy: 0.9900 - val_loss: 0.1701 - val_accuracy: 0.9837\n",
            "Epoch 5/30\n",
            "225/225 [==============================] - 0s 1ms/step - loss: 0.1257 - accuracy: 0.9932 - val_loss: 0.0834 - val_accuracy: 0.9887\n",
            "Epoch 6/30\n",
            "225/225 [==============================] - 0s 1ms/step - loss: 0.1028 - accuracy: 0.9950 - val_loss: 0.0434 - val_accuracy: 0.9937\n",
            "Epoch 7/30\n",
            "225/225 [==============================] - 0s 1ms/step - loss: 0.0935 - accuracy: 0.9939 - val_loss: 0.0297 - val_accuracy: 0.9937\n",
            "Epoch 8/30\n",
            "225/225 [==============================] - 0s 1ms/step - loss: 0.0905 - accuracy: 0.9940 - val_loss: 0.0207 - val_accuracy: 0.9950\n",
            "Epoch 9/30\n",
            "225/225 [==============================] - 0s 1ms/step - loss: 0.0886 - accuracy: 0.9936 - val_loss: 0.0183 - val_accuracy: 0.9950\n",
            "Epoch 10/30\n",
            "225/225 [==============================] - 0s 1ms/step - loss: 0.0865 - accuracy: 0.9939 - val_loss: 0.0232 - val_accuracy: 0.9950\n",
            "Epoch 11/30\n",
            "225/225 [==============================] - 0s 1ms/step - loss: 0.0844 - accuracy: 0.9936 - val_loss: 0.0243 - val_accuracy: 0.9937\n",
            "Epoch 12/30\n",
            "225/225 [==============================] - 0s 1ms/step - loss: 0.0813 - accuracy: 0.9933 - val_loss: 0.0226 - val_accuracy: 0.9950\n",
            "Epoch 13/30\n",
            "225/225 [==============================] - 0s 1ms/step - loss: 0.0787 - accuracy: 0.9940 - val_loss: 0.0163 - val_accuracy: 0.9950\n",
            "Epoch 14/30\n",
            "225/225 [==============================] - 0s 1ms/step - loss: 0.0756 - accuracy: 0.9931 - val_loss: 0.0177 - val_accuracy: 0.9950\n",
            "Epoch 15/30\n",
            "225/225 [==============================] - 0s 1ms/step - loss: 0.0693 - accuracy: 0.9936 - val_loss: 0.0304 - val_accuracy: 0.9937\n",
            "Epoch 16/30\n",
            "225/225 [==============================] - 0s 1ms/step - loss: 0.0683 - accuracy: 0.9937 - val_loss: 0.0208 - val_accuracy: 0.9937\n",
            "Epoch 17/30\n",
            "225/225 [==============================] - 0s 1ms/step - loss: 0.0608 - accuracy: 0.9942 - val_loss: 0.0215 - val_accuracy: 0.9937\n",
            "Epoch 18/30\n",
            "225/225 [==============================] - 0s 1ms/step - loss: 0.0585 - accuracy: 0.9943 - val_loss: 0.0169 - val_accuracy: 0.9950\n",
            "Epoch 19/30\n",
            "225/225 [==============================] - 0s 1ms/step - loss: 0.0515 - accuracy: 0.9942 - val_loss: 0.0092 - val_accuracy: 0.9962\n",
            "Epoch 20/30\n",
            "225/225 [==============================] - 0s 1ms/step - loss: 0.0452 - accuracy: 0.9947 - val_loss: 0.0044 - val_accuracy: 0.9987\n",
            "Epoch 21/30\n",
            "225/225 [==============================] - 0s 1ms/step - loss: 0.0407 - accuracy: 0.9940 - val_loss: 0.0284 - val_accuracy: 0.9887\n",
            "Epoch 22/30\n",
            "225/225 [==============================] - 0s 1ms/step - loss: 0.0348 - accuracy: 0.9951 - val_loss: 0.0149 - val_accuracy: 0.9937\n",
            "Epoch 23/30\n",
            "225/225 [==============================] - 0s 1ms/step - loss: 0.0338 - accuracy: 0.9933 - val_loss: 0.0214 - val_accuracy: 0.9912\n",
            "Epoch 24/30\n",
            "225/225 [==============================] - 0s 1ms/step - loss: 0.0308 - accuracy: 0.9949 - val_loss: 0.0190 - val_accuracy: 0.9925\n",
            "Epoch 25/30\n",
            "225/225 [==============================] - 0s 1ms/step - loss: 0.0303 - accuracy: 0.9942 - val_loss: 0.0179 - val_accuracy: 0.9925\n",
            "Epoch 26/30\n",
            "225/225 [==============================] - 0s 1ms/step - loss: 0.0311 - accuracy: 0.9936 - val_loss: 0.0459 - val_accuracy: 0.9825\n",
            "Epoch 27/30\n",
            "225/225 [==============================] - 0s 1ms/step - loss: 0.0307 - accuracy: 0.9937 - val_loss: 0.0111 - val_accuracy: 0.9962\n",
            "Epoch 28/30\n",
            "225/225 [==============================] - 0s 1ms/step - loss: 0.0314 - accuracy: 0.9929 - val_loss: 0.0215 - val_accuracy: 0.9912\n",
            "Epoch 29/30\n",
            "225/225 [==============================] - 0s 1ms/step - loss: 0.0304 - accuracy: 0.9939 - val_loss: 0.0246 - val_accuracy: 0.9875\n",
            "Epoch 30/30\n",
            "225/225 [==============================] - 0s 1ms/step - loss: 0.0313 - accuracy: 0.9926 - val_loss: 0.0169 - val_accuracy: 0.9925\n"
          ],
          "name": "stdout"
        }
      ]
    },
    {
      "cell_type": "code",
      "metadata": {
        "colab": {
          "base_uri": "https://localhost:8080/",
          "height": 407
        },
        "id": "uGamaMF70iE7",
        "outputId": "6fb30511-c2cd-489e-92cb-07cf5b1a7ea8"
      },
      "source": [
        "import matplotlib.pyplot as plt\n",
        "plt.figure(figsize=(12,6))\n",
        "\n",
        "\n",
        "plt.subplot(1,2,1)\n",
        "plt.plot(metrics.history['loss'], label='train')\n",
        "plt.plot(metrics.history['val_loss'], label='test')\n",
        "plt.title('Loss')\n",
        "plt.legend()\n",
        "\n",
        "plt.subplot(1,2,2)\n",
        "plt.plot(metrics.history['accuracy'], label='train')\n",
        "plt.plot(metrics.history['val_accuracy'], label='test')\n",
        "plt.title('Accuracy')\n",
        "plt.legend()\n"
      ],
      "execution_count": 18,
      "outputs": [
        {
          "output_type": "execute_result",
          "data": {
            "text/plain": [
              "<matplotlib.legend.Legend at 0x7f976d8cd9d0>"
            ]
          },
          "metadata": {
            "tags": []
          },
          "execution_count": 18
        },
        {
          "output_type": "display_data",
          "data": {
            "image/png": "[encoded data removed]",
            "text/plain": [
              "<Figure size 864x432 with 2 Axes>"
            ]
          },
          "metadata": {
            "tags": [],
            "needs_background": "light"
          }
        }
      ]
    },
    {
      "cell_type": "markdown",
      "metadata": {
        "id": "JfWUkUl_Dpmd"
      },
      "source": [
        "### Predictions and Confusion Matrix"
      ]
    },
    {
      "cell_type": "code",
      "metadata": {
        "colab": {
          "base_uri": "https://localhost:8080/"
        },
        "id": "tk9yACFBDQ32",
        "outputId": "f4b5d833-541b-4ed8-96dd-d94a2b574a93"
      },
      "source": [
        "y_pred = lr_model.predict(np.array(testing_features))\n",
        "\n",
        "confusion_matrix = tf.math.confusion_matrix(test_y, y_pred, num_classes=2)\n",
        "\n",
        "print(confusion_matrix)"
      ],
      "execution_count": 19,
      "outputs": [
        {
          "output_type": "stream",
          "text": [
            "tf.Tensor(\n",
            "[[1000    0]\n",
            " [ 305  695]], shape=(2, 2), dtype=int32)\n"
          ],
          "name": "stdout"
        }
      ]
    },
    {
      "cell_type": "code",
      "metadata": {
        "colab": {
          "base_uri": "https://localhost:8080/"
        },
        "id": "BuliMcO6EQW-",
        "outputId": "d1db9317-a5bb-4114-ef5b-a95aba23d8df"
      },
      "source": [
        "y_pred[:5]"
      ],
      "execution_count": 20,
      "outputs": [
        {
          "output_type": "execute_result",
          "data": {
            "text/plain": [
              "array([[1.        ],\n",
              "       [1.        ],\n",
              "       [0.9999888 ],\n",
              "       [1.        ],\n",
              "       [0.99979305]], dtype=float32)"
            ]
          },
          "metadata": {
            "tags": []
          },
          "execution_count": 20
        }
      ]
    },
    {
      "cell_type": "markdown",
      "metadata": {
        "id": "-Pb-dWoSEqV2"
      },
      "source": [
        "# Method 2: Linear Discrimant Analysis (LDA)\n",
        "\n",
        "In LDA we find the centroids of each class of tweets, use the gap between the centroids as the differentiating factor between the classes\n",
        "\n"
      ]
    },
    {
      "cell_type": "code",
      "metadata": {
        "id": "BRhfa8xHEkvh"
      },
      "source": [
        "# we need to represent the tweets as vectors, we do this using sklearn's TfidfVectorizer\n",
        "from sklearn.feature_extraction.text import TfidfVectorizer\n",
        "\n",
        "tweetVectorizer = TfidfVectorizer(tokenizer = process_tweet\n",
        "                               , stop_words=list(stopwords.words('english'))\n",
        "                               )\n",
        "\n",
        "# Obtaining the vector representations of the tweets\n",
        "tweetTfidf = tweetVectorizer.fit_transform(train_x)"
      ],
      "execution_count": 21,
      "outputs": []
    },
    {
      "cell_type": "code",
      "metadata": {
        "colab": {
          "base_uri": "https://localhost:8080/"
        },
        "id": "7MgZBiMfKObC",
        "outputId": "8987fd4d-3ecf-4007-94f9-09a852f1a3ab"
      },
      "source": [
        "type(tweetTfidf), tweetTfidf.shape"
      ],
      "execution_count": 22,
      "outputs": [
        {
          "output_type": "execute_result",
          "data": {
            "text/plain": [
              "(scipy.sparse.csr.csr_matrix, (8000, 16652))"
            ]
          },
          "metadata": {
            "tags": []
          },
          "execution_count": 22
        }
      ]
    },
    {
      "cell_type": "code",
      "metadata": {
        "id": "-y41qp_bMWe6"
      },
      "source": [
        "tweetTfidf = tweetTfidf.toarray()"
      ],
      "execution_count": 23,
      "outputs": []
    },
    {
      "cell_type": "markdown",
      "metadata": {
        "id": "g4qMf48XKrvt"
      },
      "source": [
        "## Calculating the centroids"
      ]
    },
    {
      "cell_type": "code",
      "metadata": {
        "colab": {
          "base_uri": "https://localhost:8080/"
        },
        "id": "ThtreTtJKXu3",
        "outputId": "bd185b38-6909-4a1a-9f16-ff0978ddcef1"
      },
      "source": [
        "# create a boolean mask to use to calculate the mean\n",
        "positive_mask = [y == 1 for y in train_y]\n",
        "print(\"length of mask = \", len(positive_mask))\n",
        "\n",
        "\n",
        "# calculating the positive centroid\n",
        "positive_centroid = tweetTfidf[positive_mask].mean(axis=0)\n",
        "print(\"positive centroid = \", positive_centroid.shape, \"\\n\", positive_centroid)\n",
        "\n",
        "# calculating the negative centroid using a negation of the positive mask\n",
        "negative_centroid = tweetTfidf[[~val for val in positive_mask]].mean(axis=0)\n",
        "print(\"negative centroid =\", negative_centroid.shape, \"\\n\", negative_centroid)\n",
        "\n",
        "# Finding the vector connecting the two centroids\n",
        "difference = positive_centroid - negative_centroid\n"
      ],
      "execution_count": 24,
      "outputs": [
        {
          "output_type": "stream",
          "text": [
            "length of mask =  8000\n",
            "positive centroid =  (16652,) \n",
            " [7.10403873e-05 8.27011206e-05 3.69501277e-04 ... 0.00000000e+00\n",
            " 0.00000000e+00 9.05286295e-05]\n",
            "negative centroid = (16652,) \n",
            " [0. 0. 0. ... 0. 0. 0.]\n"
          ],
          "name": "stdout"
        }
      ]
    },
    {
      "cell_type": "markdown",
      "metadata": {
        "id": "zDqhniwUPEGM"
      },
      "source": [
        "## Testing\n",
        "Predictions are done by \n",
        "1. finding the projection of the tweets onto the  vector connecting the positive and negative centroids, \n",
        "2. scale the result between the range [0, 1], and \n",
        "3. use a threshold like 0.5 or 0.7 to get a binary output prediction"
      ]
    },
    {
      "cell_type": "code",
      "metadata": {
        "colab": {
          "base_uri": "https://localhost:8080/"
        },
        "id": "DPGGQBWRM-fa",
        "outputId": "771fdf47-6eb8-45b6-d355-6a9febb7136f"
      },
      "source": [
        "# First we find the tfidfVector representation of the test data\n",
        "# since the output is a sparse matrix, it is converted to dense\n",
        "testTfidf = tweetVectorizer.transform(test_x).toarray()\n",
        "\n",
        "# Calculating the projection of the test data onto the difference vector\n",
        "testVectorProjection = np.dot(testTfidf, difference)\n",
        "\n",
        "print(\"projection shape and few samples = \", testVectorProjection.shape, \"\\n\", testVectorProjection[:5])\n"
      ],
      "execution_count": 25,
      "outputs": [
        {
          "output_type": "stream",
          "text": [
            "projection shape and few samples =  (2000,) \n",
            " [0.00981867 0.02888441 0.01515301 0.01238402 0.02374018]\n"
          ],
          "name": "stdout"
        }
      ]
    },
    {
      "cell_type": "code",
      "metadata": {
        "colab": {
          "base_uri": "https://localhost:8080/"
        },
        "id": "nucbpVIOUFxc",
        "outputId": "13bf9a35-4495-4740-cb0c-a0c69528609a"
      },
      "source": [
        "from sklearn.preprocessing import MinMaxScaler\n",
        "# instantiate the scaler\n",
        "scaler = MinMaxScaler(feature_range=(0,1))\n",
        "\n",
        "# Scale the prediction between 0 and 1\n",
        "scaled_y_pred = scaler.fit_transform(np.reshape(testVectorProjection, (-1, 1)))\n",
        "print(\"sample scaled projecion =\", scaled_y_pred[:5])\n"
      ],
      "execution_count": 26,
      "outputs": [
        {
          "output_type": "stream",
          "text": [
            "sample scaled projecion = [[0.70713655]\n",
            " [0.78168435]\n",
            " [0.72799405]\n",
            " [0.71716718]\n",
            " [0.76157019]]\n"
          ],
          "name": "stdout"
        }
      ]
    },
    {
      "cell_type": "code",
      "metadata": {
        "id": "IFHdIqOXLU2B"
      },
      "source": [
        "# Using threshold as 0.5 to\n",
        "y_pred = [int(y > 0.7) for y in scaled_y_pred ]"
      ],
      "execution_count": 27,
      "outputs": []
    },
    {
      "cell_type": "markdown",
      "metadata": {
        "id": "2LWAzVn5XYmP"
      },
      "source": [
        "## Confusion Matrix"
      ]
    },
    {
      "cell_type": "code",
      "metadata": {
        "colab": {
          "base_uri": "https://localhost:8080/"
        },
        "id": "0w_YR48fWh-n",
        "outputId": "9adc733a-f4d8-4e50-b2e5-07f90f3b4bc0"
      },
      "source": [
        "confusion_matrix = tf.math.confusion_matrix(test_y, y_pred, num_classes=2)\n",
        "print(confusion_matrix)"
      ],
      "execution_count": 28,
      "outputs": [
        {
          "output_type": "stream",
          "text": [
            "tf.Tensor(\n",
            "[[992   8]\n",
            " [157 843]], shape=(2, 2), dtype=int32)\n"
          ],
          "name": "stdout"
        }
      ]
    },
    {
      "cell_type": "markdown",
      "metadata": {
        "id": "64diFasMXhzZ"
      },
      "source": [
        "# Method 3: Naiive Bayes\n",
        "\n",
        "Naiive Bayes assumes that every word is independent of each other\n",
        "$$sentiment(tweet) = logprior * log(\\prod_i^N \\frac{p(positive|word)}{p(negative|word)})$$\n",
        "$$sentiment(tweet) = logprior * \\sum_i^N( log(p(positive|word)) - log(p(negative|word)) ) $$\n",
        "$$sentiment(tweet) = logprior * \\sum_i^N(likelihood(word)) $$\n",
        "\n",
        "where N = Number of words in a tweet\n",
        "\n",
        "First we calculate the logprior, i.e., log of the ratio probability of positive tweets to negative tweets. This will indicate the bias in the dataset, if any.\n",
        "\n",
        "$$P(D_{pos}) = \\frac{D_{pos}}{D}\\tag{1}$$\n",
        "\n",
        "$$P(D_{neg}) = \\frac{D_{neg}}{D}\\ $$\n",
        "\n",
        "where \n",
        "\n",
        "* $D_{pos}$ is the number of positive tweets\n",
        "* $D_{neg}$ is the number of negative tweets\n",
        "* $D$ is the total number of tweets\n",
        "\n",
        "$$ logprior = log(\\frac{P(D_{pos})}{P(D_{neg})})$$\n",
        "$$ logprior = log(\\frac{D_{pos}}{D_{neg}})$$\n",
        "$$ logprior = log(D_{pos})-log(D_{neg})$$\n",
        "\n",
        "Next we find the likelihood of a word in the vocabulary of being positive or negative setiment. \n",
        "1. probability of a word being a particular sentiment (using Laplacian smoothing to avoid log(0))\n",
        "2. likelihood of the word is the log of ratio of probabilities (positive to negative)\n",
        "\n",
        "$$ p(positive|word) = \\frac{freq(word\\_as\\_positive) + 1}{N_{pos} + V}$$\n",
        "$$ p(negative|word) = \\frac{freq(word\\_as\\_negative) + 1}{N_{neg} + V}$$\n",
        "\n",
        "$$ log\\_likelihood(word) = log(p(positive|word)) - log(p(negative|word)) $$\n",
        "\n",
        "where \n",
        "* V = vocabulary size\n",
        "* $N_{pos}$ = Total Number of positive words\n",
        "* $N_{neg}$ = Total number of negative words\n",
        "\n",
        "**In conclusion**, likelihood is \n",
        "* \\> (greater than) 1 if the word tends to be more positively used in the vocabulary\n",
        "* = 1 if the word is neutral\n",
        "* \\< (less than) 1 if the word tends to be more negatively used in the vocabulary\n",
        "\n",
        "**And **, log likelihood is\n",
        "* \\>(greater than) 0 if the word is positively used in the vocabulary\n",
        "* = 0 if the word is neutral\n",
        "* \\<(less than) 0 if the word tends to be more negatively used in the vocabulary\n",
        "\n",
        "\n",
        "The above steps are the training steps for Naiive Bayes model. The parameters of the model being\n",
        "1. logprior - float that signifies the bias within the dataset towards a sentiment\n",
        "2. log likelihood: dictionary of word and its likelihood of a sentiment"
      ]
    },
    {
      "cell_type": "markdown",
      "metadata": {
        "id": "ac6Q_2Ofouu6"
      },
      "source": [
        "## Calculating Model Parameters"
      ]
    },
    {
      "cell_type": "code",
      "metadata": {
        "id": "5cHnEJqUWjdy"
      },
      "source": [
        "\n",
        "def calculate_naiive_bayes_params(tweets, labels):\n",
        "  '''\n",
        "  Function to calculate the log prior and log likelihood for a Naiive Bayes model\n",
        "  tweets: list of tweets, i.e. training dataset\n",
        "  labels: list of 1-D labels that signify the sentiment of the tweets. This should be the same length as the tweets.\n",
        "          Assumption is positive sentiment = 1 and negative sentiment = 0\n",
        "\n",
        "  Returns: a tuple (float, dictionary)\n",
        "  log_prior: float, log prior of the training dataset provided\n",
        "  log_likelihood: dictionary, key = token and value = log likelihood of the token\n",
        "  '''\n",
        "  # Calculating logprior, total number of positive tweets / total number of negative tweets\n",
        "  # since positive tweet is represented as 1 and negative tweet is 0, we can put logprior as \n",
        "  log_prior = np.log(sum(labels)) - np.log(len(labels) - sum(labels))\n",
        "  print(\"logprior = \", log_prior)\n",
        "\n",
        "  # Next we are going to calculate the log likelihood of the words in the vocab\n",
        "\n",
        "  # First build the frequencies dictionary key= (token, sentiment) value = frequency\n",
        "  frequencies = build_frequencies(tweets, labels)\n",
        "\n",
        "  # We need to know the vocabulary length V, total number of positive words and negative words\n",
        "\n",
        "  # initialize a set for vocabulary\n",
        "  vocab = set()\n",
        "  # initialize the counts of positive and negative tokens\n",
        "  n_pos = n_neg = 0\n",
        "  # loop through the frequencies dictionary\n",
        "  for token, sentiment in frequencies.keys():\n",
        "    #add the token into the vocabulary set\n",
        "    # since it is a set, it avoids duplication\n",
        "    vocab.add(token)\n",
        "\n",
        "    # increment n_pos and n_neg based on sentiment of the token\n",
        "    if sentiment == 1: # positive sentiment\n",
        "      n_pos += 1\n",
        "    else: # negative sentiment\n",
        "      n_neg += 1\n",
        "  print(\"length of vocab =\", len(vocab))\n",
        "  print(\"total number of positive tokens =\", n_pos)\n",
        "  print(\"total number of negative tokens =\", n_neg)\n",
        "\n",
        "  # Going through the vocabulary to create log likehood dictionary\n",
        "  log_likelihood = defaultdict()\n",
        "\n",
        "  for token in vocab:\n",
        "    # Find the likelihood that the token is positive. Include Laplacian smoothing\n",
        "    likelihood_positive = (frequencies.get((token, 1),0) + 1)/(n_pos + len(vocab)) \n",
        "\n",
        "    # Find the likelihood that the token is negative. Include Laplacian smoothing\n",
        "    likelihood_negative = (frequencies.get((token, 0),0) + 1)/(n_neg + len(vocab))\n",
        "\n",
        "    # Find the log likelihood of the token\n",
        "    log_likelihood[token] = np.log(likelihood_positive) - np.log(likelihood_negative)\n",
        "  \n",
        "  return log_prior, log_likelihood\n",
        "\n"
      ],
      "execution_count": 31,
      "outputs": []
    },
    {
      "cell_type": "markdown",
      "metadata": {
        "id": "IRax_2_4vHhi"
      },
      "source": [
        "## Predicting Sentiments\n",
        "\n",
        "Given a test tweet, below steps will be followed to make a prediction using Naiive Bayes method\n",
        "1. Get the tokens from the tweet by calling process_tweet\n",
        "2. Find the log likelihood of each of the tokens using the dictionary from calculate_naiive_bayes_params function. If a token is not in the log_likelihood dictionary, assume that it is neutral\n",
        "3. Calculate the log likelihood of the test tweet using the formula: \n",
        "$$logprior + \\sum  log likelihood(tokens\\ in\\ the\\ test\\ tweet)$$\n",
        "4. If log likelihood of the test tweet is greater than zero, then the sentiment of the tweet is positive, else it is negative\n"
      ]
    },
    {
      "cell_type": "code",
      "metadata": {
        "colab": {
          "base_uri": "https://localhost:8080/"
        },
        "id": "dlJOb2ihw7s9",
        "outputId": "80edda92-9631-420a-9e52-69da9fd0b4fe"
      },
      "source": [
        "# Get the Naiive Bayes parameters\n",
        "log_prior, log_likelihood = calculate_naiive_bayes_params(train_x, train_y)\n",
        "\n",
        "# Initialize an empty list for the predictions\n",
        "y_pred = []\n",
        "\n",
        "# Go through each tweet in the testing dataset\n",
        "for tweet in test_x:\n",
        "  # Step 1: get the tokens from the tweet\n",
        "  tokens = process_tweet(tweet)\n",
        "\n",
        "  # Step 2 and 3: find sum of log likelihood of the tokens\n",
        "  tweet_log_likelihood = np.sum([log_likelihood.get(token,0) for token in tokens])\n",
        "\n",
        "  # Step 3: Calculate the sentiment value\n",
        "  sentiment = log_prior + tweet_log_likelihood\n",
        "\n",
        "  # Step 4: make final prediction\n",
        "  if (sentiment >0):\n",
        "    # Positive sentiment\n",
        "    y_pred.append(1)\n",
        "  else:\n",
        "    # negative sentiment\n",
        "    y_pred.append(0)\n"
      ],
      "execution_count": 33,
      "outputs": [
        {
          "output_type": "stream",
          "text": [
            "logprior =  0.0\n",
            "length of vocab = 16674\n",
            "total number of positive tokens = 10587\n",
            "total number of negative tokens = 8505\n"
          ],
          "name": "stdout"
        }
      ]
    },
    {
      "cell_type": "markdown",
      "metadata": {
        "id": "X50SopGqy2cr"
      },
      "source": [
        "## Confusion Matrix"
      ]
    },
    {
      "cell_type": "code",
      "metadata": {
        "colab": {
          "base_uri": "https://localhost:8080/"
        },
        "id": "T3XA6-wky3o2",
        "outputId": "d7aebe38-68cc-4eb4-c05b-87ea763a5512"
      },
      "source": [
        "confusion_matrix = tf.math.confusion_matrix(test_y, y_pred, num_classes=2)\n",
        "print(confusion_matrix)"
      ],
      "execution_count": 34,
      "outputs": [
        {
          "output_type": "stream",
          "text": [
            "tf.Tensor(\n",
            "[[995   5]\n",
            " [  8 992]], shape=(2, 2), dtype=int32)\n"
          ],
          "name": "stdout"
        }
      ]
    },
    {
      "cell_type": "code",
      "metadata": {
        "id": "GLB9OoV4zbuM"
      },
      "source": [
        ""
      ],
      "execution_count": null,
      "outputs": []
    }
  ]
}