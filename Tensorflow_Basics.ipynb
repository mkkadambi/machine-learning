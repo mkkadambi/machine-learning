{
  "nbformat": 4,
  "nbformat_minor": 0,
  "metadata": {
    "colab": {
      "name": "Tensorflow_Basics.ipynb",
      "provenance": [],
      "authorship_tag": "ABX9TyNU5DUKk8ardKwZXeyaFhUf",
      "include_colab_link": true
    },
    "kernelspec": {
      "name": "python3",
      "display_name": "Python 3"
    },
    "language_info": {
      "name": "python"
    }
  },
  "cells": [
    {
      "cell_type": "markdown",
      "metadata": {
        "id": "view-in-github",
        "colab_type": "text"
      },
      "source": [
        "<a href=\"https://colab.research.google.com/github/mkkadambi/machine-learning/blob/main/Tensorflow_Basics.ipynb\" target=\"_parent\"><img src=\"https://colab.research.google.com/assets/colab-badge.svg\" alt=\"Open In Colab\"/></a>"
      ]
    },
    {
      "cell_type": "code",
      "execution_count": 1,
      "metadata": {
        "id": "ggiM31qo73WF"
      },
      "outputs": [],
      "source": [
        "import tensorflow as tf\n",
        "import numpy as np"
      ]
    },
    {
      "cell_type": "code",
      "source": [
        "tf.__version__"
      ],
      "metadata": {
        "colab": {
          "base_uri": "https://localhost:8080/",
          "height": 35
        },
        "id": "eQCF350A8Bd_",
        "outputId": "06d5832b-d606-41a7-db0b-10a88490a9a8"
      },
      "execution_count": 2,
      "outputs": [
        {
          "output_type": "execute_result",
          "data": {
            "text/plain": [
              "'2.8.2'"
            ],
            "application/vnd.google.colaboratory.intrinsic+json": {
              "type": "string"
            }
          },
          "metadata": {},
          "execution_count": 2
        }
      ]
    },
    {
      "cell_type": "markdown",
      "source": [
        "## 1D Vector"
      ],
      "metadata": {
        "id": "28AcQM3D8o5s"
      }
    },
    {
      "cell_type": "code",
      "source": [
        "# vector is a 1D tensor\n",
        "\n",
        "vector_tf = tf.constant([0, 1, 2, 3, 4])\n",
        "\n",
        "vector_np = np.array([0, 1, 2, 3, 4])\n",
        "print('tensor - ', vector_tf)\n",
        "print('numpy -', vector_np)"
      ],
      "metadata": {
        "colab": {
          "base_uri": "https://localhost:8080/"
        },
        "id": "Hr0z_g7o8DC6",
        "outputId": "be102097-7de3-4660-a9a6-e4aa3f016243"
      },
      "execution_count": 3,
      "outputs": [
        {
          "output_type": "stream",
          "name": "stdout",
          "text": [
            "tensor -  tf.Tensor([0 1 2 3 4], shape=(5,), dtype=int32)\n",
            "numpy - [0 1 2 3 4]\n"
          ]
        }
      ]
    },
    {
      "cell_type": "code",
      "source": [
        "matrix_tf = tf.constant([[0, 1, 2, 3, 4]]*2)\n",
        "\n",
        "matrix_np = np.array([[0, 1, 2, 3, 4]]*2)\n",
        "matrix_tf"
      ],
      "metadata": {
        "colab": {
          "base_uri": "https://localhost:8080/"
        },
        "id": "kcbYPMkn8a8x",
        "outputId": "d9a196cd-14d0-4433-9e4b-c3dd99407853"
      },
      "execution_count": 4,
      "outputs": [
        {
          "output_type": "execute_result",
          "data": {
            "text/plain": [
              "<tf.Tensor: shape=(2, 5), dtype=int32, numpy=\n",
              "array([[0, 1, 2, 3, 4],\n",
              "       [0, 1, 2, 3, 4]], dtype=int32)>"
            ]
          },
          "metadata": {},
          "execution_count": 4
        }
      ]
    },
    {
      "cell_type": "code",
      "source": [
        "tf.Variable([0,1,2,3,4], dtype=tf.float32)"
      ],
      "metadata": {
        "colab": {
          "base_uri": "https://localhost:8080/"
        },
        "id": "klcMbMVeB_47",
        "outputId": "472bf9f3-3d70-4baf-9f29-39cc32e41681"
      },
      "execution_count": 5,
      "outputs": [
        {
          "output_type": "execute_result",
          "data": {
            "text/plain": [
              "<tf.Variable 'Variable:0' shape=(5,) dtype=float32, numpy=array([0., 1., 2., 3., 4.], dtype=float32)>"
            ]
          },
          "metadata": {},
          "execution_count": 5
        }
      ]
    },
    {
      "cell_type": "code",
      "source": [
        "tf.Variable(np.random.randn(2,2,2,2)) + 1"
      ],
      "metadata": {
        "colab": {
          "base_uri": "https://localhost:8080/"
        },
        "id": "nPx8NYQ7GEy_",
        "outputId": "9eee817c-ef59-439c-c13d-dd71a3896e19"
      },
      "execution_count": 6,
      "outputs": [
        {
          "output_type": "execute_result",
          "data": {
            "text/plain": [
              "<tf.Tensor: shape=(2, 2, 2, 2), dtype=float64, numpy=\n",
              "array([[[[ 1.58501492,  0.91805656],\n",
              "         [ 1.12562053,  2.62169801]],\n",
              "\n",
              "        [[ 1.85253037, -1.77118325],\n",
              "         [-0.42882216,  1.66539668]]],\n",
              "\n",
              "\n",
              "       [[[ 1.5371486 ,  1.55485793],\n",
              "         [ 1.6262184 ,  2.6574677 ]],\n",
              "\n",
              "        [[ 2.02613115,  1.34597861],\n",
              "         [ 0.5183194 , -0.42180892]]]])>"
            ]
          },
          "metadata": {},
          "execution_count": 6
        }
      ]
    },
    {
      "cell_type": "code",
      "source": [
        "tf.random.normal((2,2,2,2), mean=1, stddev=1)"
      ],
      "metadata": {
        "colab": {
          "base_uri": "https://localhost:8080/"
        },
        "id": "GXmR3_EwPIdM",
        "outputId": "30cfa293-13ec-49a2-e61d-eb6c63ecce30"
      },
      "execution_count": 7,
      "outputs": [
        {
          "output_type": "execute_result",
          "data": {
            "text/plain": [
              "<tf.Tensor: shape=(2, 2, 2, 2), dtype=float32, numpy=\n",
              "array([[[[-1.1944141 ,  0.7721348 ],\n",
              "         [ 0.27164578,  1.7603252 ]],\n",
              "\n",
              "        [[ 1.2388474 ,  0.3011458 ],\n",
              "         [ 1.9010103 ,  1.2422618 ]]],\n",
              "\n",
              "\n",
              "       [[[-0.21113873, -0.57368934],\n",
              "         [ 1.2810805 ,  1.7997    ]],\n",
              "\n",
              "        [[ 1.6587539 ,  0.8996649 ],\n",
              "         [ 0.24604106,  0.12198907]]]], dtype=float32)>"
            ]
          },
          "metadata": {},
          "execution_count": 7
        }
      ]
    },
    {
      "cell_type": "code",
      "source": [
        "tensor1 = tf.random.uniform((2,2), minval= 1, maxval= 20, dtype= tf.int32)\n",
        "print(\"Initial tensor: \", tensor1.numpy())\n",
        "tensor2 = tf.pow(tensor1, 2)\n",
        "print(\"Squared tensor = \", tensor2.numpy())"
      ],
      "metadata": {
        "colab": {
          "base_uri": "https://localhost:8080/"
        },
        "id": "GW-6JceKQoeI",
        "outputId": "3453a4c7-8015-471e-8529-af4d05631f50"
      },
      "execution_count": 8,
      "outputs": [
        {
          "output_type": "stream",
          "name": "stdout",
          "text": [
            "Initial tensor:  [[ 7 19]\n",
            " [ 5  2]]\n",
            "Squared tensor =  [[ 49 361]\n",
            " [ 25   4]]\n"
          ]
        }
      ]
    },
    {
      "cell_type": "code",
      "source": [
        "tensor2 = tensor1 * tensor1\n",
        "print(tensor2)"
      ],
      "metadata": {
        "colab": {
          "base_uri": "https://localhost:8080/"
        },
        "id": "3GatnKmtZPff",
        "outputId": "c373439d-de97-4c38-d7d5-32d380950718"
      },
      "execution_count": 9,
      "outputs": [
        {
          "output_type": "stream",
          "name": "stdout",
          "text": [
            "tf.Tensor(\n",
            "[[ 49 361]\n",
            " [ 25   4]], shape=(2, 2), dtype=int32)\n"
          ]
        }
      ]
    },
    {
      "cell_type": "markdown",
      "source": [
        "Solve the following using Tensorflow <br>\n",
        "x + y + z + w = 13 <br>\n",
        "2x + 3y − w = −1 <br>\n",
        "−3x + 4y + z + 2w = 10 <br>\n",
        "x + 2y − z + w = 1\n",
        "\n"
      ],
      "metadata": {
        "id": "3aknwcc0f63e"
      }
    },
    {
      "cell_type": "code",
      "source": [
        "matrix = tf.constant([[1, 1, 1, 1],\n",
        "                      [2, 3, 0, -1],\n",
        "                      [-3, 4, 1, 2],\n",
        "                      [1, 2, -1, 1]\n",
        "                      ], \n",
        "                     dtype=tf.float32)\n",
        "rhs = tf.constant([[13], \n",
        "                   [-1], \n",
        "                   [10], \n",
        "                   [1]\n",
        "                   ], \n",
        "                  dtype=tf.float32)\n",
        "method1 = tf.linalg.solve(matrix, rhs)\n",
        "print(\"method1 result =\\n\",method1)\n",
        "\n",
        "method2 = tf.matmul(tf.linalg.inv(matrix), rhs)\n",
        "print('method2 result =\\n', method2)"
      ],
      "metadata": {
        "colab": {
          "base_uri": "https://localhost:8080/"
        },
        "id": "M0dnhb1AZX2E",
        "outputId": "cbdc7b6a-c89f-4857-ca2b-88d502d47098"
      },
      "execution_count": 10,
      "outputs": [
        {
          "output_type": "stream",
          "name": "stdout",
          "text": [
            "method1 result =\n",
            " tf.Tensor(\n",
            "[[ 1.9999999e+00]\n",
            " [-3.5061550e-08]\n",
            " [ 6.0000005e+00]\n",
            " [ 4.9999995e+00]], shape=(4, 1), dtype=float32)\n",
            "method2 result =\n",
            " tf.Tensor(\n",
            "[[ 2.0000000e+00]\n",
            " [-2.6077032e-08]\n",
            " [ 6.0000005e+00]\n",
            " [ 5.0000000e+00]], shape=(4, 1), dtype=float32)\n"
          ]
        }
      ]
    },
    {
      "cell_type": "markdown",
      "source": [
        "The weights and the bias term of a trained model logistic regression model are given below. <br>\n",
        "w1 = 0.5, w2 = 1 , w3 = -1.2 \n",
        "b = 0.01\n",
        "\n",
        "The features of a certain data point are given below.\n",
        "\n",
        "​x1=0.2, x2=1, x3=0.5\n",
        "\n",
        "Using TensorFlow, find the probability of the data point belonging to the positive?"
      ],
      "metadata": {
        "id": "Dvb18N7VlbE_"
      }
    },
    {
      "cell_type": "code",
      "source": [
        "w = tf.reshape(tf.Variable([0.5, 1., -1.2]), (1, -1))\n",
        "b = tf.constant([0.01])\n",
        "x = tf.reshape(tf.Variable([0.2, 1, 0.5]), (1, -1))\n",
        "z = tf.matmul(w, tf.transpose(x)) + b\n",
        "output = 1/(1 + tf.math.exp(-z))\n",
        "print(output)"
      ],
      "metadata": {
        "colab": {
          "base_uri": "https://localhost:8080/"
        },
        "id": "_MNuYp3ShDfm",
        "outputId": "b61b4166-d5c7-4a47-856a-f3745c5bd6ce"
      },
      "execution_count": 11,
      "outputs": [
        {
          "output_type": "stream",
          "name": "stdout",
          "text": [
            "tf.Tensor([[0.62480646]], shape=(1, 1), dtype=float32)\n"
          ]
        }
      ]
    },
    {
      "cell_type": "markdown",
      "source": [
        "## Gradient in TensorFlow\n",
        "\n",
        "What is the slope of the curve <br>\n",
        "\n",
        "\\y=3x^3 + 5x^2−3x + 10 at x=−2\\? \\"
      ],
      "metadata": {
        "id": "PYezjxMVyLQU"
      }
    },
    {
      "cell_type": "code",
      "source": [
        "x = tf.Variable(-2, dtype=tf.float32)\n",
        "\n",
        "with tf.GradientTape() as tape:\n",
        "  y = 3*x**3 + 5 * x**2 - 3*x + 10\n",
        "\n",
        "grad = tape.gradient(y, x)\n",
        "print(grad)"
      ],
      "metadata": {
        "id": "M3s85VJ5lsaY",
        "colab": {
          "base_uri": "https://localhost:8080/"
        },
        "outputId": "043e9d83-4a85-4f77-eafb-4177afb85273"
      },
      "execution_count": 12,
      "outputs": [
        {
          "output_type": "stream",
          "name": "stdout",
          "text": [
            "tf.Tensor(13.0, shape=(), dtype=float32)\n"
          ]
        }
      ]
    },
    {
      "cell_type": "markdown",
      "source": [
        "## Q2 Gradient\n",
        "Find the gradient at x = 10 and if the function is increasing or decreasing\n",
        "![image.png](data:image/png;base64,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)"
      ],
      "metadata": {
        "id": "Hl_qGsKyzOUJ"
      }
    },
    {
      "cell_type": "code",
      "source": [
        "x = tf.Variable(10, dtype=tf.float32)\n",
        "\n",
        "with tf.GradientTape() as tape:\n",
        "  y = 3**(0.2*x) + 5* x**2 - tf.math.log(x) + tf.math.tanh(x)\n",
        "\n",
        "grad = tape.gradient(y, x)\n",
        "\n",
        "print(grad)\n",
        "if (grad > 0):\n",
        "  print('function is increasing at x = ', x.numpy())\n",
        "else:\n",
        "  print('function is decreasing at x =', x.numpy())\n"
      ],
      "metadata": {
        "colab": {
          "base_uri": "https://localhost:8080/"
        },
        "id": "hnnJjp8NzACJ",
        "outputId": "af033a98-60da-442b-d473-adb19d2d516b"
      },
      "execution_count": 13,
      "outputs": [
        {
          "output_type": "stream",
          "name": "stdout",
          "text": [
            "tf.Tensor(101.8775, shape=(), dtype=float32)\n",
            "function is increasing at x =  10.0\n"
          ]
        }
      ]
    },
    {
      "cell_type": "markdown",
      "source": [
        "## Partial Derivatives\n",
        "![image.png](data:image/png;base64,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)"
      ],
      "metadata": {
        "id": "BG4_PUqu3VOf"
      }
    },
    {
      "cell_type": "code",
      "source": [
        "x = tf.Variable(5, dtype=tf.float32)\n",
        "\n",
        "with tf.GradientTape(persistent=True) as tape:\n",
        "  t = tf.math.sqrt((x**0.3) + 0.1)\n",
        "  p = tf.math.exp(4*t)\n",
        "  q = p**2 - 4*p\n",
        "\n",
        "dp_dx = tape.gradient(p, x)\n",
        "dq_dx = tape.gradient(q, x)\n",
        "print('dp/dx = ', dp_dx.numpy())\n",
        "print('dq/dx = ', dq_dx.numpy())"
      ],
      "metadata": {
        "colab": {
          "base_uri": "https://localhost:8080/"
        },
        "id": "5LlQsOaQzroy",
        "outputId": "df6b4f42-d80a-496d-d906-df5c9656c181"
      },
      "execution_count": 14,
      "outputs": [
        {
          "output_type": "stream",
          "name": "stdout",
          "text": [
            "dp/dx =  28.167446\n",
            "dq/dx =  10590.19\n"
          ]
        }
      ]
    },
    {
      "cell_type": "code",
      "source": [
        "import matplotlib.pyplot as plt"
      ],
      "metadata": {
        "id": "j4ePFHXQbdE8"
      },
      "execution_count": 15,
      "outputs": []
    },
    {
      "cell_type": "markdown",
      "source": [
        "# Minimizing Functions\n",
        "\n",
        "Minimize |y = x^2-4| <br>\n",
        "\n",
        "1. Initialize x with a random number\n",
        "2. Compute gradient of y w.r.t x\n",
        "3. Update x: x = x - lr(dy/dx)\n",
        "4. Calculate y after updating x\n",
        "5. Check if (y - y_prev)*100/y_prev < tolerance\n",
        "6. Repeat steps 2 through 5 until the criterion is met"
      ],
      "metadata": {
        "id": "dB3Dzm8ZNxE_"
      }
    },
    {
      "cell_type": "code",
      "source": [
        "# tolerance\n",
        "tolerance = tf.constant(0.001)\n",
        "\n",
        "# learning rate \n",
        "lr = tf.constant(0.001)\n",
        "# temporarily assign the cost function with the value of tolerance\n",
        "cost = tolerance\n",
        "\n",
        "\n",
        "# Randomly assign value to x\n",
        "x = tf.Variable(tf.random.normal((1,1)))\n",
        "print('initial x = ', x)\n",
        "\n",
        "iteration = 0\n",
        "iteration_list = []\n",
        "x_list = []\n",
        "y_list = []\n",
        "cost_list = []\n",
        "\n",
        "# Define the function to calculate y\n",
        "@tf.function\n",
        "def calculate_y(x):\n",
        "  return x**2 - tf.constant(4, dtype=tf.float32)\n",
        "\n",
        "while cost.numpy() >= tolerance.numpy() or iteration < 1_000:\n",
        "  iteration  = iteration + 1\n",
        "  # Compute y inside a gradient tape\n",
        "  with tf.GradientTape() as tape:\n",
        "    y = calculate_y(x)\n",
        "  \n",
        "  iteration_list.append(iteration)\n",
        "  x_list.append(x.numpy()[0][0])\n",
        "  y_list.append(y.numpy()[0][0])\n",
        "\n",
        "  # Find the gradient of y w.r.t x\n",
        "  grad = tape.gradient(y, x)\n",
        "\n",
        "  # print('y = ', y.numpy(), ' x = ', x.numpy())\n",
        "  # print('grad = ',grad)\n",
        "\n",
        "  # calculate new value of x\n",
        "  x.assign(x - lr * grad)\n",
        "\n",
        "  # calculate the new value of y\n",
        "  y_new = calculate_y(x)\n",
        "\n",
        "  # calculate the cost function\n",
        "  cost = tf.abs((y_new - y)*100/y)\n",
        "  cost_list.append(cost.numpy()[0][0])\n",
        "\n",
        "  # every 20 iterations print a log\n",
        "  if iteration//20 ==0:\n",
        "    print(f'iteration {iteration}, x={x.numpy()[0][0]}, cost = {cost.numpy()[0][0]}')\n",
        "\n",
        "print('Complete')\n",
        "print(f'iteration {iteration}, x={x.numpy()[0][0]}, cost = {cost.numpy()[0][0]}')\n",
        "\n"
      ],
      "metadata": {
        "colab": {
          "base_uri": "https://localhost:8080/"
        },
        "id": "g6iyfjw-39z9",
        "outputId": "ee9d7f9d-b1d4-48f4-a432-29758e1cdc0b"
      },
      "execution_count": 22,
      "outputs": [
        {
          "output_type": "stream",
          "name": "stdout",
          "text": [
            "initial x =  <tf.Variable 'Variable:0' shape=(1, 1) dtype=float32, numpy=array([[0.09743898]], dtype=float32)>\n",
            "iteration 1, x=0.09724409878253937, cost = 0.0009499687002971768\n",
            "iteration 2, x=0.09704960882663727, cost = 0.0009439850691705942\n",
            "iteration 3, x=0.09685550630092621, cost = 0.0009439761633984745\n",
            "iteration 4, x=0.09666179865598679, cost = 0.0009439672576263547\n",
            "iteration 5, x=0.0964684784412384, cost = 0.0009320094832219183\n",
            "iteration 6, x=0.09627553820610046, cost = 0.0009320008102804422\n",
            "iteration 7, x=0.09608298540115356, cost = 0.0009260178194381297\n",
            "iteration 8, x=0.0958908200263977, cost = 0.0009260092047043145\n",
            "iteration 9, x=0.09569904208183289, cost = 0.0009200264466926455\n",
            "iteration 10, x=0.09550764411687851, cost = 0.0009200180065818131\n",
            "iteration 11, x=0.09531662613153458, cost = 0.0009140354231931269\n",
            "iteration 12, x=0.09512599557638168, cost = 0.0009080530726350844\n",
            "iteration 13, x=0.09493574500083923, cost = 0.0009080448071472347\n",
            "iteration 14, x=0.09474587440490723, cost = 0.0009020626312121749\n",
            "iteration 15, x=0.09455638378858566, cost = 0.0008960806299000978\n",
            "iteration 16, x=0.09436727315187454, cost = 0.0008960725972428918\n",
            "iteration 17, x=0.09417853504419327, cost = 0.0008900908287614584\n",
            "iteration 18, x=0.09399017691612244, cost = 0.0008900829125195742\n",
            "iteration 19, x=0.09380219876766205, cost = 0.0008841013186611235\n",
            "Complete\n",
            "iteration 1000, x=0.01316056214272976, cost = 1.78821701410925e-05\n"
          ]
        }
      ]
    },
    {
      "cell_type": "code",
      "source": [
        "cost_list[0], cost_list[-1]"
      ],
      "metadata": {
        "colab": {
          "base_uri": "https://localhost:8080/"
        },
        "id": "xmmxsZGjjWiZ",
        "outputId": "25b757c9-bfcb-4cf4-898e-3ba9d51bbfda"
      },
      "execution_count": 23,
      "outputs": [
        {
          "output_type": "execute_result",
          "data": {
            "text/plain": [
              "(0.0009499687, 1.788217e-05)"
            ]
          },
          "metadata": {},
          "execution_count": 23
        }
      ]
    },
    {
      "cell_type": "code",
      "source": [
        "plt.plot( iteration_list[:len(cost_list)], cost_list)\n",
        "plt.xlabel('iterations')\n",
        "plt.ylabel('cost')"
      ],
      "metadata": {
        "colab": {
          "base_uri": "https://localhost:8080/",
          "height": 296
        },
        "id": "sj-AQWulhCM-",
        "outputId": "9fbf4152-9b5e-4f2a-f62a-1d708c83788d"
      },
      "execution_count": 24,
      "outputs": [
        {
          "output_type": "execute_result",
          "data": {
            "text/plain": [
              "Text(0, 0.5, 'cost')"
            ]
          },
          "metadata": {},
          "execution_count": 24
        },
        {
          "output_type": "display_data",
          "data": {
            "text/plain": [
              "<Figure size 432x288 with 1 Axes>"
            ],
            "image/png": "[encoded data removed]"
          },
          "metadata": {
            "needs_background": "light"
          }
        }
      ]
    },
    {
      "cell_type": "code",
      "source": [
        "plt.plot( iteration_list[:len(cost_list)], y_list)\n",
        "plt.xlabel('iterations')\n",
        "plt.ylabel('y')"
      ],
      "metadata": {
        "colab": {
          "base_uri": "https://localhost:8080/",
          "height": 296
        },
        "id": "Bs2XFi79O7Jn",
        "outputId": "76fb5bd9-2b3d-4db8-fd2b-f626a61bc52f"
      },
      "execution_count": 25,
      "outputs": [
        {
          "output_type": "execute_result",
          "data": {
            "text/plain": [
              "Text(0, 0.5, 'y')"
            ]
          },
          "metadata": {},
          "execution_count": 25
        },
        {
          "output_type": "display_data",
          "data": {
            "text/plain": [
              "<Figure size 432x288 with 1 Axes>"
            ],
            "image/png": "[encoded data removed]"
          },
          "metadata": {
            "needs_background": "light"
          }
        }
      ]
    },
    {
      "cell_type": "code",
      "source": [
        "plt.plot( iteration_list[:len(cost_list)], x_list)\n",
        "plt.xlabel('iterations')\n",
        "plt.ylabel('x')"
      ],
      "metadata": {
        "id": "0Ai2hoD8RHxJ",
        "colab": {
          "base_uri": "https://localhost:8080/",
          "height": 296
        },
        "outputId": "4a168b08-d415-4189-9929-e88df872d6b1"
      },
      "execution_count": 26,
      "outputs": [
        {
          "output_type": "execute_result",
          "data": {
            "text/plain": [
              "Text(0, 0.5, 'x')"
            ]
          },
          "metadata": {},
          "execution_count": 26
        },
        {
          "output_type": "display_data",
          "data": {
            "text/plain": [
              "<Figure size 432x288 with 1 Axes>"
            ],
            "image/png": "[encoded data removed]"
          },
          "metadata": {
            "needs_background": "light"
          }
        }
      ]
    },
    {
      "cell_type": "markdown",
      "source": [
        "![image.png](data:image/png;base64,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)"
      ],
      "metadata": {
        "id": "4zA4iT4TwXqK"
      }
    },
    {
      "cell_type": "code",
      "source": [
        "# tolerance\n",
        "tolerance = tf.constant(0.001)\n",
        "\n",
        "# learning rate \n",
        "lr = tf.constant(0.1)\n",
        "# temporarily assign the cost function with the value of tolerance\n",
        "cost = tolerance\n",
        "\n",
        "\n",
        "# Randomly assign value to x\n",
        "x = tf.Variable(tf.random.normal((1,1)))\n",
        "print('initial x = ', x)\n",
        "\n",
        "iteration = 0\n",
        "iteration_list = []\n",
        "x_list = []\n",
        "y_list = []\n",
        "cost_list = []\n",
        "\n",
        "# Define the function to calculate y\n",
        "@tf.function\n",
        "def calculate_y(x):\n",
        "  return 7*x**2 - 4 * x + 10\n",
        "\n",
        "while iteration < 10:\n",
        "  iteration  = iteration + 1\n",
        "  # Compute y inside a gradient tape\n",
        "  with tf.GradientTape() as tape:\n",
        "    y = calculate_y(x)\n",
        "  \n",
        "  iteration_list.append(iteration)\n",
        "  x_list.append(x.numpy()[0][0])\n",
        "  y_list.append(y.numpy()[0][0])\n",
        "\n",
        "  # Find the gradient of y w.r.t x\n",
        "  grad = tape.gradient(y, x)\n",
        "\n",
        "  # print('y = ', y.numpy(), ' x = ', x.numpy())\n",
        "  # print('grad = ',grad)\n",
        "\n",
        "  # calculate new value of x\n",
        "  x.assign(x - lr * grad)\n",
        "\n",
        "  # calculate the new value of y\n",
        "  y_new = calculate_y(x)\n",
        "\n",
        "  # calculate the cost function\n",
        "  cost = tf.abs((y_new - y)*100/y)\n",
        "  cost_list.append(cost.numpy()[0][0])\n",
        "\n",
        "  # every 20 iterations print a log\n",
        "  if iteration//20 ==0:\n",
        "    print(f'iteration {iteration}, x={x.numpy()[0][0]}, cost = {cost.numpy()[0][0]}')\n",
        "\n",
        "print('Complete')\n",
        "print(f'iteration {iteration}, x={x.numpy()[0][0]}, cost = {cost.numpy()[0][0]}, y ={y.numpy()[0][0]}')\n",
        "\n"
      ],
      "metadata": {
        "colab": {
          "base_uri": "https://localhost:8080/"
        },
        "id": "jZ61ZdfAbymP",
        "outputId": "4c856048-0e9b-4d98-cb8e-24b2391977cb"
      },
      "execution_count": 29,
      "outputs": [
        {
          "output_type": "stream",
          "name": "stdout",
          "text": [
            "initial x =  <tf.Variable 'Variable:0' shape=(1, 1) dtype=float32, numpy=array([[1.0302806]], dtype=float32)>\n",
            "iteration 1, x=-0.012112259864807129, cost = 24.492406845092773\n",
            "iteration 2, x=0.4048449397087097, cost = 5.189919471740723\n",
            "iteration 3, x=0.2380620390176773, cost = 0.8758406639099121\n",
            "iteration 4, x=0.3047751784324646, cost = 0.14137795567512512\n",
            "iteration 5, x=0.2780899405479431, cost = 0.022650880739092827\n",
            "iteration 6, x=0.28876402974128723, cost = 0.0036209162790328264\n",
            "iteration 7, x=0.2844943702220917, cost = 0.0005765354726463556\n",
            "iteration 8, x=0.28620225191116333, cost = 9.103244519792497e-05\n",
            "iteration 9, x=0.2855190932750702, cost = 2.0229450456099585e-05\n",
            "iteration 10, x=0.28579238057136536, cost = 0.0\n",
            "Complete\n",
            "iteration 10, x=0.28579238057136536, cost = 0.0, y =9.428571701049805\n"
          ]
        }
      ]
    },
    {
      "cell_type": "code",
      "source": [
        ""
      ],
      "metadata": {
        "colab": {
          "base_uri": "https://localhost:8080/"
        },
        "id": "cLM9LMJPsv8U",
        "outputId": "226656f8-2f2e-41ab-8016-fe7d9218ece0"
      },
      "execution_count": 28,
      "outputs": [
        {
          "output_type": "execute_result",
          "data": {
            "text/plain": [
              "9.428572"
            ]
          },
          "metadata": {},
          "execution_count": 28
        }
      ]
    },
    {
      "cell_type": "code",
      "source": [
        ""
      ],
      "metadata": {
        "id": "Mu8LGRemszwH"
      },
      "execution_count": null,
      "outputs": []
    }
  ]
}